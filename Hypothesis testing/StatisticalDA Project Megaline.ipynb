{
 "cells": [
  {
   "cell_type": "markdown",
   "metadata": {},
   "source": [
    "Import the relevant python libraries"
   ]
  },
  {
   "cell_type": "code",
   "execution_count": 1,
   "metadata": {},
   "outputs": [
    {
     "name": "stdout",
     "output_type": "stream",
     "text": [
      "Collecting matplotlib\n",
      "  Using cached matplotlib-3.5.1-cp38-cp38-win_amd64.whl (7.2 MB)\n",
      "Requirement already satisfied, skipping upgrade: packaging>=20.0 in c:\\users\\nitza\\anaconda3\\lib\\site-packages (from matplotlib) (20.4)\n",
      "Requirement already satisfied, skipping upgrade: pyparsing>=2.2.1 in c:\\users\\nitza\\anaconda3\\lib\\site-packages (from matplotlib) (2.4.7)\n",
      "Requirement already satisfied, skipping upgrade: cycler>=0.10 in c:\\users\\nitza\\anaconda3\\lib\\site-packages (from matplotlib) (0.10.0)\n",
      "Requirement already satisfied, skipping upgrade: numpy>=1.17 in c:\\users\\nitza\\anaconda3\\lib\\site-packages (from matplotlib) (1.19.2)\n",
      "Requirement already satisfied, skipping upgrade: fonttools>=4.22.0 in c:\\users\\nitza\\anaconda3\\lib\\site-packages (from matplotlib) (4.29.1)\n",
      "Requirement already satisfied, skipping upgrade: pillow>=6.2.0 in c:\\users\\nitza\\anaconda3\\lib\\site-packages (from matplotlib) (8.0.1)\n",
      "Requirement already satisfied, skipping upgrade: kiwisolver>=1.0.1 in c:\\users\\nitza\\anaconda3\\lib\\site-packages (from matplotlib) (1.3.0)\n",
      "Requirement already satisfied, skipping upgrade: python-dateutil>=2.7 in c:\\users\\nitza\\anaconda3\\lib\\site-packages (from matplotlib) (2.8.1)\n",
      "Requirement already satisfied, skipping upgrade: six in c:\\users\\nitza\\anaconda3\\lib\\site-packages (from packaging>=20.0->matplotlib) (1.15.0)\n",
      "Installing collected packages: matplotlib\n",
      "Successfully installed matplotlib-3.5.1\n"
     ]
    }
   ],
   "source": [
    "!pip install -U matplotlib"
   ]
  },
  {
   "cell_type": "code",
   "execution_count": 2,
   "metadata": {},
   "outputs": [
    {
     "name": "stdout",
     "output_type": "stream",
     "text": [
      "Requirement already up-to-date: seaborn in c:\\users\\nitza\\anaconda3\\lib\\site-packages (0.11.2)\n",
      "Requirement already satisfied, skipping upgrade: pandas>=0.23 in c:\\users\\nitza\\anaconda3\\lib\\site-packages (from seaborn) (1.4.0)\n",
      "Requirement already satisfied, skipping upgrade: scipy>=1.0 in c:\\users\\nitza\\anaconda3\\lib\\site-packages (from seaborn) (1.5.2)\n",
      "Requirement already satisfied, skipping upgrade: numpy>=1.15 in c:\\users\\nitza\\anaconda3\\lib\\site-packages (from seaborn) (1.19.2)\n",
      "Requirement already satisfied, skipping upgrade: matplotlib>=2.2 in c:\\users\\nitza\\anaconda3\\lib\\site-packages (from seaborn) (3.5.1)\n",
      "Requirement already satisfied, skipping upgrade: python-dateutil>=2.8.1 in c:\\users\\nitza\\anaconda3\\lib\\site-packages (from pandas>=0.23->seaborn) (2.8.1)\n",
      "Requirement already satisfied, skipping upgrade: pytz>=2020.1 in c:\\users\\nitza\\anaconda3\\lib\\site-packages (from pandas>=0.23->seaborn) (2020.1)\n",
      "Requirement already satisfied, skipping upgrade: cycler>=0.10 in c:\\users\\nitza\\anaconda3\\lib\\site-packages (from matplotlib>=2.2->seaborn) (0.10.0)\n",
      "Requirement already satisfied, skipping upgrade: pyparsing>=2.2.1 in c:\\users\\nitza\\anaconda3\\lib\\site-packages (from matplotlib>=2.2->seaborn) (2.4.7)\n",
      "Requirement already satisfied, skipping upgrade: fonttools>=4.22.0 in c:\\users\\nitza\\anaconda3\\lib\\site-packages (from matplotlib>=2.2->seaborn) (4.29.1)\n",
      "Requirement already satisfied, skipping upgrade: kiwisolver>=1.0.1 in c:\\users\\nitza\\anaconda3\\lib\\site-packages (from matplotlib>=2.2->seaborn) (1.3.0)\n",
      "Requirement already satisfied, skipping upgrade: packaging>=20.0 in c:\\users\\nitza\\anaconda3\\lib\\site-packages (from matplotlib>=2.2->seaborn) (20.4)\n",
      "Requirement already satisfied, skipping upgrade: pillow>=6.2.0 in c:\\users\\nitza\\anaconda3\\lib\\site-packages (from matplotlib>=2.2->seaborn) (8.0.1)\n",
      "Requirement already satisfied, skipping upgrade: six>=1.5 in c:\\users\\nitza\\anaconda3\\lib\\site-packages (from python-dateutil>=2.8.1->pandas>=0.23->seaborn) (1.15.0)\n"
     ]
    }
   ],
   "source": [
    "!pip install -U seaborn"
   ]
  },
  {
   "cell_type": "code",
   "execution_count": 3,
   "metadata": {},
   "outputs": [],
   "source": [
    "import pandas as pd\n",
    "import numpy as np\n",
    "import sys\n",
    "import matplotlib.pyplot as plt\n",
    "import seaborn as sns\n",
    "import warnings\n",
    "warnings.filterwarnings(\"ignore\")\n",
    "import math\n",
    "from functools import reduce"
   ]
  },
  {
   "cell_type": "markdown",
   "metadata": {},
   "source": [
    "## Statistical Data Analysis Project\n",
    "\n",
    "### Project Description:\n",
    "\n",
    "We recived 5 CSV files, with data from telecom operator, representing the transacations of the services that were consumed during 2018 by a sample of 500 clients. we also received data about the clients, and about the 2 offered prepaid plans.\n",
    "We were asked to carry out a preliminary analysis of the plans. to analyze clients' behavior and determine which prepaid plan brings in more revenue.\n",
    "\n",
    "### The method:\n",
    "First step is the data preprocessing. After understanding the data general information and main issues, we try to solve them. taking care of null values if found, changing data type as required, and adding some new columns to make the analysis easier.\n",
    "Next main step was to learn the data measures of location and dispersion, using exploratory data analysis tools. \n",
    "we grouped the transactions of each service total use by user_id and month, and then merged all the services, user info and tariff info into one dataframe.\n",
    "Analysis - "
   ]
  },
  {
   "cell_type": "markdown",
   "metadata": {},
   "source": [
    "## Open the data files and study the general information\n",
    "### store it in designated variables"
   ]
  },
  {
   "cell_type": "code",
   "execution_count": 4,
   "metadata": {},
   "outputs": [],
   "source": [
    "try:\n",
    "    calls = pd.read_csv('/datasets/megaline_calls.csv')\n",
    "    internet = pd.read_csv('/datasets/megaline_internet.csv')\n",
    "    text = pd.read_csv('/datasets/megaline_messages.csv')\n",
    "    plans = pd.read_csv('/datasets/megaline_plans.csv')\n",
    "    users = pd.read_csv('/datasets/megaline_users.csv')\n",
    "except:\n",
    "    calls = pd.read_csv('megaline_calls.csv')\n",
    "    internet = pd.read_csv('megaline_internet.csv')\n",
    "    text = pd.read_csv('megaline_messages.csv')\n",
    "    plans = pd.read_csv('megaline_plans.csv')\n",
    "    users = pd.read_csv('megaline_users.csv')    "
   ]
  },
  {
   "cell_type": "markdown",
   "metadata": {},
   "source": [
    "### Study the general information with the methods of .info(), .describe(), .sample(), etc.\n",
    "\n",
    "That was done together with step 2\n",
    "\n",
    "## Data preparation - Convert the data to the necessary types, find and eliminate errors \n"
   ]
  },
  {
   "cell_type": "markdown",
   "metadata": {},
   "source": [
    "### Users data"
   ]
  },
  {
   "cell_type": "code",
   "execution_count": 5,
   "metadata": {},
   "outputs": [
    {
     "name": "stdout",
     "output_type": "stream",
     "text": [
      "<class 'pandas.core.frame.DataFrame'>\n",
      "RangeIndex: 500 entries, 0 to 499\n",
      "Data columns (total 8 columns):\n",
      " #   Column      Non-Null Count  Dtype \n",
      "---  ------      --------------  ----- \n",
      " 0   user_id     500 non-null    int64 \n",
      " 1   first_name  500 non-null    object\n",
      " 2   last_name   500 non-null    object\n",
      " 3   age         500 non-null    int64 \n",
      " 4   city        500 non-null    object\n",
      " 5   reg_date    500 non-null    object\n",
      " 6   plan        500 non-null    object\n",
      " 7   churn_date  34 non-null     object\n",
      "dtypes: int64(2), object(6)\n",
      "memory usage: 31.4+ KB\n"
     ]
    }
   ],
   "source": [
    "users.info()"
   ]
  },
  {
   "cell_type": "code",
   "execution_count": 6,
   "metadata": {},
   "outputs": [
    {
     "data": {
      "text/html": [
       "<div>\n",
       "<style scoped>\n",
       "    .dataframe tbody tr th:only-of-type {\n",
       "        vertical-align: middle;\n",
       "    }\n",
       "\n",
       "    .dataframe tbody tr th {\n",
       "        vertical-align: top;\n",
       "    }\n",
       "\n",
       "    .dataframe thead th {\n",
       "        text-align: right;\n",
       "    }\n",
       "</style>\n",
       "<table border=\"1\" class=\"dataframe\">\n",
       "  <thead>\n",
       "    <tr style=\"text-align: right;\">\n",
       "      <th></th>\n",
       "      <th>user_id</th>\n",
       "      <th>first_name</th>\n",
       "      <th>last_name</th>\n",
       "      <th>age</th>\n",
       "      <th>city</th>\n",
       "      <th>reg_date</th>\n",
       "      <th>plan</th>\n",
       "      <th>churn_date</th>\n",
       "    </tr>\n",
       "  </thead>\n",
       "  <tbody>\n",
       "    <tr>\n",
       "      <th>173</th>\n",
       "      <td>1173</td>\n",
       "      <td>Tristan</td>\n",
       "      <td>Cain</td>\n",
       "      <td>27</td>\n",
       "      <td>Oxnard-Thousand Oaks-Ventura, CA MSA</td>\n",
       "      <td>2018-09-28</td>\n",
       "      <td>surf</td>\n",
       "      <td>NaN</td>\n",
       "    </tr>\n",
       "    <tr>\n",
       "      <th>365</th>\n",
       "      <td>1365</td>\n",
       "      <td>Milford</td>\n",
       "      <td>Rush</td>\n",
       "      <td>19</td>\n",
       "      <td>Grand Rapids-Kentwood, MI MSA</td>\n",
       "      <td>2018-02-09</td>\n",
       "      <td>surf</td>\n",
       "      <td>NaN</td>\n",
       "    </tr>\n",
       "    <tr>\n",
       "      <th>313</th>\n",
       "      <td>1313</td>\n",
       "      <td>Antoine</td>\n",
       "      <td>Baker</td>\n",
       "      <td>49</td>\n",
       "      <td>San Francisco-Oakland-Berkeley, CA MSA</td>\n",
       "      <td>2018-05-24</td>\n",
       "      <td>surf</td>\n",
       "      <td>NaN</td>\n",
       "    </tr>\n",
       "    <tr>\n",
       "      <th>129</th>\n",
       "      <td>1129</td>\n",
       "      <td>Marin</td>\n",
       "      <td>Bolton</td>\n",
       "      <td>70</td>\n",
       "      <td>Baton Rouge, LA MSA</td>\n",
       "      <td>2018-11-10</td>\n",
       "      <td>surf</td>\n",
       "      <td>2018-12-27</td>\n",
       "    </tr>\n",
       "    <tr>\n",
       "      <th>79</th>\n",
       "      <td>1079</td>\n",
       "      <td>Brian</td>\n",
       "      <td>Mccall</td>\n",
       "      <td>48</td>\n",
       "      <td>New York-Newark-Jersey City, NY-NJ-PA MSA</td>\n",
       "      <td>2018-01-26</td>\n",
       "      <td>surf</td>\n",
       "      <td>NaN</td>\n",
       "    </tr>\n",
       "  </tbody>\n",
       "</table>\n",
       "</div>"
      ],
      "text/plain": [
       "     user_id first_name last_name  age  \\\n",
       "173     1173    Tristan      Cain   27   \n",
       "365     1365    Milford      Rush   19   \n",
       "313     1313    Antoine     Baker   49   \n",
       "129     1129      Marin    Bolton   70   \n",
       "79      1079      Brian    Mccall   48   \n",
       "\n",
       "                                          city    reg_date  plan  churn_date  \n",
       "173       Oxnard-Thousand Oaks-Ventura, CA MSA  2018-09-28  surf         NaN  \n",
       "365              Grand Rapids-Kentwood, MI MSA  2018-02-09  surf         NaN  \n",
       "313     San Francisco-Oakland-Berkeley, CA MSA  2018-05-24  surf         NaN  \n",
       "129                        Baton Rouge, LA MSA  2018-11-10  surf  2018-12-27  \n",
       "79   New York-Newark-Jersey City, NY-NJ-PA MSA  2018-01-26  surf         NaN  "
      ]
     },
     "execution_count": 6,
     "metadata": {},
     "output_type": "execute_result"
    }
   ],
   "source": [
    "users.sample(5)"
   ]
  },
  {
   "cell_type": "markdown",
   "metadata": {},
   "source": [
    "#### Converting data types:"
   ]
  },
  {
   "cell_type": "code",
   "execution_count": 7,
   "metadata": {},
   "outputs": [],
   "source": [
    "# We have to convert the 'reg_date' and 'churn_date' from object to date type.\n",
    "users['reg_date'] = pd.to_datetime(users['reg_date'],format='%Y-%m-%d')\n",
    "users['churn_date'] = pd.to_datetime(users['churn_date'],format='%Y-%m-%d')"
   ]
  },
  {
   "cell_type": "markdown",
   "metadata": {},
   "source": [
    "#### Looking for and handling missing values:"
   ]
  },
  {
   "cell_type": "code",
   "execution_count": 8,
   "metadata": {},
   "outputs": [
    {
     "data": {
      "text/plain": [
       "user_id         0\n",
       "first_name      0\n",
       "last_name       0\n",
       "age             0\n",
       "city            0\n",
       "reg_date        0\n",
       "plan            0\n",
       "churn_date    466\n",
       "dtype: int64"
      ]
     },
     "execution_count": 8,
     "metadata": {},
     "output_type": "execute_result"
    }
   ],
   "source": [
    "# What is the rate of null values for each column?\n",
    "users.isnull().sum()"
   ]
  },
  {
   "cell_type": "code",
   "execution_count": 9,
   "metadata": {},
   "outputs": [
    {
     "name": "stdout",
     "output_type": "stream",
     "text": [
      "<class 'pandas.core.frame.DataFrame'>\n",
      "RangeIndex: 500 entries, 0 to 499\n",
      "Data columns (total 8 columns):\n",
      " #   Column      Non-Null Count  Dtype         \n",
      "---  ------      --------------  -----         \n",
      " 0   user_id     500 non-null    int64         \n",
      " 1   first_name  500 non-null    object        \n",
      " 2   last_name   500 non-null    object        \n",
      " 3   age         500 non-null    int64         \n",
      " 4   city        500 non-null    object        \n",
      " 5   reg_date    500 non-null    datetime64[ns]\n",
      " 6   plan        500 non-null    object        \n",
      " 7   churn_date  500 non-null    datetime64[ns]\n",
      "dtypes: datetime64[ns](2), int64(2), object(4)\n",
      "memory usage: 31.4+ KB\n"
     ]
    }
   ],
   "source": [
    "# There are null values in column 'churn_date'. The meaning of this column is the user's subscription end-date.\n",
    "# NaN in this colum means the user is still active. Since we are dealing only with 2018 data,\n",
    "# we can set NaN churn date to '2018-12-31'\n",
    "users.fillna(pd.to_datetime('2018-12-31'),inplace=True)\n",
    "users.info()"
   ]
  },
  {
   "cell_type": "markdown",
   "metadata": {},
   "source": [
    "#### Looking for duplicates:"
   ]
  },
  {
   "cell_type": "code",
   "execution_count": 10,
   "metadata": {},
   "outputs": [
    {
     "data": {
      "text/plain": [
       "0"
      ]
     },
     "execution_count": 10,
     "metadata": {},
     "output_type": "execute_result"
    }
   ],
   "source": [
    "users.duplicated().sum()"
   ]
  },
  {
   "cell_type": "code",
   "execution_count": 11,
   "metadata": {},
   "outputs": [
    {
     "data": {
      "text/plain": [
       "0"
      ]
     },
     "execution_count": 11,
     "metadata": {},
     "output_type": "execute_result"
    }
   ],
   "source": [
    "# There are no duplicated rows where all the colums are duplicate.\n",
    "users.duplicated(['user_id']).sum()"
   ]
  },
  {
   "cell_type": "markdown",
   "metadata": {},
   "source": [
    "There also no duplicated user_id, so we know that all the rest is ok (users' data can have duplication on other columns)"
   ]
  },
  {
   "cell_type": "markdown",
   "metadata": {},
   "source": [
    "#### Conclusions:\n",
    "- We have 500 entries of indevidual users information (no duplication)\n",
    "- We had to convert date columns from 'object' to 'date' data type\n",
    "- We found NaN values in the 'churn_date' column and filled it with December 31st 2018 (last day of the year we are analysing)"
   ]
  },
  {
   "cell_type": "markdown",
   "metadata": {},
   "source": [
    "### Calls data"
   ]
  },
  {
   "cell_type": "code",
   "execution_count": 12,
   "metadata": {},
   "outputs": [
    {
     "name": "stdout",
     "output_type": "stream",
     "text": [
      "<class 'pandas.core.frame.DataFrame'>\n",
      "RangeIndex: 137735 entries, 0 to 137734\n",
      "Data columns (total 4 columns):\n",
      " #   Column     Non-Null Count   Dtype  \n",
      "---  ------     --------------   -----  \n",
      " 0   id         137735 non-null  object \n",
      " 1   user_id    137735 non-null  int64  \n",
      " 2   call_date  137735 non-null  object \n",
      " 3   duration   137735 non-null  float64\n",
      "dtypes: float64(1), int64(1), object(2)\n",
      "memory usage: 4.2+ MB\n"
     ]
    }
   ],
   "source": [
    "calls.info()"
   ]
  },
  {
   "cell_type": "code",
   "execution_count": 13,
   "metadata": {},
   "outputs": [
    {
     "data": {
      "text/html": [
       "<div>\n",
       "<style scoped>\n",
       "    .dataframe tbody tr th:only-of-type {\n",
       "        vertical-align: middle;\n",
       "    }\n",
       "\n",
       "    .dataframe tbody tr th {\n",
       "        vertical-align: top;\n",
       "    }\n",
       "\n",
       "    .dataframe thead th {\n",
       "        text-align: right;\n",
       "    }\n",
       "</style>\n",
       "<table border=\"1\" class=\"dataframe\">\n",
       "  <thead>\n",
       "    <tr style=\"text-align: right;\">\n",
       "      <th></th>\n",
       "      <th>id</th>\n",
       "      <th>user_id</th>\n",
       "      <th>call_date</th>\n",
       "      <th>duration</th>\n",
       "    </tr>\n",
       "  </thead>\n",
       "  <tbody>\n",
       "    <tr>\n",
       "      <th>25408</th>\n",
       "      <td>1098_76</td>\n",
       "      <td>1098</td>\n",
       "      <td>2018-11-08</td>\n",
       "      <td>0.0</td>\n",
       "    </tr>\n",
       "  </tbody>\n",
       "</table>\n",
       "</div>"
      ],
      "text/plain": [
       "            id  user_id   call_date  duration\n",
       "25408  1098_76     1098  2018-11-08       0.0"
      ]
     },
     "execution_count": 13,
     "metadata": {},
     "output_type": "execute_result"
    }
   ],
   "source": [
    "calls.sample()"
   ]
  },
  {
   "cell_type": "code",
   "execution_count": 14,
   "metadata": {},
   "outputs": [
    {
     "data": {
      "text/html": [
       "<div>\n",
       "<style scoped>\n",
       "    .dataframe tbody tr th:only-of-type {\n",
       "        vertical-align: middle;\n",
       "    }\n",
       "\n",
       "    .dataframe tbody tr th {\n",
       "        vertical-align: top;\n",
       "    }\n",
       "\n",
       "    .dataframe thead th {\n",
       "        text-align: right;\n",
       "    }\n",
       "</style>\n",
       "<table border=\"1\" class=\"dataframe\">\n",
       "  <thead>\n",
       "    <tr style=\"text-align: right;\">\n",
       "      <th></th>\n",
       "      <th>user_id</th>\n",
       "      <th>duration</th>\n",
       "    </tr>\n",
       "  </thead>\n",
       "  <tbody>\n",
       "    <tr>\n",
       "      <th>count</th>\n",
       "      <td>137735.000000</td>\n",
       "      <td>137735.000000</td>\n",
       "    </tr>\n",
       "    <tr>\n",
       "      <th>mean</th>\n",
       "      <td>1247.658046</td>\n",
       "      <td>6.745927</td>\n",
       "    </tr>\n",
       "    <tr>\n",
       "      <th>std</th>\n",
       "      <td>139.416268</td>\n",
       "      <td>5.839241</td>\n",
       "    </tr>\n",
       "    <tr>\n",
       "      <th>min</th>\n",
       "      <td>1000.000000</td>\n",
       "      <td>0.000000</td>\n",
       "    </tr>\n",
       "    <tr>\n",
       "      <th>25%</th>\n",
       "      <td>1128.000000</td>\n",
       "      <td>1.290000</td>\n",
       "    </tr>\n",
       "    <tr>\n",
       "      <th>50%</th>\n",
       "      <td>1247.000000</td>\n",
       "      <td>5.980000</td>\n",
       "    </tr>\n",
       "    <tr>\n",
       "      <th>75%</th>\n",
       "      <td>1365.000000</td>\n",
       "      <td>10.690000</td>\n",
       "    </tr>\n",
       "    <tr>\n",
       "      <th>max</th>\n",
       "      <td>1499.000000</td>\n",
       "      <td>37.600000</td>\n",
       "    </tr>\n",
       "  </tbody>\n",
       "</table>\n",
       "</div>"
      ],
      "text/plain": [
       "             user_id       duration\n",
       "count  137735.000000  137735.000000\n",
       "mean     1247.658046       6.745927\n",
       "std       139.416268       5.839241\n",
       "min      1000.000000       0.000000\n",
       "25%      1128.000000       1.290000\n",
       "50%      1247.000000       5.980000\n",
       "75%      1365.000000      10.690000\n",
       "max      1499.000000      37.600000"
      ]
     },
     "execution_count": 14,
     "metadata": {},
     "output_type": "execute_result"
    }
   ],
   "source": [
    "calls.describe()"
   ]
  },
  {
   "cell_type": "markdown",
   "metadata": {},
   "source": [
    "#### Looking for and handling missing values:"
   ]
  },
  {
   "cell_type": "code",
   "execution_count": 15,
   "metadata": {},
   "outputs": [
    {
     "data": {
      "text/plain": [
       "id           0\n",
       "user_id      0\n",
       "call_date    0\n",
       "duration     0\n",
       "dtype: int64"
      ]
     },
     "execution_count": 15,
     "metadata": {},
     "output_type": "execute_result"
    }
   ],
   "source": [
    "# What is the rate of null values for each column?\n",
    "calls.isnull().sum()"
   ]
  },
  {
   "cell_type": "markdown",
   "metadata": {},
   "source": [
    "#### Looking for duplicates:"
   ]
  },
  {
   "cell_type": "code",
   "execution_count": 16,
   "metadata": {},
   "outputs": [
    {
     "data": {
      "text/plain": [
       "0"
      ]
     },
     "execution_count": 16,
     "metadata": {},
     "output_type": "execute_result"
    }
   ],
   "source": [
    "calls.duplicated().sum()"
   ]
  },
  {
   "cell_type": "markdown",
   "metadata": {},
   "source": [
    "- There are no null values and no duplicated rows in calls df"
   ]
  },
  {
   "cell_type": "markdown",
   "metadata": {},
   "source": [
    "#### I want to find out what is the place and ratio of calls with 0 duration, to decide how to handle them."
   ]
  },
  {
   "cell_type": "code",
   "execution_count": 17,
   "metadata": {},
   "outputs": [
    {
     "data": {
      "image/png": "[encoded data removed]",
      "text/plain": [
       "<Figure size 432x288 with 1 Axes>"
      ]
     },
     "metadata": {
      "needs_background": "light"
     },
     "output_type": "display_data"
    }
   ],
   "source": [
    "calls['duration'].hist(bins = 20);"
   ]
  },
  {
   "cell_type": "code",
   "execution_count": 18,
   "metadata": {},
   "outputs": [
    {
     "data": {
      "image/png": "[encoded data removed]",
      "text/plain": [
       "<Figure size 432x576 with 1 Axes>"
      ]
     },
     "metadata": {
      "needs_background": "light"
     },
     "output_type": "display_data"
    }
   ],
   "source": [
    "calls.boxplot(column='duration',fontsize = 10, rot = 45,grid = True,figsize = (6,8));"
   ]
  },
  {
   "cell_type": "code",
   "execution_count": 19,
   "metadata": {},
   "outputs": [
    {
     "data": {
      "text/plain": [
       "0.1948233927469416"
      ]
     },
     "execution_count": 19,
     "metadata": {},
     "output_type": "execute_result"
    }
   ],
   "source": [
    "calls['duration'][calls['duration'] == 0].count()/calls['duration'].count()"
   ]
  },
  {
   "cell_type": "markdown",
   "metadata": {},
   "source": [
    "Calls with 0 duration are about 20% of the calls. it's not a negligible rate, and can influence the results of the study, but only if it differs a lot between the two plans (I would prefer not to handle these calls as real calls, but missed calls).\n",
    "so I split the users in two, according to their plan, and checked the distribution and ratio of 0 duration calls:"
   ]
  },
  {
   "cell_type": "code",
   "execution_count": 20,
   "metadata": {},
   "outputs": [
    {
     "data": {
      "text/plain": [
       "<AxesSubplot:>"
      ]
     },
     "execution_count": 20,
     "metadata": {},
     "output_type": "execute_result"
    },
    {
     "data": {
      "image/png": "[encoded data removed]",
      "text/plain": [
       "<Figure size 432x288 with 1 Axes>"
      ]
     },
     "metadata": {
      "needs_background": "light"
     },
     "output_type": "display_data"
    }
   ],
   "source": [
    "surf_users = users.query('plan == \"surf\"')\n",
    "surf_calls = calls.query('user_id in @surf_users.user_id')\n",
    "surf_calls['duration'][surf_calls['duration'] == 0].count()/surf_calls['duration'].count()\n",
    "surf_calls['duration'].hist(bins = 20)"
   ]
  },
  {
   "cell_type": "code",
   "execution_count": 21,
   "metadata": {},
   "outputs": [
    {
     "data": {
      "text/plain": [
       "<AxesSubplot:>"
      ]
     },
     "execution_count": 21,
     "metadata": {},
     "output_type": "execute_result"
    },
    {
     "data": {
      "image/png": "[encoded data removed]",
      "text/plain": [
       "<Figure size 432x288 with 1 Axes>"
      ]
     },
     "metadata": {
      "needs_background": "light"
     },
     "output_type": "display_data"
    }
   ],
   "source": [
    "ult_users = users.query('plan == \"ultimate\"')\n",
    "ult_calls = calls.query('user_id in @ult_users.user_id')\n",
    "ult_calls['duration'][ult_calls['duration'] == 0].count()/ult_calls['duration'].count()\n",
    "ult_calls['duration'].hist(bins = 20)"
   ]
  },
  {
   "cell_type": "markdown",
   "metadata": {},
   "source": [
    "####  Convert 'call_date' to date type datetime"
   ]
  },
  {
   "cell_type": "code",
   "execution_count": 22,
   "metadata": {},
   "outputs": [],
   "source": [
    "calls['call_date'] = pd.to_datetime(calls['call_date'],format='%Y-%m-%d')"
   ]
  },
  {
   "cell_type": "markdown",
   "metadata": {},
   "source": [
    "####  Clean the data of calls performed before the registration date or efter the churn date"
   ]
  },
  {
   "cell_type": "code",
   "execution_count": 23,
   "metadata": {},
   "outputs": [
    {
     "name": "stdout",
     "output_type": "stream",
     "text": [
      "<class 'pandas.core.frame.DataFrame'>\n",
      "RangeIndex: 137735 entries, 0 to 137734\n",
      "Data columns (total 4 columns):\n",
      " #   Column     Non-Null Count   Dtype         \n",
      "---  ------     --------------   -----         \n",
      " 0   id         137735 non-null  object        \n",
      " 1   user_id    137735 non-null  int64         \n",
      " 2   call_date  137735 non-null  datetime64[ns]\n",
      " 3   duration   137735 non-null  float64       \n",
      "dtypes: datetime64[ns](1), float64(1), int64(1), object(1)\n",
      "memory usage: 4.2+ MB\n"
     ]
    }
   ],
   "source": [
    "# Make a copy of the original calls dataframe for our manipulations\n",
    "real_calls = calls\n",
    "real_calls.info()"
   ]
  },
  {
   "cell_type": "code",
   "execution_count": 24,
   "metadata": {},
   "outputs": [],
   "source": [
    "# Defining a function that for each user_id, looks for calls that are dated out of the period between \n",
    "# registration and churn date, and fills temp column with 0.\n",
    "\n",
    "def users_activity_log(row):\n",
    "    user_id=row['user_id']\n",
    "    reg_date=row['reg_date']\n",
    "    end_date=row['churn_date']    \n",
    "    #print('User: ', user_id, ' ', reg_date, ' ',end_date)\n",
    "    \n",
    "    real_calls.loc[(real_calls['user_id'] == user_id) &\n",
    "                   ((real_calls['call_date'] < reg_date) |\n",
    "                    (real_calls['call_date'] > end_date)), ['temp']] = 0"
   ]
  },
  {
   "cell_type": "code",
   "execution_count": 25,
   "metadata": {},
   "outputs": [],
   "source": [
    "# now we apply our function to every user_id.\n",
    "# before that, define a temp column and set it with default = 1\n",
    "real_calls['temp'] = 1\n",
    "users.apply(users_activity_log,axis=1);"
   ]
  },
  {
   "cell_type": "code",
   "execution_count": 26,
   "metadata": {
    "scrolled": true
   },
   "outputs": [],
   "source": [
    "# This line will remove all the rows with temp=0\n",
    "real_calls = real_calls[~(real_calls['temp'] == 0)] "
   ]
  },
  {
   "cell_type": "code",
   "execution_count": 27,
   "metadata": {},
   "outputs": [
    {
     "name": "stdout",
     "output_type": "stream",
     "text": [
      "<class 'pandas.core.frame.DataFrame'>\n",
      "Int64Index: 134774 entries, 0 to 137734\n",
      "Data columns (total 5 columns):\n",
      " #   Column     Non-Null Count   Dtype         \n",
      "---  ------     --------------   -----         \n",
      " 0   id         134774 non-null  object        \n",
      " 1   user_id    134774 non-null  int64         \n",
      " 2   call_date  134774 non-null  datetime64[ns]\n",
      " 3   duration   134774 non-null  float64       \n",
      " 4   temp       134774 non-null  int64         \n",
      "dtypes: datetime64[ns](1), float64(1), int64(2), object(1)\n",
      "memory usage: 6.2+ MB\n"
     ]
    }
   ],
   "source": [
    "real_calls.info()"
   ]
  },
  {
   "cell_type": "markdown",
   "metadata": {},
   "source": [
    "#### Conclusions:\n",
    "- Converting data types: we have to convert the 'call_date' to a date type. the duration will be converted to int later, after caculation the totals.\n",
    "\n",
    "- There are no null values in the calls data\n",
    "\n",
    "- calls with 0 duration: Have the same distribution and ratio (20%) in both plans, so ignoring them would not effect the analysis. We will drop this rows, so they will not influence the mean call duration.\n",
    "Later when I merge all the data, the users df will be the basis (left merge), so users with no rows of data in calls/text/internet will not be lost.\n",
    "\n",
    "- I cleaned 2,961 rows of calls that are dated before the registration date or after thechurn date.\n",
    "\n",
    "#### Drop the 0 call duration rows"
   ]
  },
  {
   "cell_type": "code",
   "execution_count": 28,
   "metadata": {},
   "outputs": [],
   "source": [
    "#real_calls = real_calls.query('duration > 0') "
   ]
  },
  {
   "cell_type": "markdown",
   "metadata": {},
   "source": [
    "### Internet data"
   ]
  },
  {
   "cell_type": "code",
   "execution_count": 29,
   "metadata": {},
   "outputs": [
    {
     "name": "stdout",
     "output_type": "stream",
     "text": [
      "<class 'pandas.core.frame.DataFrame'>\n",
      "RangeIndex: 104825 entries, 0 to 104824\n",
      "Data columns (total 4 columns):\n",
      " #   Column        Non-Null Count   Dtype  \n",
      "---  ------        --------------   -----  \n",
      " 0   id            104825 non-null  object \n",
      " 1   user_id       104825 non-null  int64  \n",
      " 2   session_date  104825 non-null  object \n",
      " 3   mb_used       104825 non-null  float64\n",
      "dtypes: float64(1), int64(1), object(2)\n",
      "memory usage: 3.2+ MB\n"
     ]
    }
   ],
   "source": [
    "internet.info()"
   ]
  },
  {
   "cell_type": "code",
   "execution_count": 30,
   "metadata": {},
   "outputs": [
    {
     "data": {
      "text/html": [
       "<div>\n",
       "<style scoped>\n",
       "    .dataframe tbody tr th:only-of-type {\n",
       "        vertical-align: middle;\n",
       "    }\n",
       "\n",
       "    .dataframe tbody tr th {\n",
       "        vertical-align: top;\n",
       "    }\n",
       "\n",
       "    .dataframe thead th {\n",
       "        text-align: right;\n",
       "    }\n",
       "</style>\n",
       "<table border=\"1\" class=\"dataframe\">\n",
       "  <thead>\n",
       "    <tr style=\"text-align: right;\">\n",
       "      <th></th>\n",
       "      <th>id</th>\n",
       "      <th>user_id</th>\n",
       "      <th>session_date</th>\n",
       "      <th>mb_used</th>\n",
       "    </tr>\n",
       "  </thead>\n",
       "  <tbody>\n",
       "    <tr>\n",
       "      <th>104820</th>\n",
       "      <td>1499_215</td>\n",
       "      <td>1499</td>\n",
       "      <td>2018-10-20</td>\n",
       "      <td>218.06</td>\n",
       "    </tr>\n",
       "    <tr>\n",
       "      <th>104821</th>\n",
       "      <td>1499_216</td>\n",
       "      <td>1499</td>\n",
       "      <td>2018-12-30</td>\n",
       "      <td>304.72</td>\n",
       "    </tr>\n",
       "    <tr>\n",
       "      <th>104822</th>\n",
       "      <td>1499_217</td>\n",
       "      <td>1499</td>\n",
       "      <td>2018-09-22</td>\n",
       "      <td>292.75</td>\n",
       "    </tr>\n",
       "    <tr>\n",
       "      <th>104823</th>\n",
       "      <td>1499_218</td>\n",
       "      <td>1499</td>\n",
       "      <td>2018-12-07</td>\n",
       "      <td>0.00</td>\n",
       "    </tr>\n",
       "    <tr>\n",
       "      <th>104824</th>\n",
       "      <td>1499_219</td>\n",
       "      <td>1499</td>\n",
       "      <td>2018-12-24</td>\n",
       "      <td>758.31</td>\n",
       "    </tr>\n",
       "  </tbody>\n",
       "</table>\n",
       "</div>"
      ],
      "text/plain": [
       "              id  user_id session_date  mb_used\n",
       "104820  1499_215     1499   2018-10-20   218.06\n",
       "104821  1499_216     1499   2018-12-30   304.72\n",
       "104822  1499_217     1499   2018-09-22   292.75\n",
       "104823  1499_218     1499   2018-12-07     0.00\n",
       "104824  1499_219     1499   2018-12-24   758.31"
      ]
     },
     "execution_count": 30,
     "metadata": {},
     "output_type": "execute_result"
    }
   ],
   "source": [
    "internet.head()\n",
    "internet.tail()"
   ]
  },
  {
   "cell_type": "code",
   "execution_count": 31,
   "metadata": {},
   "outputs": [
    {
     "data": {
      "text/plain": [
       "id              0\n",
       "user_id         0\n",
       "session_date    0\n",
       "mb_used         0\n",
       "dtype: int64"
      ]
     },
     "execution_count": 31,
     "metadata": {},
     "output_type": "execute_result"
    }
   ],
   "source": [
    "# What is the rate of null values for each column?\n",
    "internet.isnull().sum()"
   ]
  },
  {
   "cell_type": "code",
   "execution_count": 32,
   "metadata": {},
   "outputs": [
    {
     "data": {
      "text/plain": [
       "0"
      ]
     },
     "execution_count": 32,
     "metadata": {},
     "output_type": "execute_result"
    }
   ],
   "source": [
    "internet.duplicated().sum()"
   ]
  },
  {
   "cell_type": "markdown",
   "metadata": {},
   "source": [
    "#### I want to find out what is the place and ratio of sessions with 0 mb_used, to decide how to handle them."
   ]
  },
  {
   "cell_type": "code",
   "execution_count": 33,
   "metadata": {},
   "outputs": [
    {
     "data": {
      "text/plain": [
       "<AxesSubplot:>"
      ]
     },
     "execution_count": 33,
     "metadata": {},
     "output_type": "execute_result"
    },
    {
     "data": {
      "image/png": "[encoded data removed]",
      "text/plain": [
       "<Figure size 432x288 with 1 Axes>"
      ]
     },
     "metadata": {
      "needs_background": "light"
     },
     "output_type": "display_data"
    }
   ],
   "source": [
    "internet['mb_used'].hist(bins = 20)"
   ]
  },
  {
   "cell_type": "code",
   "execution_count": 34,
   "metadata": {},
   "outputs": [
    {
     "data": {
      "text/plain": [
       "<AxesSubplot:>"
      ]
     },
     "execution_count": 34,
     "metadata": {},
     "output_type": "execute_result"
    },
    {
     "data": {
      "image/png": "[encoded data removed]",
      "text/plain": [
       "<Figure size 432x576 with 1 Axes>"
      ]
     },
     "metadata": {
      "needs_background": "light"
     },
     "output_type": "display_data"
    }
   ],
   "source": [
    "internet.boxplot(column='mb_used',fontsize = 10, rot = 45,grid = True,figsize = (6,8))"
   ]
  },
  {
   "cell_type": "code",
   "execution_count": 35,
   "metadata": {},
   "outputs": [
    {
     "data": {
      "text/plain": [
       "0.1311423801574052"
      ]
     },
     "execution_count": 35,
     "metadata": {},
     "output_type": "execute_result"
    }
   ],
   "source": [
    "internet['mb_used'][internet['mb_used'] == 0].count()/internet['mb_used'].count()"
   ]
  },
  {
   "cell_type": "markdown",
   "metadata": {},
   "source": [
    "As with the calls, we have sessions with 0 'mb_used'. they're about 13% of the sessions. it can influence the results of the analysis if this rate differs a lot between the two plans (I would prefer not to handle these sessions as real, but as dissconected ones)\n",
    "so I used the surf_users and ult_users variables, and checked the distribution and ratio of 0 mb_used sessions:"
   ]
  },
  {
   "cell_type": "code",
   "execution_count": 36,
   "metadata": {},
   "outputs": [
    {
     "data": {
      "text/plain": [
       "<AxesSubplot:>"
      ]
     },
     "execution_count": 36,
     "metadata": {},
     "output_type": "execute_result"
    },
    {
     "data": {
      "image/png": "[encoded data removed]",
      "text/plain": [
       "<Figure size 432x288 with 1 Axes>"
      ]
     },
     "metadata": {
      "needs_background": "light"
     },
     "output_type": "display_data"
    }
   ],
   "source": [
    "surf_sessions = internet.query('user_id in @surf_users.user_id')\n",
    "surf_sessions['mb_used'][surf_sessions['mb_used'] == 0].count()/surf_sessions['mb_used'].count()\n",
    "surf_sessions['mb_used'].hist(bins = 20)"
   ]
  },
  {
   "cell_type": "code",
   "execution_count": 37,
   "metadata": {},
   "outputs": [
    {
     "data": {
      "text/plain": [
       "<AxesSubplot:>"
      ]
     },
     "execution_count": 37,
     "metadata": {},
     "output_type": "execute_result"
    },
    {
     "data": {
      "image/png": "[encoded data removed]",
      "text/plain": [
       "<Figure size 432x288 with 1 Axes>"
      ]
     },
     "metadata": {
      "needs_background": "light"
     },
     "output_type": "display_data"
    }
   ],
   "source": [
    "ult_sessions = internet.query('user_id in @ult_users.user_id')\n",
    "ult_sessions['mb_used'][ult_sessions['mb_used'] == 0].count()/ult_sessions['mb_used'].count()\n",
    "ult_sessions['mb_used'].hist(bins = 20)"
   ]
  },
  {
   "cell_type": "markdown",
   "metadata": {},
   "source": [
    "#### Conclusions:\n",
    "- There are no null values in the internet data\n",
    "\n",
    "- sessions with 0 mb_used: Have the same distribution and ratio in both plans, so ignoring them would not effect the analysis. I want to drop these rows, because I don't want them to influence the mb_used mean.\n",
    "\n",
    "- Converting data types: we have to convert the 'session_date' to a date type. 'mb_used' will be converted to int later, after caculation the totals."
   ]
  },
  {
   "cell_type": "markdown",
   "metadata": {},
   "source": [
    "####  Convert 'session_date' to date type"
   ]
  },
  {
   "cell_type": "code",
   "execution_count": 38,
   "metadata": {},
   "outputs": [
    {
     "name": "stdout",
     "output_type": "stream",
     "text": [
      "<class 'pandas.core.frame.DataFrame'>\n",
      "RangeIndex: 104825 entries, 0 to 104824\n",
      "Data columns (total 4 columns):\n",
      " #   Column        Non-Null Count   Dtype         \n",
      "---  ------        --------------   -----         \n",
      " 0   id            104825 non-null  object        \n",
      " 1   user_id       104825 non-null  int64         \n",
      " 2   session_date  104825 non-null  datetime64[ns]\n",
      " 3   mb_used       104825 non-null  float64       \n",
      "dtypes: datetime64[ns](1), float64(1), int64(1), object(1)\n",
      "memory usage: 3.2+ MB\n"
     ]
    }
   ],
   "source": [
    "# Converting 'session_date' from object type to datetime type\n",
    "internet['session_date'] = pd.to_datetime(internet['session_date'],format='%Y-%m-%d')\n",
    "internet.info()"
   ]
  },
  {
   "cell_type": "markdown",
   "metadata": {},
   "source": [
    "#### Clean internet sessions that are dated before the registration date or after the churn date"
   ]
  },
  {
   "cell_type": "code",
   "execution_count": 39,
   "metadata": {},
   "outputs": [],
   "source": [
    "real_internet = internet"
   ]
  },
  {
   "cell_type": "code",
   "execution_count": 40,
   "metadata": {},
   "outputs": [],
   "source": [
    "# Defining a function that for each user_id, looks for calls that are dated out of the period between \n",
    "# registration and churn date, and fills temp column with 0.\n",
    "\n",
    "def users_activity_int(row):\n",
    "    user_id=row['user_id']\n",
    "    reg_date=row['reg_date']\n",
    "    end_date=row['churn_date']    \n",
    "    #print('User: ', user_id, ' ', reg_date, ' ',end_date)\n",
    "    \n",
    "    real_internet.loc[(real_internet['user_id'] == user_id) &\n",
    "                   ((real_internet['session_date'] < reg_date) |\n",
    "                    (real_internet['session_date'] > end_date)), ['temp']] = 0"
   ]
  },
  {
   "cell_type": "code",
   "execution_count": 41,
   "metadata": {},
   "outputs": [],
   "source": [
    "# now we apply our function to every user_id.\n",
    "# before that, define a temp column and set it with default = 1\n",
    "real_internet['temp'] = 1\n",
    "users.apply(users_activity_int,axis=1);"
   ]
  },
  {
   "cell_type": "code",
   "execution_count": 42,
   "metadata": {},
   "outputs": [],
   "source": [
    "# This line will remove all the rows with temp=0\n",
    "real_internet = real_internet[~(real_internet['temp'] == 0)] "
   ]
  },
  {
   "cell_type": "code",
   "execution_count": 43,
   "metadata": {},
   "outputs": [
    {
     "data": {
      "text/plain": [
       "102362"
      ]
     },
     "execution_count": 43,
     "metadata": {},
     "output_type": "execute_result"
    }
   ],
   "source": [
    "len(real_internet)"
   ]
  },
  {
   "cell_type": "markdown",
   "metadata": {},
   "source": [
    "#### Drop the 0 call duration rows"
   ]
  },
  {
   "cell_type": "code",
   "execution_count": 44,
   "metadata": {},
   "outputs": [],
   "source": [
    "#real_internet = real_internet.query('mb_used > 0') "
   ]
  },
  {
   "cell_type": "markdown",
   "metadata": {},
   "source": [
    "I cleaned the sessions that are dated before the registration date or after thechurn date.\n",
    "   Added checking for missing values & duplicates.\n",
    "    \n",
    "I decided not to drop the 0 duration calls, since they are not going to influence the mean statistic (the means are calculated from the monthly total calls duration)<p>"
   ]
  },
  {
   "cell_type": "markdown",
   "metadata": {},
   "source": [
    "### text messages data"
   ]
  },
  {
   "cell_type": "code",
   "execution_count": 45,
   "metadata": {},
   "outputs": [
    {
     "name": "stdout",
     "output_type": "stream",
     "text": [
      "<class 'pandas.core.frame.DataFrame'>\n",
      "RangeIndex: 76051 entries, 0 to 76050\n",
      "Data columns (total 3 columns):\n",
      " #   Column        Non-Null Count  Dtype \n",
      "---  ------        --------------  ----- \n",
      " 0   id            76051 non-null  object\n",
      " 1   user_id       76051 non-null  int64 \n",
      " 2   message_date  76051 non-null  object\n",
      "dtypes: int64(1), object(2)\n",
      "memory usage: 1.7+ MB\n"
     ]
    }
   ],
   "source": [
    "text.info()"
   ]
  },
  {
   "cell_type": "code",
   "execution_count": 46,
   "metadata": {},
   "outputs": [
    {
     "data": {
      "text/html": [
       "<div>\n",
       "<style scoped>\n",
       "    .dataframe tbody tr th:only-of-type {\n",
       "        vertical-align: middle;\n",
       "    }\n",
       "\n",
       "    .dataframe tbody tr th {\n",
       "        vertical-align: top;\n",
       "    }\n",
       "\n",
       "    .dataframe thead th {\n",
       "        text-align: right;\n",
       "    }\n",
       "</style>\n",
       "<table border=\"1\" class=\"dataframe\">\n",
       "  <thead>\n",
       "    <tr style=\"text-align: right;\">\n",
       "      <th></th>\n",
       "      <th>id</th>\n",
       "      <th>user_id</th>\n",
       "      <th>message_date</th>\n",
       "    </tr>\n",
       "  </thead>\n",
       "  <tbody>\n",
       "    <tr>\n",
       "      <th>18572</th>\n",
       "      <td>1120_415</td>\n",
       "      <td>1120</td>\n",
       "      <td>2018-04-17</td>\n",
       "    </tr>\n",
       "  </tbody>\n",
       "</table>\n",
       "</div>"
      ],
      "text/plain": [
       "             id  user_id message_date\n",
       "18572  1120_415     1120   2018-04-17"
      ]
     },
     "execution_count": 46,
     "metadata": {},
     "output_type": "execute_result"
    }
   ],
   "source": [
    "text.head()\n",
    "text.tail()\n",
    "text.sample()"
   ]
  },
  {
   "cell_type": "code",
   "execution_count": 47,
   "metadata": {},
   "outputs": [
    {
     "data": {
      "text/plain": [
       "id              0\n",
       "user_id         0\n",
       "message_date    0\n",
       "dtype: int64"
      ]
     },
     "execution_count": 47,
     "metadata": {},
     "output_type": "execute_result"
    }
   ],
   "source": [
    "# checking for null values\n",
    "text.isnull().sum()"
   ]
  },
  {
   "cell_type": "code",
   "execution_count": 48,
   "metadata": {},
   "outputs": [
    {
     "data": {
      "text/plain": [
       "0"
      ]
     },
     "execution_count": 48,
     "metadata": {},
     "output_type": "execute_result"
    }
   ],
   "source": [
    "# checking for duplicates\n",
    "text.duplicated().sum()"
   ]
  },
  {
   "cell_type": "markdown",
   "metadata": {},
   "source": [
    "#### Conclusions:\n",
    "- There are no null values in the text messages data\n",
    "\n",
    "- There are no duplicate values\n",
    "\n",
    "- this data is not numerical. each row represents a text message with its data. for our analysis we will count the number of rows.\n",
    "\n",
    "- Converting data types: we have to convert the 'message_date' from object to a date type."
   ]
  },
  {
   "cell_type": "markdown",
   "metadata": {},
   "source": [
    "####  Convert 'message_date' to date type"
   ]
  },
  {
   "cell_type": "code",
   "execution_count": 49,
   "metadata": {},
   "outputs": [
    {
     "name": "stdout",
     "output_type": "stream",
     "text": [
      "<class 'pandas.core.frame.DataFrame'>\n",
      "RangeIndex: 76051 entries, 0 to 76050\n",
      "Data columns (total 3 columns):\n",
      " #   Column        Non-Null Count  Dtype         \n",
      "---  ------        --------------  -----         \n",
      " 0   id            76051 non-null  object        \n",
      " 1   user_id       76051 non-null  int64         \n",
      " 2   message_date  76051 non-null  datetime64[ns]\n",
      "dtypes: datetime64[ns](1), int64(1), object(1)\n",
      "memory usage: 1.7+ MB\n"
     ]
    }
   ],
   "source": [
    "# Converting 'session_date' from object type to datetime type\n",
    "text['message_date'] = pd.to_datetime(text['message_date'],format='%Y-%m-%d')\n",
    "text.info()"
   ]
  },
  {
   "cell_type": "markdown",
   "metadata": {},
   "source": [
    "#### Clean text messages that are dated before the registration date or after the churn date"
   ]
  },
  {
   "cell_type": "code",
   "execution_count": 50,
   "metadata": {},
   "outputs": [],
   "source": [
    "real_text = text"
   ]
  },
  {
   "cell_type": "code",
   "execution_count": 51,
   "metadata": {},
   "outputs": [],
   "source": [
    "# Defining a function that for each user_id, looks for calls that are dated out of the period between \n",
    "# registration and churn date, and fills temp column with 0.\n",
    "\n",
    "def users_activity_txt(row):\n",
    "    user_id=row['user_id']\n",
    "    reg_date=row['reg_date']\n",
    "    end_date=row['churn_date']    \n",
    "    #print('User: ', user_id, ' ', reg_date, ' ',end_date)\n",
    "    \n",
    "    real_text.loc[(real_text['user_id'] == user_id) &\n",
    "                   ((real_text['message_date'] < reg_date) |\n",
    "                    (real_text['message_date'] > end_date)), ['temp']] = 0"
   ]
  },
  {
   "cell_type": "code",
   "execution_count": 52,
   "metadata": {},
   "outputs": [],
   "source": [
    "# now we apply our function to every user_id.\n",
    "# before that, define a temp column and set it with default = 1\n",
    "real_text['temp'] = 1\n",
    "users.apply(users_activity_txt,axis=1);"
   ]
  },
  {
   "cell_type": "code",
   "execution_count": 53,
   "metadata": {},
   "outputs": [
    {
     "data": {
      "text/plain": [
       "76051"
      ]
     },
     "execution_count": 53,
     "metadata": {},
     "output_type": "execute_result"
    }
   ],
   "source": [
    "# This line will remove all the rows with temp=0\n",
    "#real_text = real_text[~(real_text['temp'] == 0)] \n",
    "len(real_text)"
   ]
  },
  {
   "cell_type": "markdown",
   "metadata": {},
   "source": [
    "### Plans data"
   ]
  },
  {
   "cell_type": "code",
   "execution_count": 54,
   "metadata": {},
   "outputs": [
    {
     "name": "stdout",
     "output_type": "stream",
     "text": [
      "<class 'pandas.core.frame.DataFrame'>\n",
      "RangeIndex: 2 entries, 0 to 1\n",
      "Data columns (total 8 columns):\n",
      " #   Column                 Non-Null Count  Dtype  \n",
      "---  ------                 --------------  -----  \n",
      " 0   messages_included      2 non-null      int64  \n",
      " 1   mb_per_month_included  2 non-null      int64  \n",
      " 2   minutes_included       2 non-null      int64  \n",
      " 3   usd_monthly_pay        2 non-null      int64  \n",
      " 4   usd_per_gb             2 non-null      int64  \n",
      " 5   usd_per_message        2 non-null      float64\n",
      " 6   usd_per_minute         2 non-null      float64\n",
      " 7   plan_name              2 non-null      object \n",
      "dtypes: float64(2), int64(5), object(1)\n",
      "memory usage: 256.0+ bytes\n"
     ]
    }
   ],
   "source": [
    "plans.info()"
   ]
  },
  {
   "cell_type": "code",
   "execution_count": 55,
   "metadata": {},
   "outputs": [
    {
     "data": {
      "text/html": [
       "<div>\n",
       "<style scoped>\n",
       "    .dataframe tbody tr th:only-of-type {\n",
       "        vertical-align: middle;\n",
       "    }\n",
       "\n",
       "    .dataframe tbody tr th {\n",
       "        vertical-align: top;\n",
       "    }\n",
       "\n",
       "    .dataframe thead th {\n",
       "        text-align: right;\n",
       "    }\n",
       "</style>\n",
       "<table border=\"1\" class=\"dataframe\">\n",
       "  <thead>\n",
       "    <tr style=\"text-align: right;\">\n",
       "      <th></th>\n",
       "      <th>messages_included</th>\n",
       "      <th>mb_per_month_included</th>\n",
       "      <th>minutes_included</th>\n",
       "      <th>usd_monthly_pay</th>\n",
       "      <th>usd_per_gb</th>\n",
       "      <th>usd_per_message</th>\n",
       "      <th>usd_per_minute</th>\n",
       "      <th>plan_name</th>\n",
       "    </tr>\n",
       "  </thead>\n",
       "  <tbody>\n",
       "    <tr>\n",
       "      <th>0</th>\n",
       "      <td>50</td>\n",
       "      <td>15360</td>\n",
       "      <td>500</td>\n",
       "      <td>20</td>\n",
       "      <td>10</td>\n",
       "      <td>0.03</td>\n",
       "      <td>0.03</td>\n",
       "      <td>surf</td>\n",
       "    </tr>\n",
       "    <tr>\n",
       "      <th>1</th>\n",
       "      <td>1000</td>\n",
       "      <td>30720</td>\n",
       "      <td>3000</td>\n",
       "      <td>70</td>\n",
       "      <td>7</td>\n",
       "      <td>0.01</td>\n",
       "      <td>0.01</td>\n",
       "      <td>ultimate</td>\n",
       "    </tr>\n",
       "  </tbody>\n",
       "</table>\n",
       "</div>"
      ],
      "text/plain": [
       "   messages_included  mb_per_month_included  minutes_included  \\\n",
       "0                 50                  15360               500   \n",
       "1               1000                  30720              3000   \n",
       "\n",
       "   usd_monthly_pay  usd_per_gb  usd_per_message  usd_per_minute plan_name  \n",
       "0               20          10             0.03            0.03      surf  \n",
       "1               70           7             0.01            0.01  ultimate  "
      ]
     },
     "execution_count": 55,
     "metadata": {},
     "output_type": "execute_result"
    }
   ],
   "source": [
    "plans"
   ]
  },
  {
   "cell_type": "markdown",
   "metadata": {},
   "source": [
    "#### Conclusions:\n",
    "-There are no null values in the plans data\n",
    "\n",
    "-The data types fit the data, no need for conversions."
   ]
  },
  {
   "cell_type": "markdown",
   "metadata": {},
   "source": [
    "### Calculating users' total use and total revenue per month"
   ]
  },
  {
   "cell_type": "markdown",
   "metadata": {},
   "source": [
    "#### Grouping calls data by month (after creating 'month' column and rounding up the duration)"
   ]
  },
  {
   "cell_type": "code",
   "execution_count": 56,
   "metadata": {},
   "outputs": [],
   "source": [
    "real_calls['month'] = real_calls['call_date'].dt.month\n",
    "real_calls['rounded_duration'] = real_calls['duration'].apply(np.ceil)"
   ]
  },
  {
   "cell_type": "code",
   "execution_count": 57,
   "metadata": {},
   "outputs": [
    {
     "data": {
      "text/html": [
       "<div>\n",
       "<style scoped>\n",
       "    .dataframe tbody tr th:only-of-type {\n",
       "        vertical-align: middle;\n",
       "    }\n",
       "\n",
       "    .dataframe tbody tr th {\n",
       "        vertical-align: top;\n",
       "    }\n",
       "\n",
       "    .dataframe thead th {\n",
       "        text-align: right;\n",
       "    }\n",
       "</style>\n",
       "<table border=\"1\" class=\"dataframe\">\n",
       "  <thead>\n",
       "    <tr style=\"text-align: right;\">\n",
       "      <th></th>\n",
       "      <th></th>\n",
       "      <th>total_calls</th>\n",
       "      <th>total_duration</th>\n",
       "    </tr>\n",
       "    <tr>\n",
       "      <th>user_id</th>\n",
       "      <th>month</th>\n",
       "      <th></th>\n",
       "      <th></th>\n",
       "    </tr>\n",
       "  </thead>\n",
       "  <tbody>\n",
       "    <tr>\n",
       "      <th>1000</th>\n",
       "      <th>12</th>\n",
       "      <td>16</td>\n",
       "      <td>124.0</td>\n",
       "    </tr>\n",
       "    <tr>\n",
       "      <th rowspan=\"4\" valign=\"top\">1001</th>\n",
       "      <th>8</th>\n",
       "      <td>27</td>\n",
       "      <td>182.0</td>\n",
       "    </tr>\n",
       "    <tr>\n",
       "      <th>9</th>\n",
       "      <td>49</td>\n",
       "      <td>315.0</td>\n",
       "    </tr>\n",
       "    <tr>\n",
       "      <th>10</th>\n",
       "      <td>65</td>\n",
       "      <td>393.0</td>\n",
       "    </tr>\n",
       "    <tr>\n",
       "      <th>11</th>\n",
       "      <td>64</td>\n",
       "      <td>426.0</td>\n",
       "    </tr>\n",
       "    <tr>\n",
       "      <th>...</th>\n",
       "      <th>...</th>\n",
       "      <td>...</td>\n",
       "      <td>...</td>\n",
       "    </tr>\n",
       "    <tr>\n",
       "      <th>1498</th>\n",
       "      <th>12</th>\n",
       "      <td>39</td>\n",
       "      <td>339.0</td>\n",
       "    </tr>\n",
       "    <tr>\n",
       "      <th rowspan=\"4\" valign=\"top\">1499</th>\n",
       "      <th>9</th>\n",
       "      <td>41</td>\n",
       "      <td>346.0</td>\n",
       "    </tr>\n",
       "    <tr>\n",
       "      <th>10</th>\n",
       "      <td>53</td>\n",
       "      <td>385.0</td>\n",
       "    </tr>\n",
       "    <tr>\n",
       "      <th>11</th>\n",
       "      <td>45</td>\n",
       "      <td>308.0</td>\n",
       "    </tr>\n",
       "    <tr>\n",
       "      <th>12</th>\n",
       "      <td>65</td>\n",
       "      <td>496.0</td>\n",
       "    </tr>\n",
       "  </tbody>\n",
       "</table>\n",
       "<p>2221 rows × 2 columns</p>\n",
       "</div>"
      ],
      "text/plain": [
       "               total_calls  total_duration\n",
       "user_id month                             \n",
       "1000    12              16           124.0\n",
       "1001    8               27           182.0\n",
       "        9               49           315.0\n",
       "        10              65           393.0\n",
       "        11              64           426.0\n",
       "...                    ...             ...\n",
       "1498    12              39           339.0\n",
       "1499    9               41           346.0\n",
       "        10              53           385.0\n",
       "        11              45           308.0\n",
       "        12              65           496.0\n",
       "\n",
       "[2221 rows x 2 columns]"
      ]
     },
     "execution_count": 57,
     "metadata": {},
     "output_type": "execute_result"
    }
   ],
   "source": [
    "users_monthly_calls = real_calls.groupby(['user_id','month']).agg(\n",
    "    total_calls=('rounded_duration', 'count'), total_duration=('rounded_duration', 'sum'),)\n",
    "users_monthly_calls"
   ]
  },
  {
   "cell_type": "markdown",
   "metadata": {},
   "source": [
    "#### Grouping text messages data by month (after creating 'month' column)"
   ]
  },
  {
   "cell_type": "code",
   "execution_count": 58,
   "metadata": {},
   "outputs": [],
   "source": [
    "real_text['month'] = real_text['message_date'].dt.month"
   ]
  },
  {
   "cell_type": "code",
   "execution_count": 59,
   "metadata": {},
   "outputs": [],
   "source": [
    "users_monthly_txt = real_text.groupby(['user_id','month']).agg(total_txt=('id', 'count'))"
   ]
  },
  {
   "cell_type": "code",
   "execution_count": 60,
   "metadata": {},
   "outputs": [
    {
     "data": {
      "text/html": [
       "<div>\n",
       "<style scoped>\n",
       "    .dataframe tbody tr th:only-of-type {\n",
       "        vertical-align: middle;\n",
       "    }\n",
       "\n",
       "    .dataframe tbody tr th {\n",
       "        vertical-align: top;\n",
       "    }\n",
       "\n",
       "    .dataframe thead th {\n",
       "        text-align: right;\n",
       "    }\n",
       "</style>\n",
       "<table border=\"1\" class=\"dataframe\">\n",
       "  <thead>\n",
       "    <tr style=\"text-align: right;\">\n",
       "      <th></th>\n",
       "      <th></th>\n",
       "      <th>total_txt</th>\n",
       "    </tr>\n",
       "    <tr>\n",
       "      <th>user_id</th>\n",
       "      <th>month</th>\n",
       "      <th></th>\n",
       "    </tr>\n",
       "  </thead>\n",
       "  <tbody>\n",
       "    <tr>\n",
       "      <th>1000</th>\n",
       "      <th>12</th>\n",
       "      <td>11</td>\n",
       "    </tr>\n",
       "    <tr>\n",
       "      <th rowspan=\"4\" valign=\"top\">1001</th>\n",
       "      <th>8</th>\n",
       "      <td>30</td>\n",
       "    </tr>\n",
       "    <tr>\n",
       "      <th>9</th>\n",
       "      <td>44</td>\n",
       "    </tr>\n",
       "    <tr>\n",
       "      <th>10</th>\n",
       "      <td>53</td>\n",
       "    </tr>\n",
       "    <tr>\n",
       "      <th>11</th>\n",
       "      <td>36</td>\n",
       "    </tr>\n",
       "    <tr>\n",
       "      <th>...</th>\n",
       "      <th>...</th>\n",
       "      <td>...</td>\n",
       "    </tr>\n",
       "    <tr>\n",
       "      <th rowspan=\"4\" valign=\"top\">1496</th>\n",
       "      <th>9</th>\n",
       "      <td>21</td>\n",
       "    </tr>\n",
       "    <tr>\n",
       "      <th>10</th>\n",
       "      <td>18</td>\n",
       "    </tr>\n",
       "    <tr>\n",
       "      <th>11</th>\n",
       "      <td>13</td>\n",
       "    </tr>\n",
       "    <tr>\n",
       "      <th>12</th>\n",
       "      <td>11</td>\n",
       "    </tr>\n",
       "    <tr>\n",
       "      <th>1497</th>\n",
       "      <th>12</th>\n",
       "      <td>50</td>\n",
       "    </tr>\n",
       "  </tbody>\n",
       "</table>\n",
       "<p>1806 rows × 1 columns</p>\n",
       "</div>"
      ],
      "text/plain": [
       "               total_txt\n",
       "user_id month           \n",
       "1000    12            11\n",
       "1001    8             30\n",
       "        9             44\n",
       "        10            53\n",
       "        11            36\n",
       "...                  ...\n",
       "1496    9             21\n",
       "        10            18\n",
       "        11            13\n",
       "        12            11\n",
       "1497    12            50\n",
       "\n",
       "[1806 rows x 1 columns]"
      ]
     },
     "execution_count": 60,
     "metadata": {},
     "output_type": "execute_result"
    }
   ],
   "source": [
    "users_monthly_txt"
   ]
  },
  {
   "cell_type": "markdown",
   "metadata": {},
   "source": [
    "#### Grouping internet data by month (after adding 'month' column) and rounding up the MB to GB"
   ]
  },
  {
   "cell_type": "code",
   "execution_count": 61,
   "metadata": {},
   "outputs": [],
   "source": [
    "real_internet['month'] = real_internet['session_date'].dt.month"
   ]
  },
  {
   "cell_type": "code",
   "execution_count": 62,
   "metadata": {},
   "outputs": [],
   "source": [
    "users_monthly_mb = real_internet.groupby(['user_id','month']).agg(total_mb=('mb_used', 'sum'))\n",
    "users_monthly_mb['total_gb'] = (users_monthly_mb['total_mb']/1024).apply(np.ceil)\n",
    "users_monthly_mb['total_mb_rounded'] = users_monthly_mb['total_gb']*1024"
   ]
  },
  {
   "cell_type": "code",
   "execution_count": 63,
   "metadata": {},
   "outputs": [
    {
     "data": {
      "text/html": [
       "<div>\n",
       "<style scoped>\n",
       "    .dataframe tbody tr th:only-of-type {\n",
       "        vertical-align: middle;\n",
       "    }\n",
       "\n",
       "    .dataframe tbody tr th {\n",
       "        vertical-align: top;\n",
       "    }\n",
       "\n",
       "    .dataframe thead th {\n",
       "        text-align: right;\n",
       "    }\n",
       "</style>\n",
       "<table border=\"1\" class=\"dataframe\">\n",
       "  <thead>\n",
       "    <tr style=\"text-align: right;\">\n",
       "      <th></th>\n",
       "      <th></th>\n",
       "      <th>total_mb</th>\n",
       "      <th>total_gb</th>\n",
       "      <th>total_mb_rounded</th>\n",
       "    </tr>\n",
       "    <tr>\n",
       "      <th>user_id</th>\n",
       "      <th>month</th>\n",
       "      <th></th>\n",
       "      <th></th>\n",
       "      <th></th>\n",
       "    </tr>\n",
       "  </thead>\n",
       "  <tbody>\n",
       "    <tr>\n",
       "      <th>1000</th>\n",
       "      <th>12</th>\n",
       "      <td>1901.47</td>\n",
       "      <td>2.0</td>\n",
       "      <td>2048.0</td>\n",
       "    </tr>\n",
       "    <tr>\n",
       "      <th rowspan=\"4\" valign=\"top\">1001</th>\n",
       "      <th>8</th>\n",
       "      <td>6919.15</td>\n",
       "      <td>7.0</td>\n",
       "      <td>7168.0</td>\n",
       "    </tr>\n",
       "    <tr>\n",
       "      <th>9</th>\n",
       "      <td>13314.82</td>\n",
       "      <td>14.0</td>\n",
       "      <td>14336.0</td>\n",
       "    </tr>\n",
       "    <tr>\n",
       "      <th>10</th>\n",
       "      <td>22330.49</td>\n",
       "      <td>22.0</td>\n",
       "      <td>22528.0</td>\n",
       "    </tr>\n",
       "    <tr>\n",
       "      <th>11</th>\n",
       "      <td>18504.30</td>\n",
       "      <td>19.0</td>\n",
       "      <td>19456.0</td>\n",
       "    </tr>\n",
       "    <tr>\n",
       "      <th>...</th>\n",
       "      <th>...</th>\n",
       "      <td>...</td>\n",
       "      <td>...</td>\n",
       "      <td>...</td>\n",
       "    </tr>\n",
       "    <tr>\n",
       "      <th>1498</th>\n",
       "      <th>12</th>\n",
       "      <td>23137.69</td>\n",
       "      <td>23.0</td>\n",
       "      <td>23552.0</td>\n",
       "    </tr>\n",
       "    <tr>\n",
       "      <th rowspan=\"4\" valign=\"top\">1499</th>\n",
       "      <th>9</th>\n",
       "      <td>12984.76</td>\n",
       "      <td>13.0</td>\n",
       "      <td>13312.0</td>\n",
       "    </tr>\n",
       "    <tr>\n",
       "      <th>10</th>\n",
       "      <td>19492.43</td>\n",
       "      <td>20.0</td>\n",
       "      <td>20480.0</td>\n",
       "    </tr>\n",
       "    <tr>\n",
       "      <th>11</th>\n",
       "      <td>16813.83</td>\n",
       "      <td>17.0</td>\n",
       "      <td>17408.0</td>\n",
       "    </tr>\n",
       "    <tr>\n",
       "      <th>12</th>\n",
       "      <td>22059.21</td>\n",
       "      <td>22.0</td>\n",
       "      <td>22528.0</td>\n",
       "    </tr>\n",
       "  </tbody>\n",
       "</table>\n",
       "<p>2240 rows × 3 columns</p>\n",
       "</div>"
      ],
      "text/plain": [
       "               total_mb  total_gb  total_mb_rounded\n",
       "user_id month                                      \n",
       "1000    12      1901.47       2.0            2048.0\n",
       "1001    8       6919.15       7.0            7168.0\n",
       "        9      13314.82      14.0           14336.0\n",
       "        10     22330.49      22.0           22528.0\n",
       "        11     18504.30      19.0           19456.0\n",
       "...                 ...       ...               ...\n",
       "1498    12     23137.69      23.0           23552.0\n",
       "1499    9      12984.76      13.0           13312.0\n",
       "        10     19492.43      20.0           20480.0\n",
       "        11     16813.83      17.0           17408.0\n",
       "        12     22059.21      22.0           22528.0\n",
       "\n",
       "[2240 rows x 3 columns]"
      ]
     },
     "execution_count": 63,
     "metadata": {},
     "output_type": "execute_result"
    }
   ],
   "source": [
    "users_monthly_mb"
   ]
  },
  {
   "cell_type": "markdown",
   "metadata": {},
   "source": [
    "#### Merging the 3 dataframes to one df including each user's monthly use of all types of services"
   ]
  },
  {
   "cell_type": "code",
   "execution_count": 64,
   "metadata": {},
   "outputs": [
    {
     "data": {
      "text/plain": [
       "2285"
      ]
     },
     "execution_count": 64,
     "metadata": {},
     "output_type": "execute_result"
    }
   ],
   "source": [
    "data_frames = [users_monthly_calls, users_monthly_txt, users_monthly_mb]\n",
    "users_monthly_use = reduce(lambda  left,right: pd.merge(left,right,on=['user_id', 'month'],\n",
    "                                            how='outer'), data_frames).fillna(0)\n",
    "users_monthly_use.reset_index(level='month', inplace=True)\n",
    "len(users_monthly_use)"
   ]
  },
  {
   "cell_type": "markdown",
   "metadata": {},
   "source": [
    "#### Merging user dataframe with the monthly services use df"
   ]
  },
  {
   "cell_type": "code",
   "execution_count": 65,
   "metadata": {},
   "outputs": [
    {
     "data": {
      "text/plain": [
       "2285"
      ]
     },
     "execution_count": 65,
     "metadata": {},
     "output_type": "execute_result"
    }
   ],
   "source": [
    "#merging rows of each month use (+ his plan and city for later analysis)\n",
    "# with the users date from 'users' datafram\n",
    "\n",
    "users_monthly_use_plan = pd.merge(users_monthly_use,users[['user_id','city','plan','reg_date','churn_date']],on='user_id', how='left')\n",
    "len(users_monthly_use_plan)"
   ]
  },
  {
   "cell_type": "markdown",
   "metadata": {},
   "source": [
    "#### Adding for each row, the plans details by merging the plans df"
   ]
  },
  {
   "cell_type": "code",
   "execution_count": 66,
   "metadata": {},
   "outputs": [
    {
     "data": {
      "text/plain": [
       "2285"
      ]
     },
     "execution_count": 66,
     "metadata": {},
     "output_type": "execute_result"
    }
   ],
   "source": [
    "users_monthly_use_plan = pd.merge(users_monthly_use_plan,plans,left_on='plan', right_on = 'plan_name').fillna(0)\n",
    "len(users_monthly_use_plan)"
   ]
  },
  {
   "cell_type": "code",
   "execution_count": 67,
   "metadata": {},
   "outputs": [],
   "source": [
    "# Drop the redundent \"plan_name\" column\n",
    "users_monthly_use_plan = users_monthly_use_plan.drop(columns='plan_name')"
   ]
  },
  {
   "cell_type": "markdown",
   "metadata": {},
   "source": [
    "#### Calculating users' monthly payments"
   ]
  },
  {
   "cell_type": "code",
   "execution_count": 68,
   "metadata": {},
   "outputs": [],
   "source": [
    "# Defining a function which calculates for each row (per user and month), the total payments \n",
    "# The function returns the total payment\n",
    "\n",
    "def find_cost(row):\n",
    "    # we're creating variables of calls_mi,text,internet,plan inside the function\n",
    "    # we can operate them for each user\n",
    "    calls_mi=row['total_duration']\n",
    "    text_used=row['total_txt']\n",
    "    mb_used=row['total_mb_rounded']\n",
    "    plan=row['plan']\n",
    "    calls_cost = 0\n",
    "    text_cost = 0\n",
    "    internet_cost = 0\n",
    "    total_cost = 0\n",
    "    \n",
    "    #let's find the monthly cost for calls\n",
    "    calls_cost = (calls_mi > row.minutes_included) * (calls_mi - row.minutes_included) * row.usd_per_minute\n",
    "\n",
    "    \n",
    "    # let's find the monthly cost for messages\n",
    "    text_cost = (text_used > row.messages_included) * (text_used - row.messages_included) * row.usd_per_message\n",
    "\n",
    "    \n",
    "    # let's find the monthly cost for internet use\n",
    "    internet_cost = (mb_used > row.mb_per_month_included) * ((mb_used - row.mb_per_month_included)/1024) * row.usd_per_gb\n",
    "\n",
    "    \n",
    "    #now calculate the total cost by summing it all up and adding the monthly pay\n",
    "    total_cost=calls_cost+text_cost+internet_cost+row.usd_monthly_pay\n",
    "\n",
    "    return total_cost"
   ]
  },
  {
   "cell_type": "code",
   "execution_count": 69,
   "metadata": {},
   "outputs": [],
   "source": [
    "# now we apply our function to every row of the data.\n",
    "users_monthly_use_plan['total_cost'] = users_monthly_use_plan.apply(find_cost,axis=1)"
   ]
  },
  {
   "cell_type": "code",
   "execution_count": 70,
   "metadata": {},
   "outputs": [
    {
     "data": {
      "text/html": [
       "<div>\n",
       "<style scoped>\n",
       "    .dataframe tbody tr th:only-of-type {\n",
       "        vertical-align: middle;\n",
       "    }\n",
       "\n",
       "    .dataframe tbody tr th {\n",
       "        vertical-align: top;\n",
       "    }\n",
       "\n",
       "    .dataframe thead th {\n",
       "        text-align: right;\n",
       "    }\n",
       "</style>\n",
       "<table border=\"1\" class=\"dataframe\">\n",
       "  <thead>\n",
       "    <tr style=\"text-align: right;\">\n",
       "      <th></th>\n",
       "      <th>user_id</th>\n",
       "      <th>month</th>\n",
       "      <th>total_calls</th>\n",
       "      <th>total_duration</th>\n",
       "      <th>total_txt</th>\n",
       "      <th>total_mb</th>\n",
       "      <th>total_gb</th>\n",
       "      <th>total_mb_rounded</th>\n",
       "      <th>messages_included</th>\n",
       "      <th>mb_per_month_included</th>\n",
       "      <th>minutes_included</th>\n",
       "      <th>usd_monthly_pay</th>\n",
       "      <th>usd_per_gb</th>\n",
       "      <th>usd_per_message</th>\n",
       "      <th>usd_per_minute</th>\n",
       "      <th>total_cost</th>\n",
       "    </tr>\n",
       "  </thead>\n",
       "  <tbody>\n",
       "    <tr>\n",
       "      <th>count</th>\n",
       "      <td>2285.000000</td>\n",
       "      <td>2285.000000</td>\n",
       "      <td>2285.000000</td>\n",
       "      <td>2285.000000</td>\n",
       "      <td>2285.000000</td>\n",
       "      <td>2285.000000</td>\n",
       "      <td>2285.000000</td>\n",
       "      <td>2285.000000</td>\n",
       "      <td>2285.000000</td>\n",
       "      <td>2285.000000</td>\n",
       "      <td>2285.000000</td>\n",
       "      <td>2285.000000</td>\n",
       "      <td>2285.000000</td>\n",
       "      <td>2285.000000</td>\n",
       "      <td>2285.000000</td>\n",
       "      <td>2285.000000</td>\n",
       "    </tr>\n",
       "    <tr>\n",
       "      <th>mean</th>\n",
       "      <td>1246.656455</td>\n",
       "      <td>9.164551</td>\n",
       "      <td>58.982057</td>\n",
       "      <td>421.387746</td>\n",
       "      <td>33.282713</td>\n",
       "      <td>16465.685182</td>\n",
       "      <td>16.573304</td>\n",
       "      <td>16971.063457</td>\n",
       "      <td>348.512035</td>\n",
       "      <td>20186.468271</td>\n",
       "      <td>1285.557987</td>\n",
       "      <td>35.711160</td>\n",
       "      <td>9.057330</td>\n",
       "      <td>0.023716</td>\n",
       "      <td>0.023716</td>\n",
       "      <td>63.651510</td>\n",
       "    </tr>\n",
       "    <tr>\n",
       "      <th>std</th>\n",
       "      <td>142.819865</td>\n",
       "      <td>2.496594</td>\n",
       "      <td>33.031577</td>\n",
       "      <td>240.658985</td>\n",
       "      <td>34.073009</td>\n",
       "      <td>8167.889475</td>\n",
       "      <td>8.004404</td>\n",
       "      <td>8196.509345</td>\n",
       "      <td>441.091992</td>\n",
       "      <td>7131.761056</td>\n",
       "      <td>1160.768401</td>\n",
       "      <td>23.215368</td>\n",
       "      <td>1.392922</td>\n",
       "      <td>0.009286</td>\n",
       "      <td>0.009286</td>\n",
       "      <td>46.525699</td>\n",
       "    </tr>\n",
       "    <tr>\n",
       "      <th>min</th>\n",
       "      <td>1000.000000</td>\n",
       "      <td>1.000000</td>\n",
       "      <td>0.000000</td>\n",
       "      <td>0.000000</td>\n",
       "      <td>0.000000</td>\n",
       "      <td>0.000000</td>\n",
       "      <td>0.000000</td>\n",
       "      <td>0.000000</td>\n",
       "      <td>50.000000</td>\n",
       "      <td>15360.000000</td>\n",
       "      <td>500.000000</td>\n",
       "      <td>20.000000</td>\n",
       "      <td>7.000000</td>\n",
       "      <td>0.010000</td>\n",
       "      <td>0.010000</td>\n",
       "      <td>20.000000</td>\n",
       "    </tr>\n",
       "    <tr>\n",
       "      <th>25%</th>\n",
       "      <td>1122.000000</td>\n",
       "      <td>8.000000</td>\n",
       "      <td>36.000000</td>\n",
       "      <td>255.000000</td>\n",
       "      <td>4.000000</td>\n",
       "      <td>11856.730000</td>\n",
       "      <td>12.000000</td>\n",
       "      <td>12288.000000</td>\n",
       "      <td>50.000000</td>\n",
       "      <td>15360.000000</td>\n",
       "      <td>500.000000</td>\n",
       "      <td>20.000000</td>\n",
       "      <td>7.000000</td>\n",
       "      <td>0.010000</td>\n",
       "      <td>0.010000</td>\n",
       "      <td>22.430000</td>\n",
       "    </tr>\n",
       "    <tr>\n",
       "      <th>50%</th>\n",
       "      <td>1245.000000</td>\n",
       "      <td>10.000000</td>\n",
       "      <td>59.000000</td>\n",
       "      <td>418.000000</td>\n",
       "      <td>26.000000</td>\n",
       "      <td>16689.730000</td>\n",
       "      <td>17.000000</td>\n",
       "      <td>17408.000000</td>\n",
       "      <td>50.000000</td>\n",
       "      <td>15360.000000</td>\n",
       "      <td>500.000000</td>\n",
       "      <td>20.000000</td>\n",
       "      <td>10.000000</td>\n",
       "      <td>0.030000</td>\n",
       "      <td>0.030000</td>\n",
       "      <td>70.000000</td>\n",
       "    </tr>\n",
       "    <tr>\n",
       "      <th>75%</th>\n",
       "      <td>1368.000000</td>\n",
       "      <td>11.000000</td>\n",
       "      <td>79.000000</td>\n",
       "      <td>566.000000</td>\n",
       "      <td>51.000000</td>\n",
       "      <td>20917.540000</td>\n",
       "      <td>21.000000</td>\n",
       "      <td>21504.000000</td>\n",
       "      <td>1000.000000</td>\n",
       "      <td>30720.000000</td>\n",
       "      <td>3000.000000</td>\n",
       "      <td>70.000000</td>\n",
       "      <td>10.000000</td>\n",
       "      <td>0.030000</td>\n",
       "      <td>0.030000</td>\n",
       "      <td>70.000000</td>\n",
       "    </tr>\n",
       "    <tr>\n",
       "      <th>max</th>\n",
       "      <td>1499.000000</td>\n",
       "      <td>12.000000</td>\n",
       "      <td>205.000000</td>\n",
       "      <td>1510.000000</td>\n",
       "      <td>266.000000</td>\n",
       "      <td>70931.590000</td>\n",
       "      <td>70.000000</td>\n",
       "      <td>71680.000000</td>\n",
       "      <td>1000.000000</td>\n",
       "      <td>30720.000000</td>\n",
       "      <td>3000.000000</td>\n",
       "      <td>70.000000</td>\n",
       "      <td>10.000000</td>\n",
       "      <td>0.030000</td>\n",
       "      <td>0.030000</td>\n",
       "      <td>590.370000</td>\n",
       "    </tr>\n",
       "  </tbody>\n",
       "</table>\n",
       "</div>"
      ],
      "text/plain": [
       "           user_id        month  total_calls  total_duration    total_txt  \\\n",
       "count  2285.000000  2285.000000  2285.000000     2285.000000  2285.000000   \n",
       "mean   1246.656455     9.164551    58.982057      421.387746    33.282713   \n",
       "std     142.819865     2.496594    33.031577      240.658985    34.073009   \n",
       "min    1000.000000     1.000000     0.000000        0.000000     0.000000   \n",
       "25%    1122.000000     8.000000    36.000000      255.000000     4.000000   \n",
       "50%    1245.000000    10.000000    59.000000      418.000000    26.000000   \n",
       "75%    1368.000000    11.000000    79.000000      566.000000    51.000000   \n",
       "max    1499.000000    12.000000   205.000000     1510.000000   266.000000   \n",
       "\n",
       "           total_mb     total_gb  total_mb_rounded  messages_included  \\\n",
       "count   2285.000000  2285.000000       2285.000000        2285.000000   \n",
       "mean   16465.685182    16.573304      16971.063457         348.512035   \n",
       "std     8167.889475     8.004404       8196.509345         441.091992   \n",
       "min        0.000000     0.000000          0.000000          50.000000   \n",
       "25%    11856.730000    12.000000      12288.000000          50.000000   \n",
       "50%    16689.730000    17.000000      17408.000000          50.000000   \n",
       "75%    20917.540000    21.000000      21504.000000        1000.000000   \n",
       "max    70931.590000    70.000000      71680.000000        1000.000000   \n",
       "\n",
       "       mb_per_month_included  minutes_included  usd_monthly_pay   usd_per_gb  \\\n",
       "count            2285.000000       2285.000000      2285.000000  2285.000000   \n",
       "mean            20186.468271       1285.557987        35.711160     9.057330   \n",
       "std              7131.761056       1160.768401        23.215368     1.392922   \n",
       "min             15360.000000        500.000000        20.000000     7.000000   \n",
       "25%             15360.000000        500.000000        20.000000     7.000000   \n",
       "50%             15360.000000        500.000000        20.000000    10.000000   \n",
       "75%             30720.000000       3000.000000        70.000000    10.000000   \n",
       "max             30720.000000       3000.000000        70.000000    10.000000   \n",
       "\n",
       "       usd_per_message  usd_per_minute   total_cost  \n",
       "count      2285.000000     2285.000000  2285.000000  \n",
       "mean          0.023716        0.023716    63.651510  \n",
       "std           0.009286        0.009286    46.525699  \n",
       "min           0.010000        0.010000    20.000000  \n",
       "25%           0.010000        0.010000    22.430000  \n",
       "50%           0.030000        0.030000    70.000000  \n",
       "75%           0.030000        0.030000    70.000000  \n",
       "max           0.030000        0.030000   590.370000  "
      ]
     },
     "execution_count": 70,
     "metadata": {},
     "output_type": "execute_result"
    }
   ],
   "source": [
    "users_monthly_use_plan.describe()"
   ]
  },
  {
   "cell_type": "markdown",
   "metadata": {},
   "source": [
    "## Analysing the data\n",
    "Calculated the mean use of each service by user.\n",
    "\n",
    "Ploted mean distribution histograms\n",
    "\n",
    "Showed the dispersion of the mean around the median with boxplot\n",
    "\n",
    "Calculated the mean use per month and showed it in bar graph\n",
    "\n",
    "Calculated the users' use standard deviation ditribution for each service and for the total cost"
   ]
  },
  {
   "cell_type": "code",
   "execution_count": 71,
   "metadata": {},
   "outputs": [],
   "source": [
    "# Let's slice the data to different variables according to the plan\n",
    "surf_data = users_monthly_use_plan.query('plan == \"surf\"')\n",
    "ultimate_data = users_monthly_use_plan.query('plan == \"ultimate\"')"
   ]
  },
  {
   "cell_type": "code",
   "execution_count": 72,
   "metadata": {},
   "outputs": [
    {
     "data": {
      "text/html": [
       "<div>\n",
       "<style scoped>\n",
       "    .dataframe tbody tr th:only-of-type {\n",
       "        vertical-align: middle;\n",
       "    }\n",
       "\n",
       "    .dataframe tbody tr th {\n",
       "        vertical-align: top;\n",
       "    }\n",
       "\n",
       "    .dataframe thead th {\n",
       "        text-align: right;\n",
       "    }\n",
       "</style>\n",
       "<table border=\"1\" class=\"dataframe\">\n",
       "  <thead>\n",
       "    <tr style=\"text-align: right;\">\n",
       "      <th></th>\n",
       "      <th>user_id</th>\n",
       "      <th>month</th>\n",
       "      <th>total_calls</th>\n",
       "      <th>total_duration</th>\n",
       "      <th>total_txt</th>\n",
       "      <th>total_mb</th>\n",
       "      <th>total_gb</th>\n",
       "      <th>total_mb_rounded</th>\n",
       "      <th>city</th>\n",
       "      <th>plan</th>\n",
       "      <th>reg_date</th>\n",
       "      <th>churn_date</th>\n",
       "      <th>messages_included</th>\n",
       "      <th>mb_per_month_included</th>\n",
       "      <th>minutes_included</th>\n",
       "      <th>usd_monthly_pay</th>\n",
       "      <th>usd_per_gb</th>\n",
       "      <th>usd_per_message</th>\n",
       "      <th>usd_per_minute</th>\n",
       "      <th>total_cost</th>\n",
       "    </tr>\n",
       "  </thead>\n",
       "  <tbody>\n",
       "    <tr>\n",
       "      <th>718</th>\n",
       "      <td>1001</td>\n",
       "      <td>8</td>\n",
       "      <td>27.0</td>\n",
       "      <td>182.0</td>\n",
       "      <td>30.0</td>\n",
       "      <td>6919.15</td>\n",
       "      <td>7.0</td>\n",
       "      <td>7168.0</td>\n",
       "      <td>Seattle-Tacoma-Bellevue, WA MSA</td>\n",
       "      <td>surf</td>\n",
       "      <td>2018-08-13</td>\n",
       "      <td>2018-12-31</td>\n",
       "      <td>50</td>\n",
       "      <td>15360</td>\n",
       "      <td>500</td>\n",
       "      <td>20</td>\n",
       "      <td>10</td>\n",
       "      <td>0.03</td>\n",
       "      <td>0.03</td>\n",
       "      <td>20.00</td>\n",
       "    </tr>\n",
       "    <tr>\n",
       "      <th>719</th>\n",
       "      <td>1001</td>\n",
       "      <td>9</td>\n",
       "      <td>49.0</td>\n",
       "      <td>315.0</td>\n",
       "      <td>44.0</td>\n",
       "      <td>13314.82</td>\n",
       "      <td>14.0</td>\n",
       "      <td>14336.0</td>\n",
       "      <td>Seattle-Tacoma-Bellevue, WA MSA</td>\n",
       "      <td>surf</td>\n",
       "      <td>2018-08-13</td>\n",
       "      <td>2018-12-31</td>\n",
       "      <td>50</td>\n",
       "      <td>15360</td>\n",
       "      <td>500</td>\n",
       "      <td>20</td>\n",
       "      <td>10</td>\n",
       "      <td>0.03</td>\n",
       "      <td>0.03</td>\n",
       "      <td>20.00</td>\n",
       "    </tr>\n",
       "    <tr>\n",
       "      <th>720</th>\n",
       "      <td>1001</td>\n",
       "      <td>10</td>\n",
       "      <td>65.0</td>\n",
       "      <td>393.0</td>\n",
       "      <td>53.0</td>\n",
       "      <td>22330.49</td>\n",
       "      <td>22.0</td>\n",
       "      <td>22528.0</td>\n",
       "      <td>Seattle-Tacoma-Bellevue, WA MSA</td>\n",
       "      <td>surf</td>\n",
       "      <td>2018-08-13</td>\n",
       "      <td>2018-12-31</td>\n",
       "      <td>50</td>\n",
       "      <td>15360</td>\n",
       "      <td>500</td>\n",
       "      <td>20</td>\n",
       "      <td>10</td>\n",
       "      <td>0.03</td>\n",
       "      <td>0.03</td>\n",
       "      <td>90.09</td>\n",
       "    </tr>\n",
       "    <tr>\n",
       "      <th>721</th>\n",
       "      <td>1001</td>\n",
       "      <td>11</td>\n",
       "      <td>64.0</td>\n",
       "      <td>426.0</td>\n",
       "      <td>36.0</td>\n",
       "      <td>18504.30</td>\n",
       "      <td>19.0</td>\n",
       "      <td>19456.0</td>\n",
       "      <td>Seattle-Tacoma-Bellevue, WA MSA</td>\n",
       "      <td>surf</td>\n",
       "      <td>2018-08-13</td>\n",
       "      <td>2018-12-31</td>\n",
       "      <td>50</td>\n",
       "      <td>15360</td>\n",
       "      <td>500</td>\n",
       "      <td>20</td>\n",
       "      <td>10</td>\n",
       "      <td>0.03</td>\n",
       "      <td>0.03</td>\n",
       "      <td>60.00</td>\n",
       "    </tr>\n",
       "    <tr>\n",
       "      <th>722</th>\n",
       "      <td>1001</td>\n",
       "      <td>12</td>\n",
       "      <td>56.0</td>\n",
       "      <td>412.0</td>\n",
       "      <td>44.0</td>\n",
       "      <td>19369.18</td>\n",
       "      <td>19.0</td>\n",
       "      <td>19456.0</td>\n",
       "      <td>Seattle-Tacoma-Bellevue, WA MSA</td>\n",
       "      <td>surf</td>\n",
       "      <td>2018-08-13</td>\n",
       "      <td>2018-12-31</td>\n",
       "      <td>50</td>\n",
       "      <td>15360</td>\n",
       "      <td>500</td>\n",
       "      <td>20</td>\n",
       "      <td>10</td>\n",
       "      <td>0.03</td>\n",
       "      <td>0.03</td>\n",
       "      <td>60.00</td>\n",
       "    </tr>\n",
       "  </tbody>\n",
       "</table>\n",
       "</div>"
      ],
      "text/plain": [
       "     user_id  month  total_calls  total_duration  total_txt  total_mb  \\\n",
       "718     1001      8         27.0           182.0       30.0   6919.15   \n",
       "719     1001      9         49.0           315.0       44.0  13314.82   \n",
       "720     1001     10         65.0           393.0       53.0  22330.49   \n",
       "721     1001     11         64.0           426.0       36.0  18504.30   \n",
       "722     1001     12         56.0           412.0       44.0  19369.18   \n",
       "\n",
       "     total_gb  total_mb_rounded                             city  plan  \\\n",
       "718       7.0            7168.0  Seattle-Tacoma-Bellevue, WA MSA  surf   \n",
       "719      14.0           14336.0  Seattle-Tacoma-Bellevue, WA MSA  surf   \n",
       "720      22.0           22528.0  Seattle-Tacoma-Bellevue, WA MSA  surf   \n",
       "721      19.0           19456.0  Seattle-Tacoma-Bellevue, WA MSA  surf   \n",
       "722      19.0           19456.0  Seattle-Tacoma-Bellevue, WA MSA  surf   \n",
       "\n",
       "      reg_date churn_date  messages_included  mb_per_month_included  \\\n",
       "718 2018-08-13 2018-12-31                 50                  15360   \n",
       "719 2018-08-13 2018-12-31                 50                  15360   \n",
       "720 2018-08-13 2018-12-31                 50                  15360   \n",
       "721 2018-08-13 2018-12-31                 50                  15360   \n",
       "722 2018-08-13 2018-12-31                 50                  15360   \n",
       "\n",
       "     minutes_included  usd_monthly_pay  usd_per_gb  usd_per_message  \\\n",
       "718               500               20          10             0.03   \n",
       "719               500               20          10             0.03   \n",
       "720               500               20          10             0.03   \n",
       "721               500               20          10             0.03   \n",
       "722               500               20          10             0.03   \n",
       "\n",
       "     usd_per_minute  total_cost  \n",
       "718            0.03       20.00  \n",
       "719            0.03       20.00  \n",
       "720            0.03       90.09  \n",
       "721            0.03       60.00  \n",
       "722            0.03       60.00  "
      ]
     },
     "execution_count": 72,
     "metadata": {},
     "output_type": "execute_result"
    }
   ],
   "source": [
    "surf_data.describe()\n",
    "surf_data.head()"
   ]
  },
  {
   "cell_type": "code",
   "execution_count": 73,
   "metadata": {},
   "outputs": [
    {
     "data": {
      "text/html": [
       "<div>\n",
       "<style scoped>\n",
       "    .dataframe tbody tr th:only-of-type {\n",
       "        vertical-align: middle;\n",
       "    }\n",
       "\n",
       "    .dataframe tbody tr th {\n",
       "        vertical-align: top;\n",
       "    }\n",
       "\n",
       "    .dataframe thead th {\n",
       "        text-align: right;\n",
       "    }\n",
       "</style>\n",
       "<table border=\"1\" class=\"dataframe\">\n",
       "  <thead>\n",
       "    <tr style=\"text-align: right;\">\n",
       "      <th></th>\n",
       "      <th>user_id</th>\n",
       "      <th>month</th>\n",
       "      <th>total_calls</th>\n",
       "      <th>total_duration</th>\n",
       "      <th>total_txt</th>\n",
       "      <th>total_mb</th>\n",
       "      <th>total_gb</th>\n",
       "      <th>total_mb_rounded</th>\n",
       "      <th>messages_included</th>\n",
       "      <th>mb_per_month_included</th>\n",
       "      <th>minutes_included</th>\n",
       "      <th>usd_monthly_pay</th>\n",
       "      <th>usd_per_gb</th>\n",
       "      <th>usd_per_message</th>\n",
       "      <th>usd_per_minute</th>\n",
       "      <th>total_cost</th>\n",
       "    </tr>\n",
       "  </thead>\n",
       "  <tbody>\n",
       "    <tr>\n",
       "      <th>count</th>\n",
       "      <td>718.000000</td>\n",
       "      <td>718.000000</td>\n",
       "      <td>718.000000</td>\n",
       "      <td>718.000000</td>\n",
       "      <td>718.000000</td>\n",
       "      <td>718.000000</td>\n",
       "      <td>718.000000</td>\n",
       "      <td>718.000000</td>\n",
       "      <td>718.0</td>\n",
       "      <td>718.0</td>\n",
       "      <td>718.0</td>\n",
       "      <td>718.0</td>\n",
       "      <td>718.0</td>\n",
       "      <td>7.180000e+02</td>\n",
       "      <td>7.180000e+02</td>\n",
       "      <td>718.000000</td>\n",
       "    </tr>\n",
       "    <tr>\n",
       "      <th>mean</th>\n",
       "      <td>1253.896936</td>\n",
       "      <td>9.144847</td>\n",
       "      <td>59.577994</td>\n",
       "      <td>423.015320</td>\n",
       "      <td>37.655989</td>\n",
       "      <td>16921.973914</td>\n",
       "      <td>17.015320</td>\n",
       "      <td>17423.688022</td>\n",
       "      <td>1000.0</td>\n",
       "      <td>30720.0</td>\n",
       "      <td>3000.0</td>\n",
       "      <td>70.0</td>\n",
       "      <td>7.0</td>\n",
       "      <td>1.000000e-02</td>\n",
       "      <td>1.000000e-02</td>\n",
       "      <td>72.300836</td>\n",
       "    </tr>\n",
       "    <tr>\n",
       "      <th>std</th>\n",
       "      <td>150.742886</td>\n",
       "      <td>2.558911</td>\n",
       "      <td>33.938108</td>\n",
       "      <td>245.279281</td>\n",
       "      <td>34.758943</td>\n",
       "      <td>8106.537871</td>\n",
       "      <td>7.933548</td>\n",
       "      <td>8123.953390</td>\n",
       "      <td>0.0</td>\n",
       "      <td>0.0</td>\n",
       "      <td>0.0</td>\n",
       "      <td>0.0</td>\n",
       "      <td>0.0</td>\n",
       "      <td>1.510262e-16</td>\n",
       "      <td>1.510262e-16</td>\n",
       "      <td>11.402306</td>\n",
       "    </tr>\n",
       "    <tr>\n",
       "      <th>min</th>\n",
       "      <td>1000.000000</td>\n",
       "      <td>1.000000</td>\n",
       "      <td>0.000000</td>\n",
       "      <td>0.000000</td>\n",
       "      <td>0.000000</td>\n",
       "      <td>0.000000</td>\n",
       "      <td>0.000000</td>\n",
       "      <td>0.000000</td>\n",
       "      <td>1000.0</td>\n",
       "      <td>30720.0</td>\n",
       "      <td>3000.0</td>\n",
       "      <td>70.0</td>\n",
       "      <td>7.0</td>\n",
       "      <td>1.000000e-02</td>\n",
       "      <td>1.000000e-02</td>\n",
       "      <td>70.000000</td>\n",
       "    </tr>\n",
       "    <tr>\n",
       "      <th>25%</th>\n",
       "      <td>1126.500000</td>\n",
       "      <td>8.000000</td>\n",
       "      <td>35.000000</td>\n",
       "      <td>248.250000</td>\n",
       "      <td>7.000000</td>\n",
       "      <td>12454.315000</td>\n",
       "      <td>13.000000</td>\n",
       "      <td>13312.000000</td>\n",
       "      <td>1000.0</td>\n",
       "      <td>30720.0</td>\n",
       "      <td>3000.0</td>\n",
       "      <td>70.0</td>\n",
       "      <td>7.0</td>\n",
       "      <td>1.000000e-02</td>\n",
       "      <td>1.000000e-02</td>\n",
       "      <td>70.000000</td>\n",
       "    </tr>\n",
       "    <tr>\n",
       "      <th>50%</th>\n",
       "      <td>1246.000000</td>\n",
       "      <td>10.000000</td>\n",
       "      <td>61.000000</td>\n",
       "      <td>421.000000</td>\n",
       "      <td>30.000000</td>\n",
       "      <td>16724.625000</td>\n",
       "      <td>17.000000</td>\n",
       "      <td>17408.000000</td>\n",
       "      <td>1000.0</td>\n",
       "      <td>30720.0</td>\n",
       "      <td>3000.0</td>\n",
       "      <td>70.0</td>\n",
       "      <td>7.0</td>\n",
       "      <td>1.000000e-02</td>\n",
       "      <td>1.000000e-02</td>\n",
       "      <td>70.000000</td>\n",
       "    </tr>\n",
       "    <tr>\n",
       "      <th>75%</th>\n",
       "      <td>1401.000000</td>\n",
       "      <td>11.000000</td>\n",
       "      <td>79.000000</td>\n",
       "      <td>563.000000</td>\n",
       "      <td>61.000000</td>\n",
       "      <td>20938.127500</td>\n",
       "      <td>21.000000</td>\n",
       "      <td>21504.000000</td>\n",
       "      <td>1000.0</td>\n",
       "      <td>30720.0</td>\n",
       "      <td>3000.0</td>\n",
       "      <td>70.0</td>\n",
       "      <td>7.0</td>\n",
       "      <td>1.000000e-02</td>\n",
       "      <td>1.000000e-02</td>\n",
       "      <td>70.000000</td>\n",
       "    </tr>\n",
       "    <tr>\n",
       "      <th>max</th>\n",
       "      <td>1497.000000</td>\n",
       "      <td>12.000000</td>\n",
       "      <td>191.000000</td>\n",
       "      <td>1369.000000</td>\n",
       "      <td>166.000000</td>\n",
       "      <td>46595.330000</td>\n",
       "      <td>46.000000</td>\n",
       "      <td>47104.000000</td>\n",
       "      <td>1000.0</td>\n",
       "      <td>30720.0</td>\n",
       "      <td>3000.0</td>\n",
       "      <td>70.0</td>\n",
       "      <td>7.0</td>\n",
       "      <td>1.000000e-02</td>\n",
       "      <td>1.000000e-02</td>\n",
       "      <td>182.000000</td>\n",
       "    </tr>\n",
       "  </tbody>\n",
       "</table>\n",
       "</div>"
      ],
      "text/plain": [
       "           user_id       month  total_calls  total_duration   total_txt  \\\n",
       "count   718.000000  718.000000   718.000000      718.000000  718.000000   \n",
       "mean   1253.896936    9.144847    59.577994      423.015320   37.655989   \n",
       "std     150.742886    2.558911    33.938108      245.279281   34.758943   \n",
       "min    1000.000000    1.000000     0.000000        0.000000    0.000000   \n",
       "25%    1126.500000    8.000000    35.000000      248.250000    7.000000   \n",
       "50%    1246.000000   10.000000    61.000000      421.000000   30.000000   \n",
       "75%    1401.000000   11.000000    79.000000      563.000000   61.000000   \n",
       "max    1497.000000   12.000000   191.000000     1369.000000  166.000000   \n",
       "\n",
       "           total_mb    total_gb  total_mb_rounded  messages_included  \\\n",
       "count    718.000000  718.000000        718.000000              718.0   \n",
       "mean   16921.973914   17.015320      17423.688022             1000.0   \n",
       "std     8106.537871    7.933548       8123.953390                0.0   \n",
       "min        0.000000    0.000000          0.000000             1000.0   \n",
       "25%    12454.315000   13.000000      13312.000000             1000.0   \n",
       "50%    16724.625000   17.000000      17408.000000             1000.0   \n",
       "75%    20938.127500   21.000000      21504.000000             1000.0   \n",
       "max    46595.330000   46.000000      47104.000000             1000.0   \n",
       "\n",
       "       mb_per_month_included  minutes_included  usd_monthly_pay  usd_per_gb  \\\n",
       "count                  718.0             718.0            718.0       718.0   \n",
       "mean                 30720.0            3000.0             70.0         7.0   \n",
       "std                      0.0               0.0              0.0         0.0   \n",
       "min                  30720.0            3000.0             70.0         7.0   \n",
       "25%                  30720.0            3000.0             70.0         7.0   \n",
       "50%                  30720.0            3000.0             70.0         7.0   \n",
       "75%                  30720.0            3000.0             70.0         7.0   \n",
       "max                  30720.0            3000.0             70.0         7.0   \n",
       "\n",
       "       usd_per_message  usd_per_minute  total_cost  \n",
       "count     7.180000e+02    7.180000e+02  718.000000  \n",
       "mean      1.000000e-02    1.000000e-02   72.300836  \n",
       "std       1.510262e-16    1.510262e-16   11.402306  \n",
       "min       1.000000e-02    1.000000e-02   70.000000  \n",
       "25%       1.000000e-02    1.000000e-02   70.000000  \n",
       "50%       1.000000e-02    1.000000e-02   70.000000  \n",
       "75%       1.000000e-02    1.000000e-02   70.000000  \n",
       "max       1.000000e-02    1.000000e-02  182.000000  "
      ]
     },
     "execution_count": 73,
     "metadata": {},
     "output_type": "execute_result"
    }
   ],
   "source": [
    "ultimate_data.describe()"
   ]
  },
  {
   "cell_type": "markdown",
   "metadata": {},
   "source": [
    "### Means analysis\n",
    "#### Users' mean monthly use histograms"
   ]
  },
  {
   "cell_type": "code",
   "execution_count": 74,
   "metadata": {},
   "outputs": [],
   "source": [
    "#Aggregate minutes (call duration) mean by user\n",
    "uc = ultimate_data.pivot_table(index = 'user_id', values='total_duration',aggfunc='mean')\n",
    "sc = surf_data.pivot_table(index = 'user_id', values='total_duration',aggfunc='mean')\n",
    "\n",
    "#Aggregate text messages mean by user\n",
    "ut = ultimate_data.pivot_table(index = 'user_id', values='total_txt',aggfunc='mean')\n",
    "st = surf_data.pivot_table(index = 'user_id', values='total_txt',aggfunc='mean')\n",
    "\n",
    "#Aggregate data mb used mean by user\n",
    "ud = ultimate_data.pivot_table(index = 'user_id', values='total_mb_rounded',aggfunc='mean')\n",
    "sd = surf_data.pivot_table(index = 'user_id', values='total_mb_rounded',aggfunc='mean')\n",
    "\n",
    "#Aggregate total_cost mean by user\n",
    "utc = ultimate_data.pivot_table(index = 'user_id', values='total_cost',aggfunc='mean')\n",
    "stc = surf_data.pivot_table(index = 'user_id', values='total_cost',aggfunc='mean')"
   ]
  },
  {
   "cell_type": "code",
   "execution_count": 75,
   "metadata": {},
   "outputs": [
    {
     "data": {
      "image/png": "[encoded data removed]",
      "text/plain": [
       "<Figure size 720x720 with 4 Axes>"
      ]
     },
     "metadata": {
      "needs_background": "light"
     },
     "output_type": "display_data"
    }
   ],
   "source": [
    "#### Plot the histograms in 2X2 subplot figure\n",
    "fig, axarr = plt.subplots(2, 2,figsize=(10,10))\n",
    "fig.suptitle(\"Average Use Per Service Distribution, By Plan\", fontsize=16)\n",
    "\n",
    "# Minutes graph\n",
    "bins = np.linspace(0, 1200, 30)\n",
    "axarr[0, 0].hist(uc.values, bins, alpha=0.5, label='ultimate; mean = {0}'.format(round(np.mean(uc),2)))\n",
    "axarr[0, 0].hist(sc.values, bins, alpha=0.5, label='surf; mean = {0}'.format(round(np.mean(sc),2)))\n",
    "axarr[0, 0].set_title('Users average calls duration')\n",
    "axarr[0, 0].legend(loc='upper right')\n",
    "\n",
    "# Messages graph 0-166\n",
    "bins = np.linspace(0, 200, 20)\n",
    "axarr[0, 1].hist(ut.values, bins, alpha=0.5, label='ultimate; mean = {0}'.format(round(np.mean(ut),2)))\n",
    "axarr[0, 1].hist(st.values, bins, alpha=0.5, label='surf; mean = {0}'.format(round(np.mean(st),2)))\n",
    "axarr[0, 1].set_title('Users average messages count')\n",
    "axarr[0, 1].legend(loc='upper right')\n",
    "\n",
    "# Internet graph   0-50000 \n",
    "bins = np.linspace(0, 50000, 25)\n",
    "axarr[1, 0].hist(ud.values, bins, alpha=0.5, label='ultimate; mean = {0}'.format(round(np.mean(ud),2)))\n",
    "axarr[1, 0].hist(sd.values, bins, alpha=0.5, label='surf; mean = {0}'.format(round(np.mean(sd),2)))\n",
    "axarr[1, 0].set_title('Users average mb used')\n",
    "axarr[1, 0].legend(loc='upper right')\n",
    "\n",
    "# Total cost graph 0-180\n",
    "bins = np.linspace(0, 200, 20)\n",
    "axarr[1, 1].hist(utc.values, bins, alpha=0.5, label='ultimate; mean = {0}'.format(round(np.mean(utc),2)))\n",
    "axarr[1, 1].hist(stc.values, bins, alpha=0.5, label='surf; mean = {0}'.format(round(np.mean(stc),2)))\n",
    "axarr[1, 1].set_title('Users average cost')\n",
    "axarr[1, 1].legend(loc='upper right');\n",
    "\n",
    "fig.tight_layout()\n",
    "fig.subplots_adjust(top=0.88)"
   ]
  },
  {
   "cell_type": "markdown",
   "metadata": {},
   "source": [
    "#### Users' mean monthly use boxplot"
   ]
  },
  {
   "cell_type": "code",
   "execution_count": 76,
   "metadata": {},
   "outputs": [
    {
     "data": {
      "image/png": "[encoded data removed]",
      "text/plain": [
       "<Figure size 864x1080 with 4 Axes>"
      ]
     },
     "metadata": {
      "needs_background": "light"
     },
     "output_type": "display_data"
    }
   ],
   "source": [
    "# Using boxplot graph, we can observe the dispertion of the variable around the median\n",
    "fig, axes = plt.subplots(2, 2, figsize=(12, 15))\n",
    "  \n",
    "fig.suptitle('Average Use Per Service and Total Cost By Plan', fontsize=16)\n",
    "  \n",
    "sns.boxplot(ax=axes[0, 0], data=users_monthly_use_plan, x='plan', y='total_duration').set_title('Average calls duration')\n",
    "sns.boxplot(ax=axes[0, 1], data=users_monthly_use_plan, x='plan', y='total_txt').set_title('Average messages count')\n",
    "\n",
    "sns.boxplot(ax=axes[1, 0], data=users_monthly_use_plan, x='plan', y='total_mb_rounded').set_title('Average mb used')\n",
    "sns.boxplot(ax=axes[1, 1], data=users_monthly_use_plan, x='plan', y='total_cost').set_title(\"Users' average cost\");"
   ]
  },
  {
   "cell_type": "markdown",
   "metadata": {},
   "source": [
    "#### Monthly mean use per service graph"
   ]
  },
  {
   "cell_type": "code",
   "execution_count": 77,
   "metadata": {},
   "outputs": [],
   "source": [
    "#Creating two pivot tables aggregating mean call duration by month (per plan)\n",
    "umc = ultimate_data.pivot_table(index = 'month', values='total_duration',aggfunc='mean')\n",
    "smc = surf_data.pivot_table(index = 'month', values='total_duration',aggfunc='mean')\n",
    "\n",
    "#Creating two pivot tables aggregating mean messages by month (per plan)\n",
    "umt = ultimate_data.pivot_table(index = 'month', values='total_txt',aggfunc='mean')\n",
    "smt = surf_data.pivot_table(index = 'month', values='total_txt',aggfunc='mean')\n",
    "\n",
    "#Creating two pivot tables aggregating mean mb use by month (per plan)\n",
    "umd = ultimate_data.pivot_table(index = 'month', values='total_mb_rounded',aggfunc='mean')\n",
    "smd = surf_data.pivot_table(index = 'month', values='total_mb_rounded',aggfunc='mean')\n",
    "\n",
    "#Creating two pivot tables aggregating mean total cost by month (per plan)\n",
    "umtc = ultimate_data.pivot_table(index = 'month', values='total_cost',aggfunc='mean')\n",
    "smtc = surf_data.pivot_table(index = 'month', values='total_cost',aggfunc='mean')"
   ]
  },
  {
   "cell_type": "code",
   "execution_count": 78,
   "metadata": {},
   "outputs": [
    {
     "data": {
      "image/png": "[encoded data removed]",
      "text/plain": [
       "<Figure size 720x720 with 4 Axes>"
      ]
     },
     "metadata": {
      "needs_background": "light"
     },
     "output_type": "display_data"
    }
   ],
   "source": [
    "#### Plot the histograms in 2X2 subplot figure\n",
    "fig, axarr = plt.subplots(2, 2,figsize=(10,10))\n",
    "fig.suptitle(\"Average Use of Services Per Month Distribution, By Plan\", fontsize=16)\n",
    "\n",
    "X_axis = np.arange(12)+1\n",
    "width = 0.3\n",
    "\n",
    "# Minutes graph\n",
    "\n",
    "axarr[0, 0].bar(X_axis, umc['total_duration'], width, alpha=0.5, label='ultimate')\n",
    "axarr[0, 0].bar(X_axis+width, smc['total_duration'], width, alpha=0.5, label='surf')\n",
    "axarr[0, 0].set_title('Monthly average calls duration')\n",
    "axarr[0, 0].legend(loc='upper left')\n",
    "plt.xticks(X_axis)\n",
    "\n",
    "# Messages graph \n",
    "axarr[0, 1].bar(X_axis, umt['total_txt'], width, alpha=0.5, label='ultimate')\n",
    "axarr[0, 1].bar(X_axis+width, smt['total_txt'], width, alpha=0.5, label='surf')\n",
    "axarr[0, 1].set_title('Monthly average messages count')\n",
    "axarr[0, 1].legend(loc='upper left')\n",
    "plt.xticks(X_axis)\n",
    "\n",
    "# Internet graph  \n",
    "axarr[1, 0].bar(X_axis, umd['total_mb_rounded'], width, alpha=0.5, label='ultimate')\n",
    "axarr[1, 0].bar(X_axis+width, smd['total_mb_rounded'], width, alpha=0.5, label='surf')\n",
    "axarr[1, 0].set_title('Monthly average mb used')\n",
    "axarr[1, 0].legend(loc='upper left')\n",
    "plt.xticks(X_axis)\n",
    "\n",
    "# Total cost graph \n",
    "axarr[1, 1].bar(X_axis, umtc['total_cost'], width, alpha=0.5, label='ultimate')\n",
    "axarr[1, 1].bar(X_axis+width, smtc['total_cost'], width, alpha=0.5, label='surf')\n",
    "axarr[1, 1].set_title('Monthly average cost')\n",
    "axarr[1, 1].legend(loc='upper left')\n",
    "plt.xticks(X_axis);\n",
    "\n",
    "fig.tight_layout()\n",
    "fig.subplots_adjust(top=0.88)"
   ]
  },
  {
   "cell_type": "markdown",
   "metadata": {},
   "source": [
    "#### Variance analysis"
   ]
  },
  {
   "cell_type": "code",
   "execution_count": 79,
   "metadata": {},
   "outputs": [
    {
     "data": {
      "image/png": "[encoded data removed]",
      "text/plain": [
       "<Figure size 864x864 with 4 Axes>"
      ]
     },
     "metadata": {
      "needs_background": "light"
     },
     "output_type": "display_data"
    }
   ],
   "source": [
    "#Aggregate minutes (call duration) std by user\n",
    "\n",
    "#### Plot the histograms in 2X2 subplot figure\n",
    "fig, axarr = plt.subplots(2, 2,figsize=(12,12))\n",
    "fig.suptitle(\"Users' Variance of Use Per Service Distribution, By Plan (std)\", fontsize=16)\n",
    "\n",
    "# Minutes graph\n",
    "uc = ultimate_data.pivot_table(index = 'user_id', values='total_duration',aggfunc='std')\n",
    "sc = surf_data.pivot_table(index = 'user_id', values='total_duration',aggfunc='std')\n",
    "bins = np.linspace(0, 1000, 30)\n",
    "axarr[0, 0].hist(uc.values, bins, alpha=0.5, label='ultimate')\n",
    "axarr[0, 0].hist(sc.values, bins, alpha=0.5, label='surf')\n",
    "axarr[0, 0].set_title('Users std of calls duration')\n",
    "axarr[0, 0].legend(loc='upper right');\n",
    "\n",
    "# Messages graph\n",
    "ut = ultimate_data.pivot_table(index = 'user_id', values='total_txt',aggfunc='std')\n",
    "st = surf_data.pivot_table(index = 'user_id', values='total_txt',aggfunc='std')\n",
    "bins = np.linspace(0, 100, 30)\n",
    "axarr[0, 1].hist(ut.values, bins, alpha=0.5, label='ultimate')\n",
    "axarr[0, 1].hist(st.values, bins, alpha=0.5, label='surf')\n",
    "axarr[0, 1].set_title('Users std of messages count')\n",
    "axarr[0, 1].legend(loc='upper right');\n",
    "\n",
    "# Internet graph\n",
    "ud = ultimate_data.pivot_table(index = 'user_id', values='total_mb_rounded',aggfunc='std')\n",
    "sd = surf_data.pivot_table(index = 'user_id', values='total_mb_rounded',aggfunc='std')\n",
    "bins = np.linspace(0, 50000, 30)\n",
    "axarr[1, 0].hist(ud.values, bins, alpha=0.5, label='ultimate')\n",
    "axarr[1, 0].hist(sd.values, bins, alpha=0.5, label='surf')\n",
    "axarr[1, 0].set_title('Users std of internet use')\n",
    "axarr[1, 0].legend(loc='upper right');\n",
    "\n",
    "\n",
    "#Total_cost graph\n",
    "utc = ultimate_data.pivot_table(index = 'user_id', values='total_cost',aggfunc='std')\n",
    "stc = surf_data.pivot_table(index = 'user_id', values='total_cost',aggfunc='std')\n",
    "bins = np.linspace(0, 200, 30)\n",
    "axarr[1, 1].hist(utc.values, bins, alpha=0.5, label='ultimate')\n",
    "axarr[1, 1].hist(stc.values, bins, alpha=0.5, label='surf')\n",
    "axarr[1, 1].set_title('Users std of total cost')\n",
    "axarr[1, 1].legend(loc='upper right');\n",
    "\n",
    "fig.tight_layout()\n",
    "fig.subplots_adjust(top=0.88)"
   ]
  },
  {
   "cell_type": "code",
   "execution_count": 80,
   "metadata": {},
   "outputs": [
    {
     "name": "stdout",
     "output_type": "stream",
     "text": [
      "Ultimate plan mean monthly revenue variance: total_cost    64.608113\n",
      "dtype: float64\n",
      "Surf plan mean monthly revenue variance: total_cost    1631.598535\n",
      "dtype: float64\n"
     ]
    }
   ],
   "source": [
    "# Calculating each plan variance of mean monthly revenue\n",
    "print('Ultimate plan mean monthly revenue variance: {}'.format(np.var(utc)));\n",
    "\n",
    "print('Surf plan mean monthly revenue variance: {}'.format(np.var(stc)));"
   ]
  },
  {
   "cell_type": "markdown",
   "metadata": {},
   "source": [
    "### Conclusions:\n",
    "#### Means\n",
    "Calls - both plan have normal distributions. the means are also very close (around 399 minutes). the number of users gets lower as the mean use gets low or high from the average.\n",
    "Messages - both plans have positive skewed distribution, which means that most of the users consume small number of text messages, and the number of users gets down as the use gets up.\n",
    "The mean messages count is 32 for surf plan and 38 for ultimate\n",
    "Internet - The distributions are normal and the mean mb used is also very close between the two plans, around 16,000\n",
    "Total cost - here we observe a significant difference. surf plan has positive skewed distribution with mean of 57$, which mean that most of the users pay the basic monthly pay + small addition, and some users that use much more then the basic, pull the mean up to 57.\n",
    "The story is different with ultimate plan, where there is almost no dispersion: most of the users pay only the basic payment. the mean is 72.\n",
    "\n",
    "#### Monthly mean\n",
    "We can see a trend of growth of use over the months, in calls, messages and internet use. there is a big jump between january and february, and then more gradual growth. the same trend is observed in surf plan total cost. the total cost of ultimate plan is quite stable over the year.\n",
    "\n",
    "#### Variance\n",
    "Calls - The variance show normal distribution. the meaning is that some of the users have static behaviour in consuming of calls, and some are not. the mean variance is around 100 std.\n",
    "Messages - positive skew distribution. most of the users have constant behavior.\n",
    "Internet - Normal distribution, with long positive tail. which means that some of the users have constant behaviour, and others internet comsumption changes very much.\n",
    "Total cost - Like with the mean, the surf plan users show normal distribution of the costs, that are changes according to the use. the ultimate plan total cost variance is very small. "
   ]
  },
  {
   "cell_type": "markdown",
   "metadata": {},
   "source": [
    "## Testing the hypotheses"
   ]
  },
  {
   "cell_type": "markdown",
   "metadata": {},
   "source": [
    "### Hypothesis: The average revenue from users of Ultimate and Surf calling plans differs\n",
    "\n",
    "Ho: The average profit of Ultimate equals the average profit of Surf\n",
    "\n",
    "Ho: 𝜇_1=𝜇_2\n",
    "\n",
    "H1: 𝜇_1!=𝜇_2"
   ]
  },
  {
   "cell_type": "code",
   "execution_count": 81,
   "metadata": {},
   "outputs": [
    {
     "name": "stdout",
     "output_type": "stream",
     "text": [
      "p= 9.040007488271299e-10\n",
      "We reject the null hypothesis\n"
     ]
    }
   ],
   "source": [
    "# In order to determine if the samples have the same variance we will run levene test\n",
    "# Nevertheless, from the graphs we can see that the variances are different\n",
    "from scipy.stats import levene\n",
    "\n",
    "#Ho: σ_1=σ_2\n",
    "\n",
    "#H1: σ_1!=σ_2\n",
    "    \n",
    "alpha = 0.05  # critical statistical significance level\n",
    "\n",
    "stat, p = levene(utc['total_cost'], stc['total_cost'], center='mean')\n",
    "print('p=', p)\n",
    "\n",
    "if p < alpha:\n",
    "    print(\"We reject the null hypothesis\")\n",
    "else:\n",
    "    print(\"We can't reject the null hypothesis\")"
   ]
  },
  {
   "cell_type": "code",
   "execution_count": 82,
   "metadata": {},
   "outputs": [
    {
     "name": "stdout",
     "output_type": "stream",
     "text": [
      "p-value:  [1.43852724e-29]\n",
      "We reject the null hypothesis\n"
     ]
    }
   ],
   "source": [
    "# For testing the hypothesis we will run ttest (comparing means with unknown variance) for 2 independent samples \n",
    "# The assumption on the equality of the samples variance was rejected\n",
    "# so we add the parameter equal_var = False\n",
    "from scipy import stats as st\n",
    "import numpy as np\n",
    "\n",
    "alpha = 0.05  # critical statistical significance level\n",
    "\n",
    "# if the p-value is less than alpha, we reject the hypothesis\n",
    "results = st.ttest_ind(utc, stc,equal_var = False)\n",
    "\n",
    "print('p-value: ', results.pvalue)\n",
    "\n",
    "if results.pvalue < alpha:\n",
    "    print(\"We reject the null hypothesis\")\n",
    "else:\n",
    "    print(\"We can't reject the null hypothesis\")"
   ]
  },
  {
   "cell_type": "markdown",
   "metadata": {},
   "source": [
    "### Conclusion: \n",
    "We rejected the null assumption on the equality of total cost means of the two plans.\n",
    "\n",
    "We can say that there is a very small probability of randomly getting a difference that size or larger.\n",
    "\n",
    "This probability is clearly too small to conclude that there is no significant difference between the average total costs."
   ]
  },
  {
   "cell_type": "markdown",
   "metadata": {},
   "source": [
    "### Hypothesis: The average revenue from users in NY-NJ area is different from that of the users from other regions.\n",
    "\n",
    "Ho: The average profit from users in NY-NJ area equals the average profit from users from other regions\n",
    "\n",
    "Ho: 𝜇_1=𝜇_2\n",
    "\n",
    "H1: 𝜇_1!=𝜇_2"
   ]
  },
  {
   "cell_type": "code",
   "execution_count": 83,
   "metadata": {},
   "outputs": [
    {
     "name": "stdout",
     "output_type": "stream",
     "text": [
      "p= 0.9488080261771334\n"
     ]
    }
   ],
   "source": [
    "# First we will split the data into two samples: 'NY-NJ' and 'Other'\n",
    "NY_NJ_data = users_monthly_use_plan.query('city == \"New York-Newark-Jersey City, NY-NJ-PA MSA\"')\n",
    "Other_regions_data = users_monthly_use_plan.query('city != \"New York-Newark-Jersey City, NY-NJ-PA MSA\"')\n",
    "\n",
    "#Aggregate total_cost mean by user\n",
    "ny_tc = NY_NJ_data.pivot_table(index = 'user_id', values='total_cost',aggfunc='mean')\n",
    "ot_tc = Other_regions_data.pivot_table(index = 'user_id', values='total_cost',aggfunc='mean')\n",
    "\n",
    "stat, p = levene(ny_tc['total_cost'], ot_tc['total_cost'], center='mean')\n",
    "print('p=', p)"
   ]
  },
  {
   "cell_type": "code",
   "execution_count": 84,
   "metadata": {},
   "outputs": [
    {
     "name": "stdout",
     "output_type": "stream",
     "text": [
      "p-value:  [0.51280268]\n",
      "We can't reject the null hypothesis\n"
     ]
    }
   ],
   "source": [
    "#Test the hypothesis\n",
    "# For testing the hypothesis we will run ttest (comparing means with unknown variance) for 2 independent samples \n",
    "# We can assume that the samples has equal variance. since they are categorized by client location they should be the same.\n",
    "# I tested it with levene test and p = 0.98\n",
    "\n",
    "alpha = 0.05  # critical statistical significance level\n",
    "\n",
    "# if the p-value is less than alpha, we reject the hypothesis\n",
    "results = st.ttest_ind(ny_tc, ot_tc)\n",
    "\n",
    "print('p-value: ', results.pvalue)\n",
    "\n",
    "if results.pvalue < alpha:\n",
    "    print(\"We reject the null hypothesis\")\n",
    "else:\n",
    "    print(\"We can't reject the null hypothesis\")"
   ]
  },
  {
   "cell_type": "markdown",
   "metadata": {},
   "source": [
    "### Conclusion:\n",
    "We can't rejected the null assumption on the equality of total cost means of the two samples.\n",
    "We can say that there is a very high (52%) probability of randomly getting a difference that size or larger. This probability is clearly too high to conclude that there is a significant difference between the average total costs of users from NY-NJ and those from other cities."
   ]
  },
  {
   "cell_type": "markdown",
   "metadata": {},
   "source": [
    "## Overall conclusion"
   ]
  },
  {
   "cell_type": "markdown",
   "metadata": {},
   "source": [
    "### users'  mean consumption\n",
    "- Calls - both plan have normal distributions. the means are also very close (around 399 minutes). the number of users gets lower as the mean use gets low or high from the average. \n",
    "- Messages - both plans have positive skewed distribution, which means that most of the users consume small number of text messages, and the number of users gets down as the use gets up. The mean messages count is 32 for surf plan and 38 for ultimate.\n",
    "- Internet - The distributions are normal and the mean mb used is also very close between the two plans, around 16,000. \n",
    "- Total cost - here we observe a significant difference. surf plan has positive skewed distribution with mean of 57, which means that most of the users pay the basic monthly pay + small addition, and some users that use much more then the basic, pull the mean up to 57. The story is different with ultimate plan, where there is almost no dispersion: most of the users pay only the basic payment. the mean is 72.\n",
    "\n",
    "### Monthly mean\n",
    "We can see a trend of growth of use over the months, in calls, messages and internet use. there is a big jump between january and february, and then more gradual growth. the same trend is observed in surf plan total cost. the total cost of ultimate plan is quite stable over the year.\n",
    "\n",
    "### Variance\n",
    "- Calls - The variance show normal distribution. the meaning is that some of the users have static behaviour in consuming of calls, and some are not. the mean variance is around 100 std.\n",
    "- Messages - positive skew distribution. most of the users have constant behavior.\n",
    "- Internet - Normal distribution, with long positive tail. which means that some of the users have constant behaviour, and others internet comsumption changes very much.\n",
    "- Total cost - Like with the mean, the surf plan users show normal distribution of the costs, that are changes according to the use. the ultimate plan total cost variance is very small.\n",
    "\n",
    "### Hypothsis testing\n",
    "The results of the hypothesis testing showed there is a significant difference between 'surf' and 'ultimate' plans mean revenue per client. the means are 57 $ for surf and 72 for ultimate.\n",
    "\n",
    "Looking at the average use of services we saw that the mean actual use of services is quite the same for the two plans customers:\n",
    "\n",
    "calls:    both 399\n",
    "messages: surf 32, ultimate 38\n",
    "Internet: both 16,000 mb \n",
    "\n",
    "### Summary\n",
    "In the bottom line, ultimate plan users consume in the average the same amount of services as those with 'surf' plan, but pay much more!\n",
    "'ultimate' plan is more profitable and brings more revenues, so the company should invest in advertising it.  "
   ]
  },
  {
   "cell_type": "code",
   "execution_count": null,
   "metadata": {},
   "outputs": [],
   "source": []
  }
 ],
 "metadata": {
  "ExecuteTimeLog": [
   {
    "duration": 4917,
    "start_time": "2021-07-17T23:43:08.726Z"
   },
   {
    "duration": 1499,
    "start_time": "2021-07-17T23:43:13.646Z"
   },
   {
    "duration": 393,
    "start_time": "2021-07-17T23:43:15.148Z"
   },
   {
    "duration": 22,
    "start_time": "2021-07-17T23:43:15.544Z"
   },
   {
    "duration": 20,
    "start_time": "2021-07-17T23:43:15.568Z"
   },
   {
    "duration": 32,
    "start_time": "2021-07-17T23:43:15.590Z"
   },
   {
    "duration": 373,
    "start_time": "2021-07-17T23:43:15.625Z"
   },
   {
    "duration": 277,
    "start_time": "2021-07-17T23:43:16.001Z"
   },
   {
    "duration": 10,
    "start_time": "2021-07-17T23:43:16.282Z"
   },
   {
    "duration": 368,
    "start_time": "2021-07-17T23:43:16.295Z"
   },
   {
    "duration": 343,
    "start_time": "2021-07-17T23:43:16.666Z"
   },
   {
    "duration": 17,
    "start_time": "2021-07-17T23:43:17.012Z"
   },
   {
    "duration": 45,
    "start_time": "2021-07-17T23:43:17.031Z"
   },
   {
    "duration": 19,
    "start_time": "2021-07-17T23:43:17.079Z"
   },
   {
    "duration": 13,
    "start_time": "2021-07-17T23:43:17.101Z"
   },
   {
    "duration": 382,
    "start_time": "2021-07-17T23:43:17.118Z"
   },
   {
    "duration": 294,
    "start_time": "2021-07-17T23:43:17.504Z"
   },
   {
    "duration": 10,
    "start_time": "2021-07-17T23:43:17.802Z"
   },
   {
    "duration": 376,
    "start_time": "2021-07-17T23:43:17.815Z"
   },
   {
    "duration": 356,
    "start_time": "2021-07-17T23:43:18.194Z"
   },
   {
    "duration": 18,
    "start_time": "2021-07-17T23:43:18.552Z"
   },
   {
    "duration": 45,
    "start_time": "2021-07-17T23:43:18.573Z"
   },
   {
    "duration": 16,
    "start_time": "2021-07-17T23:43:18.620Z"
   },
   {
    "duration": 31,
    "start_time": "2021-07-17T23:43:18.638Z"
   },
   {
    "duration": 35,
    "start_time": "2021-07-17T23:43:18.672Z"
   },
   {
    "duration": 9,
    "start_time": "2021-07-17T23:43:18.709Z"
   },
   {
    "duration": 12,
    "start_time": "2021-07-17T23:43:18.822Z"
   },
   {
    "duration": 25,
    "start_time": "2021-07-17T23:43:18.837Z"
   },
   {
    "duration": 19,
    "start_time": "2021-07-17T23:43:18.865Z"
   },
   {
    "duration": 15,
    "start_time": "2021-07-17T23:43:18.887Z"
   },
   {
    "duration": 67,
    "start_time": "2021-07-17T23:43:18.905Z"
   },
   {
    "duration": 58,
    "start_time": "2021-07-17T23:43:18.975Z"
   },
   {
    "duration": 32,
    "start_time": "2021-07-17T23:43:19.036Z"
   },
   {
    "duration": 31,
    "start_time": "2021-07-17T23:43:19.072Z"
   },
   {
    "duration": 25,
    "start_time": "2021-07-17T23:43:19.106Z"
   },
   {
    "duration": 48,
    "start_time": "2021-07-17T23:43:19.133Z"
   },
   {
    "duration": 37,
    "start_time": "2021-07-17T23:43:19.184Z"
   },
   {
    "duration": 57,
    "start_time": "2021-07-17T23:43:19.225Z"
   },
   {
    "duration": 40,
    "start_time": "2021-07-17T23:43:19.285Z"
   },
   {
    "duration": 37,
    "start_time": "2021-07-17T23:43:19.328Z"
   },
   {
    "duration": 12,
    "start_time": "2021-07-17T23:43:19.367Z"
   },
   {
    "duration": 9,
    "start_time": "2021-07-17T23:43:19.381Z"
   },
   {
    "duration": 7,
    "start_time": "2021-07-17T23:43:19.393Z"
   },
   {
    "duration": 483,
    "start_time": "2021-07-17T23:43:19.403Z"
   },
   {
    "duration": 95,
    "start_time": "2021-07-17T23:43:19.888Z"
   },
   {
    "duration": 13,
    "start_time": "2021-07-17T23:43:19.986Z"
   },
   {
    "duration": 15,
    "start_time": "2021-07-17T23:43:20.002Z"
   },
   {
    "duration": 110,
    "start_time": "2021-07-17T23:43:20.020Z"
   },
   {
    "duration": 92,
    "start_time": "2021-07-17T23:43:20.132Z"
   },
   {
    "duration": 4774,
    "start_time": "2021-07-18T04:00:55.542Z"
   },
   {
    "duration": 1440,
    "start_time": "2021-07-18T04:01:00.319Z"
   },
   {
    "duration": 374,
    "start_time": "2021-07-18T04:01:01.761Z"
   },
   {
    "duration": 21,
    "start_time": "2021-07-18T04:01:02.138Z"
   },
   {
    "duration": 20,
    "start_time": "2021-07-18T04:01:02.162Z"
   },
   {
    "duration": 33,
    "start_time": "2021-07-18T04:01:02.184Z"
   },
   {
    "duration": 355,
    "start_time": "2021-07-18T04:01:02.219Z"
   },
   {
    "duration": 272,
    "start_time": "2021-07-18T04:01:02.576Z"
   },
   {
    "duration": 10,
    "start_time": "2021-07-18T04:01:02.851Z"
   },
   {
    "duration": 343,
    "start_time": "2021-07-18T04:01:02.864Z"
   },
   {
    "duration": 336,
    "start_time": "2021-07-18T04:01:03.210Z"
   },
   {
    "duration": 16,
    "start_time": "2021-07-18T04:01:03.556Z"
   },
   {
    "duration": 23,
    "start_time": "2021-07-18T04:01:03.575Z"
   },
   {
    "duration": 18,
    "start_time": "2021-07-18T04:01:03.601Z"
   },
   {
    "duration": 37,
    "start_time": "2021-07-18T04:01:03.621Z"
   },
   {
    "duration": 348,
    "start_time": "2021-07-18T04:01:03.660Z"
   },
   {
    "duration": 285,
    "start_time": "2021-07-18T04:01:04.010Z"
   },
   {
    "duration": 8,
    "start_time": "2021-07-18T04:01:04.297Z"
   },
   {
    "duration": 354,
    "start_time": "2021-07-18T04:01:04.307Z"
   },
   {
    "duration": 343,
    "start_time": "2021-07-18T04:01:04.664Z"
   },
   {
    "duration": 14,
    "start_time": "2021-07-18T04:01:05.009Z"
   },
   {
    "duration": 43,
    "start_time": "2021-07-18T04:01:05.025Z"
   },
   {
    "duration": 15,
    "start_time": "2021-07-18T04:01:05.070Z"
   },
   {
    "duration": 12,
    "start_time": "2021-07-18T04:01:05.088Z"
   },
   {
    "duration": 55,
    "start_time": "2021-07-18T04:01:05.102Z"
   },
   {
    "duration": 9,
    "start_time": "2021-07-18T04:01:05.160Z"
   },
   {
    "duration": 11,
    "start_time": "2021-07-18T04:01:05.262Z"
   },
   {
    "duration": 14,
    "start_time": "2021-07-18T04:01:05.277Z"
   },
   {
    "duration": 17,
    "start_time": "2021-07-18T04:01:05.293Z"
   },
   {
    "duration": 13,
    "start_time": "2021-07-18T04:01:05.312Z"
   },
   {
    "duration": 65,
    "start_time": "2021-07-18T04:01:05.327Z"
   },
   {
    "duration": 71,
    "start_time": "2021-07-18T04:01:05.394Z"
   },
   {
    "duration": 14,
    "start_time": "2021-07-18T04:01:05.468Z"
   },
   {
    "duration": 21,
    "start_time": "2021-07-18T04:01:05.484Z"
   },
   {
    "duration": 48,
    "start_time": "2021-07-18T04:01:05.507Z"
   },
   {
    "duration": 17,
    "start_time": "2021-07-18T04:01:05.557Z"
   },
   {
    "duration": 28,
    "start_time": "2021-07-18T04:01:05.577Z"
   },
   {
    "duration": 23,
    "start_time": "2021-07-18T04:01:05.607Z"
   },
   {
    "duration": 27,
    "start_time": "2021-07-18T04:01:05.656Z"
   },
   {
    "duration": 10,
    "start_time": "2021-07-18T04:01:05.686Z"
   },
   {
    "duration": 10,
    "start_time": "2021-07-18T04:01:05.699Z"
   },
   {
    "duration": 5,
    "start_time": "2021-07-18T04:01:05.711Z"
   },
   {
    "duration": 38,
    "start_time": "2021-07-18T04:01:05.719Z"
   },
   {
    "duration": 476,
    "start_time": "2021-07-18T04:01:05.760Z"
   },
   {
    "duration": 87,
    "start_time": "2021-07-18T04:01:06.238Z"
   },
   {
    "duration": 12,
    "start_time": "2021-07-18T04:01:06.327Z"
   },
   {
    "duration": 11,
    "start_time": "2021-07-18T04:01:06.356Z"
   },
   {
    "duration": 88,
    "start_time": "2021-07-18T04:01:06.369Z"
   },
   {
    "duration": 76,
    "start_time": "2021-07-18T04:01:06.459Z"
   },
   {
    "duration": 149077,
    "start_time": "2021-07-18T04:01:06.556Z"
   },
   {
    "duration": 1028,
    "start_time": "2021-07-18T04:03:35.636Z"
   },
   {
    "duration": 6244,
    "start_time": "2021-07-18T04:03:36.667Z"
   },
   {
    "duration": 160787,
    "start_time": "2021-07-18T04:03:42.914Z"
   },
   {
    "duration": 8,
    "start_time": "2021-07-18T04:06:23.704Z"
   },
   {
    "duration": 13,
    "start_time": "2021-07-18T04:06:23.714Z"
   },
   {
    "duration": 31,
    "start_time": "2021-07-18T04:06:23.729Z"
   },
   {
    "duration": 31,
    "start_time": "2021-07-18T04:06:23.763Z"
   },
   {
    "duration": 6,
    "start_time": "2021-07-18T04:06:23.796Z"
   },
   {
    "duration": 218,
    "start_time": "2021-07-18T15:35:09.581Z"
   },
   {
    "duration": 4469,
    "start_time": "2021-07-18T15:35:21.497Z"
   },
   {
    "duration": 1142,
    "start_time": "2021-07-18T15:35:25.968Z"
   },
   {
    "duration": 308,
    "start_time": "2021-07-18T15:35:27.112Z"
   },
   {
    "duration": 15,
    "start_time": "2021-07-18T15:35:27.421Z"
   },
   {
    "duration": 16,
    "start_time": "2021-07-18T15:35:27.438Z"
   },
   {
    "duration": 25,
    "start_time": "2021-07-18T15:35:27.455Z"
   },
   {
    "duration": 210,
    "start_time": "2021-07-18T15:35:27.482Z"
   },
   {
    "duration": 170,
    "start_time": "2021-07-18T15:35:27.693Z"
   },
   {
    "duration": 6,
    "start_time": "2021-07-18T15:35:27.866Z"
   },
   {
    "duration": 216,
    "start_time": "2021-07-18T15:35:27.874Z"
   },
   {
    "duration": 204,
    "start_time": "2021-07-18T15:35:28.092Z"
   },
   {
    "duration": 11,
    "start_time": "2021-07-18T15:35:28.298Z"
   },
   {
    "duration": 17,
    "start_time": "2021-07-18T15:35:28.311Z"
   },
   {
    "duration": 13,
    "start_time": "2021-07-18T15:35:28.329Z"
   },
   {
    "duration": 7,
    "start_time": "2021-07-18T15:35:28.343Z"
   },
   {
    "duration": 235,
    "start_time": "2021-07-18T15:35:28.351Z"
   },
   {
    "duration": 174,
    "start_time": "2021-07-18T15:35:28.588Z"
   },
   {
    "duration": 6,
    "start_time": "2021-07-18T15:35:28.763Z"
   },
   {
    "duration": 233,
    "start_time": "2021-07-18T15:35:28.770Z"
   },
   {
    "duration": 214,
    "start_time": "2021-07-18T15:35:29.005Z"
   },
   {
    "duration": 10,
    "start_time": "2021-07-18T15:35:29.220Z"
   },
   {
    "duration": 21,
    "start_time": "2021-07-18T15:35:29.231Z"
   },
   {
    "duration": 13,
    "start_time": "2021-07-18T15:35:29.253Z"
   },
   {
    "duration": 25,
    "start_time": "2021-07-18T15:35:29.267Z"
   },
   {
    "duration": 29,
    "start_time": "2021-07-18T15:35:29.293Z"
   },
   {
    "duration": 5,
    "start_time": "2021-07-18T15:35:29.324Z"
   },
   {
    "duration": 9,
    "start_time": "2021-07-18T15:35:29.409Z"
   },
   {
    "duration": 16,
    "start_time": "2021-07-18T15:35:29.420Z"
   },
   {
    "duration": 20,
    "start_time": "2021-07-18T15:35:29.437Z"
   },
   {
    "duration": 17,
    "start_time": "2021-07-18T15:35:29.459Z"
   },
   {
    "duration": 40,
    "start_time": "2021-07-18T15:35:29.478Z"
   },
   {
    "duration": 37,
    "start_time": "2021-07-18T15:35:29.519Z"
   },
   {
    "duration": 10,
    "start_time": "2021-07-18T15:35:29.557Z"
   },
   {
    "duration": 26,
    "start_time": "2021-07-18T15:35:29.568Z"
   },
   {
    "duration": 11,
    "start_time": "2021-07-18T15:35:29.595Z"
   },
   {
    "duration": 13,
    "start_time": "2021-07-18T15:35:29.607Z"
   },
   {
    "duration": 17,
    "start_time": "2021-07-18T15:35:29.622Z"
   },
   {
    "duration": 13,
    "start_time": "2021-07-18T15:35:29.640Z"
   },
   {
    "duration": 41,
    "start_time": "2021-07-18T15:35:29.655Z"
   },
   {
    "duration": 7,
    "start_time": "2021-07-18T15:35:29.697Z"
   },
   {
    "duration": 7,
    "start_time": "2021-07-18T15:35:29.706Z"
   },
   {
    "duration": 6,
    "start_time": "2021-07-18T15:35:29.714Z"
   },
   {
    "duration": 7,
    "start_time": "2021-07-18T15:35:29.722Z"
   },
   {
    "duration": 275,
    "start_time": "2021-07-18T15:35:29.730Z"
   },
   {
    "duration": 57,
    "start_time": "2021-07-18T15:35:30.007Z"
   },
   {
    "duration": 20,
    "start_time": "2021-07-18T15:35:30.066Z"
   },
   {
    "duration": 13,
    "start_time": "2021-07-18T15:35:30.088Z"
   },
   {
    "duration": 53,
    "start_time": "2021-07-18T15:35:30.102Z"
   },
   {
    "duration": 61,
    "start_time": "2021-07-18T15:35:30.157Z"
   },
   {
    "duration": 95689,
    "start_time": "2021-07-18T15:35:30.220Z"
   },
   {
    "duration": 680,
    "start_time": "2021-07-18T15:37:05.911Z"
   },
   {
    "duration": 4702,
    "start_time": "2021-07-18T15:37:06.593Z"
   },
   {
    "duration": 103825,
    "start_time": "2021-07-18T15:37:11.297Z"
   },
   {
    "duration": 6,
    "start_time": "2021-07-18T15:38:55.124Z"
   },
   {
    "duration": 9,
    "start_time": "2021-07-18T15:38:55.132Z"
   },
   {
    "duration": 7,
    "start_time": "2021-07-18T15:38:55.143Z"
   },
   {
    "duration": 42,
    "start_time": "2021-07-18T15:38:55.151Z"
   },
   {
    "duration": 5,
    "start_time": "2021-07-18T15:38:55.195Z"
   },
   {
    "duration": 49,
    "start_time": "2021-07-18T15:39:06.550Z"
   },
   {
    "duration": 57,
    "start_time": "2021-07-18T15:39:53.354Z"
   },
   {
    "duration": 49,
    "start_time": "2021-07-18T15:40:24.558Z"
   },
   {
    "duration": 9,
    "start_time": "2021-07-18T15:57:28.856Z"
   },
   {
    "duration": 7,
    "start_time": "2021-07-18T15:57:44.543Z"
   },
   {
    "duration": 6,
    "start_time": "2021-07-18T15:58:02.211Z"
   },
   {
    "duration": 8,
    "start_time": "2021-07-18T16:23:43.354Z"
   },
   {
    "duration": 11,
    "start_time": "2021-07-18T16:23:55.054Z"
   },
   {
    "duration": 3402,
    "start_time": "2021-07-19T08:48:51.228Z"
   },
   {
    "duration": 1109,
    "start_time": "2021-07-19T08:48:54.632Z"
   },
   {
    "duration": 310,
    "start_time": "2021-07-19T08:48:55.743Z"
   },
   {
    "duration": 18,
    "start_time": "2021-07-19T08:48:56.055Z"
   },
   {
    "duration": 17,
    "start_time": "2021-07-19T08:48:56.075Z"
   },
   {
    "duration": 27,
    "start_time": "2021-07-19T08:48:56.094Z"
   },
   {
    "duration": 240,
    "start_time": "2021-07-19T08:48:56.123Z"
   },
   {
    "duration": 187,
    "start_time": "2021-07-19T08:48:56.366Z"
   },
   {
    "duration": 8,
    "start_time": "2021-07-19T08:48:56.556Z"
   },
   {
    "duration": 236,
    "start_time": "2021-07-19T08:48:56.565Z"
   },
   {
    "duration": 223,
    "start_time": "2021-07-19T08:48:56.802Z"
   },
   {
    "duration": 14,
    "start_time": "2021-07-19T08:48:57.027Z"
   },
   {
    "duration": 20,
    "start_time": "2021-07-19T08:48:57.042Z"
   },
   {
    "duration": 33,
    "start_time": "2021-07-19T08:48:57.063Z"
   },
   {
    "duration": 8,
    "start_time": "2021-07-19T08:48:57.098Z"
   },
   {
    "duration": 238,
    "start_time": "2021-07-19T08:48:57.107Z"
   },
   {
    "duration": 174,
    "start_time": "2021-07-19T08:48:57.347Z"
   },
   {
    "duration": 6,
    "start_time": "2021-07-19T08:48:57.523Z"
   },
   {
    "duration": 209,
    "start_time": "2021-07-19T08:48:57.531Z"
   },
   {
    "duration": 200,
    "start_time": "2021-07-19T08:48:57.741Z"
   },
   {
    "duration": 11,
    "start_time": "2021-07-19T08:48:57.942Z"
   },
   {
    "duration": 36,
    "start_time": "2021-07-19T08:48:57.955Z"
   },
   {
    "duration": 11,
    "start_time": "2021-07-19T08:48:57.995Z"
   },
   {
    "duration": 9,
    "start_time": "2021-07-19T08:48:58.008Z"
   },
   {
    "duration": 18,
    "start_time": "2021-07-19T08:48:58.019Z"
   },
   {
    "duration": 6,
    "start_time": "2021-07-19T08:48:58.038Z"
   },
   {
    "duration": 11,
    "start_time": "2021-07-19T08:48:58.045Z"
   },
   {
    "duration": 39,
    "start_time": "2021-07-19T08:48:58.057Z"
   },
   {
    "duration": 16,
    "start_time": "2021-07-19T08:48:58.097Z"
   },
   {
    "duration": 9,
    "start_time": "2021-07-19T08:48:58.114Z"
   },
   {
    "duration": 106,
    "start_time": "2021-07-19T08:48:58.125Z"
   },
   {
    "duration": 34,
    "start_time": "2021-07-19T08:48:58.233Z"
   },
   {
    "duration": 22,
    "start_time": "2021-07-19T08:48:58.269Z"
   },
   {
    "duration": 14,
    "start_time": "2021-07-19T08:48:58.293Z"
   },
   {
    "duration": 11,
    "start_time": "2021-07-19T08:48:58.309Z"
   },
   {
    "duration": 13,
    "start_time": "2021-07-19T08:48:58.321Z"
   },
   {
    "duration": 18,
    "start_time": "2021-07-19T08:48:58.336Z"
   },
   {
    "duration": 43,
    "start_time": "2021-07-19T08:48:58.356Z"
   },
   {
    "duration": 17,
    "start_time": "2021-07-19T08:48:58.401Z"
   },
   {
    "duration": 7,
    "start_time": "2021-07-19T08:48:58.419Z"
   },
   {
    "duration": 8,
    "start_time": "2021-07-19T08:48:58.427Z"
   },
   {
    "duration": 4,
    "start_time": "2021-07-19T08:48:58.436Z"
   },
   {
    "duration": 6,
    "start_time": "2021-07-19T08:48:58.441Z"
   },
   {
    "duration": 261,
    "start_time": "2021-07-19T08:48:58.448Z"
   },
   {
    "duration": 45,
    "start_time": "2021-07-19T08:48:58.711Z"
   },
   {
    "duration": 7,
    "start_time": "2021-07-19T08:48:58.758Z"
   },
   {
    "duration": 25,
    "start_time": "2021-07-19T08:48:58.766Z"
   },
   {
    "duration": 43,
    "start_time": "2021-07-19T08:48:58.792Z"
   },
   {
    "duration": 59,
    "start_time": "2021-07-19T08:48:58.837Z"
   },
   {
    "duration": 598,
    "start_time": "2021-07-19T08:50:29.855Z"
   },
   {
    "duration": 5166,
    "start_time": "2021-07-19T08:50:30.455Z"
   },
   {
    "duration": 90738,
    "start_time": "2021-07-19T08:50:35.623Z"
   },
   {
    "duration": 6,
    "start_time": "2021-07-19T08:52:06.363Z"
   },
   {
    "duration": 9,
    "start_time": "2021-07-19T08:52:06.370Z"
   },
   {
    "duration": 5,
    "start_time": "2021-07-19T08:52:06.392Z"
   },
   {
    "duration": 19,
    "start_time": "2021-07-19T08:52:06.398Z"
   },
   {
    "duration": 4,
    "start_time": "2021-07-19T08:52:06.419Z"
   },
   {
    "duration": 87141,
    "start_time": "2021-07-19T08:52:06.426Z"
   },
   {
    "duration": 6,
    "start_time": "2021-07-19T10:22:28.639Z"
   },
   {
    "duration": 10,
    "start_time": "2021-07-19T10:24:15.827Z"
   },
   {
    "duration": 6,
    "start_time": "2021-07-19T10:24:27.090Z"
   },
   {
    "duration": 6,
    "start_time": "2021-07-19T10:24:34.103Z"
   },
   {
    "duration": 6,
    "start_time": "2021-07-19T10:24:58.953Z"
   },
   {
    "duration": 11,
    "start_time": "2021-07-19T10:25:01.480Z"
   },
   {
    "duration": 6,
    "start_time": "2021-07-19T10:25:15.314Z"
   },
   {
    "duration": 6,
    "start_time": "2021-07-19T10:26:46.657Z"
   },
   {
    "duration": 385,
    "start_time": "2021-07-19T10:26:56.293Z"
   },
   {
    "duration": 10,
    "start_time": "2021-07-19T10:27:05.216Z"
   },
   {
    "duration": 225,
    "start_time": "2021-07-19T10:44:57.573Z"
   },
   {
    "duration": 5,
    "start_time": "2021-07-19T10:45:05.542Z"
   },
   {
    "duration": 8,
    "start_time": "2021-07-19T10:45:27.978Z"
   },
   {
    "duration": 6,
    "start_time": "2021-07-19T10:49:59.777Z"
   },
   {
    "duration": 2284,
    "start_time": "2021-07-19T10:50:27.537Z"
   },
   {
    "duration": 3,
    "start_time": "2021-07-19T10:50:29.823Z"
   },
   {
    "duration": 273,
    "start_time": "2021-07-19T10:50:29.828Z"
   },
   {
    "duration": 6,
    "start_time": "2021-07-19T10:50:30.103Z"
   },
   {
    "duration": 16,
    "start_time": "2021-07-19T10:50:30.110Z"
   },
   {
    "duration": 5,
    "start_time": "2021-07-19T10:50:30.127Z"
   },
   {
    "duration": 8,
    "start_time": "2021-07-19T10:50:30.134Z"
   },
   {
    "duration": 9,
    "start_time": "2021-07-19T10:50:30.144Z"
   },
   {
    "duration": 8,
    "start_time": "2021-07-19T11:52:25.516Z"
   },
   {
    "duration": 8,
    "start_time": "2021-07-19T11:53:26.469Z"
   },
   {
    "duration": 230,
    "start_time": "2021-07-19T11:54:10.324Z"
   },
   {
    "duration": 247,
    "start_time": "2021-07-19T11:54:29.986Z"
   },
   {
    "duration": 12,
    "start_time": "2021-07-19T11:54:57.736Z"
   },
   {
    "duration": 8,
    "start_time": "2021-07-19T11:58:03.400Z"
   },
   {
    "duration": 20,
    "start_time": "2021-07-19T12:03:23.790Z"
   },
   {
    "duration": 238,
    "start_time": "2021-07-19T12:35:31.768Z"
   },
   {
    "duration": 12,
    "start_time": "2021-07-19T12:35:37.897Z"
   },
   {
    "duration": 11,
    "start_time": "2021-07-19T12:36:28.987Z"
   },
   {
    "duration": 10,
    "start_time": "2021-07-19T12:36:34.529Z"
   },
   {
    "duration": 78,
    "start_time": "2021-07-19T12:37:11.735Z"
   },
   {
    "duration": 17,
    "start_time": "2021-07-19T12:37:27.820Z"
   },
   {
    "duration": 17,
    "start_time": "2021-07-19T12:38:50.264Z"
   },
   {
    "duration": 8,
    "start_time": "2021-07-19T12:39:06.456Z"
   },
   {
    "duration": 86,
    "start_time": "2021-07-19T12:39:57.365Z"
   },
   {
    "duration": 79,
    "start_time": "2021-07-19T12:40:34.101Z"
   },
   {
    "duration": 1809,
    "start_time": "2021-07-19T12:40:53.868Z"
   },
   {
    "duration": 2142,
    "start_time": "2021-07-19T12:42:05.595Z"
   },
   {
    "duration": 19,
    "start_time": "2021-07-19T12:42:26.212Z"
   },
   {
    "duration": 18,
    "start_time": "2021-07-19T12:42:39.053Z"
   },
   {
    "duration": 20,
    "start_time": "2021-07-19T12:42:58.316Z"
   },
   {
    "duration": 15,
    "start_time": "2021-07-19T12:43:05.393Z"
   },
   {
    "duration": 11,
    "start_time": "2021-07-19T12:44:29.867Z"
   },
   {
    "duration": 16,
    "start_time": "2021-07-19T12:44:46.445Z"
   },
   {
    "duration": 13,
    "start_time": "2021-07-19T12:44:57.232Z"
   },
   {
    "duration": 15,
    "start_time": "2021-07-19T12:45:37.806Z"
   },
   {
    "duration": 230,
    "start_time": "2021-07-19T12:47:58.277Z"
   },
   {
    "duration": 265,
    "start_time": "2021-07-19T12:49:16.266Z"
   },
   {
    "duration": 1678,
    "start_time": "2021-07-19T12:50:38.387Z"
   },
   {
    "duration": 15,
    "start_time": "2021-07-19T12:54:23.251Z"
   },
   {
    "duration": 10,
    "start_time": "2021-07-19T12:54:54.369Z"
   },
   {
    "duration": 15,
    "start_time": "2021-07-19T12:55:49.589Z"
   },
   {
    "duration": 1646,
    "start_time": "2021-07-19T12:57:29.556Z"
   },
   {
    "duration": 1711,
    "start_time": "2021-07-19T12:58:41.795Z"
   },
   {
    "duration": 1840,
    "start_time": "2021-07-19T12:59:07.135Z"
   },
   {
    "duration": 1679,
    "start_time": "2021-07-19T12:59:41.355Z"
   },
   {
    "duration": 1910,
    "start_time": "2021-07-19T13:00:06.388Z"
   },
   {
    "duration": 2587,
    "start_time": "2021-07-19T13:01:40.234Z"
   },
   {
    "duration": 3,
    "start_time": "2021-07-19T13:01:42.824Z"
   },
   {
    "duration": 278,
    "start_time": "2021-07-19T13:01:42.828Z"
   },
   {
    "duration": 6,
    "start_time": "2021-07-19T13:01:43.107Z"
   },
   {
    "duration": 13,
    "start_time": "2021-07-19T13:01:43.114Z"
   },
   {
    "duration": 7,
    "start_time": "2021-07-19T13:01:43.129Z"
   },
   {
    "duration": 7,
    "start_time": "2021-07-19T13:01:43.138Z"
   },
   {
    "duration": 10,
    "start_time": "2021-07-19T13:01:43.146Z"
   },
   {
    "duration": 11,
    "start_time": "2021-07-19T13:01:43.158Z"
   },
   {
    "duration": 13,
    "start_time": "2021-07-19T13:01:43.171Z"
   },
   {
    "duration": 9,
    "start_time": "2021-07-19T13:01:43.191Z"
   },
   {
    "duration": 20,
    "start_time": "2021-07-19T13:01:43.201Z"
   },
   {
    "duration": 211,
    "start_time": "2021-07-19T13:01:43.223Z"
   },
   {
    "duration": 157,
    "start_time": "2021-07-19T13:01:43.436Z"
   },
   {
    "duration": 6,
    "start_time": "2021-07-19T13:01:43.595Z"
   },
   {
    "duration": 203,
    "start_time": "2021-07-19T13:01:43.603Z"
   },
   {
    "duration": 2203,
    "start_time": "2021-07-19T13:01:43.808Z"
   },
   {
    "duration": 17,
    "start_time": "2021-07-19T13:01:46.012Z"
   },
   {
    "duration": 1892,
    "start_time": "2021-07-19T13:01:46.031Z"
   },
   {
    "duration": 2,
    "start_time": "2021-07-19T13:02:20.304Z"
   },
   {
    "duration": 12,
    "start_time": "2021-07-19T13:02:43.943Z"
   },
   {
    "duration": 3,
    "start_time": "2021-07-19T13:03:21.045Z"
   },
   {
    "duration": 14,
    "start_time": "2021-07-19T13:03:32.140Z"
   },
   {
    "duration": 13,
    "start_time": "2021-07-19T13:04:19.467Z"
   },
   {
    "duration": 12,
    "start_time": "2021-07-19T13:05:07.579Z"
   },
   {
    "duration": 12,
    "start_time": "2021-07-19T13:05:20.601Z"
   },
   {
    "duration": 13,
    "start_time": "2021-07-19T13:05:37.507Z"
   },
   {
    "duration": 1692,
    "start_time": "2021-07-19T13:06:11.452Z"
   },
   {
    "duration": 12,
    "start_time": "2021-07-19T13:06:23.912Z"
   },
   {
    "duration": 18,
    "start_time": "2021-07-19T13:07:44.644Z"
   },
   {
    "duration": 232,
    "start_time": "2021-07-19T13:08:23.618Z"
   },
   {
    "duration": 247,
    "start_time": "2021-07-19T13:12:47.468Z"
   },
   {
    "duration": 4224,
    "start_time": "2021-07-19T13:22:22.547Z"
   },
   {
    "duration": 227,
    "start_time": "2021-07-19T13:23:17.179Z"
   },
   {
    "duration": 15,
    "start_time": "2021-07-19T13:23:45.440Z"
   },
   {
    "duration": 13,
    "start_time": "2021-07-19T13:24:11.912Z"
   },
   {
    "duration": 72,
    "start_time": "2021-07-19T13:26:04.399Z"
   },
   {
    "duration": 12,
    "start_time": "2021-07-19T13:26:30.063Z"
   },
   {
    "duration": 13,
    "start_time": "2021-07-19T13:26:50.616Z"
   },
   {
    "duration": 12,
    "start_time": "2021-07-19T13:27:06.523Z"
   },
   {
    "duration": 11,
    "start_time": "2021-07-19T13:27:45.014Z"
   },
   {
    "duration": 12,
    "start_time": "2021-07-19T13:28:15.257Z"
   },
   {
    "duration": 20,
    "start_time": "2021-07-19T13:28:48.844Z"
   },
   {
    "duration": 14,
    "start_time": "2021-07-19T13:30:26.796Z"
   },
   {
    "duration": 11,
    "start_time": "2021-07-19T13:31:53.914Z"
   },
   {
    "duration": 15,
    "start_time": "2021-07-19T13:32:28.602Z"
   },
   {
    "duration": 245,
    "start_time": "2021-07-19T13:36:34.318Z"
   },
   {
    "duration": 241,
    "start_time": "2021-07-19T13:57:14.931Z"
   },
   {
    "duration": 11,
    "start_time": "2021-07-19T13:57:46.450Z"
   },
   {
    "duration": 231,
    "start_time": "2021-07-19T14:10:50.412Z"
   },
   {
    "duration": 13,
    "start_time": "2021-07-19T14:11:35.533Z"
   },
   {
    "duration": 242,
    "start_time": "2021-07-19T14:11:59.397Z"
   },
   {
    "duration": 431,
    "start_time": "2021-07-19T14:13:29.271Z"
   },
   {
    "duration": 82,
    "start_time": "2021-07-19T15:11:22.291Z"
   },
   {
    "duration": 3,
    "start_time": "2021-07-19T15:12:06.805Z"
   },
   {
    "duration": 328,
    "start_time": "2021-07-19T15:12:13.238Z"
   },
   {
    "duration": 4,
    "start_time": "2021-07-19T15:13:30.804Z"
   },
   {
    "duration": 20,
    "start_time": "2021-07-19T15:13:33.390Z"
   },
   {
    "duration": 4,
    "start_time": "2021-07-19T15:14:10.135Z"
   },
   {
    "duration": 383,
    "start_time": "2021-07-19T15:14:12.817Z"
   },
   {
    "duration": 4,
    "start_time": "2021-07-19T15:15:52.929Z"
   },
   {
    "duration": 2286,
    "start_time": "2021-07-19T15:15:56.088Z"
   },
   {
    "duration": 4,
    "start_time": "2021-07-19T15:19:09.751Z"
   },
   {
    "duration": 3,
    "start_time": "2021-07-19T15:19:12.320Z"
   },
   {
    "duration": 2934,
    "start_time": "2021-07-19T15:19:15.777Z"
   },
   {
    "duration": 4,
    "start_time": "2021-07-19T15:20:33.692Z"
   },
   {
    "duration": 1841,
    "start_time": "2021-07-19T15:20:37.103Z"
   },
   {
    "duration": 5,
    "start_time": "2021-07-19T15:24:13.098Z"
   },
   {
    "duration": 681,
    "start_time": "2021-07-19T15:24:17.618Z"
   },
   {
    "duration": 23,
    "start_time": "2021-07-19T15:27:46.321Z"
   },
   {
    "duration": 10,
    "start_time": "2021-07-19T15:28:40.039Z"
   },
   {
    "duration": 10,
    "start_time": "2021-07-19T15:28:48.333Z"
   },
   {
    "duration": 13,
    "start_time": "2021-07-19T15:28:53.991Z"
   },
   {
    "duration": 12,
    "start_time": "2021-07-19T15:28:59.050Z"
   },
   {
    "duration": 71,
    "start_time": "2021-07-19T15:34:45.076Z"
   },
   {
    "duration": 8,
    "start_time": "2021-07-19T15:35:32.103Z"
   },
   {
    "duration": 13,
    "start_time": "2021-07-19T15:35:49.948Z"
   },
   {
    "duration": 251,
    "start_time": "2021-07-19T15:37:34.892Z"
   },
   {
    "duration": 13,
    "start_time": "2021-07-19T15:48:23.265Z"
   },
   {
    "duration": 271,
    "start_time": "2021-07-19T15:59:37.281Z"
   },
   {
    "duration": 276,
    "start_time": "2021-07-19T15:59:47.311Z"
   },
   {
    "duration": 6,
    "start_time": "2021-07-19T18:01:13.238Z"
   },
   {
    "duration": 474,
    "start_time": "2021-07-19T18:01:24.621Z"
   },
   {
    "duration": 15,
    "start_time": "2021-07-19T18:14:45.894Z"
   },
   {
    "duration": 9,
    "start_time": "2021-07-19T18:36:23.198Z"
   },
   {
    "duration": 12,
    "start_time": "2021-07-19T18:36:56.419Z"
   },
   {
    "duration": 19,
    "start_time": "2021-07-19T18:37:36.273Z"
   },
   {
    "duration": 18,
    "start_time": "2021-07-19T18:53:47.387Z"
   },
   {
    "duration": 9,
    "start_time": "2021-07-19T18:53:49.735Z"
   },
   {
    "duration": 9,
    "start_time": "2021-07-19T18:55:17.252Z"
   },
   {
    "duration": 21,
    "start_time": "2021-07-19T18:59:56.614Z"
   },
   {
    "duration": 253,
    "start_time": "2021-07-19T19:01:40.749Z"
   },
   {
    "duration": 947,
    "start_time": "2021-07-19T19:02:40.059Z"
   },
   {
    "duration": 166,
    "start_time": "2021-07-19T19:05:39.544Z"
   },
   {
    "duration": 159,
    "start_time": "2021-07-19T19:06:56.861Z"
   },
   {
    "duration": 232,
    "start_time": "2021-07-19T19:07:29.071Z"
   },
   {
    "duration": 26,
    "start_time": "2021-07-19T19:07:40.841Z"
   },
   {
    "duration": 16,
    "start_time": "2021-07-19T19:08:18.165Z"
   },
   {
    "duration": 19,
    "start_time": "2021-07-19T19:08:54.312Z"
   },
   {
    "duration": 18,
    "start_time": "2021-07-19T19:09:33.138Z"
   },
   {
    "duration": 20,
    "start_time": "2021-07-19T19:10:07.547Z"
   },
   {
    "duration": 10,
    "start_time": "2021-07-19T19:12:35.877Z"
   },
   {
    "duration": 17,
    "start_time": "2021-07-19T19:12:46.289Z"
   },
   {
    "duration": 10,
    "start_time": "2021-07-19T19:13:46.382Z"
   },
   {
    "duration": 17,
    "start_time": "2021-07-19T19:14:10.653Z"
   },
   {
    "duration": 367,
    "start_time": "2021-07-19T19:17:05.358Z"
   },
   {
    "duration": 9,
    "start_time": "2021-07-19T19:17:21.021Z"
   },
   {
    "duration": 9,
    "start_time": "2021-07-19T19:17:23.939Z"
   },
   {
    "duration": 18,
    "start_time": "2021-07-19T19:18:08.146Z"
   },
   {
    "duration": 9,
    "start_time": "2021-07-19T19:18:11.046Z"
   },
   {
    "duration": 10,
    "start_time": "2021-07-19T19:18:14.517Z"
   },
   {
    "duration": 11,
    "start_time": "2021-07-19T19:18:17.343Z"
   },
   {
    "duration": 11,
    "start_time": "2021-07-19T19:18:36.755Z"
   },
   {
    "duration": 14,
    "start_time": "2021-07-19T19:18:46.157Z"
   },
   {
    "duration": 25,
    "start_time": "2021-07-19T19:19:08.777Z"
   },
   {
    "duration": 2347,
    "start_time": "2021-07-19T19:19:40.982Z"
   },
   {
    "duration": 3,
    "start_time": "2021-07-19T19:19:43.332Z"
   },
   {
    "duration": 283,
    "start_time": "2021-07-19T19:19:43.337Z"
   },
   {
    "duration": 6,
    "start_time": "2021-07-19T19:19:43.622Z"
   },
   {
    "duration": 18,
    "start_time": "2021-07-19T19:19:43.630Z"
   },
   {
    "duration": 8,
    "start_time": "2021-07-19T19:19:43.649Z"
   },
   {
    "duration": 6,
    "start_time": "2021-07-19T19:19:43.659Z"
   },
   {
    "duration": 7,
    "start_time": "2021-07-19T19:19:43.667Z"
   },
   {
    "duration": 6,
    "start_time": "2021-07-19T19:19:43.676Z"
   },
   {
    "duration": 15,
    "start_time": "2021-07-19T19:19:43.684Z"
   },
   {
    "duration": 9,
    "start_time": "2021-07-19T19:19:43.700Z"
   },
   {
    "duration": 20,
    "start_time": "2021-07-19T19:19:43.711Z"
   },
   {
    "duration": 219,
    "start_time": "2021-07-19T19:19:43.733Z"
   },
   {
    "duration": 156,
    "start_time": "2021-07-19T19:19:43.954Z"
   },
   {
    "duration": 6,
    "start_time": "2021-07-19T19:19:44.112Z"
   },
   {
    "duration": 210,
    "start_time": "2021-07-19T19:19:44.120Z"
   },
   {
    "duration": 202,
    "start_time": "2021-07-19T19:19:44.332Z"
   },
   {
    "duration": 19,
    "start_time": "2021-07-19T19:19:44.536Z"
   },
   {
    "duration": 13,
    "start_time": "2021-07-19T19:19:44.557Z"
   },
   {
    "duration": 26,
    "start_time": "2021-07-19T19:19:44.571Z"
   },
   {
    "duration": 220,
    "start_time": "2021-07-19T19:19:44.598Z"
   },
   {
    "duration": 218,
    "start_time": "2021-07-19T19:19:44.602Z"
   },
   {
    "duration": 215,
    "start_time": "2021-07-19T19:19:44.606Z"
   },
   {
    "duration": 213,
    "start_time": "2021-07-19T19:19:44.609Z"
   },
   {
    "duration": 41,
    "start_time": "2021-07-19T19:19:44.782Z"
   },
   {
    "duration": 32,
    "start_time": "2021-07-19T19:19:44.792Z"
   },
   {
    "duration": 30,
    "start_time": "2021-07-19T19:19:44.795Z"
   },
   {
    "duration": 28,
    "start_time": "2021-07-19T19:19:44.798Z"
   },
   {
    "duration": 22,
    "start_time": "2021-07-19T19:19:44.805Z"
   },
   {
    "duration": 20,
    "start_time": "2021-07-19T19:19:44.808Z"
   },
   {
    "duration": 18,
    "start_time": "2021-07-19T19:19:44.811Z"
   },
   {
    "duration": 16,
    "start_time": "2021-07-19T19:19:44.814Z"
   },
   {
    "duration": 12,
    "start_time": "2021-07-19T19:19:44.819Z"
   },
   {
    "duration": 8,
    "start_time": "2021-07-19T19:19:44.824Z"
   },
   {
    "duration": 4,
    "start_time": "2021-07-19T19:19:44.829Z"
   },
   {
    "duration": 0,
    "start_time": "2021-07-19T19:19:44.834Z"
   },
   {
    "duration": -3,
    "start_time": "2021-07-19T19:19:44.838Z"
   },
   {
    "duration": -5,
    "start_time": "2021-07-19T19:19:44.841Z"
   },
   {
    "duration": -8,
    "start_time": "2021-07-19T19:19:44.844Z"
   },
   {
    "duration": -142,
    "start_time": "2021-07-19T19:19:44.980Z"
   },
   {
    "duration": -160,
    "start_time": "2021-07-19T19:19:44.999Z"
   },
   {
    "duration": -162,
    "start_time": "2021-07-19T19:19:45.002Z"
   },
   {
    "duration": -165,
    "start_time": "2021-07-19T19:19:45.005Z"
   },
   {
    "duration": -167,
    "start_time": "2021-07-19T19:19:45.008Z"
   },
   {
    "duration": -169,
    "start_time": "2021-07-19T19:19:45.011Z"
   },
   {
    "duration": -170,
    "start_time": "2021-07-19T19:19:45.013Z"
   },
   {
    "duration": 26,
    "start_time": "2021-07-19T19:19:54.618Z"
   },
   {
    "duration": 16,
    "start_time": "2021-07-19T19:20:08.551Z"
   },
   {
    "duration": 13,
    "start_time": "2021-07-19T19:20:23.582Z"
   },
   {
    "duration": 80,
    "start_time": "2021-07-19T19:21:13.290Z"
   },
   {
    "duration": 24,
    "start_time": "2021-07-19T19:21:18.753Z"
   },
   {
    "duration": 19,
    "start_time": "2021-07-19T19:28:29.062Z"
   },
   {
    "duration": 10,
    "start_time": "2021-07-19T19:32:40.945Z"
   },
   {
    "duration": 10,
    "start_time": "2021-07-19T19:32:54.455Z"
   },
   {
    "duration": 15,
    "start_time": "2021-07-19T19:33:47.661Z"
   },
   {
    "duration": 9,
    "start_time": "2021-07-19T19:33:53.605Z"
   },
   {
    "duration": 12,
    "start_time": "2021-07-19T19:34:14.468Z"
   },
   {
    "duration": 4,
    "start_time": "2021-07-19T19:34:24.708Z"
   },
   {
    "duration": 4,
    "start_time": "2021-07-19T19:35:05.471Z"
   },
   {
    "duration": 231,
    "start_time": "2021-07-19T19:35:16.638Z"
   },
   {
    "duration": 231,
    "start_time": "2021-07-19T19:35:28.827Z"
   },
   {
    "duration": 71,
    "start_time": "2021-07-19T19:35:34.381Z"
   },
   {
    "duration": 8,
    "start_time": "2021-07-19T19:35:46.648Z"
   },
   {
    "duration": 8,
    "start_time": "2021-07-19T19:35:56.944Z"
   },
   {
    "duration": 72,
    "start_time": "2021-07-19T19:36:00.179Z"
   },
   {
    "duration": 68,
    "start_time": "2021-07-19T19:36:04.133Z"
   },
   {
    "duration": 91427,
    "start_time": "2021-07-19T19:36:11.579Z"
   },
   {
    "duration": 183,
    "start_time": "2021-07-19T19:37:43.698Z"
   },
   {
    "duration": 2974,
    "start_time": "2021-07-19T19:37:58.051Z"
   },
   {
    "duration": 3,
    "start_time": "2021-07-19T19:38:01.027Z"
   },
   {
    "duration": 302,
    "start_time": "2021-07-19T19:38:01.032Z"
   },
   {
    "duration": 6,
    "start_time": "2021-07-19T19:38:01.336Z"
   },
   {
    "duration": 24,
    "start_time": "2021-07-19T19:38:01.343Z"
   },
   {
    "duration": 21,
    "start_time": "2021-07-19T19:38:01.369Z"
   },
   {
    "duration": 14,
    "start_time": "2021-07-19T19:38:01.392Z"
   },
   {
    "duration": 14,
    "start_time": "2021-07-19T19:38:01.408Z"
   },
   {
    "duration": 11,
    "start_time": "2021-07-19T19:38:01.424Z"
   },
   {
    "duration": 26,
    "start_time": "2021-07-19T19:38:01.436Z"
   },
   {
    "duration": 10,
    "start_time": "2021-07-19T19:38:01.464Z"
   },
   {
    "duration": 31,
    "start_time": "2021-07-19T19:38:01.475Z"
   },
   {
    "duration": 200,
    "start_time": "2021-07-19T19:38:01.508Z"
   },
   {
    "duration": 5156,
    "start_time": "2021-07-19T19:38:01.709Z"
   },
   {
    "duration": 7,
    "start_time": "2021-07-19T19:38:06.867Z"
   },
   {
    "duration": 216,
    "start_time": "2021-07-19T19:38:06.875Z"
   },
   {
    "duration": 187,
    "start_time": "2021-07-19T19:38:07.093Z"
   },
   {
    "duration": 22,
    "start_time": "2021-07-19T19:38:07.282Z"
   },
   {
    "duration": 20,
    "start_time": "2021-07-19T19:38:07.306Z"
   },
   {
    "duration": 13,
    "start_time": "2021-07-19T19:38:07.328Z"
   },
   {
    "duration": 243,
    "start_time": "2021-07-19T19:38:07.342Z"
   },
   {
    "duration": 307,
    "start_time": "2021-07-19T19:38:07.282Z"
   },
   {
    "duration": 194,
    "start_time": "2021-07-19T19:38:07.396Z"
   },
   {
    "duration": 138,
    "start_time": "2021-07-19T19:38:07.453Z"
   },
   {
    "duration": 134,
    "start_time": "2021-07-19T19:38:07.459Z"
   },
   {
    "duration": 132,
    "start_time": "2021-07-19T19:38:07.462Z"
   },
   {
    "duration": 130,
    "start_time": "2021-07-19T19:38:07.465Z"
   },
   {
    "duration": 128,
    "start_time": "2021-07-19T19:38:07.468Z"
   },
   {
    "duration": 125,
    "start_time": "2021-07-19T19:38:07.473Z"
   },
   {
    "duration": 123,
    "start_time": "2021-07-19T19:38:07.476Z"
   },
   {
    "duration": 120,
    "start_time": "2021-07-19T19:38:07.480Z"
   },
   {
    "duration": 119,
    "start_time": "2021-07-19T19:38:07.483Z"
   },
   {
    "duration": 117,
    "start_time": "2021-07-19T19:38:07.486Z"
   },
   {
    "duration": 114,
    "start_time": "2021-07-19T19:38:07.490Z"
   },
   {
    "duration": 112,
    "start_time": "2021-07-19T19:38:07.493Z"
   },
   {
    "duration": 111,
    "start_time": "2021-07-19T19:38:07.496Z"
   },
   {
    "duration": 108,
    "start_time": "2021-07-19T19:38:07.500Z"
   },
   {
    "duration": 101,
    "start_time": "2021-07-19T19:38:07.508Z"
   },
   {
    "duration": 98,
    "start_time": "2021-07-19T19:38:07.512Z"
   },
   {
    "duration": 97,
    "start_time": "2021-07-19T19:38:07.515Z"
   },
   {
    "duration": 94,
    "start_time": "2021-07-19T19:38:07.519Z"
   },
   {
    "duration": 90,
    "start_time": "2021-07-19T19:38:07.524Z"
   },
   {
    "duration": 89,
    "start_time": "2021-07-19T19:38:07.527Z"
   },
   {
    "duration": 87,
    "start_time": "2021-07-19T19:38:07.530Z"
   },
   {
    "duration": 85,
    "start_time": "2021-07-19T19:38:07.533Z"
   },
   {
    "duration": 84,
    "start_time": "2021-07-19T19:38:07.536Z"
   },
   {
    "duration": 79,
    "start_time": "2021-07-19T19:38:07.542Z"
   },
   {
    "duration": 72,
    "start_time": "2021-07-19T19:38:07.550Z"
   },
   {
    "duration": 68,
    "start_time": "2021-07-19T19:38:07.555Z"
   },
   {
    "duration": 61,
    "start_time": "2021-07-19T19:38:07.564Z"
   },
   {
    "duration": 58,
    "start_time": "2021-07-19T19:38:07.568Z"
   },
   {
    "duration": 53,
    "start_time": "2021-07-19T19:38:07.574Z"
   },
   {
    "duration": 46,
    "start_time": "2021-07-19T19:38:07.583Z"
   },
   {
    "duration": 44,
    "start_time": "2021-07-19T19:38:07.586Z"
   },
   {
    "duration": 33,
    "start_time": "2021-07-19T19:38:07.598Z"
   },
   {
    "duration": 30,
    "start_time": "2021-07-19T19:38:07.602Z"
   },
   {
    "duration": 24,
    "start_time": "2021-07-19T19:38:07.609Z"
   },
   {
    "duration": 75,
    "start_time": "2021-07-19T19:38:07.616Z"
   },
   {
    "duration": 72,
    "start_time": "2021-07-19T19:38:07.620Z"
   },
   {
    "duration": 63,
    "start_time": "2021-07-19T19:38:07.631Z"
   },
   {
    "duration": 60,
    "start_time": "2021-07-19T19:38:07.635Z"
   },
   {
    "duration": 49,
    "start_time": "2021-07-19T19:38:07.647Z"
   },
   {
    "duration": 47,
    "start_time": "2021-07-19T19:38:07.650Z"
   },
   {
    "duration": 40,
    "start_time": "2021-07-19T19:38:07.658Z"
   },
   {
    "duration": 32,
    "start_time": "2021-07-19T19:38:07.666Z"
   },
   {
    "duration": 26,
    "start_time": "2021-07-19T19:38:07.673Z"
   },
   {
    "duration": 486,
    "start_time": "2021-07-19T20:08:29.498Z"
   },
   {
    "duration": 6,
    "start_time": "2021-07-19T20:11:27.489Z"
   },
   {
    "duration": 828,
    "start_time": "2021-07-19T20:11:32.525Z"
   },
   {
    "duration": 5,
    "start_time": "2021-07-19T20:12:16.021Z"
   },
   {
    "duration": 1877,
    "start_time": "2021-07-19T20:12:20.268Z"
   },
   {
    "duration": 6,
    "start_time": "2021-07-19T20:19:22.550Z"
   },
   {
    "duration": 709,
    "start_time": "2021-07-19T20:19:28.261Z"
   },
   {
    "duration": 5,
    "start_time": "2021-07-19T20:26:08.860Z"
   },
   {
    "duration": 478,
    "start_time": "2021-07-19T20:26:13.579Z"
   },
   {
    "duration": 17,
    "start_time": "2021-07-19T20:27:56.602Z"
   },
   {
    "duration": 6,
    "start_time": "2021-07-19T20:29:30.406Z"
   },
   {
    "duration": 545,
    "start_time": "2021-07-19T20:29:34.601Z"
   },
   {
    "duration": 5,
    "start_time": "2021-07-19T20:30:04.968Z"
   },
   {
    "duration": 474,
    "start_time": "2021-07-19T20:30:09.636Z"
   },
   {
    "duration": 15,
    "start_time": "2021-07-19T20:31:14.833Z"
   },
   {
    "duration": 5,
    "start_time": "2021-07-19T20:32:47.882Z"
   },
   {
    "duration": 927,
    "start_time": "2021-07-19T20:32:51.716Z"
   },
   {
    "duration": 4,
    "start_time": "2021-07-19T20:33:12.756Z"
   },
   {
    "duration": 312,
    "start_time": "2021-07-19T20:33:28.829Z"
   },
   {
    "duration": 5,
    "start_time": "2021-07-19T21:00:48.571Z"
   },
   {
    "duration": 478,
    "start_time": "2021-07-19T21:00:57.036Z"
   },
   {
    "duration": 6,
    "start_time": "2021-07-19T21:01:26.661Z"
   },
   {
    "duration": 5,
    "start_time": "2021-07-19T21:01:30.649Z"
   },
   {
    "duration": 480,
    "start_time": "2021-07-19T21:01:36.094Z"
   },
   {
    "duration": 5,
    "start_time": "2021-07-19T21:03:35.550Z"
   },
   {
    "duration": 473,
    "start_time": "2021-07-19T21:03:38.150Z"
   },
   {
    "duration": 2303,
    "start_time": "2021-07-19T21:13:00.454Z"
   },
   {
    "duration": 3,
    "start_time": "2021-07-19T21:13:02.760Z"
   },
   {
    "duration": 293,
    "start_time": "2021-07-19T21:13:02.765Z"
   },
   {
    "duration": 6,
    "start_time": "2021-07-19T21:13:03.060Z"
   },
   {
    "duration": 13,
    "start_time": "2021-07-19T21:13:03.067Z"
   },
   {
    "duration": 6,
    "start_time": "2021-07-19T21:13:03.082Z"
   },
   {
    "duration": 8,
    "start_time": "2021-07-19T21:13:03.090Z"
   },
   {
    "duration": 7,
    "start_time": "2021-07-19T21:13:03.100Z"
   },
   {
    "duration": 7,
    "start_time": "2021-07-19T21:13:03.109Z"
   },
   {
    "duration": 17,
    "start_time": "2021-07-19T21:13:03.118Z"
   },
   {
    "duration": 11,
    "start_time": "2021-07-19T21:13:03.137Z"
   },
   {
    "duration": 46,
    "start_time": "2021-07-19T21:13:03.150Z"
   },
   {
    "duration": 190,
    "start_time": "2021-07-19T21:13:03.198Z"
   },
   {
    "duration": 156,
    "start_time": "2021-07-19T21:13:03.391Z"
   },
   {
    "duration": 6,
    "start_time": "2021-07-19T21:13:03.549Z"
   },
   {
    "duration": 206,
    "start_time": "2021-07-19T21:13:03.557Z"
   },
   {
    "duration": 195,
    "start_time": "2021-07-19T21:13:03.765Z"
   },
   {
    "duration": 29,
    "start_time": "2021-07-19T21:13:03.962Z"
   },
   {
    "duration": 13,
    "start_time": "2021-07-19T21:13:03.992Z"
   },
   {
    "duration": 14,
    "start_time": "2021-07-19T21:13:04.007Z"
   },
   {
    "duration": 2,
    "start_time": "2021-07-19T21:13:04.023Z"
   },
   {
    "duration": 6,
    "start_time": "2021-07-19T21:13:04.027Z"
   },
   {
    "duration": 10,
    "start_time": "2021-07-19T21:13:04.035Z"
   },
   {
    "duration": 13,
    "start_time": "2021-07-19T21:13:04.046Z"
   },
   {
    "duration": 39,
    "start_time": "2021-07-19T21:13:04.060Z"
   },
   {
    "duration": 9,
    "start_time": "2021-07-19T21:13:04.100Z"
   },
   {
    "duration": 15,
    "start_time": "2021-07-19T21:13:04.113Z"
   },
   {
    "duration": 207,
    "start_time": "2021-07-19T21:13:04.130Z"
   },
   {
    "duration": 157,
    "start_time": "2021-07-19T21:13:04.339Z"
   },
   {
    "duration": 6,
    "start_time": "2021-07-19T21:13:04.497Z"
   },
   {
    "duration": 209,
    "start_time": "2021-07-19T21:13:04.505Z"
   },
   {
    "duration": 312,
    "start_time": "2021-07-19T21:13:04.715Z"
   },
   {
    "duration": 11,
    "start_time": "2021-07-19T21:13:05.028Z"
   },
   {
    "duration": 11,
    "start_time": "2021-07-19T21:13:05.040Z"
   },
   {
    "duration": 9,
    "start_time": "2021-07-19T21:13:05.052Z"
   },
   {
    "duration": 37,
    "start_time": "2021-07-19T21:13:05.062Z"
   },
   {
    "duration": 5,
    "start_time": "2021-07-19T21:13:05.101Z"
   },
   {
    "duration": 10,
    "start_time": "2021-07-19T21:13:05.107Z"
   },
   {
    "duration": 26,
    "start_time": "2021-07-19T21:13:05.118Z"
   },
   {
    "duration": 47,
    "start_time": "2021-07-19T21:13:05.145Z"
   },
   {
    "duration": 9,
    "start_time": "2021-07-19T21:13:05.194Z"
   },
   {
    "duration": 15,
    "start_time": "2021-07-19T21:13:05.205Z"
   },
   {
    "duration": 10,
    "start_time": "2021-07-19T21:13:05.221Z"
   },
   {
    "duration": 227,
    "start_time": "2021-07-19T21:13:05.233Z"
   },
   {
    "duration": 339,
    "start_time": "2021-07-19T21:13:05.123Z"
   },
   {
    "duration": 337,
    "start_time": "2021-07-19T21:13:05.126Z"
   },
   {
    "duration": 335,
    "start_time": "2021-07-19T21:13:05.129Z"
   },
   {
    "duration": 334,
    "start_time": "2021-07-19T21:13:05.131Z"
   },
   {
    "duration": 331,
    "start_time": "2021-07-19T21:13:05.135Z"
   },
   {
    "duration": 328,
    "start_time": "2021-07-19T21:13:05.139Z"
   },
   {
    "duration": 326,
    "start_time": "2021-07-19T21:13:05.142Z"
   },
   {
    "duration": 324,
    "start_time": "2021-07-19T21:13:05.145Z"
   },
   {
    "duration": 260,
    "start_time": "2021-07-19T21:13:05.210Z"
   },
   {
    "duration": 257,
    "start_time": "2021-07-19T21:13:05.214Z"
   },
   {
    "duration": 254,
    "start_time": "2021-07-19T21:13:05.218Z"
   },
   {
    "duration": 252,
    "start_time": "2021-07-19T21:13:05.221Z"
   },
   {
    "duration": 250,
    "start_time": "2021-07-19T21:13:05.225Z"
   },
   {
    "duration": 248,
    "start_time": "2021-07-19T21:13:05.228Z"
   },
   {
    "duration": 246,
    "start_time": "2021-07-19T21:13:05.231Z"
   },
   {
    "duration": 244,
    "start_time": "2021-07-19T21:13:05.234Z"
   },
   {
    "duration": 242,
    "start_time": "2021-07-19T21:13:05.237Z"
   },
   {
    "duration": 240,
    "start_time": "2021-07-19T21:13:05.240Z"
   },
   {
    "duration": 238,
    "start_time": "2021-07-19T21:13:05.243Z"
   },
   {
    "duration": 236,
    "start_time": "2021-07-19T21:13:05.246Z"
   },
   {
    "duration": 234,
    "start_time": "2021-07-19T21:13:05.249Z"
   },
   {
    "duration": 232,
    "start_time": "2021-07-19T21:13:05.252Z"
   },
   {
    "duration": 11,
    "start_time": "2021-07-19T21:15:52.386Z"
   },
   {
    "duration": 16,
    "start_time": "2021-07-19T21:15:54.167Z"
   },
   {
    "duration": 13,
    "start_time": "2021-07-19T21:15:57.013Z"
   },
   {
    "duration": 17,
    "start_time": "2021-07-19T21:17:01.274Z"
   },
   {
    "duration": 30,
    "start_time": "2021-07-19T21:18:17.674Z"
   },
   {
    "duration": 214,
    "start_time": "2021-07-19T21:18:22.065Z"
   },
   {
    "duration": 157,
    "start_time": "2021-07-19T21:18:25.056Z"
   },
   {
    "duration": 8,
    "start_time": "2021-07-19T21:18:30.423Z"
   },
   {
    "duration": 211,
    "start_time": "2021-07-19T21:18:42.260Z"
   },
   {
    "duration": 10,
    "start_time": "2021-07-19T21:19:00.155Z"
   },
   {
    "duration": 13,
    "start_time": "2021-07-19T21:19:02.696Z"
   },
   {
    "duration": 227,
    "start_time": "2021-07-19T21:19:18.169Z"
   },
   {
    "duration": 6,
    "start_time": "2021-07-19T21:20:00.576Z"
   },
   {
    "duration": 20,
    "start_time": "2021-07-19T21:20:49.827Z"
   },
   {
    "duration": 22,
    "start_time": "2021-07-19T21:21:41.935Z"
   },
   {
    "duration": 6,
    "start_time": "2021-07-19T21:21:54.180Z"
   },
   {
    "duration": 198,
    "start_time": "2021-07-19T21:22:10.506Z"
   },
   {
    "duration": 17,
    "start_time": "2021-07-19T21:22:22.559Z"
   },
   {
    "duration": 12,
    "start_time": "2021-07-19T21:22:41.863Z"
   },
   {
    "duration": 19,
    "start_time": "2021-07-19T21:22:46.246Z"
   },
   {
    "duration": 14,
    "start_time": "2021-07-19T21:22:49.225Z"
   },
   {
    "duration": 29,
    "start_time": "2021-07-19T21:22:57.172Z"
   },
   {
    "duration": 10,
    "start_time": "2021-07-19T21:23:04.446Z"
   },
   {
    "duration": 10,
    "start_time": "2021-07-19T21:23:07.642Z"
   },
   {
    "duration": 4,
    "start_time": "2021-07-19T21:23:10.627Z"
   },
   {
    "duration": 4,
    "start_time": "2021-07-19T21:23:16.264Z"
   },
   {
    "duration": 260,
    "start_time": "2021-07-19T21:23:20.975Z"
   },
   {
    "duration": 48,
    "start_time": "2021-07-19T21:23:25.698Z"
   },
   {
    "duration": 8,
    "start_time": "2021-07-19T21:23:50.240Z"
   },
   {
    "duration": 14,
    "start_time": "2021-07-19T21:23:53.785Z"
   },
   {
    "duration": 65,
    "start_time": "2021-07-19T21:23:56.250Z"
   },
   {
    "duration": 47,
    "start_time": "2021-07-19T21:23:59.507Z"
   },
   {
    "duration": 5780,
    "start_time": "2021-07-20T18:05:07.027Z"
   },
   {
    "duration": 1613,
    "start_time": "2021-07-20T18:05:12.810Z"
   },
   {
    "duration": 595,
    "start_time": "2021-07-20T18:05:14.427Z"
   },
   {
    "duration": 10,
    "start_time": "2021-07-20T18:05:15.025Z"
   },
   {
    "duration": 30,
    "start_time": "2021-07-20T18:05:15.038Z"
   },
   {
    "duration": 20,
    "start_time": "2021-07-20T18:05:15.072Z"
   },
   {
    "duration": 11,
    "start_time": "2021-07-20T18:05:15.095Z"
   },
   {
    "duration": 54,
    "start_time": "2021-07-20T18:05:15.114Z"
   },
   {
    "duration": 24,
    "start_time": "2021-07-20T18:05:15.173Z"
   },
   {
    "duration": 69,
    "start_time": "2021-07-20T18:05:15.200Z"
   },
   {
    "duration": 22,
    "start_time": "2021-07-20T18:05:15.272Z"
   },
   {
    "duration": 57,
    "start_time": "2021-07-20T18:05:15.297Z"
   },
   {
    "duration": 391,
    "start_time": "2021-07-20T18:05:15.357Z"
   },
   {
    "duration": 345,
    "start_time": "2021-07-20T18:05:15.751Z"
   },
   {
    "duration": 10,
    "start_time": "2021-07-20T18:05:16.098Z"
   },
   {
    "duration": 413,
    "start_time": "2021-07-20T18:05:16.110Z"
   },
   {
    "duration": 555,
    "start_time": "2021-07-20T18:05:16.527Z"
   },
   {
    "duration": 31,
    "start_time": "2021-07-20T18:05:17.086Z"
   },
   {
    "duration": 43,
    "start_time": "2021-07-20T18:05:17.119Z"
   },
   {
    "duration": 40,
    "start_time": "2021-07-20T18:05:17.165Z"
   },
   {
    "duration": 4,
    "start_time": "2021-07-20T18:05:17.208Z"
   },
   {
    "duration": 83,
    "start_time": "2021-07-20T18:05:17.214Z"
   },
   {
    "duration": 21,
    "start_time": "2021-07-20T18:05:17.303Z"
   },
   {
    "duration": 30,
    "start_time": "2021-07-20T18:05:17.327Z"
   },
   {
    "duration": 36,
    "start_time": "2021-07-20T18:05:17.362Z"
   },
   {
    "duration": 13,
    "start_time": "2021-07-20T18:05:17.401Z"
   },
   {
    "duration": 51,
    "start_time": "2021-07-20T18:05:17.416Z"
   },
   {
    "duration": 466,
    "start_time": "2021-07-20T18:05:17.470Z"
   },
   {
    "duration": 435,
    "start_time": "2021-07-20T18:05:17.940Z"
   },
   {
    "duration": 14,
    "start_time": "2021-07-20T18:05:18.378Z"
   },
   {
    "duration": 569,
    "start_time": "2021-07-20T18:05:18.395Z"
   },
   {
    "duration": 544,
    "start_time": "2021-07-20T18:05:18.968Z"
   },
   {
    "duration": 52,
    "start_time": "2021-07-20T18:05:19.515Z"
   },
   {
    "duration": 22,
    "start_time": "2021-07-20T18:05:19.569Z"
   },
   {
    "duration": 15,
    "start_time": "2021-07-20T18:05:19.594Z"
   },
   {
    "duration": 85,
    "start_time": "2021-07-20T18:05:19.612Z"
   },
   {
    "duration": 8,
    "start_time": "2021-07-20T18:05:19.700Z"
   },
   {
    "duration": 21,
    "start_time": "2021-07-20T18:05:19.711Z"
   },
   {
    "duration": 159,
    "start_time": "2021-07-20T18:05:19.734Z"
   },
   {
    "duration": 66,
    "start_time": "2021-07-20T18:05:19.896Z"
   },
   {
    "duration": 20,
    "start_time": "2021-07-20T18:05:19.967Z"
   },
   {
    "duration": 24,
    "start_time": "2021-07-20T18:05:19.990Z"
   },
   {
    "duration": 62,
    "start_time": "2021-07-20T18:05:20.016Z"
   },
   {
    "duration": 19,
    "start_time": "2021-07-20T18:05:20.084Z"
   },
   {
    "duration": 53,
    "start_time": "2021-07-20T18:05:20.105Z"
   },
   {
    "duration": 34,
    "start_time": "2021-07-20T18:05:20.161Z"
   },
   {
    "duration": 31,
    "start_time": "2021-07-20T18:05:20.198Z"
   },
   {
    "duration": 37,
    "start_time": "2021-07-20T18:05:20.232Z"
   },
   {
    "duration": 28,
    "start_time": "2021-07-20T18:05:20.272Z"
   },
   {
    "duration": 16,
    "start_time": "2021-07-20T18:05:20.302Z"
   },
   {
    "duration": 17,
    "start_time": "2021-07-20T18:05:20.320Z"
   },
   {
    "duration": 536,
    "start_time": "2021-07-20T18:05:20.354Z"
   },
   {
    "duration": 118,
    "start_time": "2021-07-20T18:05:20.892Z"
   },
   {
    "duration": 12,
    "start_time": "2021-07-20T18:05:21.012Z"
   },
   {
    "duration": 31,
    "start_time": "2021-07-20T18:05:21.027Z"
   },
   {
    "duration": 98,
    "start_time": "2021-07-20T18:05:21.062Z"
   },
   {
    "duration": 124,
    "start_time": "2021-07-20T18:05:21.163Z"
   },
   {
    "duration": 4564,
    "start_time": "2021-07-20T18:08:08.311Z"
   },
   {
    "duration": 1542,
    "start_time": "2021-07-20T18:08:12.878Z"
   },
   {
    "duration": 445,
    "start_time": "2021-07-20T18:08:14.424Z"
   },
   {
    "duration": 15,
    "start_time": "2021-07-20T18:08:14.873Z"
   },
   {
    "duration": 49,
    "start_time": "2021-07-20T18:08:14.891Z"
   },
   {
    "duration": 29,
    "start_time": "2021-07-20T18:08:14.943Z"
   },
   {
    "duration": 21,
    "start_time": "2021-07-20T18:08:14.975Z"
   },
   {
    "duration": 35,
    "start_time": "2021-07-20T18:08:14.999Z"
   },
   {
    "duration": 37,
    "start_time": "2021-07-20T18:08:15.037Z"
   },
   {
    "duration": 28,
    "start_time": "2021-07-20T18:08:15.077Z"
   },
   {
    "duration": 42,
    "start_time": "2021-07-20T18:08:15.108Z"
   },
   {
    "duration": 55,
    "start_time": "2021-07-20T18:08:15.152Z"
   },
   {
    "duration": 368,
    "start_time": "2021-07-20T18:08:15.209Z"
   },
   {
    "duration": 301,
    "start_time": "2021-07-20T18:08:15.579Z"
   },
   {
    "duration": 11,
    "start_time": "2021-07-20T18:08:15.883Z"
   },
   {
    "duration": 407,
    "start_time": "2021-07-20T18:08:15.897Z"
   },
   {
    "duration": 395,
    "start_time": "2021-07-20T18:08:16.308Z"
   },
   {
    "duration": 30,
    "start_time": "2021-07-20T18:08:16.705Z"
   },
   {
    "duration": 37,
    "start_time": "2021-07-20T18:08:16.737Z"
   },
   {
    "duration": 24,
    "start_time": "2021-07-20T18:08:16.776Z"
   },
   {
    "duration": 6,
    "start_time": "2021-07-20T18:08:16.803Z"
   },
   {
    "duration": 53,
    "start_time": "2021-07-20T18:08:16.811Z"
   },
   {
    "duration": 36,
    "start_time": "2021-07-20T18:08:16.876Z"
   },
   {
    "duration": 35,
    "start_time": "2021-07-20T18:08:16.916Z"
   },
   {
    "duration": 33,
    "start_time": "2021-07-20T18:08:16.954Z"
   },
   {
    "duration": 39,
    "start_time": "2021-07-20T18:08:16.991Z"
   },
   {
    "duration": 56,
    "start_time": "2021-07-20T18:08:17.034Z"
   },
   {
    "duration": 554,
    "start_time": "2021-07-20T18:08:17.093Z"
   },
   {
    "duration": 419,
    "start_time": "2021-07-20T18:08:17.654Z"
   },
   {
    "duration": 8,
    "start_time": "2021-07-20T18:08:18.077Z"
   },
   {
    "duration": 418,
    "start_time": "2021-07-20T18:08:18.087Z"
   },
   {
    "duration": 416,
    "start_time": "2021-07-20T18:08:18.507Z"
   },
   {
    "duration": 42,
    "start_time": "2021-07-20T18:08:18.925Z"
   },
   {
    "duration": 19,
    "start_time": "2021-07-20T18:08:18.972Z"
   },
   {
    "duration": 22,
    "start_time": "2021-07-20T18:08:18.993Z"
   },
   {
    "duration": 57,
    "start_time": "2021-07-20T18:08:19.018Z"
   },
   {
    "duration": 10,
    "start_time": "2021-07-20T18:08:19.078Z"
   },
   {
    "duration": 41,
    "start_time": "2021-07-20T18:08:19.090Z"
   },
   {
    "duration": 134,
    "start_time": "2021-07-20T18:08:19.134Z"
   },
   {
    "duration": 57,
    "start_time": "2021-07-20T18:08:19.272Z"
   },
   {
    "duration": 28,
    "start_time": "2021-07-20T18:08:19.331Z"
   },
   {
    "duration": 27,
    "start_time": "2021-07-20T18:08:19.362Z"
   },
   {
    "duration": 18,
    "start_time": "2021-07-20T18:08:19.392Z"
   },
   {
    "duration": 54,
    "start_time": "2021-07-20T18:08:19.413Z"
   },
   {
    "duration": 35,
    "start_time": "2021-07-20T18:08:19.474Z"
   },
   {
    "duration": 23,
    "start_time": "2021-07-20T18:08:19.511Z"
   },
   {
    "duration": 64,
    "start_time": "2021-07-20T18:08:19.536Z"
   },
   {
    "duration": 32,
    "start_time": "2021-07-20T18:08:19.603Z"
   },
   {
    "duration": 23,
    "start_time": "2021-07-20T18:08:19.637Z"
   },
   {
    "duration": 15,
    "start_time": "2021-07-20T18:08:19.663Z"
   },
   {
    "duration": 32,
    "start_time": "2021-07-20T18:08:19.681Z"
   },
   {
    "duration": 593,
    "start_time": "2021-07-20T18:08:19.716Z"
   },
   {
    "duration": 104,
    "start_time": "2021-07-20T18:08:20.311Z"
   },
   {
    "duration": 13,
    "start_time": "2021-07-20T18:08:20.417Z"
   },
   {
    "duration": 34,
    "start_time": "2021-07-20T18:08:20.433Z"
   },
   {
    "duration": 139,
    "start_time": "2021-07-20T18:08:20.471Z"
   },
   {
    "duration": 144,
    "start_time": "2021-07-20T18:08:20.614Z"
   },
   {
    "duration": 773,
    "start_time": "2021-07-20T18:11:38.586Z"
   },
   {
    "duration": 770,
    "start_time": "2021-07-20T18:11:38.591Z"
   },
   {
    "duration": 768,
    "start_time": "2021-07-20T18:11:38.595Z"
   },
   {
    "duration": 767,
    "start_time": "2021-07-20T18:11:38.598Z"
   },
   {
    "duration": 767,
    "start_time": "2021-07-20T18:11:38.601Z"
   },
   {
    "duration": 766,
    "start_time": "2021-07-20T18:11:38.604Z"
   },
   {
    "duration": 763,
    "start_time": "2021-07-20T18:11:38.608Z"
   },
   {
    "duration": 763,
    "start_time": "2021-07-20T18:11:38.611Z"
   },
   {
    "duration": 761,
    "start_time": "2021-07-20T18:11:38.614Z"
   },
   {
    "duration": 762,
    "start_time": "2021-07-20T18:11:38.617Z"
   },
   {
    "duration": 762,
    "start_time": "2021-07-20T18:11:38.619Z"
   },
   {
    "duration": 759,
    "start_time": "2021-07-20T18:11:38.633Z"
   },
   {
    "duration": 4069,
    "start_time": "2021-07-20T18:12:36.110Z"
   },
   {
    "duration": 7,
    "start_time": "2021-07-20T18:12:40.183Z"
   },
   {
    "duration": 502,
    "start_time": "2021-07-20T18:12:40.193Z"
   },
   {
    "duration": 10,
    "start_time": "2021-07-20T18:12:40.698Z"
   },
   {
    "duration": 33,
    "start_time": "2021-07-20T18:12:40.710Z"
   },
   {
    "duration": 28,
    "start_time": "2021-07-20T18:12:40.746Z"
   },
   {
    "duration": 14,
    "start_time": "2021-07-20T18:12:40.778Z"
   },
   {
    "duration": 27,
    "start_time": "2021-07-20T18:12:40.797Z"
   },
   {
    "duration": 41,
    "start_time": "2021-07-20T18:12:40.829Z"
   },
   {
    "duration": 30,
    "start_time": "2021-07-20T18:12:40.873Z"
   },
   {
    "duration": 16,
    "start_time": "2021-07-20T18:12:40.905Z"
   },
   {
    "duration": 79,
    "start_time": "2021-07-20T18:12:40.924Z"
   },
   {
    "duration": 419,
    "start_time": "2021-07-20T18:12:41.006Z"
   },
   {
    "duration": 318,
    "start_time": "2021-07-20T18:12:41.427Z"
   },
   {
    "duration": 20,
    "start_time": "2021-07-20T18:12:41.748Z"
   },
   {
    "duration": 438,
    "start_time": "2021-07-20T18:12:41.773Z"
   },
   {
    "duration": 419,
    "start_time": "2021-07-20T18:12:42.213Z"
   },
   {
    "duration": 53,
    "start_time": "2021-07-20T18:12:42.636Z"
   },
   {
    "duration": 30,
    "start_time": "2021-07-20T18:12:42.694Z"
   },
   {
    "duration": 53,
    "start_time": "2021-07-20T18:12:42.729Z"
   },
   {
    "duration": 3,
    "start_time": "2021-07-20T18:12:42.785Z"
   },
   {
    "duration": 18,
    "start_time": "2021-07-20T18:12:42.792Z"
   },
   {
    "duration": 21,
    "start_time": "2021-07-20T18:12:42.816Z"
   },
   {
    "duration": 42,
    "start_time": "2021-07-20T18:12:42.841Z"
   },
   {
    "duration": 25,
    "start_time": "2021-07-20T18:12:42.889Z"
   },
   {
    "duration": 55,
    "start_time": "2021-07-20T18:12:42.918Z"
   },
   {
    "duration": 38,
    "start_time": "2021-07-20T18:12:42.977Z"
   },
   {
    "duration": 442,
    "start_time": "2021-07-20T18:12:43.018Z"
   },
   {
    "duration": 360,
    "start_time": "2021-07-20T18:12:43.463Z"
   },
   {
    "duration": 8,
    "start_time": "2021-07-20T18:12:43.825Z"
   },
   {
    "duration": 494,
    "start_time": "2021-07-20T18:12:43.836Z"
   },
   {
    "duration": 490,
    "start_time": "2021-07-20T18:12:44.333Z"
   },
   {
    "duration": 41,
    "start_time": "2021-07-20T18:12:44.825Z"
   },
   {
    "duration": 25,
    "start_time": "2021-07-20T18:12:44.870Z"
   },
   {
    "duration": 13,
    "start_time": "2021-07-20T18:12:44.899Z"
   },
   {
    "duration": 78,
    "start_time": "2021-07-20T18:12:44.915Z"
   },
   {
    "duration": 9,
    "start_time": "2021-07-20T18:12:44.996Z"
   },
   {
    "duration": 37,
    "start_time": "2021-07-20T18:12:45.009Z"
   },
   {
    "duration": 67,
    "start_time": "2021-07-20T18:12:45.050Z"
   },
   {
    "duration": 75,
    "start_time": "2021-07-20T18:12:45.121Z"
   },
   {
    "duration": 19,
    "start_time": "2021-07-20T18:12:45.200Z"
   },
   {
    "duration": 53,
    "start_time": "2021-07-20T18:12:45.222Z"
   },
   {
    "duration": 27,
    "start_time": "2021-07-20T18:12:45.279Z"
   },
   {
    "duration": 27,
    "start_time": "2021-07-20T18:12:45.309Z"
   },
   {
    "duration": 57,
    "start_time": "2021-07-20T18:12:45.339Z"
   },
   {
    "duration": 25,
    "start_time": "2021-07-20T18:12:45.406Z"
   },
   {
    "duration": 62,
    "start_time": "2021-07-20T18:12:45.434Z"
   },
   {
    "duration": 14,
    "start_time": "2021-07-20T18:12:45.499Z"
   },
   {
    "duration": 64,
    "start_time": "2021-07-20T18:12:45.516Z"
   },
   {
    "duration": 7,
    "start_time": "2021-07-20T18:12:45.583Z"
   },
   {
    "duration": 35,
    "start_time": "2021-07-20T18:12:45.593Z"
   },
   {
    "duration": 993,
    "start_time": "2021-07-20T18:12:45.630Z"
   },
   {
    "duration": 143,
    "start_time": "2021-07-20T18:12:46.626Z"
   },
   {
    "duration": 20,
    "start_time": "2021-07-20T18:12:46.772Z"
   },
   {
    "duration": 17,
    "start_time": "2021-07-20T18:12:46.796Z"
   },
   {
    "duration": 128,
    "start_time": "2021-07-20T18:12:46.815Z"
   },
   {
    "duration": 145,
    "start_time": "2021-07-20T18:12:46.946Z"
   },
   {
    "duration": 82,
    "start_time": "2021-07-20T18:18:10.949Z"
   },
   {
    "duration": 19,
    "start_time": "2021-07-20T18:18:25.337Z"
   },
   {
    "duration": 32,
    "start_time": "2021-07-20T18:18:33.327Z"
   },
   {
    "duration": 196312,
    "start_time": "2021-07-20T18:19:23.454Z"
   },
   {
    "duration": 837,
    "start_time": "2021-07-20T18:22:39.258Z"
   },
   {
    "duration": 365,
    "start_time": "2021-07-20T18:23:33.383Z"
   },
   {
    "duration": 362,
    "start_time": "2021-07-20T18:23:50.949Z"
   },
   {
    "duration": 720,
    "start_time": "2021-07-20T18:24:25.639Z"
   },
   {
    "duration": 3449,
    "start_time": "2021-07-20T18:25:10.336Z"
   },
   {
    "duration": 938,
    "start_time": "2021-07-20T18:26:25.248Z"
   },
   {
    "duration": 758,
    "start_time": "2021-07-20T18:29:01.623Z"
   },
   {
    "duration": 650,
    "start_time": "2021-07-20T18:29:55.083Z"
   },
   {
    "duration": 710,
    "start_time": "2021-07-20T18:30:30.281Z"
   },
   {
    "duration": 5683,
    "start_time": "2021-07-20T18:32:14.015Z"
   },
   {
    "duration": 33,
    "start_time": "2021-07-20T18:35:43.732Z"
   },
   {
    "duration": 342,
    "start_time": "2021-07-20T18:36:44.520Z"
   },
   {
    "duration": 37,
    "start_time": "2021-07-20T19:25:50.791Z"
   },
   {
    "duration": 4505,
    "start_time": "2021-07-20T19:30:08.554Z"
   },
   {
    "duration": 6,
    "start_time": "2021-07-20T19:30:13.063Z"
   },
   {
    "duration": 524,
    "start_time": "2021-07-20T19:30:13.073Z"
   },
   {
    "duration": 11,
    "start_time": "2021-07-20T19:30:13.600Z"
   },
   {
    "duration": 21,
    "start_time": "2021-07-20T19:30:13.614Z"
   },
   {
    "duration": 12,
    "start_time": "2021-07-20T19:30:13.638Z"
   },
   {
    "duration": 22,
    "start_time": "2021-07-20T19:30:13.653Z"
   },
   {
    "duration": 20,
    "start_time": "2021-07-20T19:30:13.679Z"
   },
   {
    "duration": 11,
    "start_time": "2021-07-20T19:30:13.702Z"
   },
   {
    "duration": 46,
    "start_time": "2021-07-20T19:30:13.715Z"
   },
   {
    "duration": 18,
    "start_time": "2021-07-20T19:30:13.764Z"
   },
   {
    "duration": 36,
    "start_time": "2021-07-20T19:30:13.785Z"
   },
   {
    "duration": 424,
    "start_time": "2021-07-20T19:30:13.824Z"
   },
   {
    "duration": 304,
    "start_time": "2021-07-20T19:30:14.254Z"
   },
   {
    "duration": 13,
    "start_time": "2021-07-20T19:30:14.561Z"
   },
   {
    "duration": 413,
    "start_time": "2021-07-20T19:30:14.577Z"
   },
   {
    "duration": 394,
    "start_time": "2021-07-20T19:30:14.993Z"
   },
   {
    "duration": 29,
    "start_time": "2021-07-20T19:30:15.389Z"
   },
   {
    "duration": 48,
    "start_time": "2021-07-20T19:30:15.421Z"
   },
   {
    "duration": 17,
    "start_time": "2021-07-20T19:34:45.820Z"
   },
   {
    "duration": 23,
    "start_time": "2021-07-20T19:34:57.788Z"
   },
   {
    "duration": 19,
    "start_time": "2021-07-20T19:36:26.367Z"
   },
   {
    "duration": 23,
    "start_time": "2021-07-20T19:36:33.930Z"
   },
   {
    "duration": 31,
    "start_time": "2021-07-20T19:36:42.782Z"
   },
   {
    "duration": 9,
    "start_time": "2021-07-20T19:39:21.049Z"
   },
   {
    "duration": 7261,
    "start_time": "2021-07-20T19:39:24.367Z"
   },
   {
    "duration": 16,
    "start_time": "2021-07-20T19:41:54.091Z"
   },
   {
    "duration": 27,
    "start_time": "2021-07-20T19:42:04.146Z"
   },
   {
    "duration": 10,
    "start_time": "2021-07-20T19:42:13.274Z"
   },
   {
    "duration": 7257,
    "start_time": "2021-07-20T19:42:15.568Z"
   },
   {
    "duration": 16,
    "start_time": "2021-07-20T19:42:58.634Z"
   },
   {
    "duration": 109,
    "start_time": "2021-07-20T19:44:07.340Z"
   },
   {
    "duration": 7,
    "start_time": "2021-07-20T19:47:41.229Z"
   },
   {
    "duration": 7,
    "start_time": "2021-07-20T19:48:08.880Z"
   },
   {
    "duration": 5891,
    "start_time": "2021-07-20T19:48:11.712Z"
   },
   {
    "duration": 16,
    "start_time": "2021-07-20T19:48:17.605Z"
   },
   {
    "duration": 20,
    "start_time": "2021-07-20T19:48:24.671Z"
   },
   {
    "duration": 6,
    "start_time": "2021-07-20T19:48:59.216Z"
   },
   {
    "duration": 6169,
    "start_time": "2021-07-20T19:49:03.185Z"
   },
   {
    "duration": 9,
    "start_time": "2021-07-20T19:50:54.163Z"
   },
   {
    "duration": 6340,
    "start_time": "2021-07-20T19:50:57.344Z"
   },
   {
    "duration": 16,
    "start_time": "2021-07-20T19:51:08.325Z"
   },
   {
    "duration": 9,
    "start_time": "2021-07-20T19:52:45.661Z"
   },
   {
    "duration": 3822,
    "start_time": "2021-07-20T19:56:38.234Z"
   },
   {
    "duration": 1772,
    "start_time": "2021-07-20T19:56:42.059Z"
   },
   {
    "duration": 404,
    "start_time": "2021-07-20T19:56:43.835Z"
   },
   {
    "duration": 10,
    "start_time": "2021-07-20T19:56:44.241Z"
   },
   {
    "duration": 23,
    "start_time": "2021-07-20T19:56:44.253Z"
   },
   {
    "duration": 11,
    "start_time": "2021-07-20T19:56:44.278Z"
   },
   {
    "duration": 14,
    "start_time": "2021-07-20T19:56:44.291Z"
   },
   {
    "duration": 45,
    "start_time": "2021-07-20T19:56:44.309Z"
   },
   {
    "duration": 18,
    "start_time": "2021-07-20T19:56:44.358Z"
   },
   {
    "duration": 26,
    "start_time": "2021-07-20T19:56:44.379Z"
   },
   {
    "duration": 51,
    "start_time": "2021-07-20T19:56:44.408Z"
   },
   {
    "duration": 47,
    "start_time": "2021-07-20T19:56:44.462Z"
   },
   {
    "duration": 368,
    "start_time": "2021-07-20T19:56:44.512Z"
   },
   {
    "duration": 285,
    "start_time": "2021-07-20T19:56:44.883Z"
   },
   {
    "duration": 8,
    "start_time": "2021-07-20T19:56:45.171Z"
   },
   {
    "duration": 364,
    "start_time": "2021-07-20T19:56:45.181Z"
   },
   {
    "duration": 349,
    "start_time": "2021-07-20T19:56:45.554Z"
   },
   {
    "duration": 32,
    "start_time": "2021-07-20T19:56:45.906Z"
   },
   {
    "duration": 17,
    "start_time": "2021-07-20T19:56:45.955Z"
   },
   {
    "duration": 29,
    "start_time": "2021-07-20T19:56:45.975Z"
   },
   {
    "duration": 8,
    "start_time": "2021-07-20T19:56:46.006Z"
   },
   {
    "duration": 23,
    "start_time": "2021-07-20T19:56:46.017Z"
   },
   {
    "duration": 7717,
    "start_time": "2021-07-20T19:56:46.054Z"
   },
   {
    "duration": 17,
    "start_time": "2021-07-20T19:56:53.774Z"
   },
   {
    "duration": 17,
    "start_time": "2021-07-20T19:56:53.793Z"
   },
   {
    "duration": 54,
    "start_time": "2021-07-20T19:56:53.812Z"
   },
   {
    "duration": 17,
    "start_time": "2021-07-20T19:56:53.869Z"
   },
   {
    "duration": 34,
    "start_time": "2021-07-20T19:56:53.889Z"
   },
   {
    "duration": 585,
    "start_time": "2021-07-20T19:56:53.926Z"
   },
   {
    "duration": 297,
    "start_time": "2021-07-20T19:56:54.515Z"
   },
   {
    "duration": 11,
    "start_time": "2021-07-20T19:56:54.815Z"
   },
   {
    "duration": 380,
    "start_time": "2021-07-20T19:56:54.829Z"
   },
   {
    "duration": 449,
    "start_time": "2021-07-20T19:56:55.212Z"
   },
   {
    "duration": 25,
    "start_time": "2021-07-20T19:56:55.663Z"
   },
   {
    "duration": 16,
    "start_time": "2021-07-20T19:56:55.690Z"
   },
   {
    "duration": 48,
    "start_time": "2021-07-20T19:56:55.708Z"
   },
   {
    "duration": 28,
    "start_time": "2021-07-20T19:56:55.758Z"
   },
   {
    "duration": 9,
    "start_time": "2021-07-20T19:56:55.789Z"
   },
   {
    "duration": 18,
    "start_time": "2021-07-20T19:56:55.800Z"
   },
   {
    "duration": 65,
    "start_time": "2021-07-20T19:56:55.820Z"
   },
   {
    "duration": 72,
    "start_time": "2021-07-20T19:56:55.887Z"
   },
   {
    "duration": 15,
    "start_time": "2021-07-20T19:56:55.961Z"
   },
   {
    "duration": 25,
    "start_time": "2021-07-20T19:56:55.979Z"
   },
   {
    "duration": 17,
    "start_time": "2021-07-20T19:56:56.006Z"
   },
   {
    "duration": 17,
    "start_time": "2021-07-20T19:56:56.055Z"
   },
   {
    "duration": 28,
    "start_time": "2021-07-20T19:56:56.074Z"
   },
   {
    "duration": 48,
    "start_time": "2021-07-20T19:56:56.110Z"
   },
   {
    "duration": 34,
    "start_time": "2021-07-20T19:56:56.161Z"
   },
   {
    "duration": 13,
    "start_time": "2021-07-20T19:56:56.197Z"
   },
   {
    "duration": 48,
    "start_time": "2021-07-20T19:56:56.212Z"
   },
   {
    "duration": 5,
    "start_time": "2021-07-20T19:56:56.262Z"
   },
   {
    "duration": 9,
    "start_time": "2021-07-20T19:56:56.270Z"
   },
   {
    "duration": 486,
    "start_time": "2021-07-20T19:56:56.281Z"
   },
   {
    "duration": 94,
    "start_time": "2021-07-20T19:56:56.769Z"
   },
   {
    "duration": 12,
    "start_time": "2021-07-20T19:56:56.866Z"
   },
   {
    "duration": 13,
    "start_time": "2021-07-20T19:56:56.881Z"
   },
   {
    "duration": 100,
    "start_time": "2021-07-20T19:56:56.897Z"
   },
   {
    "duration": 91,
    "start_time": "2021-07-20T19:56:56.999Z"
   },
   {
    "duration": 535,
    "start_time": "2021-07-20T19:56:57.092Z"
   },
   {
    "duration": 991,
    "start_time": "2021-07-20T19:56:56.639Z"
   },
   {
    "duration": 989,
    "start_time": "2021-07-20T19:56:56.643Z"
   },
   {
    "duration": 989,
    "start_time": "2021-07-20T19:56:56.645Z"
   },
   {
    "duration": 872,
    "start_time": "2021-07-20T19:56:56.764Z"
   },
   {
    "duration": 866,
    "start_time": "2021-07-20T19:56:56.773Z"
   },
   {
    "duration": 865,
    "start_time": "2021-07-20T19:56:56.776Z"
   },
   {
    "duration": 864,
    "start_time": "2021-07-20T19:56:56.779Z"
   },
   {
    "duration": 864,
    "start_time": "2021-07-20T19:56:56.782Z"
   },
   {
    "duration": 863,
    "start_time": "2021-07-20T19:56:56.785Z"
   },
   {
    "duration": 7,
    "start_time": "2021-07-20T19:58:38.696Z"
   },
   {
    "duration": 7642,
    "start_time": "2021-07-20T19:58:41.675Z"
   },
   {
    "duration": 99,
    "start_time": "2021-07-20T20:30:36.623Z"
   },
   {
    "duration": 6,
    "start_time": "2021-07-20T20:31:09.523Z"
   },
   {
    "duration": 17,
    "start_time": "2021-07-20T20:31:18.657Z"
   },
   {
    "duration": 21,
    "start_time": "2021-07-20T20:31:27.396Z"
   },
   {
    "duration": 5,
    "start_time": "2021-07-20T20:31:33.709Z"
   },
   {
    "duration": 15,
    "start_time": "2021-07-20T20:31:42.943Z"
   },
   {
    "duration": 5,
    "start_time": "2021-07-20T20:32:25.686Z"
   },
   {
    "duration": 1753,
    "start_time": "2021-07-20T20:32:30.038Z"
   },
   {
    "duration": 17,
    "start_time": "2021-07-20T20:32:46.562Z"
   },
   {
    "duration": 499,
    "start_time": "2021-07-20T20:33:14.808Z"
   },
   {
    "duration": 6,
    "start_time": "2021-07-20T20:34:06.306Z"
   },
   {
    "duration": 9,
    "start_time": "2021-07-20T20:34:26.882Z"
   },
   {
    "duration": 5,
    "start_time": "2021-07-20T20:40:00.712Z"
   },
   {
    "duration": 619,
    "start_time": "2021-07-20T20:40:05.607Z"
   },
   {
    "duration": 5,
    "start_time": "2021-07-20T20:49:50.816Z"
   },
   {
    "duration": 4564,
    "start_time": "2021-07-20T20:50:05.640Z"
   },
   {
    "duration": 4,
    "start_time": "2021-07-20T20:51:52.513Z"
   },
   {
    "duration": 5678,
    "start_time": "2021-07-20T20:51:58.183Z"
   },
   {
    "duration": 99,
    "start_time": "2021-07-20T20:56:24.856Z"
   },
   {
    "duration": 273,
    "start_time": "2021-07-20T20:57:02.398Z"
   },
   {
    "duration": 121,
    "start_time": "2021-07-20T20:57:21.430Z"
   },
   {
    "duration": 5,
    "start_time": "2021-07-20T20:57:51.146Z"
   },
   {
    "duration": 4,
    "start_time": "2021-07-20T20:57:57.020Z"
   },
   {
    "duration": 4248,
    "start_time": "2021-07-20T20:58:16.222Z"
   },
   {
    "duration": 1005,
    "start_time": "2021-07-20T20:58:19.468Z"
   },
   {
    "duration": 5,
    "start_time": "2021-07-20T21:00:49.743Z"
   },
   {
    "duration": 5133,
    "start_time": "2021-07-20T21:01:07.649Z"
   },
   {
    "duration": 16,
    "start_time": "2021-07-20T21:01:27.592Z"
   },
   {
    "duration": 9,
    "start_time": "2021-07-20T21:01:31.258Z"
   },
   {
    "duration": 5,
    "start_time": "2021-07-20T21:02:56.578Z"
   },
   {
    "duration": 4962,
    "start_time": "2021-07-20T21:03:01.574Z"
   },
   {
    "duration": 10,
    "start_time": "2021-07-20T21:03:10.531Z"
   },
   {
    "duration": 407,
    "start_time": "2021-07-20T21:04:52.324Z"
   },
   {
    "duration": 461,
    "start_time": "2021-07-20T21:06:01.708Z"
   },
   {
    "duration": 27,
    "start_time": "2021-07-20T21:07:42.455Z"
   },
   {
    "duration": 18,
    "start_time": "2021-07-20T21:08:17.732Z"
   },
   {
    "duration": 17,
    "start_time": "2021-07-20T21:08:37.319Z"
   },
   {
    "duration": 9,
    "start_time": "2021-07-20T21:09:12.480Z"
   },
   {
    "duration": 5,
    "start_time": "2021-07-20T21:11:56.383Z"
   },
   {
    "duration": 5,
    "start_time": "2021-07-20T21:11:59.229Z"
   },
   {
    "duration": 4842,
    "start_time": "2021-07-20T21:12:02.000Z"
   },
   {
    "duration": 15,
    "start_time": "2021-07-20T21:23:18.990Z"
   },
   {
    "duration": 16,
    "start_time": "2021-07-20T21:25:02.268Z"
   },
   {
    "duration": 4499,
    "start_time": "2021-07-20T21:25:10.088Z"
   },
   {
    "duration": 14,
    "start_time": "2021-07-20T21:25:48.770Z"
   },
   {
    "duration": 4207,
    "start_time": "2021-07-20T21:28:14.780Z"
   },
   {
    "duration": 28,
    "start_time": "2021-07-20T21:28:23.607Z"
   },
   {
    "duration": 14,
    "start_time": "2021-07-20T21:28:37.143Z"
   },
   {
    "duration": 32,
    "start_time": "2021-07-20T21:29:48.876Z"
   },
   {
    "duration": 16,
    "start_time": "2021-07-20T21:30:06.326Z"
   },
   {
    "duration": 15,
    "start_time": "2021-07-20T21:30:49.382Z"
   },
   {
    "duration": 4167,
    "start_time": "2021-07-20T21:31:04.298Z"
   },
   {
    "duration": 5,
    "start_time": "2021-07-20T21:31:08.469Z"
   },
   {
    "duration": 416,
    "start_time": "2021-07-20T21:31:08.478Z"
   },
   {
    "duration": 10,
    "start_time": "2021-07-20T21:31:08.898Z"
   },
   {
    "duration": 25,
    "start_time": "2021-07-20T21:31:08.911Z"
   },
   {
    "duration": 20,
    "start_time": "2021-07-20T21:31:08.939Z"
   },
   {
    "duration": 11,
    "start_time": "2021-07-20T21:31:08.961Z"
   },
   {
    "duration": 14,
    "start_time": "2021-07-20T21:31:08.976Z"
   },
   {
    "duration": 21,
    "start_time": "2021-07-20T21:31:08.993Z"
   },
   {
    "duration": 45,
    "start_time": "2021-07-20T21:31:09.017Z"
   },
   {
    "duration": 16,
    "start_time": "2021-07-20T21:31:09.064Z"
   },
   {
    "duration": 35,
    "start_time": "2021-07-20T21:31:09.083Z"
   },
   {
    "duration": 395,
    "start_time": "2021-07-20T21:31:09.121Z"
   },
   {
    "duration": 284,
    "start_time": "2021-07-20T21:31:09.518Z"
   },
   {
    "duration": 10,
    "start_time": "2021-07-20T21:31:09.804Z"
   },
   {
    "duration": 366,
    "start_time": "2021-07-20T21:31:09.816Z"
   },
   {
    "duration": 359,
    "start_time": "2021-07-20T21:31:10.185Z"
   },
   {
    "duration": 28,
    "start_time": "2021-07-20T21:31:10.546Z"
   },
   {
    "duration": 18,
    "start_time": "2021-07-20T21:31:10.576Z"
   },
   {
    "duration": 10,
    "start_time": "2021-07-20T21:31:10.597Z"
   },
   {
    "duration": 5025,
    "start_time": "2021-07-20T21:31:10.610Z"
   },
   {
    "duration": 38,
    "start_time": "2021-07-20T21:31:15.637Z"
   },
   {
    "duration": 17,
    "start_time": "2021-07-20T21:31:15.680Z"
   },
   {
    "duration": 4,
    "start_time": "2021-07-20T21:31:15.701Z"
   },
   {
    "duration": 22,
    "start_time": "2021-07-20T21:31:15.708Z"
   },
   {
    "duration": 36,
    "start_time": "2021-07-20T21:31:15.733Z"
   },
   {
    "duration": 22,
    "start_time": "2021-07-20T21:31:15.772Z"
   },
   {
    "duration": 27,
    "start_time": "2021-07-20T21:31:15.796Z"
   },
   {
    "duration": 44,
    "start_time": "2021-07-20T21:31:15.826Z"
   },
   {
    "duration": 357,
    "start_time": "2021-07-20T21:31:15.873Z"
   },
   {
    "duration": 301,
    "start_time": "2021-07-20T21:31:16.232Z"
   },
   {
    "duration": 8,
    "start_time": "2021-07-20T21:31:16.536Z"
   },
   {
    "duration": 376,
    "start_time": "2021-07-20T21:31:16.555Z"
   },
   {
    "duration": 365,
    "start_time": "2021-07-20T21:31:16.933Z"
   },
   {
    "duration": 15,
    "start_time": "2021-07-20T21:31:17.301Z"
   },
   {
    "duration": 21,
    "start_time": "2021-07-20T21:31:17.319Z"
   },
   {
    "duration": 4291,
    "start_time": "2021-07-20T21:31:17.342Z"
   },
   {
    "duration": 40,
    "start_time": "2021-07-20T21:31:21.636Z"
   },
   {
    "duration": 15,
    "start_time": "2021-07-20T21:31:21.679Z"
   },
   {
    "duration": 429,
    "start_time": "2021-07-21T10:15:35.628Z"
   },
   {
    "duration": 4983,
    "start_time": "2021-07-21T10:15:59.624Z"
   },
   {
    "duration": 1403,
    "start_time": "2021-07-21T10:16:04.610Z"
   },
   {
    "duration": 406,
    "start_time": "2021-07-21T10:16:06.016Z"
   },
   {
    "duration": 10,
    "start_time": "2021-07-21T10:16:06.425Z"
   },
   {
    "duration": 27,
    "start_time": "2021-07-21T10:16:06.438Z"
   },
   {
    "duration": 8,
    "start_time": "2021-07-21T10:16:06.467Z"
   },
   {
    "duration": 19,
    "start_time": "2021-07-21T10:16:06.478Z"
   },
   {
    "duration": 29,
    "start_time": "2021-07-21T10:16:06.501Z"
   },
   {
    "duration": 13,
    "start_time": "2021-07-21T10:16:06.533Z"
   },
   {
    "duration": 31,
    "start_time": "2021-07-21T10:16:06.562Z"
   },
   {
    "duration": 21,
    "start_time": "2021-07-21T10:16:06.596Z"
   },
   {
    "duration": 76,
    "start_time": "2021-07-21T10:16:06.620Z"
   },
   {
    "duration": 378,
    "start_time": "2021-07-21T10:16:06.699Z"
   },
   {
    "duration": 293,
    "start_time": "2021-07-21T10:16:07.079Z"
   },
   {
    "duration": 10,
    "start_time": "2021-07-21T10:16:07.375Z"
   },
   {
    "duration": 381,
    "start_time": "2021-07-21T10:16:07.387Z"
   },
   {
    "duration": 366,
    "start_time": "2021-07-21T10:16:07.770Z"
   },
   {
    "duration": 38,
    "start_time": "2021-07-21T10:16:08.138Z"
   },
   {
    "duration": 25,
    "start_time": "2021-07-21T10:16:08.178Z"
   },
   {
    "duration": 5,
    "start_time": "2021-07-21T10:16:08.206Z"
   },
   {
    "duration": 5333,
    "start_time": "2021-07-21T10:16:08.213Z"
   },
   {
    "duration": 38,
    "start_time": "2021-07-21T10:16:13.548Z"
   },
   {
    "duration": 16,
    "start_time": "2021-07-21T10:16:13.592Z"
   },
   {
    "duration": 4,
    "start_time": "2021-07-21T10:16:13.613Z"
   },
   {
    "duration": 58,
    "start_time": "2021-07-21T10:16:13.620Z"
   },
   {
    "duration": 25,
    "start_time": "2021-07-21T10:16:13.681Z"
   },
   {
    "duration": 20,
    "start_time": "2021-07-21T10:16:13.709Z"
   },
   {
    "duration": 14,
    "start_time": "2021-07-21T10:16:13.732Z"
   },
   {
    "duration": 34,
    "start_time": "2021-07-21T10:16:13.749Z"
   },
   {
    "duration": 378,
    "start_time": "2021-07-21T10:16:13.785Z"
   },
   {
    "duration": 287,
    "start_time": "2021-07-21T10:16:14.165Z"
   },
   {
    "duration": 16,
    "start_time": "2021-07-21T10:16:14.455Z"
   },
   {
    "duration": 364,
    "start_time": "2021-07-21T10:16:14.473Z"
   },
   {
    "duration": 503,
    "start_time": "2021-07-21T10:16:14.839Z"
   },
   {
    "duration": 29,
    "start_time": "2021-07-21T10:16:15.344Z"
   },
   {
    "duration": 13,
    "start_time": "2021-07-21T10:16:15.377Z"
   },
   {
    "duration": 4574,
    "start_time": "2021-07-21T10:16:15.394Z"
   },
   {
    "duration": 27,
    "start_time": "2021-07-21T10:16:19.975Z"
   },
   {
    "duration": 14,
    "start_time": "2021-07-21T10:16:20.005Z"
   },
   {
    "duration": 59,
    "start_time": "2021-07-21T10:16:20.021Z"
   },
   {
    "duration": 15,
    "start_time": "2021-07-21T10:16:20.083Z"
   },
   {
    "duration": 29,
    "start_time": "2021-07-21T10:16:20.100Z"
   },
   {
    "duration": 45,
    "start_time": "2021-07-21T10:16:20.133Z"
   },
   {
    "duration": 22,
    "start_time": "2021-07-21T10:16:20.182Z"
   },
   {
    "duration": 42,
    "start_time": "2021-07-21T10:16:20.207Z"
   },
   {
    "duration": 57,
    "start_time": "2021-07-21T10:16:20.263Z"
   },
   {
    "duration": 42,
    "start_time": "2021-07-21T10:16:20.323Z"
   },
   {
    "duration": 23,
    "start_time": "2021-07-21T10:16:20.368Z"
   },
   {
    "duration": 18,
    "start_time": "2021-07-21T10:16:20.393Z"
   },
   {
    "duration": 31,
    "start_time": "2021-07-21T10:16:20.414Z"
   },
   {
    "duration": 37,
    "start_time": "2021-07-21T10:16:20.462Z"
   },
   {
    "duration": 33,
    "start_time": "2021-07-21T10:16:20.502Z"
   },
   {
    "duration": 57,
    "start_time": "2021-07-21T10:16:20.538Z"
   },
   {
    "duration": 11,
    "start_time": "2021-07-21T10:16:20.597Z"
   },
   {
    "duration": 17,
    "start_time": "2021-07-21T10:16:20.611Z"
   },
   {
    "duration": 40,
    "start_time": "2021-07-21T10:16:20.630Z"
   },
   {
    "duration": 7,
    "start_time": "2021-07-21T10:16:20.673Z"
   },
   {
    "duration": 499,
    "start_time": "2021-07-21T10:16:20.682Z"
   },
   {
    "duration": 90,
    "start_time": "2021-07-21T10:16:21.184Z"
   },
   {
    "duration": 12,
    "start_time": "2021-07-21T10:16:21.276Z"
   },
   {
    "duration": 12,
    "start_time": "2021-07-21T10:16:21.291Z"
   },
   {
    "duration": 104,
    "start_time": "2021-07-21T10:16:21.305Z"
   },
   {
    "duration": 90,
    "start_time": "2021-07-21T10:16:21.411Z"
   },
   {
    "duration": -494,
    "start_time": "2021-07-21T10:18:19.764Z"
   },
   {
    "duration": -495,
    "start_time": "2021-07-21T10:18:19.767Z"
   },
   {
    "duration": -497,
    "start_time": "2021-07-21T10:18:19.771Z"
   },
   {
    "duration": -500,
    "start_time": "2021-07-21T10:18:19.775Z"
   },
   {
    "duration": -503,
    "start_time": "2021-07-21T10:18:19.780Z"
   },
   {
    "duration": -514,
    "start_time": "2021-07-21T10:18:19.792Z"
   },
   {
    "duration": -523,
    "start_time": "2021-07-21T10:18:19.802Z"
   },
   {
    "duration": -526,
    "start_time": "2021-07-21T10:18:19.807Z"
   },
   {
    "duration": -898,
    "start_time": "2021-07-21T10:18:20.181Z"
   },
   {
    "duration": -905,
    "start_time": "2021-07-21T10:18:20.189Z"
   },
   {
    "duration": -908,
    "start_time": "2021-07-21T10:18:20.193Z"
   },
   {
    "duration": -910,
    "start_time": "2021-07-21T10:18:20.196Z"
   },
   {
    "duration": -912,
    "start_time": "2021-07-21T10:18:20.200Z"
   },
   {
    "duration": -914,
    "start_time": "2021-07-21T10:18:20.204Z"
   },
   {
    "duration": -917,
    "start_time": "2021-07-21T10:18:20.209Z"
   },
   {
    "duration": -919,
    "start_time": "2021-07-21T10:18:20.213Z"
   },
   {
    "duration": -920,
    "start_time": "2021-07-21T10:18:20.216Z"
   },
   {
    "duration": -922,
    "start_time": "2021-07-21T10:18:20.220Z"
   },
   {
    "duration": -863,
    "start_time": "2021-07-21T10:18:20.224Z"
   },
   {
    "duration": -865,
    "start_time": "2021-07-21T10:18:20.228Z"
   },
   {
    "duration": -867,
    "start_time": "2021-07-21T10:18:20.231Z"
   },
   {
    "duration": -869,
    "start_time": "2021-07-21T10:18:20.235Z"
   },
   {
    "duration": -870,
    "start_time": "2021-07-21T10:18:20.238Z"
   },
   {
    "duration": -872,
    "start_time": "2021-07-21T10:18:20.242Z"
   },
   {
    "duration": -874,
    "start_time": "2021-07-21T10:18:20.245Z"
   },
   {
    "duration": -875,
    "start_time": "2021-07-21T10:18:20.248Z"
   },
   {
    "duration": -878,
    "start_time": "2021-07-21T10:18:20.253Z"
   },
   {
    "duration": -881,
    "start_time": "2021-07-21T10:18:20.257Z"
   },
   {
    "duration": -883,
    "start_time": "2021-07-21T10:18:20.261Z"
   },
   {
    "duration": -884,
    "start_time": "2021-07-21T10:18:20.264Z"
   },
   {
    "duration": -886,
    "start_time": "2021-07-21T10:18:20.268Z"
   },
   {
    "duration": -887,
    "start_time": "2021-07-21T10:18:20.271Z"
   },
   {
    "duration": -889,
    "start_time": "2021-07-21T10:18:20.275Z"
   },
   {
    "duration": -890,
    "start_time": "2021-07-21T10:18:20.278Z"
   },
   {
    "duration": -891,
    "start_time": "2021-07-21T10:18:20.281Z"
   },
   {
    "duration": -892,
    "start_time": "2021-07-21T10:18:20.284Z"
   },
   {
    "duration": -893,
    "start_time": "2021-07-21T10:18:20.287Z"
   },
   {
    "duration": -901,
    "start_time": "2021-07-21T10:18:20.297Z"
   },
   {
    "duration": -902,
    "start_time": "2021-07-21T10:18:20.300Z"
   },
   {
    "duration": -903,
    "start_time": "2021-07-21T10:18:20.303Z"
   },
   {
    "duration": -905,
    "start_time": "2021-07-21T10:18:20.307Z"
   },
   {
    "duration": -849,
    "start_time": "2021-07-21T10:18:20.310Z"
   },
   {
    "duration": -851,
    "start_time": "2021-07-21T10:18:20.314Z"
   },
   {
    "duration": -852,
    "start_time": "2021-07-21T10:18:20.317Z"
   },
   {
    "duration": -851,
    "start_time": "2021-07-21T10:18:20.323Z"
   },
   {
    "duration": -851,
    "start_time": "2021-07-21T10:18:20.327Z"
   },
   {
    "duration": -854,
    "start_time": "2021-07-21T10:18:20.332Z"
   },
   {
    "duration": -857,
    "start_time": "2021-07-21T10:18:20.337Z"
   },
   {
    "duration": -860,
    "start_time": "2021-07-21T10:18:20.341Z"
   },
   {
    "duration": -860,
    "start_time": "2021-07-21T10:18:20.343Z"
   },
   {
    "duration": -862,
    "start_time": "2021-07-21T10:18:20.347Z"
   },
   {
    "duration": -864,
    "start_time": "2021-07-21T10:18:20.350Z"
   },
   {
    "duration": -865,
    "start_time": "2021-07-21T10:18:20.353Z"
   },
   {
    "duration": -867,
    "start_time": "2021-07-21T10:18:20.357Z"
   },
   {
    "duration": -870,
    "start_time": "2021-07-21T10:18:20.361Z"
   },
   {
    "duration": -872,
    "start_time": "2021-07-21T10:18:20.365Z"
   },
   {
    "duration": -873,
    "start_time": "2021-07-21T10:18:20.368Z"
   },
   {
    "duration": -874,
    "start_time": "2021-07-21T10:18:20.371Z"
   },
   {
    "duration": -878,
    "start_time": "2021-07-21T10:18:20.376Z"
   },
   {
    "duration": -880,
    "start_time": "2021-07-21T10:18:20.380Z"
   },
   {
    "duration": -882,
    "start_time": "2021-07-21T10:18:20.384Z"
   },
   {
    "duration": -884,
    "start_time": "2021-07-21T10:18:20.387Z"
   },
   {
    "duration": -885,
    "start_time": "2021-07-21T10:18:20.390Z"
   },
   {
    "duration": -828,
    "start_time": "2021-07-21T10:18:20.394Z"
   },
   {
    "duration": -837,
    "start_time": "2021-07-21T10:18:20.404Z"
   },
   {
    "duration": -839,
    "start_time": "2021-07-21T10:18:20.408Z"
   },
   {
    "duration": -842,
    "start_time": "2021-07-21T10:18:20.412Z"
   },
   {
    "duration": -842,
    "start_time": "2021-07-21T10:18:20.414Z"
   },
   {
    "duration": -842,
    "start_time": "2021-07-21T10:18:20.417Z"
   },
   {
    "duration": -843,
    "start_time": "2021-07-21T10:18:20.420Z"
   },
   {
    "duration": -845,
    "start_time": "2021-07-21T10:18:20.423Z"
   },
   {
    "duration": -847,
    "start_time": "2021-07-21T10:18:20.427Z"
   },
   {
    "duration": 3699,
    "start_time": "2021-07-21T10:21:01.548Z"
   },
   {
    "duration": 4,
    "start_time": "2021-07-21T10:21:08.120Z"
   },
   {
    "duration": 3690,
    "start_time": "2021-07-21T10:21:30.269Z"
   },
   {
    "duration": 4,
    "start_time": "2021-07-21T10:21:33.963Z"
   },
   {
    "duration": 423,
    "start_time": "2021-07-21T10:21:33.971Z"
   },
   {
    "duration": 12,
    "start_time": "2021-07-21T10:21:34.397Z"
   },
   {
    "duration": 31,
    "start_time": "2021-07-21T10:21:34.411Z"
   },
   {
    "duration": 18,
    "start_time": "2021-07-21T10:21:34.445Z"
   },
   {
    "duration": 19,
    "start_time": "2021-07-21T10:21:34.465Z"
   },
   {
    "duration": 20,
    "start_time": "2021-07-21T10:21:34.488Z"
   },
   {
    "duration": 11,
    "start_time": "2021-07-21T10:21:34.511Z"
   },
   {
    "duration": 45,
    "start_time": "2021-07-21T10:21:34.524Z"
   },
   {
    "duration": 16,
    "start_time": "2021-07-21T10:21:34.571Z"
   },
   {
    "duration": 36,
    "start_time": "2021-07-21T10:21:34.590Z"
   },
   {
    "duration": 403,
    "start_time": "2021-07-21T10:21:34.629Z"
   },
   {
    "duration": 309,
    "start_time": "2021-07-21T10:21:35.034Z"
   },
   {
    "duration": 26,
    "start_time": "2021-07-21T10:21:35.345Z"
   },
   {
    "duration": 377,
    "start_time": "2021-07-21T10:21:35.374Z"
   },
   {
    "duration": 363,
    "start_time": "2021-07-21T10:21:35.753Z"
   },
   {
    "duration": 28,
    "start_time": "2021-07-21T10:21:36.119Z"
   },
   {
    "duration": 28,
    "start_time": "2021-07-21T10:21:36.163Z"
   },
   {
    "duration": 12,
    "start_time": "2021-07-21T10:21:36.195Z"
   },
   {
    "duration": 11127,
    "start_time": "2021-07-21T10:21:36.210Z"
   },
   {
    "duration": 56,
    "start_time": "2021-07-21T10:21:47.340Z"
   },
   {
    "duration": 17,
    "start_time": "2021-07-21T10:21:47.402Z"
   },
   {
    "duration": 5,
    "start_time": "2021-07-21T10:21:47.422Z"
   },
   {
    "duration": 41,
    "start_time": "2021-07-21T10:21:47.430Z"
   },
   {
    "duration": 19,
    "start_time": "2021-07-21T10:21:47.475Z"
   },
   {
    "duration": 21,
    "start_time": "2021-07-21T10:21:47.498Z"
   },
   {
    "duration": 12,
    "start_time": "2021-07-21T10:21:47.523Z"
   },
   {
    "duration": 51,
    "start_time": "2021-07-21T10:21:47.538Z"
   },
   {
    "duration": 403,
    "start_time": "2021-07-21T10:21:47.592Z"
   },
   {
    "duration": 321,
    "start_time": "2021-07-21T10:21:47.998Z"
   },
   {
    "duration": 8,
    "start_time": "2021-07-21T10:21:48.321Z"
   },
   {
    "duration": 386,
    "start_time": "2021-07-21T10:21:48.332Z"
   },
   {
    "duration": 371,
    "start_time": "2021-07-21T10:21:48.720Z"
   },
   {
    "duration": 16,
    "start_time": "2021-07-21T10:21:49.093Z"
   },
   {
    "duration": 5,
    "start_time": "2021-07-21T10:21:49.112Z"
   },
   {
    "duration": 4641,
    "start_time": "2021-07-21T10:21:49.120Z"
   },
   {
    "duration": 26,
    "start_time": "2021-07-21T10:21:53.767Z"
   },
   {
    "duration": 14,
    "start_time": "2021-07-21T10:21:53.796Z"
   },
   {
    "duration": 16,
    "start_time": "2021-07-21T10:21:53.812Z"
   },
   {
    "duration": 48,
    "start_time": "2021-07-21T10:21:53.830Z"
   },
   {
    "duration": 28,
    "start_time": "2021-07-21T10:21:53.880Z"
   },
   {
    "duration": 9,
    "start_time": "2021-07-21T10:21:53.910Z"
   },
   {
    "duration": 54,
    "start_time": "2021-07-21T10:21:53.922Z"
   },
   {
    "duration": 41,
    "start_time": "2021-07-21T10:21:53.978Z"
   },
   {
    "duration": 78,
    "start_time": "2021-07-21T10:21:54.022Z"
   },
   {
    "duration": 14,
    "start_time": "2021-07-21T10:21:54.103Z"
   },
   {
    "duration": 50,
    "start_time": "2021-07-21T10:21:54.119Z"
   },
   {
    "duration": 18,
    "start_time": "2021-07-21T10:21:54.172Z"
   },
   {
    "duration": 25,
    "start_time": "2021-07-21T10:21:54.192Z"
   },
   {
    "duration": 57,
    "start_time": "2021-07-21T10:21:54.220Z"
   },
   {
    "duration": 23,
    "start_time": "2021-07-21T10:21:54.279Z"
   },
   {
    "duration": 40,
    "start_time": "2021-07-21T10:21:54.305Z"
   },
   {
    "duration": 30,
    "start_time": "2021-07-21T10:21:54.347Z"
   },
   {
    "duration": 17,
    "start_time": "2021-07-21T10:21:54.379Z"
   },
   {
    "duration": 10,
    "start_time": "2021-07-21T10:21:54.399Z"
   },
   {
    "duration": 14,
    "start_time": "2021-07-21T10:21:54.411Z"
   },
   {
    "duration": 493,
    "start_time": "2021-07-21T10:21:54.427Z"
   },
   {
    "duration": 87,
    "start_time": "2021-07-21T10:21:54.923Z"
   },
   {
    "duration": 12,
    "start_time": "2021-07-21T10:21:55.012Z"
   },
   {
    "duration": 35,
    "start_time": "2021-07-21T10:21:55.026Z"
   },
   {
    "duration": 85,
    "start_time": "2021-07-21T10:21:55.063Z"
   },
   {
    "duration": 120,
    "start_time": "2021-07-21T10:22:15.788Z"
   },
   {
    "duration": 1176,
    "start_time": "2021-07-21T10:24:11.576Z"
   },
   {
    "duration": 2276,
    "start_time": "2021-07-21T10:26:12.836Z"
   },
   {
    "duration": 89,
    "start_time": "2021-07-21T10:26:15.213Z"
   },
   {
    "duration": 3025,
    "start_time": "2021-07-21T10:26:25.645Z"
   },
   {
    "duration": 5005,
    "start_time": "2021-07-21T10:28:32.551Z"
   },
   {
    "duration": 1694,
    "start_time": "2021-07-21T10:29:14.403Z"
   },
   {
    "duration": 72,
    "start_time": "2021-07-21T10:30:49.404Z"
   },
   {
    "duration": 82,
    "start_time": "2021-07-21T10:31:17.150Z"
   },
   {
    "duration": 426,
    "start_time": "2021-07-21T10:31:32.218Z"
   },
   {
    "duration": 77,
    "start_time": "2021-07-21T10:31:53.081Z"
   },
   {
    "duration": 92,
    "start_time": "2021-07-21T10:32:57.947Z"
   },
   {
    "duration": 1260,
    "start_time": "2021-07-21T10:33:24.773Z"
   },
   {
    "duration": 1295,
    "start_time": "2021-07-21T10:34:00.493Z"
   },
   {
    "duration": 81,
    "start_time": "2021-07-21T10:34:38.754Z"
   },
   {
    "duration": 82,
    "start_time": "2021-07-21T10:34:53.241Z"
   },
   {
    "duration": 75,
    "start_time": "2021-07-21T10:35:12.486Z"
   },
   {
    "duration": 81,
    "start_time": "2021-07-21T10:35:37.792Z"
   },
   {
    "duration": 79,
    "start_time": "2021-07-21T10:36:14.251Z"
   },
   {
    "duration": 7,
    "start_time": "2021-07-21T10:36:17.285Z"
   },
   {
    "duration": 1282,
    "start_time": "2021-07-21T10:38:07.987Z"
   },
   {
    "duration": 875,
    "start_time": "2021-07-21T10:40:47.344Z"
   },
   {
    "duration": 9492,
    "start_time": "2021-07-21T10:46:53.162Z"
   },
   {
    "duration": 1720,
    "start_time": "2021-07-21T10:47:58.472Z"
   },
   {
    "duration": 79,
    "start_time": "2021-07-21T10:48:29.575Z"
   },
   {
    "duration": 86,
    "start_time": "2021-07-21T10:49:50.221Z"
   },
   {
    "duration": 16,
    "start_time": "2021-07-21T10:51:23.272Z"
   },
   {
    "duration": 1300,
    "start_time": "2021-07-21T10:53:39.591Z"
   },
   {
    "duration": 1353,
    "start_time": "2021-07-21T10:56:06.312Z"
   },
   {
    "duration": 1330,
    "start_time": "2021-07-21T10:57:57.855Z"
   },
   {
    "duration": 1309,
    "start_time": "2021-07-21T10:59:04.146Z"
   },
   {
    "duration": 1313,
    "start_time": "2021-07-21T11:12:05.367Z"
   },
   {
    "duration": 113,
    "start_time": "2021-07-21T11:13:48.494Z"
   },
   {
    "duration": 1893,
    "start_time": "2021-07-21T11:14:00.716Z"
   },
   {
    "duration": 70,
    "start_time": "2021-07-21T11:28:38.680Z"
   },
   {
    "duration": 1258,
    "start_time": "2021-07-21T11:28:48.041Z"
   },
   {
    "duration": -123,
    "start_time": "2021-07-21T11:42:22.513Z"
   },
   {
    "duration": -128,
    "start_time": "2021-07-21T11:42:22.520Z"
   },
   {
    "duration": -130,
    "start_time": "2021-07-21T11:42:22.523Z"
   },
   {
    "duration": 72,
    "start_time": "2021-07-21T11:52:32.145Z"
   },
   {
    "duration": 1305,
    "start_time": "2021-07-21T11:52:40.043Z"
   },
   {
    "duration": 3876,
    "start_time": "2021-07-21T12:14:22.277Z"
   },
   {
    "duration": 5,
    "start_time": "2021-07-21T12:14:26.156Z"
   },
   {
    "duration": 418,
    "start_time": "2021-07-21T12:14:26.164Z"
   },
   {
    "duration": 10,
    "start_time": "2021-07-21T12:14:26.586Z"
   },
   {
    "duration": 21,
    "start_time": "2021-07-21T12:14:26.600Z"
   },
   {
    "duration": 18,
    "start_time": "2021-07-21T12:14:26.624Z"
   },
   {
    "duration": 25,
    "start_time": "2021-07-21T12:14:26.645Z"
   },
   {
    "duration": 13,
    "start_time": "2021-07-21T12:14:26.673Z"
   },
   {
    "duration": 11,
    "start_time": "2021-07-21T12:14:26.689Z"
   },
   {
    "duration": 4503,
    "start_time": "2021-07-21T12:14:53.415Z"
   },
   {
    "duration": 5,
    "start_time": "2021-07-21T12:14:57.922Z"
   },
   {
    "duration": 408,
    "start_time": "2021-07-21T12:14:57.930Z"
   },
   {
    "duration": 9,
    "start_time": "2021-07-21T12:14:58.341Z"
   },
   {
    "duration": 26,
    "start_time": "2021-07-21T12:14:58.353Z"
   },
   {
    "duration": 5721,
    "start_time": "2021-07-21T12:14:58.382Z"
   },
   {
    "duration": 16,
    "start_time": "2021-07-21T12:15:04.107Z"
   },
   {
    "duration": 37,
    "start_time": "2021-07-21T12:15:04.129Z"
   },
   {
    "duration": 12,
    "start_time": "2021-07-21T12:15:04.169Z"
   },
   {
    "duration": 32,
    "start_time": "2021-07-21T12:15:04.183Z"
   },
   {
    "duration": 15,
    "start_time": "2021-07-21T12:15:04.217Z"
   },
   {
    "duration": 60,
    "start_time": "2021-07-21T12:15:04.234Z"
   },
   {
    "duration": 385,
    "start_time": "2021-07-21T12:15:04.296Z"
   },
   {
    "duration": 302,
    "start_time": "2021-07-21T12:15:04.683Z"
   },
   {
    "duration": 11,
    "start_time": "2021-07-21T12:15:04.987Z"
   },
   {
    "duration": 398,
    "start_time": "2021-07-21T12:15:05.001Z"
   },
   {
    "duration": 400,
    "start_time": "2021-07-21T12:15:05.402Z"
   },
   {
    "duration": 28,
    "start_time": "2021-07-21T12:15:05.805Z"
   },
   {
    "duration": 40,
    "start_time": "2021-07-21T12:15:05.835Z"
   },
   {
    "duration": 6,
    "start_time": "2021-07-21T12:15:05.878Z"
   },
   {
    "duration": 5418,
    "start_time": "2021-07-21T12:15:05.887Z"
   },
   {
    "duration": 28,
    "start_time": "2021-07-21T12:15:11.307Z"
   },
   {
    "duration": 37,
    "start_time": "2021-07-21T12:15:11.339Z"
   },
   {
    "duration": 5361,
    "start_time": "2021-07-21T12:15:45.112Z"
   },
   {
    "duration": 27,
    "start_time": "2021-07-21T12:15:58.644Z"
   },
   {
    "duration": 22,
    "start_time": "2021-07-21T12:16:06.255Z"
   },
   {
    "duration": 103,
    "start_time": "2021-07-21T12:26:42.955Z"
   },
   {
    "duration": 121,
    "start_time": "2021-07-21T12:27:10.327Z"
   },
   {
    "duration": 106,
    "start_time": "2021-07-21T12:28:18.154Z"
   },
   {
    "duration": 116,
    "start_time": "2021-07-21T12:29:15.231Z"
   },
   {
    "duration": 21,
    "start_time": "2021-07-21T12:36:21.869Z"
   },
   {
    "duration": 15,
    "start_time": "2021-07-21T12:36:31.464Z"
   },
   {
    "duration": 29,
    "start_time": "2021-07-21T12:38:24.833Z"
   },
   {
    "duration": 5,
    "start_time": "2021-07-21T12:51:04.517Z"
   },
   {
    "duration": 8,
    "start_time": "2021-07-21T12:51:43.482Z"
   },
   {
    "duration": 5,
    "start_time": "2021-07-21T12:51:47.217Z"
   },
   {
    "duration": 1777,
    "start_time": "2021-07-21T12:51:50.517Z"
   },
   {
    "duration": 59,
    "start_time": "2021-07-21T12:54:33.086Z"
   },
   {
    "duration": 4,
    "start_time": "2021-07-21T12:54:43.479Z"
   },
   {
    "duration": 5,
    "start_time": "2021-07-21T12:54:46.754Z"
   },
   {
    "duration": 4617,
    "start_time": "2021-07-21T12:54:51.774Z"
   },
   {
    "duration": 27,
    "start_time": "2021-07-21T12:55:05.515Z"
   },
   {
    "duration": 19,
    "start_time": "2021-07-21T12:55:51.829Z"
   },
   {
    "duration": 18,
    "start_time": "2021-07-21T12:56:01.731Z"
   },
   {
    "duration": 23,
    "start_time": "2021-07-21T12:56:05.764Z"
   },
   {
    "duration": 31,
    "start_time": "2021-07-21T12:57:01.624Z"
   },
   {
    "duration": 11,
    "start_time": "2021-07-21T13:02:47.123Z"
   },
   {
    "duration": 12,
    "start_time": "2021-07-21T13:02:56.243Z"
   },
   {
    "duration": 355,
    "start_time": "2021-07-21T19:25:57.454Z"
   },
   {
    "duration": 4572,
    "start_time": "2021-07-21T19:26:27.871Z"
   },
   {
    "duration": 1347,
    "start_time": "2021-07-21T19:26:32.446Z"
   },
   {
    "duration": 364,
    "start_time": "2021-07-21T19:26:33.796Z"
   },
   {
    "duration": 3196,
    "start_time": "2021-07-21T19:26:50.641Z"
   },
   {
    "duration": 6,
    "start_time": "2021-07-21T19:26:53.841Z"
   },
   {
    "duration": 386,
    "start_time": "2021-07-21T19:26:53.850Z"
   },
   {
    "duration": 9,
    "start_time": "2021-07-21T19:26:54.239Z"
   },
   {
    "duration": 24,
    "start_time": "2021-07-21T19:26:54.250Z"
   },
   {
    "duration": 9,
    "start_time": "2021-07-21T19:27:20.680Z"
   },
   {
    "duration": 9,
    "start_time": "2021-07-21T19:27:24.183Z"
   },
   {
    "duration": 13,
    "start_time": "2021-07-21T19:27:26.685Z"
   },
   {
    "duration": 10,
    "start_time": "2021-07-21T19:27:41.840Z"
   },
   {
    "duration": 7,
    "start_time": "2021-07-21T19:27:43.763Z"
   },
   {
    "duration": 3,
    "start_time": "2021-07-21T19:27:50.516Z"
   },
   {
    "duration": 21,
    "start_time": "2021-07-21T19:29:34.708Z"
   },
   {
    "duration": 14,
    "start_time": "2021-07-21T19:29:36.192Z"
   },
   {
    "duration": 32,
    "start_time": "2021-07-21T19:29:37.169Z"
   },
   {
    "duration": 10,
    "start_time": "2021-07-21T19:31:13.774Z"
   },
   {
    "duration": 21,
    "start_time": "2021-07-21T19:31:33.609Z"
   },
   {
    "duration": 54,
    "start_time": "2021-07-21T19:32:03.213Z"
   },
   {
    "duration": 21,
    "start_time": "2021-07-21T19:33:33.356Z"
   },
   {
    "duration": 319,
    "start_time": "2021-07-21T19:35:19.524Z"
   },
   {
    "duration": 266,
    "start_time": "2021-07-21T19:35:19.845Z"
   },
   {
    "duration": 9,
    "start_time": "2021-07-21T19:35:21.172Z"
   },
   {
    "duration": 323,
    "start_time": "2021-07-21T19:35:23.272Z"
   },
   {
    "duration": 307,
    "start_time": "2021-07-21T19:35:24.389Z"
   },
   {
    "duration": 30,
    "start_time": "2021-07-21T19:35:25.991Z"
   },
   {
    "duration": 16,
    "start_time": "2021-07-21T19:35:33.442Z"
   },
   {
    "duration": 4,
    "start_time": "2021-07-21T19:35:51.740Z"
   },
   {
    "duration": 4481,
    "start_time": "2021-07-21T19:35:53.323Z"
   },
   {
    "duration": 16,
    "start_time": "2021-07-21T19:35:57.807Z"
   },
   {
    "duration": 31,
    "start_time": "2021-07-21T19:35:57.826Z"
   },
   {
    "duration": 16,
    "start_time": "2021-07-21T19:38:40.017Z"
   },
   {
    "duration": 18,
    "start_time": "2021-07-21T19:39:42.196Z"
   },
   {
    "duration": 12,
    "start_time": "2021-07-21T19:39:44.909Z"
   },
   {
    "duration": 22,
    "start_time": "2021-07-21T19:39:49.973Z"
   },
   {
    "duration": 322,
    "start_time": "2021-07-21T19:39:52.736Z"
   },
   {
    "duration": 247,
    "start_time": "2021-07-21T19:39:54.625Z"
   },
   {
    "duration": 8,
    "start_time": "2021-07-21T19:40:00.033Z"
   },
   {
    "duration": 383,
    "start_time": "2021-07-21T19:40:04.221Z"
   },
   {
    "duration": 348,
    "start_time": "2021-07-21T19:40:07.247Z"
   },
   {
    "duration": 13,
    "start_time": "2021-07-21T19:41:39.896Z"
   },
   {
    "duration": 61,
    "start_time": "2021-07-21T19:41:42.876Z"
   },
   {
    "duration": 3,
    "start_time": "2021-07-21T19:42:25.751Z"
   },
   {
    "duration": 5,
    "start_time": "2021-07-21T19:42:26.687Z"
   },
   {
    "duration": 4216,
    "start_time": "2021-07-21T19:42:29.393Z"
   },
   {
    "duration": 14,
    "start_time": "2021-07-21T19:42:33.612Z"
   },
   {
    "duration": 37,
    "start_time": "2021-07-21T19:42:33.629Z"
   },
   {
    "duration": 15,
    "start_time": "2021-07-21T19:43:31.766Z"
   },
   {
    "duration": 22,
    "start_time": "2021-07-21T19:47:45.050Z"
   },
   {
    "duration": 15,
    "start_time": "2021-07-21T19:48:04.812Z"
   },
   {
    "duration": 26,
    "start_time": "2021-07-21T19:48:19.245Z"
   },
   {
    "duration": 5,
    "start_time": "2021-07-21T19:48:47.899Z"
   },
   {
    "duration": 5,
    "start_time": "2021-07-21T19:48:49.436Z"
   },
   {
    "duration": 3876,
    "start_time": "2021-07-21T19:48:50.513Z"
   },
   {
    "duration": 11,
    "start_time": "2021-07-21T19:48:58.762Z"
   },
   {
    "duration": 15,
    "start_time": "2021-07-21T19:48:59.642Z"
   },
   {
    "duration": 480,
    "start_time": "2021-07-21T19:49:25.012Z"
   },
   {
    "duration": 21,
    "start_time": "2021-07-21T19:49:40.949Z"
   },
   {
    "duration": 5,
    "start_time": "2021-07-21T19:50:16.643Z"
   },
   {
    "duration": 18,
    "start_time": "2021-07-21T19:50:37.895Z"
   },
   {
    "duration": 89,
    "start_time": "2021-07-21T19:51:29.700Z"
   },
   {
    "duration": 86,
    "start_time": "2021-07-21T19:51:55.966Z"
   },
   {
    "duration": 84,
    "start_time": "2021-07-21T19:52:12.417Z"
   },
   {
    "duration": 145,
    "start_time": "2021-07-21T19:52:32.173Z"
   },
   {
    "duration": 15,
    "start_time": "2021-07-21T19:53:51.073Z"
   },
   {
    "duration": 14,
    "start_time": "2021-07-21T19:53:53.376Z"
   },
   {
    "duration": 18,
    "start_time": "2021-07-21T19:54:58.658Z"
   },
   {
    "duration": 28,
    "start_time": "2021-07-21T19:55:36.076Z"
   },
   {
    "duration": 5,
    "start_time": "2021-07-21T20:02:41.944Z"
   },
   {
    "duration": 5,
    "start_time": "2021-07-21T20:02:42.829Z"
   },
   {
    "duration": 3916,
    "start_time": "2021-07-21T20:02:44.653Z"
   },
   {
    "duration": 11,
    "start_time": "2021-07-21T20:02:48.571Z"
   },
   {
    "duration": 14,
    "start_time": "2021-07-21T20:02:48.584Z"
   },
   {
    "duration": 18,
    "start_time": "2021-07-21T20:03:01.926Z"
   },
   {
    "duration": 3,
    "start_time": "2021-07-21T20:05:41.981Z"
   },
   {
    "duration": 320,
    "start_time": "2021-07-21T20:05:44.090Z"
   },
   {
    "duration": 266,
    "start_time": "2021-07-21T20:05:45.424Z"
   },
   {
    "duration": 8,
    "start_time": "2021-07-21T20:05:46.550Z"
   },
   {
    "duration": 346,
    "start_time": "2021-07-21T20:05:49.326Z"
   },
   {
    "duration": 309,
    "start_time": "2021-07-21T20:05:50.601Z"
   },
   {
    "duration": 6,
    "start_time": "2021-07-21T20:06:22.424Z"
   },
   {
    "duration": 20,
    "start_time": "2021-07-21T20:07:15.830Z"
   },
   {
    "duration": 15,
    "start_time": "2021-07-21T20:07:21.203Z"
   },
   {
    "duration": 59,
    "start_time": "2021-07-21T20:07:22.549Z"
   },
   {
    "duration": 15,
    "start_time": "2021-07-21T20:09:15.950Z"
   },
   {
    "duration": 62,
    "start_time": "2021-07-21T20:09:16.947Z"
   },
   {
    "duration": 20,
    "start_time": "2021-07-21T20:09:33.308Z"
   },
   {
    "duration": 15,
    "start_time": "2021-07-21T20:09:50.807Z"
   },
   {
    "duration": 12,
    "start_time": "2021-07-21T20:09:52.518Z"
   },
   {
    "duration": 14,
    "start_time": "2021-07-21T20:09:55.286Z"
   },
   {
    "duration": 29,
    "start_time": "2021-07-21T20:09:56.442Z"
   },
   {
    "duration": 3,
    "start_time": "2021-07-21T20:11:55.768Z"
   },
   {
    "duration": 385,
    "start_time": "2021-07-21T20:11:56.704Z"
   },
   {
    "duration": 3,
    "start_time": "2021-07-21T20:13:45.302Z"
   },
   {
    "duration": 27,
    "start_time": "2021-07-21T20:13:54.181Z"
   },
   {
    "duration": 15,
    "start_time": "2021-07-21T20:13:56.733Z"
   },
   {
    "duration": 21,
    "start_time": "2021-07-21T20:16:20.402Z"
   },
   {
    "duration": 5,
    "start_time": "2021-07-21T20:16:24.308Z"
   },
   {
    "duration": 3,
    "start_time": "2021-07-21T20:16:33.649Z"
   },
   {
    "duration": 6,
    "start_time": "2021-07-21T20:16:38.976Z"
   },
   {
    "duration": 6858,
    "start_time": "2021-07-21T20:16:41.614Z"
   },
   {
    "duration": -307,
    "start_time": "2021-07-21T20:16:48.782Z"
   },
   {
    "duration": 5,
    "start_time": "2021-07-21T20:18:19.284Z"
   },
   {
    "duration": 3588,
    "start_time": "2021-07-21T20:18:22.306Z"
   },
   {
    "duration": 10,
    "start_time": "2021-07-21T20:18:28.318Z"
   },
   {
    "duration": 15,
    "start_time": "2021-07-21T20:18:49.096Z"
   },
   {
    "duration": 3519,
    "start_time": "2021-07-21T20:18:58.672Z"
   },
   {
    "duration": 21,
    "start_time": "2021-07-21T20:23:32.264Z"
   },
   {
    "duration": 50,
    "start_time": "2021-07-21T20:23:38.179Z"
   },
   {
    "duration": 15,
    "start_time": "2021-07-21T20:23:45.791Z"
   },
   {
    "duration": 19,
    "start_time": "2021-07-21T20:23:47.417Z"
   },
   {
    "duration": 19,
    "start_time": "2021-07-21T20:23:49.292Z"
   },
   {
    "duration": 17,
    "start_time": "2021-07-21T20:23:59.984Z"
   },
   {
    "duration": 30,
    "start_time": "2021-07-21T20:24:00.591Z"
   },
   {
    "duration": 22,
    "start_time": "2021-07-21T20:24:01.601Z"
   },
   {
    "duration": 13,
    "start_time": "2021-07-21T20:24:42.797Z"
   },
   {
    "duration": 32,
    "start_time": "2021-07-21T20:24:43.519Z"
   },
   {
    "duration": 25,
    "start_time": "2021-07-21T20:24:44.167Z"
   },
   {
    "duration": 15,
    "start_time": "2021-07-21T20:24:50.592Z"
   },
   {
    "duration": 23,
    "start_time": "2021-07-21T20:24:51.140Z"
   },
   {
    "duration": 22,
    "start_time": "2021-07-21T20:24:52.038Z"
   },
   {
    "duration": 30,
    "start_time": "2021-07-21T20:25:00.545Z"
   },
   {
    "duration": 12,
    "start_time": "2021-07-21T20:25:15.625Z"
   },
   {
    "duration": 12,
    "start_time": "2021-07-21T20:25:30.329Z"
   },
   {
    "duration": 15,
    "start_time": "2021-07-21T20:25:35.044Z"
   },
   {
    "duration": 5,
    "start_time": "2021-07-21T20:25:40.644Z"
   },
   {
    "duration": 7,
    "start_time": "2021-07-21T20:25:51.909Z"
   },
   {
    "duration": 414,
    "start_time": "2021-07-21T20:25:58.826Z"
   },
   {
    "duration": 76,
    "start_time": "2021-07-21T20:26:01.408Z"
   },
   {
    "duration": 35,
    "start_time": "2021-07-21T20:27:24.622Z"
   },
   {
    "duration": 51,
    "start_time": "2021-07-21T20:28:08.650Z"
   },
   {
    "duration": 44,
    "start_time": "2021-07-21T20:28:23.613Z"
   },
   {
    "duration": 16,
    "start_time": "2021-07-21T20:29:19.033Z"
   },
   {
    "duration": 5,
    "start_time": "2021-07-21T20:29:24.386Z"
   },
   {
    "duration": 6,
    "start_time": "2021-07-21T20:29:30.399Z"
   },
   {
    "duration": 420,
    "start_time": "2021-07-21T20:29:33.076Z"
   },
   {
    "duration": 116,
    "start_time": "2021-07-21T20:29:36.322Z"
   },
   {
    "duration": 11,
    "start_time": "2021-07-21T20:29:41.283Z"
   },
   {
    "duration": 10,
    "start_time": "2021-07-21T20:29:49.249Z"
   },
   {
    "duration": 118,
    "start_time": "2021-07-21T20:29:50.373Z"
   },
   {
    "duration": 125,
    "start_time": "2021-07-21T20:29:54.453Z"
   },
   {
    "duration": 70,
    "start_time": "2021-07-21T20:30:00.997Z"
   },
   {
    "duration": 1982,
    "start_time": "2021-07-21T20:30:03.261Z"
   },
   {
    "duration": 1452,
    "start_time": "2021-07-21T20:30:25.980Z"
   },
   {
    "duration": 1281,
    "start_time": "2021-07-21T20:31:57.750Z"
   },
   {
    "duration": 1265,
    "start_time": "2021-07-21T20:32:09.013Z"
   },
   {
    "duration": 1400,
    "start_time": "2021-07-21T20:33:04.582Z"
   },
   {
    "duration": 1013,
    "start_time": "2021-07-21T20:33:52.435Z"
   },
   {
    "duration": 1060,
    "start_time": "2021-07-21T20:38:04.921Z"
   },
   {
    "duration": 186,
    "start_time": "2021-07-21T20:39:21.749Z"
   },
   {
    "duration": 1086,
    "start_time": "2021-07-21T20:39:23.530Z"
   },
   {
    "duration": 97,
    "start_time": "2021-07-21T20:39:38.407Z"
   },
   {
    "duration": 2166,
    "start_time": "2021-07-21T20:39:58.976Z"
   },
   {
    "duration": 8,
    "start_time": "2021-07-21T20:40:21.017Z"
   },
   {
    "duration": 8,
    "start_time": "2021-07-21T20:40:31.239Z"
   },
   {
    "duration": 8,
    "start_time": "2021-07-21T20:40:33.402Z"
   },
   {
    "duration": 31,
    "start_time": "2021-07-21T20:40:36.494Z"
   },
   {
    "duration": 6,
    "start_time": "2021-07-21T20:40:37.311Z"
   },
   {
    "duration": 32503,
    "start_time": "2021-07-21T20:42:16.490Z"
   },
   {
    "duration": 5,
    "start_time": "2021-07-21T20:42:52.877Z"
   },
   {
    "duration": 1214,
    "start_time": "2021-07-21T20:43:14.088Z"
   },
   {
    "duration": 1261,
    "start_time": "2021-07-21T20:43:59.501Z"
   },
   {
    "duration": 1496,
    "start_time": "2021-07-21T20:46:49.476Z"
   },
   {
    "duration": 3509,
    "start_time": "2021-07-21T20:49:35.970Z"
   },
   {
    "duration": 4176,
    "start_time": "2021-07-21T20:49:39.481Z"
   },
   {
    "duration": 1886,
    "start_time": "2021-07-21T20:49:43.661Z"
   },
   {
    "duration": 429,
    "start_time": "2021-07-21T20:49:45.550Z"
   },
   {
    "duration": 16,
    "start_time": "2021-07-21T20:49:45.981Z"
   },
   {
    "duration": 23,
    "start_time": "2021-07-21T20:49:46.000Z"
   },
   {
    "duration": 8,
    "start_time": "2021-07-21T20:49:46.026Z"
   },
   {
    "duration": 21,
    "start_time": "2021-07-21T20:49:46.038Z"
   },
   {
    "duration": 17,
    "start_time": "2021-07-21T20:49:46.070Z"
   },
   {
    "duration": 10,
    "start_time": "2021-07-21T20:49:46.090Z"
   },
   {
    "duration": 9,
    "start_time": "2021-07-21T20:49:46.103Z"
   },
   {
    "duration": 7,
    "start_time": "2021-07-21T20:49:46.115Z"
   },
   {
    "duration": 32,
    "start_time": "2021-07-21T20:49:46.161Z"
   },
   {
    "duration": 15,
    "start_time": "2021-07-21T20:49:46.195Z"
   },
   {
    "duration": 62,
    "start_time": "2021-07-21T20:49:46.213Z"
   },
   {
    "duration": 23,
    "start_time": "2021-07-21T20:49:46.278Z"
   },
   {
    "duration": 108,
    "start_time": "2021-07-21T20:49:46.304Z"
   },
   {
    "duration": 857,
    "start_time": "2021-07-21T20:49:46.414Z"
   },
   {
    "duration": 320,
    "start_time": "2021-07-21T20:49:47.275Z"
   },
   {
    "duration": 8,
    "start_time": "2021-07-21T20:49:47.597Z"
   },
   {
    "duration": 267,
    "start_time": "2021-07-21T20:49:47.607Z"
   },
   {
    "duration": 335,
    "start_time": "2021-07-21T20:49:47.876Z"
   },
   {
    "duration": 48,
    "start_time": "2021-07-21T20:49:48.219Z"
   },
   {
    "duration": 22,
    "start_time": "2021-07-21T20:49:48.271Z"
   },
   {
    "duration": 5,
    "start_time": "2021-07-21T20:49:48.295Z"
   },
   {
    "duration": 1861,
    "start_time": "2021-07-21T20:49:48.302Z"
   },
   {
    "duration": 17,
    "start_time": "2021-07-21T20:49:50.173Z"
   },
   {
    "duration": 20,
    "start_time": "2021-07-21T20:49:50.192Z"
   },
   {
    "duration": 14,
    "start_time": "2021-07-21T20:49:50.215Z"
   },
   {
    "duration": 30,
    "start_time": "2021-07-21T20:49:50.257Z"
   },
   {
    "duration": 13,
    "start_time": "2021-07-21T20:49:50.289Z"
   },
   {
    "duration": 55,
    "start_time": "2021-07-21T20:49:50.306Z"
   },
   {
    "duration": 58,
    "start_time": "2021-07-21T20:49:50.364Z"
   },
   {
    "duration": 284,
    "start_time": "2021-07-21T20:49:50.424Z"
   },
   {
    "duration": 294,
    "start_time": "2021-07-21T20:49:50.711Z"
   },
   {
    "duration": 10,
    "start_time": "2021-07-21T20:49:51.008Z"
   },
   {
    "duration": 284,
    "start_time": "2021-07-21T20:49:51.021Z"
   },
   {
    "duration": 260,
    "start_time": "2021-07-21T20:49:51.309Z"
   },
   {
    "duration": 37,
    "start_time": "2021-07-21T20:49:51.572Z"
   },
   {
    "duration": 4,
    "start_time": "2021-07-21T20:49:51.611Z"
   },
   {
    "duration": 8,
    "start_time": "2021-07-21T20:49:51.617Z"
   },
   {
    "duration": 1758,
    "start_time": "2021-07-21T20:49:51.627Z"
   },
   {
    "duration": 13,
    "start_time": "2021-07-21T20:49:53.388Z"
   },
   {
    "duration": 6,
    "start_time": "2021-07-21T20:49:53.403Z"
   },
   {
    "duration": 18,
    "start_time": "2021-07-21T20:49:53.411Z"
   },
   {
    "duration": 28,
    "start_time": "2021-07-21T20:49:53.461Z"
   },
   {
    "duration": 12,
    "start_time": "2021-07-21T20:49:53.492Z"
   },
   {
    "duration": 14,
    "start_time": "2021-07-21T20:49:53.507Z"
   },
   {
    "duration": 67,
    "start_time": "2021-07-21T20:49:53.524Z"
   },
   {
    "duration": 33,
    "start_time": "2021-07-21T20:49:53.594Z"
   },
   {
    "duration": 26,
    "start_time": "2021-07-21T20:49:53.630Z"
   },
   {
    "duration": 16,
    "start_time": "2021-07-21T20:49:53.660Z"
   },
   {
    "duration": 1711,
    "start_time": "2021-07-21T20:49:53.679Z"
   },
   {
    "duration": 11,
    "start_time": "2021-07-21T20:49:55.392Z"
   },
   {
    "duration": 13,
    "start_time": "2021-07-21T20:49:55.406Z"
   },
   {
    "duration": 44,
    "start_time": "2021-07-21T20:49:55.423Z"
   },
   {
    "duration": 28,
    "start_time": "2021-07-21T20:49:55.470Z"
   },
   {
    "duration": 37,
    "start_time": "2021-07-21T20:49:55.500Z"
   },
   {
    "duration": 22,
    "start_time": "2021-07-21T20:49:55.561Z"
   },
   {
    "duration": 23,
    "start_time": "2021-07-21T20:49:55.586Z"
   },
   {
    "duration": 16,
    "start_time": "2021-07-21T20:49:55.611Z"
   },
   {
    "duration": 19,
    "start_time": "2021-07-21T20:49:55.660Z"
   },
   {
    "duration": 28,
    "start_time": "2021-07-21T20:49:55.682Z"
   },
   {
    "duration": 58,
    "start_time": "2021-07-21T20:49:55.712Z"
   },
   {
    "duration": 23,
    "start_time": "2021-07-21T20:49:55.773Z"
   },
   {
    "duration": 18,
    "start_time": "2021-07-21T20:49:55.798Z"
   },
   {
    "duration": 52,
    "start_time": "2021-07-21T20:49:55.819Z"
   },
   {
    "duration": 6,
    "start_time": "2021-07-21T20:49:55.879Z"
   },
   {
    "duration": 6,
    "start_time": "2021-07-21T20:49:55.888Z"
   },
   {
    "duration": 351,
    "start_time": "2021-07-21T20:49:55.897Z"
   },
   {
    "duration": 96,
    "start_time": "2021-07-21T20:49:56.250Z"
   },
   {
    "duration": 19,
    "start_time": "2021-07-21T20:49:56.356Z"
   },
   {
    "duration": 15,
    "start_time": "2021-07-21T20:49:56.378Z"
   },
   {
    "duration": 117,
    "start_time": "2021-07-21T20:49:56.397Z"
   },
   {
    "duration": 84,
    "start_time": "2021-07-21T20:49:56.517Z"
   },
   {
    "duration": 75,
    "start_time": "2021-07-21T20:49:56.604Z"
   },
   {
    "duration": 1509,
    "start_time": "2021-07-21T20:49:56.682Z"
   },
   {
    "duration": 847,
    "start_time": "2021-07-21T20:49:58.193Z"
   },
   {
    "duration": 67,
    "start_time": "2021-07-21T20:49:59.043Z"
   },
   {
    "duration": 2258,
    "start_time": "2021-07-21T20:49:59.112Z"
   },
   {
    "duration": -373,
    "start_time": "2021-07-21T20:50:01.746Z"
   },
   {
    "duration": -375,
    "start_time": "2021-07-21T20:50:01.750Z"
   },
   {
    "duration": -378,
    "start_time": "2021-07-21T20:50:01.755Z"
   },
   {
    "duration": -381,
    "start_time": "2021-07-21T20:50:01.759Z"
   },
   {
    "duration": -383,
    "start_time": "2021-07-21T20:50:01.763Z"
   },
   {
    "duration": -389,
    "start_time": "2021-07-21T20:50:01.770Z"
   },
   {
    "duration": 57,
    "start_time": "2021-07-21T20:50:24.980Z"
   },
   {
    "duration": 976,
    "start_time": "2021-07-21T20:50:28.883Z"
   },
   {
    "duration": 11,
    "start_time": "2021-07-21T20:54:12.692Z"
   },
   {
    "duration": 14,
    "start_time": "2021-07-21T20:54:35.761Z"
   },
   {
    "duration": 18,
    "start_time": "2021-07-21T20:56:05.995Z"
   },
   {
    "duration": 25,
    "start_time": "2021-07-21T21:02:00.616Z"
   },
   {
    "duration": 13,
    "start_time": "2021-07-21T21:02:40.412Z"
   },
   {
    "duration": 19,
    "start_time": "2021-07-21T21:03:24.441Z"
   },
   {
    "duration": 11,
    "start_time": "2021-07-21T21:03:40.043Z"
   },
   {
    "duration": 44,
    "start_time": "2021-07-21T21:10:12.435Z"
   },
   {
    "duration": 3748,
    "start_time": "2021-07-21T21:12:15.468Z"
   },
   {
    "duration": 12,
    "start_time": "2021-07-21T21:13:57.229Z"
   },
   {
    "duration": 45,
    "start_time": "2021-07-21T21:14:00.316Z"
   },
   {
    "duration": 3232,
    "start_time": "2021-07-21T21:14:03.090Z"
   },
   {
    "duration": 3874,
    "start_time": "2021-07-21T21:14:31.400Z"
   },
   {
    "duration": 52,
    "start_time": "2021-07-21T21:15:34.049Z"
   },
   {
    "duration": 36,
    "start_time": "2021-07-21T21:23:11.432Z"
   },
   {
    "duration": 51,
    "start_time": "2021-07-21T21:23:26.561Z"
   },
   {
    "duration": 3580,
    "start_time": "2021-07-21T21:27:06.913Z"
   },
   {
    "duration": 4301,
    "start_time": "2021-07-21T21:27:10.497Z"
   },
   {
    "duration": 5,
    "start_time": "2021-07-21T21:27:14.801Z"
   },
   {
    "duration": 438,
    "start_time": "2021-07-21T21:27:14.808Z"
   },
   {
    "duration": 3490,
    "start_time": "2021-07-21T21:28:25.950Z"
   },
   {
    "duration": 4302,
    "start_time": "2021-07-21T21:28:29.443Z"
   },
   {
    "duration": 4,
    "start_time": "2021-07-21T21:28:33.749Z"
   },
   {
    "duration": 434,
    "start_time": "2021-07-21T21:28:33.757Z"
   },
   {
    "duration": 15,
    "start_time": "2021-07-21T21:28:34.193Z"
   },
   {
    "duration": 18,
    "start_time": "2021-07-21T21:28:34.211Z"
   },
   {
    "duration": 9,
    "start_time": "2021-07-21T21:28:34.231Z"
   },
   {
    "duration": 16,
    "start_time": "2021-07-21T21:28:34.244Z"
   },
   {
    "duration": 21,
    "start_time": "2021-07-21T21:28:34.264Z"
   },
   {
    "duration": 12,
    "start_time": "2021-07-21T21:28:34.287Z"
   },
   {
    "duration": 8,
    "start_time": "2021-07-21T21:28:34.301Z"
   },
   {
    "duration": 5,
    "start_time": "2021-07-21T21:28:34.311Z"
   },
   {
    "duration": 71,
    "start_time": "2021-07-21T21:28:34.318Z"
   },
   {
    "duration": 15,
    "start_time": "2021-07-21T21:28:34.391Z"
   },
   {
    "duration": 51,
    "start_time": "2021-07-21T21:28:34.408Z"
   },
   {
    "duration": 22,
    "start_time": "2021-07-21T21:28:34.462Z"
   },
   {
    "duration": 82,
    "start_time": "2021-07-21T21:28:34.487Z"
   },
   {
    "duration": 271,
    "start_time": "2021-07-21T21:28:34.572Z"
   },
   {
    "duration": 300,
    "start_time": "2021-07-21T21:28:34.845Z"
   },
   {
    "duration": 16,
    "start_time": "2021-07-21T21:28:35.147Z"
   },
   {
    "duration": 280,
    "start_time": "2021-07-21T21:28:35.167Z"
   },
   {
    "duration": 413,
    "start_time": "2021-07-21T21:28:35.455Z"
   },
   {
    "duration": 29,
    "start_time": "2021-07-21T21:28:35.875Z"
   },
   {
    "duration": 59,
    "start_time": "2021-07-21T21:28:35.907Z"
   },
   {
    "duration": 6,
    "start_time": "2021-07-21T21:28:35.969Z"
   },
   {
    "duration": 1956,
    "start_time": "2021-07-21T21:28:35.978Z"
   },
   {
    "duration": 32,
    "start_time": "2021-07-21T21:28:37.936Z"
   },
   {
    "duration": 20,
    "start_time": "2021-07-21T21:28:37.971Z"
   },
   {
    "duration": 3,
    "start_time": "2021-07-21T21:28:37.994Z"
   },
   {
    "duration": 3521,
    "start_time": "2021-07-21T21:28:54.661Z"
   },
   {
    "duration": 4361,
    "start_time": "2021-07-21T21:28:58.186Z"
   },
   {
    "duration": 6,
    "start_time": "2021-07-21T21:29:02.551Z"
   },
   {
    "duration": 444,
    "start_time": "2021-07-21T21:29:02.561Z"
   },
   {
    "duration": 15,
    "start_time": "2021-07-21T21:29:03.008Z"
   },
   {
    "duration": 42,
    "start_time": "2021-07-21T21:29:03.026Z"
   },
   {
    "duration": 21,
    "start_time": "2021-07-21T21:29:03.071Z"
   },
   {
    "duration": 22,
    "start_time": "2021-07-21T21:29:03.097Z"
   },
   {
    "duration": 29,
    "start_time": "2021-07-21T21:29:03.121Z"
   },
   {
    "duration": 25,
    "start_time": "2021-07-21T21:29:03.153Z"
   },
   {
    "duration": 10,
    "start_time": "2021-07-21T21:29:03.180Z"
   },
   {
    "duration": 9,
    "start_time": "2021-07-21T21:29:03.193Z"
   },
   {
    "duration": 40,
    "start_time": "2021-07-21T21:29:03.204Z"
   },
   {
    "duration": 22,
    "start_time": "2021-07-21T21:29:03.246Z"
   },
   {
    "duration": 37,
    "start_time": "2021-07-21T21:29:03.271Z"
   },
   {
    "duration": 21,
    "start_time": "2021-07-21T21:29:03.310Z"
   },
   {
    "duration": 79,
    "start_time": "2021-07-21T21:29:03.333Z"
   },
   {
    "duration": 266,
    "start_time": "2021-07-21T21:29:03.415Z"
   },
   {
    "duration": 332,
    "start_time": "2021-07-21T21:29:03.684Z"
   },
   {
    "duration": 9,
    "start_time": "2021-07-21T21:29:04.018Z"
   },
   {
    "duration": 288,
    "start_time": "2021-07-21T21:29:04.029Z"
   },
   {
    "duration": 262,
    "start_time": "2021-07-21T21:29:04.319Z"
   },
   {
    "duration": 31,
    "start_time": "2021-07-21T21:29:04.586Z"
   },
   {
    "duration": 50,
    "start_time": "2021-07-21T21:29:04.621Z"
   },
   {
    "duration": 5,
    "start_time": "2021-07-21T21:29:04.673Z"
   },
   {
    "duration": 1940,
    "start_time": "2021-07-21T21:29:04.680Z"
   },
   {
    "duration": 14,
    "start_time": "2021-07-21T21:29:06.622Z"
   },
   {
    "duration": 48,
    "start_time": "2021-07-21T21:29:06.639Z"
   },
   {
    "duration": 3,
    "start_time": "2021-07-21T21:29:06.689Z"
   },
   {
    "duration": 28,
    "start_time": "2021-07-21T21:29:06.694Z"
   },
   {
    "duration": 11,
    "start_time": "2021-07-21T21:29:06.724Z"
   },
   {
    "duration": 20,
    "start_time": "2021-07-21T21:29:06.761Z"
   },
   {
    "duration": 49,
    "start_time": "2021-07-21T21:29:06.783Z"
   },
   {
    "duration": 283,
    "start_time": "2021-07-21T21:29:06.835Z"
   },
   {
    "duration": 309,
    "start_time": "2021-07-21T21:29:07.120Z"
   },
   {
    "duration": 9,
    "start_time": "2021-07-21T21:29:07.433Z"
   },
   {
    "duration": 272,
    "start_time": "2021-07-21T21:29:07.456Z"
   },
   {
    "duration": 265,
    "start_time": "2021-07-21T21:29:07.731Z"
   },
   {
    "duration": 38,
    "start_time": "2021-07-21T21:29:07.999Z"
   },
   {
    "duration": 22,
    "start_time": "2021-07-21T21:29:08.039Z"
   },
   {
    "duration": 13,
    "start_time": "2021-07-21T21:29:08.064Z"
   },
   {
    "duration": 1713,
    "start_time": "2021-07-21T21:29:08.079Z"
   },
   {
    "duration": 11,
    "start_time": "2021-07-21T21:29:09.795Z"
   },
   {
    "duration": 5,
    "start_time": "2021-07-21T21:29:09.809Z"
   },
   {
    "duration": 6,
    "start_time": "2021-07-21T21:29:09.816Z"
   },
   {
    "duration": 3477,
    "start_time": "2021-07-21T21:29:33.377Z"
   },
   {
    "duration": 4240,
    "start_time": "2021-07-21T21:29:36.858Z"
   },
   {
    "duration": 5,
    "start_time": "2021-07-21T21:29:41.102Z"
   },
   {
    "duration": 426,
    "start_time": "2021-07-21T21:29:41.110Z"
   },
   {
    "duration": 15,
    "start_time": "2021-07-21T21:29:41.539Z"
   },
   {
    "duration": 25,
    "start_time": "2021-07-21T21:29:41.558Z"
   },
   {
    "duration": 10,
    "start_time": "2021-07-21T21:29:41.586Z"
   },
   {
    "duration": 9,
    "start_time": "2021-07-21T21:29:41.600Z"
   },
   {
    "duration": 56,
    "start_time": "2021-07-21T21:29:41.612Z"
   },
   {
    "duration": 19,
    "start_time": "2021-07-21T21:29:41.670Z"
   },
   {
    "duration": 6,
    "start_time": "2021-07-21T21:29:41.692Z"
   },
   {
    "duration": 8,
    "start_time": "2021-07-21T21:29:41.700Z"
   },
   {
    "duration": 62,
    "start_time": "2021-07-21T21:29:41.710Z"
   },
   {
    "duration": 15,
    "start_time": "2021-07-21T21:29:41.775Z"
   },
   {
    "duration": 30,
    "start_time": "2021-07-21T21:29:41.792Z"
   },
   {
    "duration": 47,
    "start_time": "2021-07-21T21:29:41.824Z"
   },
   {
    "duration": 59,
    "start_time": "2021-07-21T21:29:41.873Z"
   },
   {
    "duration": 280,
    "start_time": "2021-07-21T21:29:41.935Z"
   },
   {
    "duration": 320,
    "start_time": "2021-07-21T21:29:42.218Z"
   },
   {
    "duration": 18,
    "start_time": "2021-07-21T21:29:42.541Z"
   },
   {
    "duration": 390,
    "start_time": "2021-07-21T21:29:42.562Z"
   },
   {
    "duration": 254,
    "start_time": "2021-07-21T21:29:42.956Z"
   },
   {
    "duration": 27,
    "start_time": "2021-07-21T21:29:43.215Z"
   },
   {
    "duration": 30,
    "start_time": "2021-07-21T21:29:43.258Z"
   },
   {
    "duration": 5,
    "start_time": "2021-07-21T21:29:43.290Z"
   },
   {
    "duration": 1861,
    "start_time": "2021-07-21T21:29:43.297Z"
   },
   {
    "duration": 17,
    "start_time": "2021-07-21T21:29:45.165Z"
   },
   {
    "duration": 24,
    "start_time": "2021-07-21T21:29:45.184Z"
   },
   {
    "duration": 4,
    "start_time": "2021-07-21T21:29:45.211Z"
   },
   {
    "duration": 68,
    "start_time": "2021-07-21T21:29:45.218Z"
   },
   {
    "duration": 12,
    "start_time": "2021-07-21T21:29:45.288Z"
   },
   {
    "duration": 17,
    "start_time": "2021-07-21T21:29:45.303Z"
   },
   {
    "duration": 90,
    "start_time": "2021-07-21T21:29:45.322Z"
   },
   {
    "duration": 277,
    "start_time": "2021-07-21T21:29:45.415Z"
   },
   {
    "duration": 306,
    "start_time": "2021-07-21T21:29:45.694Z"
   },
   {
    "duration": 10,
    "start_time": "2021-07-21T21:29:46.003Z"
   },
   {
    "duration": 280,
    "start_time": "2021-07-21T21:29:46.015Z"
   },
   {
    "duration": 249,
    "start_time": "2021-07-21T21:29:46.297Z"
   },
   {
    "duration": 40,
    "start_time": "2021-07-21T21:29:46.556Z"
   },
   {
    "duration": 4,
    "start_time": "2021-07-21T21:29:46.599Z"
   },
   {
    "duration": 7,
    "start_time": "2021-07-21T21:29:46.605Z"
   },
   {
    "duration": 1774,
    "start_time": "2021-07-21T21:29:46.614Z"
   },
   {
    "duration": 12,
    "start_time": "2021-07-21T21:29:48.390Z"
   },
   {
    "duration": 6,
    "start_time": "2021-07-21T21:29:48.404Z"
   },
   {
    "duration": 7,
    "start_time": "2021-07-21T21:29:48.412Z"
   },
   {
    "duration": 60,
    "start_time": "2021-07-21T21:29:48.422Z"
   },
   {
    "duration": 13,
    "start_time": "2021-07-21T21:29:48.484Z"
   },
   {
    "duration": 20,
    "start_time": "2021-07-21T21:29:48.499Z"
   },
   {
    "duration": 70,
    "start_time": "2021-07-21T21:29:48.522Z"
   },
   {
    "duration": 32,
    "start_time": "2021-07-21T21:29:48.595Z"
   },
   {
    "duration": 32,
    "start_time": "2021-07-21T21:29:48.630Z"
   },
   {
    "duration": 11,
    "start_time": "2021-07-21T21:29:48.666Z"
   },
   {
    "duration": 1620,
    "start_time": "2021-07-21T21:29:48.681Z"
   },
   {
    "duration": 4,
    "start_time": "2021-07-21T21:29:50.304Z"
   },
   {
    "duration": 3505,
    "start_time": "2021-07-21T21:30:45.421Z"
   },
   {
    "duration": 4248,
    "start_time": "2021-07-21T21:30:48.929Z"
   },
   {
    "duration": 5,
    "start_time": "2021-07-21T21:30:53.180Z"
   },
   {
    "duration": 416,
    "start_time": "2021-07-21T21:30:53.188Z"
   },
   {
    "duration": 14,
    "start_time": "2021-07-21T21:30:53.607Z"
   },
   {
    "duration": 26,
    "start_time": "2021-07-21T21:30:53.623Z"
   },
   {
    "duration": 20,
    "start_time": "2021-07-21T21:30:53.651Z"
   },
   {
    "duration": 13,
    "start_time": "2021-07-21T21:30:53.675Z"
   },
   {
    "duration": 34,
    "start_time": "2021-07-21T21:30:53.690Z"
   },
   {
    "duration": 24,
    "start_time": "2021-07-21T21:30:53.727Z"
   },
   {
    "duration": 17,
    "start_time": "2021-07-21T21:30:53.753Z"
   },
   {
    "duration": 13,
    "start_time": "2021-07-21T21:30:53.773Z"
   },
   {
    "duration": 32,
    "start_time": "2021-07-21T21:30:53.788Z"
   },
   {
    "duration": 14,
    "start_time": "2021-07-21T21:30:53.822Z"
   },
   {
    "duration": 49,
    "start_time": "2021-07-21T21:30:53.838Z"
   },
   {
    "duration": 23,
    "start_time": "2021-07-21T21:30:53.890Z"
   },
   {
    "duration": 108,
    "start_time": "2021-07-21T21:30:53.916Z"
   },
   {
    "duration": 269,
    "start_time": "2021-07-21T21:30:54.026Z"
   },
   {
    "duration": 317,
    "start_time": "2021-07-21T21:30:54.298Z"
   },
   {
    "duration": 8,
    "start_time": "2021-07-21T21:30:54.618Z"
   },
   {
    "duration": 286,
    "start_time": "2021-07-21T21:30:54.628Z"
   },
   {
    "duration": 263,
    "start_time": "2021-07-21T21:30:54.916Z"
   },
   {
    "duration": 27,
    "start_time": "2021-07-21T21:30:55.184Z"
   },
   {
    "duration": 51,
    "start_time": "2021-07-21T21:30:55.214Z"
   },
   {
    "duration": 6,
    "start_time": "2021-07-21T21:30:55.268Z"
   },
   {
    "duration": 1931,
    "start_time": "2021-07-21T21:30:55.276Z"
   },
   {
    "duration": 18,
    "start_time": "2021-07-21T21:30:57.209Z"
   },
   {
    "duration": 54,
    "start_time": "2021-07-21T21:30:57.229Z"
   },
   {
    "duration": 4,
    "start_time": "2021-07-21T21:30:57.286Z"
   },
   {
    "duration": 25,
    "start_time": "2021-07-21T21:30:57.293Z"
   },
   {
    "duration": 38,
    "start_time": "2021-07-21T21:30:57.321Z"
   },
   {
    "duration": 23,
    "start_time": "2021-07-21T21:30:57.362Z"
   },
   {
    "duration": 86,
    "start_time": "2021-07-21T21:30:57.388Z"
   },
   {
    "duration": 260,
    "start_time": "2021-07-21T21:30:57.476Z"
   },
   {
    "duration": 291,
    "start_time": "2021-07-21T21:30:57.738Z"
   },
   {
    "duration": 9,
    "start_time": "2021-07-21T21:30:58.031Z"
   },
   {
    "duration": 274,
    "start_time": "2021-07-21T21:30:58.056Z"
   },
   {
    "duration": 398,
    "start_time": "2021-07-21T21:30:58.333Z"
   },
   {
    "duration": 49,
    "start_time": "2021-07-21T21:30:58.733Z"
   },
   {
    "duration": 5,
    "start_time": "2021-07-21T21:30:58.784Z"
   },
   {
    "duration": 10,
    "start_time": "2021-07-21T21:30:58.791Z"
   },
   {
    "duration": 1871,
    "start_time": "2021-07-21T21:30:58.803Z"
   },
   {
    "duration": 17,
    "start_time": "2021-07-21T21:31:00.676Z"
   },
   {
    "duration": 10,
    "start_time": "2021-07-21T21:31:00.697Z"
   },
   {
    "duration": 18,
    "start_time": "2021-07-21T21:31:00.710Z"
   },
   {
    "duration": 54,
    "start_time": "2021-07-21T21:31:00.731Z"
   },
   {
    "duration": 13,
    "start_time": "2021-07-21T21:31:00.788Z"
   },
   {
    "duration": 39,
    "start_time": "2021-07-21T21:31:00.803Z"
   },
   {
    "duration": 52,
    "start_time": "2021-07-21T21:31:00.845Z"
   },
   {
    "duration": 31,
    "start_time": "2021-07-21T21:31:00.899Z"
   },
   {
    "duration": 8,
    "start_time": "2021-07-21T21:31:00.932Z"
   },
   {
    "duration": 23,
    "start_time": "2021-07-21T21:31:00.942Z"
   },
   {
    "duration": 1671,
    "start_time": "2021-07-21T21:31:00.968Z"
   },
   {
    "duration": 4,
    "start_time": "2021-07-21T21:31:02.642Z"
   },
   {
    "duration": 23,
    "start_time": "2021-07-21T21:31:02.656Z"
   },
   {
    "duration": 34,
    "start_time": "2021-07-21T21:31:02.681Z"
   },
   {
    "duration": 24,
    "start_time": "2021-07-21T21:31:12.980Z"
   },
   {
    "duration": 56,
    "start_time": "2021-07-21T21:31:15.100Z"
   },
   {
    "duration": 36,
    "start_time": "2021-07-21T21:37:42.315Z"
   },
   {
    "duration": 16,
    "start_time": "2021-07-21T21:39:26.512Z"
   },
   {
    "duration": 29,
    "start_time": "2021-07-21T21:39:27.441Z"
   },
   {
    "duration": 16,
    "start_time": "2021-07-21T21:39:28.992Z"
   },
   {
    "duration": 19,
    "start_time": "2021-07-21T21:39:36.598Z"
   },
   {
    "duration": 23,
    "start_time": "2021-07-21T21:39:37.496Z"
   },
   {
    "duration": 22,
    "start_time": "2021-07-21T21:39:38.298Z"
   },
   {
    "duration": 24,
    "start_time": "2021-07-21T21:39:47.104Z"
   },
   {
    "duration": 12,
    "start_time": "2021-07-21T21:39:59.793Z"
   },
   {
    "duration": 12,
    "start_time": "2021-07-21T21:40:33.170Z"
   },
   {
    "duration": 64,
    "start_time": "2021-07-21T21:40:35.802Z"
   },
   {
    "duration": 14,
    "start_time": "2021-07-21T21:43:02.618Z"
   },
   {
    "duration": 37,
    "start_time": "2021-07-21T21:43:07.009Z"
   },
   {
    "duration": 19,
    "start_time": "2021-07-21T21:43:08.939Z"
   },
   {
    "duration": 6,
    "start_time": "2021-07-21T21:43:11.557Z"
   },
   {
    "duration": 6,
    "start_time": "2021-07-21T21:43:14.141Z"
   },
   {
    "duration": 325,
    "start_time": "2021-07-21T21:43:16.405Z"
   },
   {
    "duration": 77,
    "start_time": "2021-07-21T21:43:17.201Z"
   },
   {
    "duration": 12,
    "start_time": "2021-07-21T21:43:18.233Z"
   },
   {
    "duration": 16,
    "start_time": "2021-07-21T21:43:25.244Z"
   },
   {
    "duration": 74,
    "start_time": "2021-07-21T21:43:26.137Z"
   },
   {
    "duration": 78,
    "start_time": "2021-07-21T21:43:26.724Z"
   },
   {
    "duration": 57,
    "start_time": "2021-07-21T21:43:28.257Z"
   },
   {
    "duration": 1548,
    "start_time": "2021-07-21T21:43:29.126Z"
   },
   {
    "duration": 738,
    "start_time": "2021-07-21T21:43:32.179Z"
   },
   {
    "duration": 66,
    "start_time": "2021-07-21T21:43:35.021Z"
   },
   {
    "duration": 17,
    "start_time": "2021-07-21T21:43:36.309Z"
   },
   {
    "duration": 1363,
    "start_time": "2021-07-21T21:43:39.109Z"
   },
   {
    "duration": 1565,
    "start_time": "2021-07-21T21:43:47.949Z"
   },
   {
    "duration": 12,
    "start_time": "2021-07-21T21:43:50.057Z"
   },
   {
    "duration": 8,
    "start_time": "2021-07-21T21:43:56.846Z"
   },
   {
    "duration": 7,
    "start_time": "2021-07-21T21:43:57.736Z"
   },
   {
    "duration": 31,
    "start_time": "2021-07-21T21:43:59.616Z"
   },
   {
    "duration": 8,
    "start_time": "2021-07-21T21:44:00.198Z"
   },
   {
    "duration": 3891,
    "start_time": "2021-07-21T21:46:42.001Z"
   },
   {
    "duration": 4284,
    "start_time": "2021-07-21T21:46:45.895Z"
   },
   {
    "duration": 6,
    "start_time": "2021-07-21T21:46:50.184Z"
   },
   {
    "duration": 412,
    "start_time": "2021-07-21T21:46:50.193Z"
   },
   {
    "duration": 14,
    "start_time": "2021-07-21T21:46:50.607Z"
   },
   {
    "duration": 21,
    "start_time": "2021-07-21T21:46:50.623Z"
   },
   {
    "duration": 13,
    "start_time": "2021-07-21T21:46:50.646Z"
   },
   {
    "duration": 14,
    "start_time": "2021-07-21T21:46:50.663Z"
   },
   {
    "duration": 22,
    "start_time": "2021-07-21T21:46:50.680Z"
   },
   {
    "duration": 10,
    "start_time": "2021-07-21T21:46:50.704Z"
   },
   {
    "duration": 6,
    "start_time": "2021-07-21T21:46:50.717Z"
   },
   {
    "duration": 33,
    "start_time": "2021-07-21T21:46:50.725Z"
   },
   {
    "duration": 38,
    "start_time": "2021-07-21T21:46:50.763Z"
   },
   {
    "duration": 15,
    "start_time": "2021-07-21T21:46:50.803Z"
   },
   {
    "duration": 58,
    "start_time": "2021-07-21T21:46:50.820Z"
   },
   {
    "duration": 20,
    "start_time": "2021-07-21T21:46:50.881Z"
   },
   {
    "duration": 83,
    "start_time": "2021-07-21T21:46:50.903Z"
   },
   {
    "duration": 274,
    "start_time": "2021-07-21T21:46:50.989Z"
   },
   {
    "duration": 316,
    "start_time": "2021-07-21T21:46:51.266Z"
   },
   {
    "duration": 11,
    "start_time": "2021-07-21T21:46:51.586Z"
   },
   {
    "duration": 280,
    "start_time": "2021-07-21T21:46:51.601Z"
   },
   {
    "duration": 253,
    "start_time": "2021-07-21T21:46:51.883Z"
   },
   {
    "duration": 46,
    "start_time": "2021-07-21T21:46:52.142Z"
   },
   {
    "duration": 24,
    "start_time": "2021-07-21T21:46:52.194Z"
   },
   {
    "duration": 4,
    "start_time": "2021-07-21T21:46:52.221Z"
   },
   {
    "duration": 1890,
    "start_time": "2021-07-21T21:46:52.228Z"
   },
   {
    "duration": 14,
    "start_time": "2021-07-21T21:46:54.121Z"
   },
   {
    "duration": 38,
    "start_time": "2021-07-21T21:46:54.137Z"
   },
   {
    "duration": 3,
    "start_time": "2021-07-21T21:46:54.177Z"
   },
   {
    "duration": 35,
    "start_time": "2021-07-21T21:46:54.182Z"
   },
   {
    "duration": 35,
    "start_time": "2021-07-21T21:46:54.220Z"
   },
   {
    "duration": 23,
    "start_time": "2021-07-21T21:46:54.258Z"
   },
   {
    "duration": 75,
    "start_time": "2021-07-21T21:46:54.283Z"
   },
   {
    "duration": 276,
    "start_time": "2021-07-21T21:46:54.361Z"
   },
   {
    "duration": 285,
    "start_time": "2021-07-21T21:46:54.639Z"
   },
   {
    "duration": 10,
    "start_time": "2021-07-21T21:46:54.927Z"
   },
   {
    "duration": 256,
    "start_time": "2021-07-21T21:46:54.960Z"
   },
   {
    "duration": 260,
    "start_time": "2021-07-21T21:46:55.219Z"
   },
   {
    "duration": 34,
    "start_time": "2021-07-21T21:46:55.483Z"
   },
   {
    "duration": 5,
    "start_time": "2021-07-21T21:46:55.519Z"
   },
   {
    "duration": 30,
    "start_time": "2021-07-21T21:46:55.526Z"
   },
   {
    "duration": 1765,
    "start_time": "2021-07-21T21:46:55.559Z"
   },
   {
    "duration": 11,
    "start_time": "2021-07-21T21:46:57.327Z"
   },
   {
    "duration": 19,
    "start_time": "2021-07-21T21:46:57.341Z"
   },
   {
    "duration": 6,
    "start_time": "2021-07-21T21:46:57.363Z"
   },
   {
    "duration": 27,
    "start_time": "2021-07-21T21:46:57.373Z"
   },
   {
    "duration": 11,
    "start_time": "2021-07-21T21:46:57.403Z"
   },
   {
    "duration": 17,
    "start_time": "2021-07-21T21:46:57.465Z"
   },
   {
    "duration": 33,
    "start_time": "2021-07-21T21:46:57.486Z"
   },
   {
    "duration": 65,
    "start_time": "2021-07-21T21:46:57.521Z"
   },
   {
    "duration": 7,
    "start_time": "2021-07-21T21:46:57.588Z"
   },
   {
    "duration": 6,
    "start_time": "2021-07-21T21:46:57.598Z"
   },
   {
    "duration": 1598,
    "start_time": "2021-07-21T21:46:57.606Z"
   },
   {
    "duration": 5,
    "start_time": "2021-07-21T21:46:59.206Z"
   },
   {
    "duration": 25,
    "start_time": "2021-07-21T21:46:59.213Z"
   },
   {
    "duration": 25,
    "start_time": "2021-07-21T21:46:59.240Z"
   },
   {
    "duration": 29,
    "start_time": "2021-07-21T21:46:59.268Z"
   },
   {
    "duration": 68,
    "start_time": "2021-07-21T21:46:59.299Z"
   },
   {
    "duration": 16,
    "start_time": "2021-07-21T21:46:59.371Z"
   },
   {
    "duration": 22,
    "start_time": "2021-07-21T21:46:59.390Z"
   },
   {
    "duration": 52,
    "start_time": "2021-07-21T21:46:59.414Z"
   },
   {
    "duration": 23,
    "start_time": "2021-07-21T21:46:59.469Z"
   },
   {
    "duration": 25,
    "start_time": "2021-07-21T21:46:59.495Z"
   },
   {
    "duration": 48,
    "start_time": "2021-07-21T21:46:59.522Z"
   },
   {
    "duration": 23,
    "start_time": "2021-07-21T21:46:59.573Z"
   },
   {
    "duration": 12,
    "start_time": "2021-07-21T21:46:59.599Z"
   },
   {
    "duration": 276,
    "start_time": "2021-07-21T21:46:59.613Z"
   },
   {
    "duration": 18,
    "start_time": "2021-07-21T21:46:59.899Z"
   },
   {
    "duration": 6,
    "start_time": "2021-07-21T21:46:59.920Z"
   },
   {
    "duration": 39,
    "start_time": "2021-07-21T21:46:59.928Z"
   },
   {
    "duration": 331,
    "start_time": "2021-07-21T21:46:59.970Z"
   },
   {
    "duration": 85,
    "start_time": "2021-07-21T21:47:00.304Z"
   },
   {
    "duration": 13,
    "start_time": "2021-07-21T21:47:00.392Z"
   },
   {
    "duration": 16,
    "start_time": "2021-07-21T21:47:00.407Z"
   },
   {
    "duration": 107,
    "start_time": "2021-07-21T21:47:00.426Z"
   },
   {
    "duration": 94,
    "start_time": "2021-07-21T21:47:00.536Z"
   },
   {
    "duration": 71,
    "start_time": "2021-07-21T21:47:00.632Z"
   },
   {
    "duration": 1612,
    "start_time": "2021-07-21T21:47:00.706Z"
   },
   {
    "duration": 729,
    "start_time": "2021-07-21T21:47:02.321Z"
   },
   {
    "duration": 61,
    "start_time": "2021-07-21T21:47:03.056Z"
   },
   {
    "duration": 1206,
    "start_time": "2021-07-21T21:47:03.119Z"
   },
   {
    "duration": 1875,
    "start_time": "2021-07-21T21:47:04.328Z"
   },
   {
    "duration": 8,
    "start_time": "2021-07-21T21:47:06.205Z"
   },
   {
    "duration": 28,
    "start_time": "2021-07-21T21:47:06.215Z"
   },
   {
    "duration": 22,
    "start_time": "2021-07-21T21:47:06.246Z"
   },
   {
    "duration": 38,
    "start_time": "2021-07-21T21:47:06.271Z"
   },
   {
    "duration": 19,
    "start_time": "2021-07-21T21:47:06.312Z"
   },
   {
    "duration": 3464,
    "start_time": "2021-07-21T21:49:20.508Z"
   },
   {
    "duration": 4428,
    "start_time": "2021-07-21T21:49:23.975Z"
   },
   {
    "duration": 5,
    "start_time": "2021-07-21T21:49:28.406Z"
   },
   {
    "duration": 443,
    "start_time": "2021-07-21T21:49:28.467Z"
   },
   {
    "duration": 15,
    "start_time": "2021-07-21T21:49:34.523Z"
   },
   {
    "duration": 20,
    "start_time": "2021-07-21T21:49:35.761Z"
   },
   {
    "duration": 9,
    "start_time": "2021-07-21T21:49:39.002Z"
   },
   {
    "duration": 9,
    "start_time": "2021-07-21T21:49:40.930Z"
   },
   {
    "duration": 22,
    "start_time": "2021-07-21T21:49:42.246Z"
   },
   {
    "duration": 11,
    "start_time": "2021-07-21T21:49:47.658Z"
   },
   {
    "duration": 7,
    "start_time": "2021-07-21T21:49:48.585Z"
   },
   {
    "duration": 3,
    "start_time": "2021-07-21T21:49:51.837Z"
   },
   {
    "duration": 27,
    "start_time": "2021-07-21T21:50:38.015Z"
   },
   {
    "duration": 15,
    "start_time": "2021-07-21T21:50:41.490Z"
   },
   {
    "duration": 27,
    "start_time": "2021-07-21T21:50:42.914Z"
   },
   {
    "duration": 27,
    "start_time": "2021-07-21T21:50:45.169Z"
   },
   {
    "duration": 70,
    "start_time": "2021-07-21T21:50:47.090Z"
   },
   {
    "duration": 271,
    "start_time": "2021-07-21T21:50:51.019Z"
   },
   {
    "duration": 308,
    "start_time": "2021-07-21T21:50:54.927Z"
   },
   {
    "duration": 10,
    "start_time": "2021-07-21T21:50:57.402Z"
   },
   {
    "duration": 251,
    "start_time": "2021-07-21T21:51:21.382Z"
   },
   {
    "duration": 256,
    "start_time": "2021-07-21T21:51:22.487Z"
   },
   {
    "duration": 28,
    "start_time": "2021-07-21T21:51:23.574Z"
   },
   {
    "duration": 25,
    "start_time": "2021-07-21T21:51:24.728Z"
   },
   {
    "duration": 5,
    "start_time": "2021-07-21T21:51:25.521Z"
   },
   {
    "duration": 1888,
    "start_time": "2021-07-21T21:51:41.076Z"
   },
   {
    "duration": 21,
    "start_time": "2021-07-21T21:51:42.966Z"
   },
   {
    "duration": 22,
    "start_time": "2021-07-21T21:51:42.990Z"
   },
   {
    "duration": 29,
    "start_time": "2021-07-21T21:56:53.140Z"
   },
   {
    "duration": 12,
    "start_time": "2021-07-21T21:56:54.019Z"
   },
   {
    "duration": 19,
    "start_time": "2021-07-21T21:56:54.783Z"
   },
   {
    "duration": 65,
    "start_time": "2021-07-21T21:56:59.398Z"
   },
   {
    "duration": 262,
    "start_time": "2021-07-21T21:57:09.517Z"
   },
   {
    "duration": 307,
    "start_time": "2021-07-21T21:57:10.418Z"
   },
   {
    "duration": 9,
    "start_time": "2021-07-21T21:57:11.489Z"
   },
   {
    "duration": 258,
    "start_time": "2021-07-21T21:58:07.621Z"
   },
   {
    "duration": 250,
    "start_time": "2021-07-21T21:58:08.736Z"
   },
   {
    "duration": 42,
    "start_time": "2021-07-21T21:58:12.557Z"
   },
   {
    "duration": 5,
    "start_time": "2021-07-21T21:58:15.688Z"
   },
   {
    "duration": 5,
    "start_time": "2021-07-21T21:58:18.748Z"
   },
   {
    "duration": 1749,
    "start_time": "2021-07-21T21:58:19.852Z"
   },
   {
    "duration": 13,
    "start_time": "2021-07-21T21:58:21.604Z"
   },
   {
    "duration": 5,
    "start_time": "2021-07-21T21:58:26.732Z"
   },
   {
    "duration": 5,
    "start_time": "2021-07-21T21:58:37.770Z"
   },
   {
    "duration": 3,
    "start_time": "2021-07-21T21:58:58.822Z"
   },
   {
    "duration": 19,
    "start_time": "2021-07-21T22:01:09.533Z"
   },
   {
    "duration": 13,
    "start_time": "2021-07-21T22:01:10.286Z"
   },
   {
    "duration": 14,
    "start_time": "2021-07-21T22:01:11.040Z"
   },
   {
    "duration": 32,
    "start_time": "2021-07-21T22:01:13.396Z"
   },
   {
    "duration": 32,
    "start_time": "2021-07-21T22:01:23.286Z"
   },
   {
    "duration": 7,
    "start_time": "2021-07-21T22:01:27.045Z"
   },
   {
    "duration": 7,
    "start_time": "2021-07-21T22:01:30.961Z"
   },
   {
    "duration": 1578,
    "start_time": "2021-07-21T22:01:32.322Z"
   },
   {
    "duration": 5,
    "start_time": "2021-07-21T22:01:33.971Z"
   },
   {
    "duration": 14,
    "start_time": "2021-07-21T22:01:46.887Z"
   },
   {
    "duration": 12,
    "start_time": "2021-07-21T22:01:49.332Z"
   },
   {
    "duration": 25,
    "start_time": "2021-07-21T22:01:58.092Z"
   },
   {
    "duration": 40,
    "start_time": "2021-07-21T22:01:59.197Z"
   },
   {
    "duration": 17,
    "start_time": "2021-07-21T22:02:04.989Z"
   },
   {
    "duration": 22,
    "start_time": "2021-07-21T22:02:05.675Z"
   },
   {
    "duration": 15,
    "start_time": "2021-07-21T22:02:06.598Z"
   },
   {
    "duration": 20,
    "start_time": "2021-07-21T22:02:10.804Z"
   },
   {
    "duration": 37,
    "start_time": "2021-07-21T22:02:11.551Z"
   },
   {
    "duration": 22,
    "start_time": "2021-07-21T22:02:12.206Z"
   },
   {
    "duration": 23,
    "start_time": "2021-07-21T22:02:20.592Z"
   },
   {
    "duration": 14,
    "start_time": "2021-07-21T22:02:23.724Z"
   },
   {
    "duration": 40,
    "start_time": "2021-07-21T22:02:32.669Z"
   },
   {
    "duration": 18,
    "start_time": "2021-07-21T22:02:33.471Z"
   },
   {
    "duration": 5,
    "start_time": "2021-07-21T22:02:53.544Z"
   },
   {
    "duration": 7,
    "start_time": "2021-07-21T22:02:55.942Z"
   },
   {
    "duration": 349,
    "start_time": "2021-07-21T22:02:58.319Z"
   },
   {
    "duration": 81,
    "start_time": "2021-07-21T22:02:59.129Z"
   },
   {
    "duration": 12,
    "start_time": "2021-07-21T22:03:05.806Z"
   },
   {
    "duration": 11,
    "start_time": "2021-07-21T22:03:19.915Z"
   },
   {
    "duration": 85,
    "start_time": "2021-07-21T22:03:21.132Z"
   },
   {
    "duration": 78,
    "start_time": "2021-07-21T22:03:25.143Z"
   },
   {
    "duration": 64,
    "start_time": "2021-07-21T22:03:29.222Z"
   },
   {
    "duration": 1556,
    "start_time": "2021-07-21T22:03:32.430Z"
   },
   {
    "duration": 748,
    "start_time": "2021-07-21T22:04:03.258Z"
   },
   {
    "duration": 63,
    "start_time": "2021-07-21T22:04:08.134Z"
   },
   {
    "duration": 1365,
    "start_time": "2021-07-21T22:04:09.000Z"
   },
   {
    "duration": 1528,
    "start_time": "2021-07-21T22:04:18.468Z"
   },
   {
    "duration": 9,
    "start_time": "2021-07-21T22:04:20.590Z"
   },
   {
    "duration": 7,
    "start_time": "2021-07-21T22:04:27.037Z"
   },
   {
    "duration": 9,
    "start_time": "2021-07-21T22:04:28.614Z"
   },
   {
    "duration": 37,
    "start_time": "2021-07-21T22:04:31.539Z"
   },
   {
    "duration": 6,
    "start_time": "2021-07-21T22:04:32.504Z"
   },
   {
    "duration": 3558,
    "start_time": "2021-07-21T22:45:13.597Z"
   },
   {
    "duration": 4186,
    "start_time": "2021-07-21T22:45:17.158Z"
   },
   {
    "duration": 5,
    "start_time": "2021-07-21T22:45:21.347Z"
   },
   {
    "duration": 414,
    "start_time": "2021-07-21T22:45:21.354Z"
   },
   {
    "duration": 14,
    "start_time": "2021-07-21T22:45:21.771Z"
   },
   {
    "duration": 18,
    "start_time": "2021-07-21T22:45:21.787Z"
   },
   {
    "duration": 10,
    "start_time": "2021-07-21T22:45:21.808Z"
   },
   {
    "duration": 9,
    "start_time": "2021-07-21T22:45:21.821Z"
   },
   {
    "duration": 37,
    "start_time": "2021-07-21T22:45:21.833Z"
   },
   {
    "duration": 8,
    "start_time": "2021-07-21T22:45:21.872Z"
   },
   {
    "duration": 8,
    "start_time": "2021-07-21T22:45:21.882Z"
   },
   {
    "duration": 68,
    "start_time": "2021-07-21T22:45:21.892Z"
   },
   {
    "duration": 14,
    "start_time": "2021-07-21T22:45:21.962Z"
   },
   {
    "duration": 25,
    "start_time": "2021-07-21T22:45:21.978Z"
   },
   {
    "duration": 19,
    "start_time": "2021-07-21T22:45:22.006Z"
   },
   {
    "duration": 78,
    "start_time": "2021-07-21T22:45:22.056Z"
   },
   {
    "duration": 311,
    "start_time": "2021-07-21T22:45:22.137Z"
   },
   {
    "duration": 294,
    "start_time": "2021-07-21T22:45:22.450Z"
   },
   {
    "duration": 13,
    "start_time": "2021-07-21T22:45:22.747Z"
   },
   {
    "duration": 341,
    "start_time": "2021-07-21T22:45:22.762Z"
   },
   {
    "duration": 243,
    "start_time": "2021-07-21T22:45:23.106Z"
   },
   {
    "duration": 28,
    "start_time": "2021-07-21T22:45:23.355Z"
   },
   {
    "duration": 23,
    "start_time": "2021-07-21T22:45:23.389Z"
   },
   {
    "duration": 4,
    "start_time": "2021-07-21T22:45:23.416Z"
   },
   {
    "duration": 1758,
    "start_time": "2021-07-21T22:45:23.422Z"
   },
   {
    "duration": 16,
    "start_time": "2021-07-21T22:45:25.182Z"
   },
   {
    "duration": 22,
    "start_time": "2021-07-21T22:45:25.201Z"
   },
   {
    "duration": 32,
    "start_time": "2021-07-21T22:45:25.226Z"
   },
   {
    "duration": 27,
    "start_time": "2021-07-21T22:45:25.261Z"
   },
   {
    "duration": 13,
    "start_time": "2021-07-21T22:45:25.291Z"
   },
   {
    "duration": 56,
    "start_time": "2021-07-21T22:45:25.307Z"
   },
   {
    "duration": 56,
    "start_time": "2021-07-21T22:45:25.365Z"
   },
   {
    "duration": 269,
    "start_time": "2021-07-21T22:45:25.423Z"
   },
   {
    "duration": 285,
    "start_time": "2021-07-21T22:45:25.695Z"
   },
   {
    "duration": 9,
    "start_time": "2021-07-21T22:45:25.983Z"
   },
   {
    "duration": 276,
    "start_time": "2021-07-21T22:45:25.995Z"
   },
   {
    "duration": 247,
    "start_time": "2021-07-21T22:45:26.274Z"
   },
   {
    "duration": 54,
    "start_time": "2021-07-21T22:45:26.524Z"
   },
   {
    "duration": 5,
    "start_time": "2021-07-21T22:45:26.581Z"
   },
   {
    "duration": 8,
    "start_time": "2021-07-21T22:45:26.589Z"
   },
   {
    "duration": 1612,
    "start_time": "2021-07-21T22:45:26.599Z"
   },
   {
    "duration": 14,
    "start_time": "2021-07-21T22:45:28.213Z"
   },
   {
    "duration": 27,
    "start_time": "2021-07-21T22:45:28.230Z"
   },
   {
    "duration": 5,
    "start_time": "2021-07-21T22:45:28.259Z"
   },
   {
    "duration": 21,
    "start_time": "2021-07-21T22:45:28.267Z"
   },
   {
    "duration": 12,
    "start_time": "2021-07-21T22:45:28.290Z"
   },
   {
    "duration": 15,
    "start_time": "2021-07-21T22:45:28.305Z"
   },
   {
    "duration": 31,
    "start_time": "2021-07-21T22:45:28.355Z"
   },
   {
    "duration": 29,
    "start_time": "2021-07-21T22:45:28.389Z"
   },
   {
    "duration": 6,
    "start_time": "2021-07-21T22:45:28.421Z"
   },
   {
    "duration": 29,
    "start_time": "2021-07-21T22:45:28.430Z"
   },
   {
    "duration": 1497,
    "start_time": "2021-07-21T22:45:28.462Z"
   },
   {
    "duration": 5,
    "start_time": "2021-07-21T22:45:29.962Z"
   },
   {
    "duration": 15,
    "start_time": "2021-07-21T22:45:29.969Z"
   },
   {
    "duration": 14,
    "start_time": "2021-07-21T22:45:29.986Z"
   },
   {
    "duration": 58,
    "start_time": "2021-07-21T22:45:30.002Z"
   },
   {
    "duration": 40,
    "start_time": "2021-07-21T22:45:30.063Z"
   },
   {
    "duration": 15,
    "start_time": "2021-07-21T22:45:30.105Z"
   },
   {
    "duration": 48,
    "start_time": "2021-07-21T22:45:30.122Z"
   },
   {
    "duration": 15,
    "start_time": "2021-07-21T22:45:30.173Z"
   },
   {
    "duration": 28,
    "start_time": "2021-07-21T22:45:30.190Z"
   },
   {
    "duration": 48,
    "start_time": "2021-07-21T22:45:30.220Z"
   },
   {
    "duration": 21,
    "start_time": "2021-07-21T22:45:30.270Z"
   },
   {
    "duration": 31,
    "start_time": "2021-07-21T22:45:30.293Z"
   },
   {
    "duration": 38,
    "start_time": "2021-07-21T22:45:30.327Z"
   },
   {
    "duration": 289,
    "start_time": "2021-07-21T22:45:30.368Z"
   },
   {
    "duration": 6,
    "start_time": "2021-07-21T22:45:30.659Z"
   },
   {
    "duration": 11,
    "start_time": "2021-07-21T22:45:30.673Z"
   },
   {
    "duration": 317,
    "start_time": "2021-07-21T22:45:30.687Z"
   },
   {
    "duration": 81,
    "start_time": "2021-07-21T22:45:31.006Z"
   },
   {
    "duration": 11,
    "start_time": "2021-07-21T22:45:31.089Z"
   },
   {
    "duration": 87,
    "start_time": "2021-07-21T22:45:31.103Z"
   },
   {
    "duration": 92,
    "start_time": "2021-07-21T22:45:31.192Z"
   },
   {
    "duration": 69,
    "start_time": "2021-07-21T22:45:31.286Z"
   },
   {
    "duration": 1474,
    "start_time": "2021-07-21T22:45:31.358Z"
   },
   {
    "duration": 691,
    "start_time": "2021-07-21T22:45:32.835Z"
   },
   {
    "duration": 70,
    "start_time": "2021-07-21T22:45:33.529Z"
   },
   {
    "duration": 1094,
    "start_time": "2021-07-21T22:45:33.602Z"
   },
   {
    "duration": 1500,
    "start_time": "2021-07-21T22:45:34.699Z"
   },
   {
    "duration": 11,
    "start_time": "2021-07-21T22:45:36.202Z"
   },
   {
    "duration": 11,
    "start_time": "2021-07-21T22:45:36.216Z"
   },
   {
    "duration": 29,
    "start_time": "2021-07-21T22:45:36.229Z"
   },
   {
    "duration": 28,
    "start_time": "2021-07-21T22:45:36.260Z"
   },
   {
    "duration": 7,
    "start_time": "2021-07-21T22:45:36.291Z"
   }
  ],
  "kernelspec": {
   "display_name": "Python 3",
   "language": "python",
   "name": "python3"
  },
  "language_info": {
   "codemirror_mode": {
    "name": "ipython",
    "version": 3
   },
   "file_extension": ".py",
   "mimetype": "text/x-python",
   "name": "python",
   "nbconvert_exporter": "python",
   "pygments_lexer": "ipython3",
   "version": "3.8.5"
  },
  "toc": {
   "base_numbering": 1,
   "nav_menu": {},
   "number_sections": true,
   "sideBar": true,
   "skip_h1_title": true,
   "title_cell": "Table of Contents",
   "title_sidebar": "Contents",
   "toc_cell": false,
   "toc_position": {},
   "toc_section_display": true,
   "toc_window_display": false
  }
 },
 "nbformat": 4,
 "nbformat_minor": 4
}
