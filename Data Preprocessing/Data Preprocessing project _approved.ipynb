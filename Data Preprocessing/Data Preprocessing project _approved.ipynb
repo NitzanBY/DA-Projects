{
 "cells": [
  {
   "cell_type": "markdown",
   "metadata": {},
   "source": [
    "# Analyzing borrowers’ risk of defaulting\n",
    "\n",
    "Your project is to prepare a report for a bank’s loan division. You’ll need to find out if a customer’s marital status and number of children has an impact on whether they will default on a loan. The bank already has some data on customers’ credit worthiness.\n",
    "\n",
    "Your report will be considered when building a **credit scoring** of a potential customer. A ** credit scoring ** is used to evaluate the ability of a potential borrower to repay their loan."
   ]
  },
  {
   "cell_type": "markdown",
   "metadata": {},
   "source": [
    "The project's goal:\n",
    "*To find out the correlation between some given parameters of the customers (marital status, having children, income level) \n",
    "and their history in paying loans on time.\n",
    "*from knowing the correlation and its strength we can recommend which parameters should be taken into account when formulating\n",
    "potential customers' credit scoring."
   ]
  },
  {
   "cell_type": "markdown",
   "metadata": {},
   "source": [
    "## Open the data file and have a look at the general information. "
   ]
  },
  {
   "cell_type": "markdown",
   "metadata": {},
   "source": [
    "- Importing Pandas library\n",
    "\n",
    "- Reading the file using read_csv \n",
    "\n",
    "- Getting dataframe general information"
   ]
  },
  {
   "cell_type": "code",
   "execution_count": 43,
   "metadata": {},
   "outputs": [
    {
     "name": "stdout",
     "output_type": "stream",
     "text": [
      "<class 'pandas.core.frame.DataFrame'>\n",
      "RangeIndex: 21525 entries, 0 to 21524\n",
      "Data columns (total 12 columns):\n",
      " #   Column            Non-Null Count  Dtype  \n",
      "---  ------            --------------  -----  \n",
      " 0   children          21525 non-null  int64  \n",
      " 1   days_employed     19351 non-null  float64\n",
      " 2   dob_years         21525 non-null  int64  \n",
      " 3   education         21525 non-null  object \n",
      " 4   education_id      21525 non-null  int64  \n",
      " 5   family_status     21525 non-null  object \n",
      " 6   family_status_id  21525 non-null  int64  \n",
      " 7   gender            21525 non-null  object \n",
      " 8   income_type       21525 non-null  object \n",
      " 9   debt              21525 non-null  int64  \n",
      " 10  total_income      19351 non-null  float64\n",
      " 11  purpose           21525 non-null  object \n",
      "dtypes: float64(2), int64(5), object(5)\n",
      "memory usage: 2.0+ MB\n"
     ]
    },
    {
     "data": {
      "text/html": [
       "<div>\n",
       "<style scoped>\n",
       "    .dataframe tbody tr th:only-of-type {\n",
       "        vertical-align: middle;\n",
       "    }\n",
       "\n",
       "    .dataframe tbody tr th {\n",
       "        vertical-align: top;\n",
       "    }\n",
       "\n",
       "    .dataframe thead th {\n",
       "        text-align: right;\n",
       "    }\n",
       "</style>\n",
       "<table border=\"1\" class=\"dataframe\">\n",
       "  <thead>\n",
       "    <tr style=\"text-align: right;\">\n",
       "      <th></th>\n",
       "      <th>children</th>\n",
       "      <th>days_employed</th>\n",
       "      <th>dob_years</th>\n",
       "      <th>education</th>\n",
       "      <th>education_id</th>\n",
       "      <th>family_status</th>\n",
       "      <th>family_status_id</th>\n",
       "      <th>gender</th>\n",
       "      <th>income_type</th>\n",
       "      <th>debt</th>\n",
       "      <th>total_income</th>\n",
       "      <th>purpose</th>\n",
       "    </tr>\n",
       "  </thead>\n",
       "  <tbody>\n",
       "    <tr>\n",
       "      <th>0</th>\n",
       "      <td>1</td>\n",
       "      <td>-8437.673028</td>\n",
       "      <td>42</td>\n",
       "      <td>bachelor's degree</td>\n",
       "      <td>0</td>\n",
       "      <td>married</td>\n",
       "      <td>0</td>\n",
       "      <td>F</td>\n",
       "      <td>employee</td>\n",
       "      <td>0</td>\n",
       "      <td>40620.102</td>\n",
       "      <td>purchase of the house</td>\n",
       "    </tr>\n",
       "    <tr>\n",
       "      <th>1</th>\n",
       "      <td>1</td>\n",
       "      <td>-4024.803754</td>\n",
       "      <td>36</td>\n",
       "      <td>secondary education</td>\n",
       "      <td>1</td>\n",
       "      <td>married</td>\n",
       "      <td>0</td>\n",
       "      <td>F</td>\n",
       "      <td>employee</td>\n",
       "      <td>0</td>\n",
       "      <td>17932.802</td>\n",
       "      <td>car purchase</td>\n",
       "    </tr>\n",
       "    <tr>\n",
       "      <th>2</th>\n",
       "      <td>0</td>\n",
       "      <td>-5623.422610</td>\n",
       "      <td>33</td>\n",
       "      <td>Secondary Education</td>\n",
       "      <td>1</td>\n",
       "      <td>married</td>\n",
       "      <td>0</td>\n",
       "      <td>M</td>\n",
       "      <td>employee</td>\n",
       "      <td>0</td>\n",
       "      <td>23341.752</td>\n",
       "      <td>purchase of the house</td>\n",
       "    </tr>\n",
       "    <tr>\n",
       "      <th>3</th>\n",
       "      <td>3</td>\n",
       "      <td>-4124.747207</td>\n",
       "      <td>32</td>\n",
       "      <td>secondary education</td>\n",
       "      <td>1</td>\n",
       "      <td>married</td>\n",
       "      <td>0</td>\n",
       "      <td>M</td>\n",
       "      <td>employee</td>\n",
       "      <td>0</td>\n",
       "      <td>42820.568</td>\n",
       "      <td>supplementary education</td>\n",
       "    </tr>\n",
       "    <tr>\n",
       "      <th>4</th>\n",
       "      <td>0</td>\n",
       "      <td>340266.072047</td>\n",
       "      <td>53</td>\n",
       "      <td>secondary education</td>\n",
       "      <td>1</td>\n",
       "      <td>civil partnership</td>\n",
       "      <td>1</td>\n",
       "      <td>F</td>\n",
       "      <td>retiree</td>\n",
       "      <td>0</td>\n",
       "      <td>25378.572</td>\n",
       "      <td>to have a wedding</td>\n",
       "    </tr>\n",
       "    <tr>\n",
       "      <th>5</th>\n",
       "      <td>0</td>\n",
       "      <td>-926.185831</td>\n",
       "      <td>27</td>\n",
       "      <td>bachelor's degree</td>\n",
       "      <td>0</td>\n",
       "      <td>civil partnership</td>\n",
       "      <td>1</td>\n",
       "      <td>M</td>\n",
       "      <td>business</td>\n",
       "      <td>0</td>\n",
       "      <td>40922.170</td>\n",
       "      <td>purchase of the house</td>\n",
       "    </tr>\n",
       "    <tr>\n",
       "      <th>6</th>\n",
       "      <td>0</td>\n",
       "      <td>-2879.202052</td>\n",
       "      <td>43</td>\n",
       "      <td>bachelor's degree</td>\n",
       "      <td>0</td>\n",
       "      <td>married</td>\n",
       "      <td>0</td>\n",
       "      <td>F</td>\n",
       "      <td>business</td>\n",
       "      <td>0</td>\n",
       "      <td>38484.156</td>\n",
       "      <td>housing transactions</td>\n",
       "    </tr>\n",
       "    <tr>\n",
       "      <th>7</th>\n",
       "      <td>0</td>\n",
       "      <td>-152.779569</td>\n",
       "      <td>50</td>\n",
       "      <td>SECONDARY EDUCATION</td>\n",
       "      <td>1</td>\n",
       "      <td>married</td>\n",
       "      <td>0</td>\n",
       "      <td>M</td>\n",
       "      <td>employee</td>\n",
       "      <td>0</td>\n",
       "      <td>21731.829</td>\n",
       "      <td>education</td>\n",
       "    </tr>\n",
       "    <tr>\n",
       "      <th>8</th>\n",
       "      <td>2</td>\n",
       "      <td>-6929.865299</td>\n",
       "      <td>35</td>\n",
       "      <td>BACHELOR'S DEGREE</td>\n",
       "      <td>0</td>\n",
       "      <td>civil partnership</td>\n",
       "      <td>1</td>\n",
       "      <td>F</td>\n",
       "      <td>employee</td>\n",
       "      <td>0</td>\n",
       "      <td>15337.093</td>\n",
       "      <td>having a wedding</td>\n",
       "    </tr>\n",
       "    <tr>\n",
       "      <th>9</th>\n",
       "      <td>0</td>\n",
       "      <td>-2188.756445</td>\n",
       "      <td>41</td>\n",
       "      <td>secondary education</td>\n",
       "      <td>1</td>\n",
       "      <td>married</td>\n",
       "      <td>0</td>\n",
       "      <td>M</td>\n",
       "      <td>employee</td>\n",
       "      <td>0</td>\n",
       "      <td>23108.150</td>\n",
       "      <td>purchase of the house for my family</td>\n",
       "    </tr>\n",
       "  </tbody>\n",
       "</table>\n",
       "</div>"
      ],
      "text/plain": [
       "   children  days_employed  dob_years            education  education_id  \\\n",
       "0         1   -8437.673028         42    bachelor's degree             0   \n",
       "1         1   -4024.803754         36  secondary education             1   \n",
       "2         0   -5623.422610         33  Secondary Education             1   \n",
       "3         3   -4124.747207         32  secondary education             1   \n",
       "4         0  340266.072047         53  secondary education             1   \n",
       "5         0    -926.185831         27    bachelor's degree             0   \n",
       "6         0   -2879.202052         43    bachelor's degree             0   \n",
       "7         0    -152.779569         50  SECONDARY EDUCATION             1   \n",
       "8         2   -6929.865299         35    BACHELOR'S DEGREE             0   \n",
       "9         0   -2188.756445         41  secondary education             1   \n",
       "\n",
       "       family_status  family_status_id gender income_type  debt  total_income  \\\n",
       "0            married                 0      F    employee     0     40620.102   \n",
       "1            married                 0      F    employee     0     17932.802   \n",
       "2            married                 0      M    employee     0     23341.752   \n",
       "3            married                 0      M    employee     0     42820.568   \n",
       "4  civil partnership                 1      F     retiree     0     25378.572   \n",
       "5  civil partnership                 1      M    business     0     40922.170   \n",
       "6            married                 0      F    business     0     38484.156   \n",
       "7            married                 0      M    employee     0     21731.829   \n",
       "8  civil partnership                 1      F    employee     0     15337.093   \n",
       "9            married                 0      M    employee     0     23108.150   \n",
       "\n",
       "                               purpose  \n",
       "0                purchase of the house  \n",
       "1                         car purchase  \n",
       "2                purchase of the house  \n",
       "3              supplementary education  \n",
       "4                    to have a wedding  \n",
       "5                purchase of the house  \n",
       "6                 housing transactions  \n",
       "7                            education  \n",
       "8                     having a wedding  \n",
       "9  purchase of the house for my family  "
      ]
     },
     "execution_count": 43,
     "metadata": {},
     "output_type": "execute_result"
    }
   ],
   "source": [
    "import pandas as pd\n",
    "\n",
    "try:\n",
    "    data_set = pd.read_csv('/datasets/credit_scoring_eng.csv')\n",
    "except:    \n",
    "    data_set = pd.read_csv('credit_scoring_eng.csv')\n",
    "data_set.info()\n",
    "data_set.head(10)"
   ]
  },
  {
   "cell_type": "markdown",
   "metadata": {},
   "source": [
    "- There are 21,525 rows in the df. \n",
    "\n",
    "- There are 2,174 missing values in 'days employed' column and 2,174 in 'total income' column"
   ]
  },
  {
   "cell_type": "markdown",
   "metadata": {},
   "source": [
    "### Conclusion"
   ]
  },
  {
   "cell_type": "markdown",
   "metadata": {},
   "source": [
    "There are 21,525 rows in the file. \n",
    "There are missing values in 'days employed' and 'total income' columns. \n",
    "They both have the same number of mising values, so maybe these are the same rows. \n",
    "They both are quantitative data type, so we have to make some calulations in order to replace them. "
   ]
  },
  {
   "cell_type": "markdown",
   "metadata": {},
   "source": [
    "## Data preprocessing"
   ]
  },
  {
   "cell_type": "markdown",
   "metadata": {},
   "source": [
    "### Processing missing values"
   ]
  },
  {
   "cell_type": "markdown",
   "metadata": {},
   "source": [
    "- Checking if the missing values in 'days_employed' and 'total_income' are in the same rows\n",
    " - They both have the same number of missing values, so maybe there is a linkage.\n",
    " - They both quantitative data type, so we can't just replace them\n",
    "\n",
    "- Creating the variable 'null_rows', which includes rows with both null columns\n",
    " - If the total number will not be higher then 2,174, that means they all the same rows"
   ]
  },
  {
   "cell_type": "code",
   "execution_count": 44,
   "metadata": {},
   "outputs": [
    {
     "data": {
      "text/html": [
       "<div>\n",
       "<style scoped>\n",
       "    .dataframe tbody tr th:only-of-type {\n",
       "        vertical-align: middle;\n",
       "    }\n",
       "\n",
       "    .dataframe tbody tr th {\n",
       "        vertical-align: top;\n",
       "    }\n",
       "\n",
       "    .dataframe thead th {\n",
       "        text-align: right;\n",
       "    }\n",
       "</style>\n",
       "<table border=\"1\" class=\"dataframe\">\n",
       "  <thead>\n",
       "    <tr style=\"text-align: right;\">\n",
       "      <th></th>\n",
       "      <th>children</th>\n",
       "      <th>days_employed</th>\n",
       "      <th>dob_years</th>\n",
       "      <th>education</th>\n",
       "      <th>education_id</th>\n",
       "      <th>family_status</th>\n",
       "      <th>family_status_id</th>\n",
       "      <th>gender</th>\n",
       "      <th>income_type</th>\n",
       "      <th>debt</th>\n",
       "      <th>total_income</th>\n",
       "      <th>purpose</th>\n",
       "    </tr>\n",
       "  </thead>\n",
       "  <tbody>\n",
       "    <tr>\n",
       "      <th>12</th>\n",
       "      <td>0</td>\n",
       "      <td>NaN</td>\n",
       "      <td>65</td>\n",
       "      <td>secondary education</td>\n",
       "      <td>1</td>\n",
       "      <td>civil partnership</td>\n",
       "      <td>1</td>\n",
       "      <td>M</td>\n",
       "      <td>retiree</td>\n",
       "      <td>0</td>\n",
       "      <td>NaN</td>\n",
       "      <td>to have a wedding</td>\n",
       "    </tr>\n",
       "    <tr>\n",
       "      <th>26</th>\n",
       "      <td>0</td>\n",
       "      <td>NaN</td>\n",
       "      <td>41</td>\n",
       "      <td>secondary education</td>\n",
       "      <td>1</td>\n",
       "      <td>married</td>\n",
       "      <td>0</td>\n",
       "      <td>M</td>\n",
       "      <td>civil servant</td>\n",
       "      <td>0</td>\n",
       "      <td>NaN</td>\n",
       "      <td>education</td>\n",
       "    </tr>\n",
       "    <tr>\n",
       "      <th>29</th>\n",
       "      <td>0</td>\n",
       "      <td>NaN</td>\n",
       "      <td>63</td>\n",
       "      <td>secondary education</td>\n",
       "      <td>1</td>\n",
       "      <td>unmarried</td>\n",
       "      <td>4</td>\n",
       "      <td>F</td>\n",
       "      <td>retiree</td>\n",
       "      <td>0</td>\n",
       "      <td>NaN</td>\n",
       "      <td>building a real estate</td>\n",
       "    </tr>\n",
       "    <tr>\n",
       "      <th>41</th>\n",
       "      <td>0</td>\n",
       "      <td>NaN</td>\n",
       "      <td>50</td>\n",
       "      <td>secondary education</td>\n",
       "      <td>1</td>\n",
       "      <td>married</td>\n",
       "      <td>0</td>\n",
       "      <td>F</td>\n",
       "      <td>civil servant</td>\n",
       "      <td>0</td>\n",
       "      <td>NaN</td>\n",
       "      <td>second-hand car purchase</td>\n",
       "    </tr>\n",
       "    <tr>\n",
       "      <th>55</th>\n",
       "      <td>0</td>\n",
       "      <td>NaN</td>\n",
       "      <td>54</td>\n",
       "      <td>secondary education</td>\n",
       "      <td>1</td>\n",
       "      <td>civil partnership</td>\n",
       "      <td>1</td>\n",
       "      <td>F</td>\n",
       "      <td>retiree</td>\n",
       "      <td>1</td>\n",
       "      <td>NaN</td>\n",
       "      <td>to have a wedding</td>\n",
       "    </tr>\n",
       "    <tr>\n",
       "      <th>...</th>\n",
       "      <td>...</td>\n",
       "      <td>...</td>\n",
       "      <td>...</td>\n",
       "      <td>...</td>\n",
       "      <td>...</td>\n",
       "      <td>...</td>\n",
       "      <td>...</td>\n",
       "      <td>...</td>\n",
       "      <td>...</td>\n",
       "      <td>...</td>\n",
       "      <td>...</td>\n",
       "      <td>...</td>\n",
       "    </tr>\n",
       "    <tr>\n",
       "      <th>21489</th>\n",
       "      <td>2</td>\n",
       "      <td>NaN</td>\n",
       "      <td>47</td>\n",
       "      <td>Secondary Education</td>\n",
       "      <td>1</td>\n",
       "      <td>married</td>\n",
       "      <td>0</td>\n",
       "      <td>M</td>\n",
       "      <td>business</td>\n",
       "      <td>0</td>\n",
       "      <td>NaN</td>\n",
       "      <td>purchase of a car</td>\n",
       "    </tr>\n",
       "    <tr>\n",
       "      <th>21495</th>\n",
       "      <td>1</td>\n",
       "      <td>NaN</td>\n",
       "      <td>50</td>\n",
       "      <td>secondary education</td>\n",
       "      <td>1</td>\n",
       "      <td>civil partnership</td>\n",
       "      <td>1</td>\n",
       "      <td>F</td>\n",
       "      <td>employee</td>\n",
       "      <td>0</td>\n",
       "      <td>NaN</td>\n",
       "      <td>wedding ceremony</td>\n",
       "    </tr>\n",
       "    <tr>\n",
       "      <th>21497</th>\n",
       "      <td>0</td>\n",
       "      <td>NaN</td>\n",
       "      <td>48</td>\n",
       "      <td>BACHELOR'S DEGREE</td>\n",
       "      <td>0</td>\n",
       "      <td>married</td>\n",
       "      <td>0</td>\n",
       "      <td>F</td>\n",
       "      <td>business</td>\n",
       "      <td>0</td>\n",
       "      <td>NaN</td>\n",
       "      <td>building a property</td>\n",
       "    </tr>\n",
       "    <tr>\n",
       "      <th>21502</th>\n",
       "      <td>1</td>\n",
       "      <td>NaN</td>\n",
       "      <td>42</td>\n",
       "      <td>secondary education</td>\n",
       "      <td>1</td>\n",
       "      <td>married</td>\n",
       "      <td>0</td>\n",
       "      <td>F</td>\n",
       "      <td>employee</td>\n",
       "      <td>0</td>\n",
       "      <td>NaN</td>\n",
       "      <td>building a real estate</td>\n",
       "    </tr>\n",
       "    <tr>\n",
       "      <th>21510</th>\n",
       "      <td>2</td>\n",
       "      <td>NaN</td>\n",
       "      <td>28</td>\n",
       "      <td>secondary education</td>\n",
       "      <td>1</td>\n",
       "      <td>married</td>\n",
       "      <td>0</td>\n",
       "      <td>F</td>\n",
       "      <td>employee</td>\n",
       "      <td>0</td>\n",
       "      <td>NaN</td>\n",
       "      <td>car purchase</td>\n",
       "    </tr>\n",
       "  </tbody>\n",
       "</table>\n",
       "<p>2174 rows × 12 columns</p>\n",
       "</div>"
      ],
      "text/plain": [
       "       children  days_employed  dob_years            education  education_id  \\\n",
       "12            0            NaN         65  secondary education             1   \n",
       "26            0            NaN         41  secondary education             1   \n",
       "29            0            NaN         63  secondary education             1   \n",
       "41            0            NaN         50  secondary education             1   \n",
       "55            0            NaN         54  secondary education             1   \n",
       "...         ...            ...        ...                  ...           ...   \n",
       "21489         2            NaN         47  Secondary Education             1   \n",
       "21495         1            NaN         50  secondary education             1   \n",
       "21497         0            NaN         48    BACHELOR'S DEGREE             0   \n",
       "21502         1            NaN         42  secondary education             1   \n",
       "21510         2            NaN         28  secondary education             1   \n",
       "\n",
       "           family_status  family_status_id gender    income_type  debt  \\\n",
       "12     civil partnership                 1      M        retiree     0   \n",
       "26               married                 0      M  civil servant     0   \n",
       "29             unmarried                 4      F        retiree     0   \n",
       "41               married                 0      F  civil servant     0   \n",
       "55     civil partnership                 1      F        retiree     1   \n",
       "...                  ...               ...    ...            ...   ...   \n",
       "21489            married                 0      M       business     0   \n",
       "21495  civil partnership                 1      F       employee     0   \n",
       "21497            married                 0      F       business     0   \n",
       "21502            married                 0      F       employee     0   \n",
       "21510            married                 0      F       employee     0   \n",
       "\n",
       "       total_income                   purpose  \n",
       "12              NaN         to have a wedding  \n",
       "26              NaN                 education  \n",
       "29              NaN    building a real estate  \n",
       "41              NaN  second-hand car purchase  \n",
       "55              NaN         to have a wedding  \n",
       "...             ...                       ...  \n",
       "21489           NaN         purchase of a car  \n",
       "21495           NaN          wedding ceremony  \n",
       "21497           NaN       building a property  \n",
       "21502           NaN    building a real estate  \n",
       "21510           NaN              car purchase  \n",
       "\n",
       "[2174 rows x 12 columns]"
      ]
     },
     "execution_count": 44,
     "metadata": {},
     "output_type": "execute_result"
    }
   ],
   "source": [
    "data_set.isnull().sum()\n",
    "\n",
    "null_rows = data_set.loc[(data_set.days_employed.isnull()) & (data_set.total_income.isnull())]\n",
    "null_rows"
   ]
  },
  {
   "cell_type": "code",
   "execution_count": 45,
   "metadata": {},
   "outputs": [
    {
     "data": {
      "text/plain": [
       "2174"
      ]
     },
     "execution_count": 45,
     "metadata": {},
     "output_type": "execute_result"
    }
   ],
   "source": [
    "len(null_rows)"
   ]
  },
  {
   "cell_type": "markdown",
   "metadata": {},
   "source": [
    "- There are exactly 2,174 rows in the filtered df. \n",
    " - conclusion: where days_employed is null, also income_type is null. It make sense, if we take 'days_employed = 0' as 'not working'."
   ]
  },
  {
   "cell_type": "code",
   "execution_count": 46,
   "metadata": {},
   "outputs": [
    {
     "data": {
      "text/plain": [
       "0.10099883855981417"
      ]
     },
     "execution_count": 46,
     "metadata": {},
     "output_type": "execute_result"
    }
   ],
   "source": [
    "len(null_rows)/len(data_set)"
   ]
  },
  {
   "cell_type": "markdown",
   "metadata": {},
   "source": [
    "- That are 10% of the whole data"
   ]
  },
  {
   "cell_type": "code",
   "execution_count": 47,
   "metadata": {},
   "outputs": [
    {
     "data": {
      "text/plain": [
       "employee         1105\n",
       "business          508\n",
       "retiree           413\n",
       "civil servant     147\n",
       "entrepreneur        1\n",
       "Name: income_type, dtype: int64"
      ]
     },
     "execution_count": 47,
     "metadata": {},
     "output_type": "execute_result"
    }
   ],
   "source": [
    "null_rows['income_type'].value_counts()"
   ]
  },
  {
   "cell_type": "markdown",
   "metadata": {},
   "source": [
    "- I also checked what income types these people have, to check the hypothesis that they are all retired... and its wrong, they have all types of income"
   ]
  },
  {
   "cell_type": "code",
   "execution_count": 48,
   "metadata": {},
   "outputs": [
    {
     "data": {
      "text/plain": [
       "count     19351.000000\n",
       "mean      63046.497661\n",
       "std      140827.311974\n",
       "min      -18388.949901\n",
       "25%       -2747.423625\n",
       "50%       -1203.369529\n",
       "75%        -291.095954\n",
       "max      401755.400475\n",
       "Name: days_employed, dtype: float64"
      ]
     },
     "execution_count": 48,
     "metadata": {},
     "output_type": "execute_result"
    }
   ],
   "source": [
    "data_set['days_employed'].describe()"
   ]
  },
  {
   "cell_type": "markdown",
   "metadata": {},
   "source": [
    "I tried to learn more about 'day_employed', by caculation some measures:\n",
    "min = -18388\n",
    "max = 401755\n",
    "mean = 63046\n",
    "median = -1203\n",
    "negative numbers have no sense here. \n",
    "also the maximum value which implys for (when divided by 365) 1,100 working years...\n",
    "mean and median are meaningless because of the negative values\n",
    "\n",
    "I will try to see if these are just anomalies or whether they indicate that the whole column is corrupted\n",
    "I will group the 'days_employed' to 3 groups: Minus, '0 to 60 years', and '60 years and more'\n",
    "the '0 to 60 years' is the only logical group. lets see what is the distribution between the groups"
   ]
  },
  {
   "cell_type": "code",
   "execution_count": 49,
   "metadata": {},
   "outputs": [
    {
     "data": {
      "text/plain": [
       "Minus                15906\n",
       "60 years and more     5619\n",
       "Name: emp_group, dtype: int64"
      ]
     },
     "execution_count": 49,
     "metadata": {},
     "output_type": "execute_result"
    }
   ],
   "source": [
    "def employed_groups(days):\n",
    "       if days < 0:\n",
    "            return 'Minus'\n",
    "       if days < 22000:  \n",
    "            return  '0 to 60 years' \n",
    "       return '60 years and more'         \n",
    "\n",
    "data_set['emp_group'] = data_set['days_employed'].apply(employed_groups)\n",
    "data_set['emp_group'].value_counts()"
   ]
  },
  {
   "cell_type": "markdown",
   "metadata": {},
   "source": [
    "There are 15,906 'Minus' and 5,619 '60 years and more'.\n",
    "there are no rows with logical value of days_employed.\n",
    "I want to learn about the distribution of each group.\n",
    "The minus group:"
   ]
  },
  {
   "cell_type": "code",
   "execution_count": 50,
   "metadata": {},
   "outputs": [
    {
     "data": {
      "text/plain": [
       "-1630.0193809778218"
      ]
     },
     "execution_count": 50,
     "metadata": {},
     "output_type": "execute_result"
    }
   ],
   "source": [
    "data_set['days_employed'][data_set['emp_group'] == 'Minus'].min()\n",
    "data_set['days_employed'][data_set['emp_group'] == 'Minus'].max()\n",
    "data_set['days_employed'][data_set['emp_group'] == 'Minus'].mean()\n",
    "data_set['days_employed'][data_set['emp_group'] == 'Minus'].median()"
   ]
  },
  {
   "cell_type": "markdown",
   "metadata": {},
   "source": [
    "- minimum = -18388 (divided by 365 its about 50 years)\n",
    "- maximum = -24 (about 1 month)\n",
    "- mean = -2353 (~ 6.5 years)\n",
    "- median = -1630 (~ 4.5 years)\n",
    "- if we put them as absolute value the numbers are very sensible for employment period. so my assumption is that due to technical issue, the numbers are negative.\n",
    "\n",
    "- I will replace the 'minus' values with their absolute value\n",
    " - now this group values make sense"
   ]
  },
  {
   "cell_type": "code",
   "execution_count": 51,
   "metadata": {},
   "outputs": [],
   "source": [
    "data_set.loc[data_set['emp_group'] == 'Minus',['days_employed']] = data_set['days_employed'].abs()"
   ]
  },
  {
   "cell_type": "markdown",
   "metadata": {},
   "source": [
    "- The '60 years and more' group:"
   ]
  },
  {
   "cell_type": "code",
   "execution_count": 52,
   "metadata": {},
   "outputs": [
    {
     "data": {
      "text/plain": [
       "365213.3062657312"
      ]
     },
     "execution_count": 52,
     "metadata": {},
     "output_type": "execute_result"
    }
   ],
   "source": [
    "data_set['days_employed'][data_set['emp_group'] == '60 years and more'].min()\n",
    "data_set['days_employed'][data_set['emp_group'] == '60 years and more'].max()\n",
    "data_set['days_employed'][data_set['emp_group'] == '60 years and more'].mean()\n",
    "data_set['days_employed'][data_set['emp_group'] == '60 years and more'].median()"
   ]
  },
  {
   "cell_type": "markdown",
   "metadata": {},
   "source": [
    "- minimum = 328,728 (divided by 8 ~50 years)\n",
    "- maximum = 401,755 (divided by 8 ~ 1 month)\n",
    "- mean = 365,004 (divided by 8 ~ 6.5 years)\n",
    "- median = 365,213 (divided by 8 ~ 4.5 years)\n",
    "\n",
    "- what are the income types of this group?"
   ]
  },
  {
   "cell_type": "code",
   "execution_count": 53,
   "metadata": {},
   "outputs": [
    {
     "data": {
      "text/plain": [
       "retiree          3856\n",
       "employee         1105\n",
       "business          508\n",
       "civil servant     147\n",
       "unemployed          2\n",
       "entrepreneur        1\n",
       "Name: income_type, dtype: int64"
      ]
     },
     "execution_count": 53,
     "metadata": {},
     "output_type": "execute_result"
    }
   ],
   "source": [
    "data_set['income_type'][data_set['emp_group'] == '60 years and more'].value_counts()"
   ]
  },
  {
   "cell_type": "markdown",
   "metadata": {},
   "source": [
    "- Most of them are retiree. what rate?"
   ]
  },
  {
   "cell_type": "code",
   "execution_count": 54,
   "metadata": {},
   "outputs": [
    {
     "data": {
      "text/plain": [
       "'0.61'"
      ]
     },
     "execution_count": 54,
     "metadata": {},
     "output_type": "execute_result"
    }
   ],
   "source": [
    "'{:.2f}'.format(data_set['days_employed'].loc[(data_set.emp_group == '60 years and more') & (data_set.income_type == 'retiree')].count()/data_set['income_type'][data_set['emp_group'] == '60 years and more'].count())"
   ]
  },
  {
   "cell_type": "markdown",
   "metadata": {},
   "source": [
    " 61% of the inordinate days_employed group are retiree\n",
    " I assumed their data represent someting else, not days. I tried to check if multiplying by 8 (hours a day) will make sense, but no.\n",
    " I will leave it as is for now."
   ]
  },
  {
   "cell_type": "markdown",
   "metadata": {},
   "source": [
    "- I will update the null values in 'days_employed' with the 'Minus' group mean"
   ]
  },
  {
   "cell_type": "code",
   "execution_count": 55,
   "metadata": {},
   "outputs": [
    {
     "name": "stdout",
     "output_type": "stream",
     "text": [
      "<class 'pandas.core.frame.DataFrame'>\n",
      "RangeIndex: 21525 entries, 0 to 21524\n",
      "Data columns (total 13 columns):\n",
      " #   Column            Non-Null Count  Dtype  \n",
      "---  ------            --------------  -----  \n",
      " 0   children          21525 non-null  int64  \n",
      " 1   days_employed     21525 non-null  float64\n",
      " 2   dob_years         21525 non-null  int64  \n",
      " 3   education         21525 non-null  object \n",
      " 4   education_id      21525 non-null  int64  \n",
      " 5   family_status     21525 non-null  object \n",
      " 6   family_status_id  21525 non-null  int64  \n",
      " 7   gender            21525 non-null  object \n",
      " 8   income_type       21525 non-null  object \n",
      " 9   debt              21525 non-null  int64  \n",
      " 10  total_income      19351 non-null  float64\n",
      " 11  purpose           21525 non-null  object \n",
      " 12  emp_group         21525 non-null  object \n",
      "dtypes: float64(2), int64(5), object(6)\n",
      "memory usage: 2.1+ MB\n"
     ]
    }
   ],
   "source": [
    "days_employed_mean = data_set['days_employed'][data_set['emp_group'] == 'Minus'].mean()\n",
    "data_set['days_employed'].fillna(days_employed_mean, inplace = True)\n",
    "data_set.info()"
   ]
  },
  {
   "cell_type": "markdown",
   "metadata": {},
   "source": [
    "- days employed are set!\n",
    " - now I will check the 'total_income' distribution"
   ]
  },
  {
   "cell_type": "code",
   "execution_count": 56,
   "metadata": {},
   "outputs": [
    {
     "data": {
      "text/plain": [
       "count     19351.000000\n",
       "mean      26787.568355\n",
       "std       16475.450632\n",
       "min        3306.762000\n",
       "25%       16488.504500\n",
       "50%       23202.870000\n",
       "75%       32549.611000\n",
       "max      362496.645000\n",
       "Name: total_income, dtype: float64"
      ]
     },
     "execution_count": 56,
     "metadata": {},
     "output_type": "execute_result"
    }
   ],
   "source": [
    "data_set['total_income'].describe()"
   ]
  },
  {
   "cell_type": "markdown",
   "metadata": {},
   "source": [
    "- Group the 'total_income' according to 'income_type' to see if there are significant groups:"
   ]
  },
  {
   "cell_type": "code",
   "execution_count": 57,
   "metadata": {},
   "outputs": [
    {
     "data": {
      "text/plain": [
       "income_type\n",
       "business                       32386.793835\n",
       "civil servant                  27343.729582\n",
       "employee                       25820.841683\n",
       "entrepreneur                   79866.103000\n",
       "paternity / maternity leave     8612.661000\n",
       "retiree                        21940.394503\n",
       "student                        15712.260000\n",
       "unemployed                     21014.360500\n",
       "Name: total_income, dtype: float64"
      ]
     },
     "execution_count": 57,
     "metadata": {},
     "output_type": "execute_result"
    }
   ],
   "source": [
    "data_set.groupby('income_type')['total_income'].mean()"
   ]
  },
  {
   "cell_type": "markdown",
   "metadata": {},
   "source": [
    "- Yes, grouping by 'income_type' gives us more information about the estimated income.\n",
    " - I will use the mean to fill the null values\n",
    "\n",
    "- Define a function that recives a raw and updates 'total_income' null values with 'income_type' group's mean income\n",
    " - Apply the function \"set_income\" to the whole dataframe:"
   ]
  },
  {
   "cell_type": "code",
   "execution_count": 58,
   "metadata": {},
   "outputs": [
    {
     "data": {
      "text/plain": [
       "count     21525.000000\n",
       "mean      26783.346520\n",
       "std       15665.112650\n",
       "min        3306.762000\n",
       "25%       17247.708000\n",
       "50%       24309.013000\n",
       "75%       32386.793835\n",
       "max      362496.645000\n",
       "Name: total_income, dtype: float64"
      ]
     },
     "execution_count": 58,
     "metadata": {},
     "output_type": "execute_result"
    }
   ],
   "source": [
    "total_income_type = data_set.groupby('income_type')['total_income'].mean()\n",
    "\n",
    "def set_income(raw):\n",
    "    if pd.isnull(raw['total_income']):\n",
    "        income = total_income_type[raw['income_type']]\n",
    "        return income\n",
    "    else:\n",
    "        return raw['total_income']\n",
    "  \n",
    "data_set['total_income'] = data_set.apply(set_income, axis=1)\n",
    "\n",
    "data_set['total_income'].describe()"
   ]
  },
  {
   "cell_type": "markdown",
   "metadata": {},
   "source": [
    "### Conclusion"
   ]
  },
  {
   "cell_type": "markdown",
   "metadata": {},
   "source": [
    "There were 2,174 rows with missing values in both 'days employed' column and 'total income' column.\n",
    "1. Days employed:\n",
    "I found out that the data of 'days employed' composed of two different groups, which both have unlogical data.\n",
    "in one group the numbers are negetive, but their absolute value is ligical - I converted them to positive number.\n",
    "The other group have very high values, which can't represent days of employment (the mean is 365,000 - 1,000 year of work...)\n",
    "I left them as they are, maybe something will come up later on.\n",
    "then I used the first group's mean days employed, to fill the null values.\n",
    "2. Total income:\n",
    "I found out there are significant differences in total income by the different income types, so Icalculated the mean total_income for each income_type and filled the null values with each group's mean income.\n",
    "I chose the mean because for our purposes we will later group the income by income levels, so the differences between mean and median will not have much impact."
   ]
  },
  {
   "cell_type": "markdown",
   "metadata": {},
   "source": [
    "### Data type replacement"
   ]
  },
  {
   "cell_type": "markdown",
   "metadata": {},
   "source": [
    "- Which columns' data type should be replaced?\n",
    " - days employed should be replaced into integer (days can get real number, but we are not loosing anything when using int)\n",
    " - same with total_income (we don't need the floating number information for our analysis)"
   ]
  },
  {
   "cell_type": "code",
   "execution_count": 59,
   "metadata": {},
   "outputs": [
    {
     "name": "stdout",
     "output_type": "stream",
     "text": [
      "<class 'pandas.core.frame.DataFrame'>\n",
      "RangeIndex: 21525 entries, 0 to 21524\n",
      "Data columns (total 13 columns):\n",
      " #   Column            Non-Null Count  Dtype  \n",
      "---  ------            --------------  -----  \n",
      " 0   children          21525 non-null  int64  \n",
      " 1   days_employed     21525 non-null  float64\n",
      " 2   dob_years         21525 non-null  int64  \n",
      " 3   education         21525 non-null  object \n",
      " 4   education_id      21525 non-null  int64  \n",
      " 5   family_status     21525 non-null  object \n",
      " 6   family_status_id  21525 non-null  int64  \n",
      " 7   gender            21525 non-null  object \n",
      " 8   income_type       21525 non-null  object \n",
      " 9   debt              21525 non-null  int64  \n",
      " 10  total_income      21525 non-null  float64\n",
      " 11  purpose           21525 non-null  object \n",
      " 12  emp_group         21525 non-null  object \n",
      "dtypes: float64(2), int64(5), object(6)\n",
      "memory usage: 2.1+ MB\n"
     ]
    }
   ],
   "source": [
    "data_set.info()\n",
    "\n",
    "data_set['days_employed'] = data_set['days_employed'].astype('int')\n",
    "data_set['total_income'] = data_set['total_income'].astype('int')"
   ]
  },
  {
   "cell_type": "markdown",
   "metadata": {},
   "source": [
    "### Conclusion"
   ]
  },
  {
   "cell_type": "markdown",
   "metadata": {},
   "source": [
    "I replaced two columns data type from floating number to integer - days_employed and total_income. the reason is that in both of them the data will not be used for calculations, but for categorization."
   ]
  },
  {
   "cell_type": "markdown",
   "metadata": {},
   "source": [
    "### Processing duplicates"
   ]
  },
  {
   "cell_type": "code",
   "execution_count": 60,
   "metadata": {},
   "outputs": [
    {
     "data": {
      "text/plain": [
       "54"
      ]
     },
     "execution_count": 60,
     "metadata": {},
     "output_type": "execute_result"
    }
   ],
   "source": [
    "data_set.duplicated().sum()"
   ]
  },
  {
   "cell_type": "markdown",
   "metadata": {},
   "source": [
    "- There are 54 duplicates (all the rows' values). thats only 0.2% of the data\n",
    " - And since there is no unique id for each row, I can't be sure that these rows are duplicates. they might be original rows."
   ]
  },
  {
   "cell_type": "markdown",
   "metadata": {},
   "source": [
    "2.6 Conclusion"
   ]
  },
  {
   "cell_type": "markdown",
   "metadata": {},
   "source": [
    "Since the duplicated rows can be real 2 similar records, and since they consist just 0.2% of the data, I decided not to drop them"
   ]
  },
  {
   "cell_type": "markdown",
   "metadata": {},
   "source": [
    "### Categorizing Data"
   ]
  },
  {
   "cell_type": "markdown",
   "metadata": {},
   "source": [
    "- education and education id\n",
    "- family status\n",
    " - These two values has both the id & description in the table, which takes a lot of space and add 'noise',\n",
    "- I will divide the table into 1 main table and 2 Id tables. It will be more orgenized to create one ID table for the whole categories, and another master table for dhe categories key, But for 2 categories only, its not worth it.\n",
    "\n",
    "- Main customer details df:"
   ]
  },
  {
   "cell_type": "code",
   "execution_count": 61,
   "metadata": {},
   "outputs": [
    {
     "data": {
      "text/html": [
       "<div>\n",
       "<style scoped>\n",
       "    .dataframe tbody tr th:only-of-type {\n",
       "        vertical-align: middle;\n",
       "    }\n",
       "\n",
       "    .dataframe tbody tr th {\n",
       "        vertical-align: top;\n",
       "    }\n",
       "\n",
       "    .dataframe thead th {\n",
       "        text-align: right;\n",
       "    }\n",
       "</style>\n",
       "<table border=\"1\" class=\"dataframe\">\n",
       "  <thead>\n",
       "    <tr style=\"text-align: right;\">\n",
       "      <th></th>\n",
       "      <th>children</th>\n",
       "      <th>days_employed</th>\n",
       "      <th>dob_years</th>\n",
       "      <th>education_id</th>\n",
       "      <th>family_status_id</th>\n",
       "      <th>gender</th>\n",
       "      <th>income_type</th>\n",
       "      <th>debt</th>\n",
       "      <th>total_income</th>\n",
       "      <th>purpose</th>\n",
       "      <th>emp_group</th>\n",
       "    </tr>\n",
       "  </thead>\n",
       "  <tbody>\n",
       "    <tr>\n",
       "      <th>0</th>\n",
       "      <td>1</td>\n",
       "      <td>8437</td>\n",
       "      <td>42</td>\n",
       "      <td>0</td>\n",
       "      <td>0</td>\n",
       "      <td>F</td>\n",
       "      <td>employee</td>\n",
       "      <td>0</td>\n",
       "      <td>40620</td>\n",
       "      <td>purchase of the house</td>\n",
       "      <td>Minus</td>\n",
       "    </tr>\n",
       "    <tr>\n",
       "      <th>1</th>\n",
       "      <td>1</td>\n",
       "      <td>4024</td>\n",
       "      <td>36</td>\n",
       "      <td>1</td>\n",
       "      <td>0</td>\n",
       "      <td>F</td>\n",
       "      <td>employee</td>\n",
       "      <td>0</td>\n",
       "      <td>17932</td>\n",
       "      <td>car purchase</td>\n",
       "      <td>Minus</td>\n",
       "    </tr>\n",
       "    <tr>\n",
       "      <th>2</th>\n",
       "      <td>0</td>\n",
       "      <td>5623</td>\n",
       "      <td>33</td>\n",
       "      <td>1</td>\n",
       "      <td>0</td>\n",
       "      <td>M</td>\n",
       "      <td>employee</td>\n",
       "      <td>0</td>\n",
       "      <td>23341</td>\n",
       "      <td>purchase of the house</td>\n",
       "      <td>Minus</td>\n",
       "    </tr>\n",
       "    <tr>\n",
       "      <th>3</th>\n",
       "      <td>3</td>\n",
       "      <td>4124</td>\n",
       "      <td>32</td>\n",
       "      <td>1</td>\n",
       "      <td>0</td>\n",
       "      <td>M</td>\n",
       "      <td>employee</td>\n",
       "      <td>0</td>\n",
       "      <td>42820</td>\n",
       "      <td>supplementary education</td>\n",
       "      <td>Minus</td>\n",
       "    </tr>\n",
       "    <tr>\n",
       "      <th>4</th>\n",
       "      <td>0</td>\n",
       "      <td>340266</td>\n",
       "      <td>53</td>\n",
       "      <td>1</td>\n",
       "      <td>1</td>\n",
       "      <td>F</td>\n",
       "      <td>retiree</td>\n",
       "      <td>0</td>\n",
       "      <td>25378</td>\n",
       "      <td>to have a wedding</td>\n",
       "      <td>60 years and more</td>\n",
       "    </tr>\n",
       "    <tr>\n",
       "      <th>...</th>\n",
       "      <td>...</td>\n",
       "      <td>...</td>\n",
       "      <td>...</td>\n",
       "      <td>...</td>\n",
       "      <td>...</td>\n",
       "      <td>...</td>\n",
       "      <td>...</td>\n",
       "      <td>...</td>\n",
       "      <td>...</td>\n",
       "      <td>...</td>\n",
       "      <td>...</td>\n",
       "    </tr>\n",
       "    <tr>\n",
       "      <th>21520</th>\n",
       "      <td>1</td>\n",
       "      <td>4529</td>\n",
       "      <td>43</td>\n",
       "      <td>1</td>\n",
       "      <td>1</td>\n",
       "      <td>F</td>\n",
       "      <td>business</td>\n",
       "      <td>0</td>\n",
       "      <td>35966</td>\n",
       "      <td>housing transactions</td>\n",
       "      <td>Minus</td>\n",
       "    </tr>\n",
       "    <tr>\n",
       "      <th>21521</th>\n",
       "      <td>0</td>\n",
       "      <td>343937</td>\n",
       "      <td>67</td>\n",
       "      <td>1</td>\n",
       "      <td>0</td>\n",
       "      <td>F</td>\n",
       "      <td>retiree</td>\n",
       "      <td>0</td>\n",
       "      <td>24959</td>\n",
       "      <td>purchase of a car</td>\n",
       "      <td>60 years and more</td>\n",
       "    </tr>\n",
       "    <tr>\n",
       "      <th>21522</th>\n",
       "      <td>1</td>\n",
       "      <td>2113</td>\n",
       "      <td>38</td>\n",
       "      <td>1</td>\n",
       "      <td>1</td>\n",
       "      <td>M</td>\n",
       "      <td>employee</td>\n",
       "      <td>1</td>\n",
       "      <td>14347</td>\n",
       "      <td>property</td>\n",
       "      <td>Minus</td>\n",
       "    </tr>\n",
       "    <tr>\n",
       "      <th>21523</th>\n",
       "      <td>3</td>\n",
       "      <td>3112</td>\n",
       "      <td>38</td>\n",
       "      <td>1</td>\n",
       "      <td>0</td>\n",
       "      <td>M</td>\n",
       "      <td>employee</td>\n",
       "      <td>1</td>\n",
       "      <td>39054</td>\n",
       "      <td>buying my own car</td>\n",
       "      <td>Minus</td>\n",
       "    </tr>\n",
       "    <tr>\n",
       "      <th>21524</th>\n",
       "      <td>2</td>\n",
       "      <td>1984</td>\n",
       "      <td>40</td>\n",
       "      <td>1</td>\n",
       "      <td>0</td>\n",
       "      <td>F</td>\n",
       "      <td>employee</td>\n",
       "      <td>0</td>\n",
       "      <td>13127</td>\n",
       "      <td>to buy a car</td>\n",
       "      <td>Minus</td>\n",
       "    </tr>\n",
       "  </tbody>\n",
       "</table>\n",
       "<p>21525 rows × 11 columns</p>\n",
       "</div>"
      ],
      "text/plain": [
       "       children  days_employed  dob_years  education_id  family_status_id  \\\n",
       "0             1           8437         42             0                 0   \n",
       "1             1           4024         36             1                 0   \n",
       "2             0           5623         33             1                 0   \n",
       "3             3           4124         32             1                 0   \n",
       "4             0         340266         53             1                 1   \n",
       "...         ...            ...        ...           ...               ...   \n",
       "21520         1           4529         43             1                 1   \n",
       "21521         0         343937         67             1                 0   \n",
       "21522         1           2113         38             1                 1   \n",
       "21523         3           3112         38             1                 0   \n",
       "21524         2           1984         40             1                 0   \n",
       "\n",
       "      gender income_type  debt  total_income                  purpose  \\\n",
       "0          F    employee     0         40620    purchase of the house   \n",
       "1          F    employee     0         17932             car purchase   \n",
       "2          M    employee     0         23341    purchase of the house   \n",
       "3          M    employee     0         42820  supplementary education   \n",
       "4          F     retiree     0         25378        to have a wedding   \n",
       "...      ...         ...   ...           ...                      ...   \n",
       "21520      F    business     0         35966     housing transactions   \n",
       "21521      F     retiree     0         24959        purchase of a car   \n",
       "21522      M    employee     1         14347                 property   \n",
       "21523      M    employee     1         39054        buying my own car   \n",
       "21524      F    employee     0         13127             to buy a car   \n",
       "\n",
       "               emp_group  \n",
       "0                  Minus  \n",
       "1                  Minus  \n",
       "2                  Minus  \n",
       "3                  Minus  \n",
       "4      60 years and more  \n",
       "...                  ...  \n",
       "21520              Minus  \n",
       "21521  60 years and more  \n",
       "21522              Minus  \n",
       "21523              Minus  \n",
       "21524              Minus  \n",
       "\n",
       "[21525 rows x 11 columns]"
      ]
     },
     "execution_count": 61,
     "metadata": {},
     "output_type": "execute_result"
    }
   ],
   "source": [
    "customer_details = data_set[['children','days_employed','dob_years','education_id','family_status_id','gender','income_type','debt','total_income','purpose','emp_group']]\n",
    "customer_details"
   ]
  },
  {
   "cell_type": "markdown",
   "metadata": {},
   "source": [
    "- convert the education string into lowercase \n",
    "- creating education values table\n",
    "- deleting the duplicated rows"
   ]
  },
  {
   "cell_type": "code",
   "execution_count": 62,
   "metadata": {},
   "outputs": [
    {
     "data": {
      "text/html": [
       "<div>\n",
       "<style scoped>\n",
       "    .dataframe tbody tr th:only-of-type {\n",
       "        vertical-align: middle;\n",
       "    }\n",
       "\n",
       "    .dataframe tbody tr th {\n",
       "        vertical-align: top;\n",
       "    }\n",
       "\n",
       "    .dataframe thead th {\n",
       "        text-align: right;\n",
       "    }\n",
       "</style>\n",
       "<table border=\"1\" class=\"dataframe\">\n",
       "  <thead>\n",
       "    <tr style=\"text-align: right;\">\n",
       "      <th></th>\n",
       "      <th>education_id</th>\n",
       "      <th>education</th>\n",
       "    </tr>\n",
       "  </thead>\n",
       "  <tbody>\n",
       "    <tr>\n",
       "      <th>0</th>\n",
       "      <td>0</td>\n",
       "      <td>bachelor's degree</td>\n",
       "    </tr>\n",
       "    <tr>\n",
       "      <th>1</th>\n",
       "      <td>1</td>\n",
       "      <td>secondary education</td>\n",
       "    </tr>\n",
       "    <tr>\n",
       "      <th>2</th>\n",
       "      <td>2</td>\n",
       "      <td>some college</td>\n",
       "    </tr>\n",
       "    <tr>\n",
       "      <th>3</th>\n",
       "      <td>3</td>\n",
       "      <td>primary education</td>\n",
       "    </tr>\n",
       "    <tr>\n",
       "      <th>4</th>\n",
       "      <td>4</td>\n",
       "      <td>graduate degree</td>\n",
       "    </tr>\n",
       "  </tbody>\n",
       "</table>\n",
       "</div>"
      ],
      "text/plain": [
       "   education_id            education\n",
       "0             0    bachelor's degree\n",
       "1             1  secondary education\n",
       "2             2         some college\n",
       "3             3    primary education\n",
       "4             4      graduate degree"
      ]
     },
     "execution_count": 62,
     "metadata": {},
     "output_type": "execute_result"
    }
   ],
   "source": [
    "data_set['education'] = data_set['education'].str.lower()\n",
    "\n",
    "edu_id_table = data_set[['education_id',('education')]]\n",
    "\n",
    "edu_id_table = edu_id_table.drop_duplicates().reset_index(drop=True)\n",
    "edu_id_table"
   ]
  },
  {
   "cell_type": "markdown",
   "metadata": {},
   "source": [
    "- And do the same for the family status \n",
    " - creating family_status values table\n",
    " - deleting the duplicated rows"
   ]
  },
  {
   "cell_type": "code",
   "execution_count": 63,
   "metadata": {},
   "outputs": [
    {
     "data": {
      "text/html": [
       "<div>\n",
       "<style scoped>\n",
       "    .dataframe tbody tr th:only-of-type {\n",
       "        vertical-align: middle;\n",
       "    }\n",
       "\n",
       "    .dataframe tbody tr th {\n",
       "        vertical-align: top;\n",
       "    }\n",
       "\n",
       "    .dataframe thead th {\n",
       "        text-align: right;\n",
       "    }\n",
       "</style>\n",
       "<table border=\"1\" class=\"dataframe\">\n",
       "  <thead>\n",
       "    <tr style=\"text-align: right;\">\n",
       "      <th></th>\n",
       "      <th>family_status_id</th>\n",
       "      <th>family_status</th>\n",
       "    </tr>\n",
       "  </thead>\n",
       "  <tbody>\n",
       "    <tr>\n",
       "      <th>0</th>\n",
       "      <td>0</td>\n",
       "      <td>married</td>\n",
       "    </tr>\n",
       "    <tr>\n",
       "      <th>1</th>\n",
       "      <td>1</td>\n",
       "      <td>civil partnership</td>\n",
       "    </tr>\n",
       "    <tr>\n",
       "      <th>2</th>\n",
       "      <td>2</td>\n",
       "      <td>widow / widower</td>\n",
       "    </tr>\n",
       "    <tr>\n",
       "      <th>3</th>\n",
       "      <td>3</td>\n",
       "      <td>divorced</td>\n",
       "    </tr>\n",
       "    <tr>\n",
       "      <th>4</th>\n",
       "      <td>4</td>\n",
       "      <td>unmarried</td>\n",
       "    </tr>\n",
       "  </tbody>\n",
       "</table>\n",
       "</div>"
      ],
      "text/plain": [
       "   family_status_id      family_status\n",
       "0                 0            married\n",
       "1                 1  civil partnership\n",
       "2                 2    widow / widower\n",
       "3                 3           divorced\n",
       "4                 4          unmarried"
      ]
     },
     "execution_count": 63,
     "metadata": {},
     "output_type": "execute_result"
    }
   ],
   "source": [
    "data_set['family_status'] = data_set['family_status'].str.lower()\n",
    "\n",
    "fs_id_table = data_set[['family_status_id',('family_status')]]\n",
    "\n",
    "fs_id_table = fs_id_table.drop_duplicates().reset_index(drop=True)\n",
    "fs_id_table"
   ]
  },
  {
   "cell_type": "markdown",
   "metadata": {},
   "source": [
    "- lets exemine the children data"
   ]
  },
  {
   "cell_type": "code",
   "execution_count": 64,
   "metadata": {},
   "outputs": [
    {
     "data": {
      "text/plain": [
       " 0     14149\n",
       " 1      4818\n",
       " 2      2055\n",
       " 3       330\n",
       " 20       76\n",
       "-1        47\n",
       " 4        41\n",
       " 5         9\n",
       "Name: children, dtype: int64"
      ]
     },
     "execution_count": 64,
     "metadata": {},
     "output_type": "execute_result"
    }
   ],
   "source": [
    "customer_details['children'].value_counts()"
   ]
  },
  {
   "cell_type": "markdown",
   "metadata": {},
   "source": [
    "- There are 47 rows with -1 children and 76 rows with 20 children (Total 123 rows)\n",
    " - They consist 0.6% of the population\n",
    " - I want to exemine this inspections and see if I can get with some hypothesis"
   ]
  },
  {
   "cell_type": "code",
   "execution_count": 65,
   "metadata": {},
   "outputs": [
    {
     "data": {
      "text/html": [
       "<div>\n",
       "<style scoped>\n",
       "    .dataframe tbody tr th:only-of-type {\n",
       "        vertical-align: middle;\n",
       "    }\n",
       "\n",
       "    .dataframe tbody tr th {\n",
       "        vertical-align: top;\n",
       "    }\n",
       "\n",
       "    .dataframe thead th {\n",
       "        text-align: right;\n",
       "    }\n",
       "</style>\n",
       "<table border=\"1\" class=\"dataframe\">\n",
       "  <thead>\n",
       "    <tr style=\"text-align: right;\">\n",
       "      <th></th>\n",
       "      <th>children</th>\n",
       "      <th>days_employed</th>\n",
       "      <th>dob_years</th>\n",
       "      <th>education_id</th>\n",
       "      <th>family_status_id</th>\n",
       "      <th>gender</th>\n",
       "      <th>income_type</th>\n",
       "      <th>debt</th>\n",
       "      <th>total_income</th>\n",
       "      <th>purpose</th>\n",
       "      <th>emp_group</th>\n",
       "    </tr>\n",
       "  </thead>\n",
       "  <tbody>\n",
       "    <tr>\n",
       "      <th>291</th>\n",
       "      <td>-1</td>\n",
       "      <td>4417</td>\n",
       "      <td>46</td>\n",
       "      <td>1</td>\n",
       "      <td>1</td>\n",
       "      <td>F</td>\n",
       "      <td>employee</td>\n",
       "      <td>0</td>\n",
       "      <td>16450</td>\n",
       "      <td>profile education</td>\n",
       "      <td>Minus</td>\n",
       "    </tr>\n",
       "    <tr>\n",
       "      <th>705</th>\n",
       "      <td>-1</td>\n",
       "      <td>902</td>\n",
       "      <td>50</td>\n",
       "      <td>1</td>\n",
       "      <td>0</td>\n",
       "      <td>F</td>\n",
       "      <td>civil servant</td>\n",
       "      <td>0</td>\n",
       "      <td>22061</td>\n",
       "      <td>car purchase</td>\n",
       "      <td>Minus</td>\n",
       "    </tr>\n",
       "    <tr>\n",
       "      <th>742</th>\n",
       "      <td>-1</td>\n",
       "      <td>3174</td>\n",
       "      <td>57</td>\n",
       "      <td>1</td>\n",
       "      <td>0</td>\n",
       "      <td>F</td>\n",
       "      <td>employee</td>\n",
       "      <td>0</td>\n",
       "      <td>10282</td>\n",
       "      <td>supplementary education</td>\n",
       "      <td>Minus</td>\n",
       "    </tr>\n",
       "    <tr>\n",
       "      <th>800</th>\n",
       "      <td>-1</td>\n",
       "      <td>349987</td>\n",
       "      <td>54</td>\n",
       "      <td>1</td>\n",
       "      <td>4</td>\n",
       "      <td>F</td>\n",
       "      <td>retiree</td>\n",
       "      <td>0</td>\n",
       "      <td>13806</td>\n",
       "      <td>supplementary education</td>\n",
       "      <td>60 years and more</td>\n",
       "    </tr>\n",
       "    <tr>\n",
       "      <th>941</th>\n",
       "      <td>-1</td>\n",
       "      <td>2353</td>\n",
       "      <td>57</td>\n",
       "      <td>1</td>\n",
       "      <td>0</td>\n",
       "      <td>F</td>\n",
       "      <td>retiree</td>\n",
       "      <td>0</td>\n",
       "      <td>21940</td>\n",
       "      <td>buying my own car</td>\n",
       "      <td>60 years and more</td>\n",
       "    </tr>\n",
       "    <tr>\n",
       "      <th>1363</th>\n",
       "      <td>-1</td>\n",
       "      <td>1195</td>\n",
       "      <td>55</td>\n",
       "      <td>1</td>\n",
       "      <td>0</td>\n",
       "      <td>F</td>\n",
       "      <td>business</td>\n",
       "      <td>0</td>\n",
       "      <td>11128</td>\n",
       "      <td>profile education</td>\n",
       "      <td>Minus</td>\n",
       "    </tr>\n",
       "    <tr>\n",
       "      <th>1929</th>\n",
       "      <td>-1</td>\n",
       "      <td>1461</td>\n",
       "      <td>38</td>\n",
       "      <td>1</td>\n",
       "      <td>4</td>\n",
       "      <td>M</td>\n",
       "      <td>employee</td>\n",
       "      <td>0</td>\n",
       "      <td>17459</td>\n",
       "      <td>purchase of the house</td>\n",
       "      <td>Minus</td>\n",
       "    </tr>\n",
       "    <tr>\n",
       "      <th>2073</th>\n",
       "      <td>-1</td>\n",
       "      <td>2539</td>\n",
       "      <td>42</td>\n",
       "      <td>1</td>\n",
       "      <td>3</td>\n",
       "      <td>F</td>\n",
       "      <td>business</td>\n",
       "      <td>0</td>\n",
       "      <td>26022</td>\n",
       "      <td>purchase of the house</td>\n",
       "      <td>Minus</td>\n",
       "    </tr>\n",
       "    <tr>\n",
       "      <th>3814</th>\n",
       "      <td>-1</td>\n",
       "      <td>3045</td>\n",
       "      <td>26</td>\n",
       "      <td>1</td>\n",
       "      <td>1</td>\n",
       "      <td>F</td>\n",
       "      <td>civil servant</td>\n",
       "      <td>0</td>\n",
       "      <td>21102</td>\n",
       "      <td>having a wedding</td>\n",
       "      <td>Minus</td>\n",
       "    </tr>\n",
       "    <tr>\n",
       "      <th>4201</th>\n",
       "      <td>-1</td>\n",
       "      <td>901</td>\n",
       "      <td>41</td>\n",
       "      <td>1</td>\n",
       "      <td>0</td>\n",
       "      <td>F</td>\n",
       "      <td>civil servant</td>\n",
       "      <td>0</td>\n",
       "      <td>36220</td>\n",
       "      <td>transactions with my real estate</td>\n",
       "      <td>Minus</td>\n",
       "    </tr>\n",
       "  </tbody>\n",
       "</table>\n",
       "</div>"
      ],
      "text/plain": [
       "      children  days_employed  dob_years  education_id  family_status_id  \\\n",
       "291         -1           4417         46             1                 1   \n",
       "705         -1            902         50             1                 0   \n",
       "742         -1           3174         57             1                 0   \n",
       "800         -1         349987         54             1                 4   \n",
       "941         -1           2353         57             1                 0   \n",
       "1363        -1           1195         55             1                 0   \n",
       "1929        -1           1461         38             1                 4   \n",
       "2073        -1           2539         42             1                 3   \n",
       "3814        -1           3045         26             1                 1   \n",
       "4201        -1            901         41             1                 0   \n",
       "\n",
       "     gender    income_type  debt  total_income  \\\n",
       "291       F       employee     0         16450   \n",
       "705       F  civil servant     0         22061   \n",
       "742       F       employee     0         10282   \n",
       "800       F        retiree     0         13806   \n",
       "941       F        retiree     0         21940   \n",
       "1363      F       business     0         11128   \n",
       "1929      M       employee     0         17459   \n",
       "2073      F       business     0         26022   \n",
       "3814      F  civil servant     0         21102   \n",
       "4201      F  civil servant     0         36220   \n",
       "\n",
       "                               purpose          emp_group  \n",
       "291                  profile education              Minus  \n",
       "705                       car purchase              Minus  \n",
       "742            supplementary education              Minus  \n",
       "800            supplementary education  60 years and more  \n",
       "941                  buying my own car  60 years and more  \n",
       "1363                 profile education              Minus  \n",
       "1929             purchase of the house              Minus  \n",
       "2073             purchase of the house              Minus  \n",
       "3814                  having a wedding              Minus  \n",
       "4201  transactions with my real estate              Minus  "
      ]
     },
     "execution_count": 65,
     "metadata": {},
     "output_type": "execute_result"
    }
   ],
   "source": [
    "twenty_kids = customer_details[customer_details['children'] == 20]\n",
    "minus_kids = customer_details[customer_details['children'] == -1]\n",
    "\n",
    "twenty_kids.head(10)\n",
    "minus_kids.head(10)"
   ]
  },
  {
   "cell_type": "markdown",
   "metadata": {},
   "source": [
    "- No, I can't find any correlation to anything that could explain the outre values. \n",
    " - I assume their source is some corruption or problem with data entry\n",
    " - Since these outre values consist only 0.6% of the population, I believe I can drop them"
   ]
  },
  {
   "cell_type": "code",
   "execution_count": 66,
   "metadata": {},
   "outputs": [
    {
     "data": {
      "text/plain": [
       "0    14149\n",
       "1     4818\n",
       "2     2055\n",
       "3      330\n",
       "4       41\n",
       "5        9\n",
       "Name: children, dtype: int64"
      ]
     },
     "execution_count": 66,
     "metadata": {},
     "output_type": "execute_result"
    }
   ],
   "source": [
    "customer_details = customer_details.loc[(customer_details['children'] >= 0) & (customer_details['children'] < 20)]\n",
    "\n",
    "customer_details['children'].value_counts()"
   ]
  },
  {
   "cell_type": "markdown",
   "metadata": {},
   "source": [
    "- In order to evaluate the risk in relation to having kids, I will group the data by having/not having \n",
    "\n",
    "- I will do it by replacing the children column number value by Yes(have children)/No(0 children)"
   ]
  },
  {
   "cell_type": "code",
   "execution_count": 67,
   "metadata": {},
   "outputs": [],
   "source": [
    "import sys\n",
    "import warnings\n",
    "if not sys.warnoptions:\n",
    "       warnings.simplefilter(\"ignore\")"
   ]
  },
  {
   "cell_type": "code",
   "execution_count": 68,
   "metadata": {},
   "outputs": [
    {
     "data": {
      "text/html": [
       "<div>\n",
       "<style scoped>\n",
       "    .dataframe tbody tr th:only-of-type {\n",
       "        vertical-align: middle;\n",
       "    }\n",
       "\n",
       "    .dataframe tbody tr th {\n",
       "        vertical-align: top;\n",
       "    }\n",
       "\n",
       "    .dataframe thead th {\n",
       "        text-align: right;\n",
       "    }\n",
       "</style>\n",
       "<table border=\"1\" class=\"dataframe\">\n",
       "  <thead>\n",
       "    <tr style=\"text-align: right;\">\n",
       "      <th></th>\n",
       "      <th>children</th>\n",
       "      <th>days_employed</th>\n",
       "      <th>dob_years</th>\n",
       "      <th>education_id</th>\n",
       "      <th>family_status_id</th>\n",
       "      <th>gender</th>\n",
       "      <th>income_type</th>\n",
       "      <th>debt</th>\n",
       "      <th>total_income</th>\n",
       "      <th>purpose</th>\n",
       "      <th>emp_group</th>\n",
       "    </tr>\n",
       "  </thead>\n",
       "  <tbody>\n",
       "    <tr>\n",
       "      <th>0</th>\n",
       "      <td>Yes</td>\n",
       "      <td>8437</td>\n",
       "      <td>42</td>\n",
       "      <td>0</td>\n",
       "      <td>0</td>\n",
       "      <td>F</td>\n",
       "      <td>employee</td>\n",
       "      <td>0</td>\n",
       "      <td>40620</td>\n",
       "      <td>purchase of the house</td>\n",
       "      <td>Minus</td>\n",
       "    </tr>\n",
       "    <tr>\n",
       "      <th>1</th>\n",
       "      <td>Yes</td>\n",
       "      <td>4024</td>\n",
       "      <td>36</td>\n",
       "      <td>1</td>\n",
       "      <td>0</td>\n",
       "      <td>F</td>\n",
       "      <td>employee</td>\n",
       "      <td>0</td>\n",
       "      <td>17932</td>\n",
       "      <td>car purchase</td>\n",
       "      <td>Minus</td>\n",
       "    </tr>\n",
       "    <tr>\n",
       "      <th>2</th>\n",
       "      <td>No</td>\n",
       "      <td>5623</td>\n",
       "      <td>33</td>\n",
       "      <td>1</td>\n",
       "      <td>0</td>\n",
       "      <td>M</td>\n",
       "      <td>employee</td>\n",
       "      <td>0</td>\n",
       "      <td>23341</td>\n",
       "      <td>purchase of the house</td>\n",
       "      <td>Minus</td>\n",
       "    </tr>\n",
       "    <tr>\n",
       "      <th>3</th>\n",
       "      <td>Yes</td>\n",
       "      <td>4124</td>\n",
       "      <td>32</td>\n",
       "      <td>1</td>\n",
       "      <td>0</td>\n",
       "      <td>M</td>\n",
       "      <td>employee</td>\n",
       "      <td>0</td>\n",
       "      <td>42820</td>\n",
       "      <td>supplementary education</td>\n",
       "      <td>Minus</td>\n",
       "    </tr>\n",
       "    <tr>\n",
       "      <th>4</th>\n",
       "      <td>No</td>\n",
       "      <td>340266</td>\n",
       "      <td>53</td>\n",
       "      <td>1</td>\n",
       "      <td>1</td>\n",
       "      <td>F</td>\n",
       "      <td>retiree</td>\n",
       "      <td>0</td>\n",
       "      <td>25378</td>\n",
       "      <td>to have a wedding</td>\n",
       "      <td>60 years and more</td>\n",
       "    </tr>\n",
       "    <tr>\n",
       "      <th>...</th>\n",
       "      <td>...</td>\n",
       "      <td>...</td>\n",
       "      <td>...</td>\n",
       "      <td>...</td>\n",
       "      <td>...</td>\n",
       "      <td>...</td>\n",
       "      <td>...</td>\n",
       "      <td>...</td>\n",
       "      <td>...</td>\n",
       "      <td>...</td>\n",
       "      <td>...</td>\n",
       "    </tr>\n",
       "    <tr>\n",
       "      <th>21520</th>\n",
       "      <td>Yes</td>\n",
       "      <td>4529</td>\n",
       "      <td>43</td>\n",
       "      <td>1</td>\n",
       "      <td>1</td>\n",
       "      <td>F</td>\n",
       "      <td>business</td>\n",
       "      <td>0</td>\n",
       "      <td>35966</td>\n",
       "      <td>housing transactions</td>\n",
       "      <td>Minus</td>\n",
       "    </tr>\n",
       "    <tr>\n",
       "      <th>21521</th>\n",
       "      <td>No</td>\n",
       "      <td>343937</td>\n",
       "      <td>67</td>\n",
       "      <td>1</td>\n",
       "      <td>0</td>\n",
       "      <td>F</td>\n",
       "      <td>retiree</td>\n",
       "      <td>0</td>\n",
       "      <td>24959</td>\n",
       "      <td>purchase of a car</td>\n",
       "      <td>60 years and more</td>\n",
       "    </tr>\n",
       "    <tr>\n",
       "      <th>21522</th>\n",
       "      <td>Yes</td>\n",
       "      <td>2113</td>\n",
       "      <td>38</td>\n",
       "      <td>1</td>\n",
       "      <td>1</td>\n",
       "      <td>M</td>\n",
       "      <td>employee</td>\n",
       "      <td>1</td>\n",
       "      <td>14347</td>\n",
       "      <td>property</td>\n",
       "      <td>Minus</td>\n",
       "    </tr>\n",
       "    <tr>\n",
       "      <th>21523</th>\n",
       "      <td>Yes</td>\n",
       "      <td>3112</td>\n",
       "      <td>38</td>\n",
       "      <td>1</td>\n",
       "      <td>0</td>\n",
       "      <td>M</td>\n",
       "      <td>employee</td>\n",
       "      <td>1</td>\n",
       "      <td>39054</td>\n",
       "      <td>buying my own car</td>\n",
       "      <td>Minus</td>\n",
       "    </tr>\n",
       "    <tr>\n",
       "      <th>21524</th>\n",
       "      <td>Yes</td>\n",
       "      <td>1984</td>\n",
       "      <td>40</td>\n",
       "      <td>1</td>\n",
       "      <td>0</td>\n",
       "      <td>F</td>\n",
       "      <td>employee</td>\n",
       "      <td>0</td>\n",
       "      <td>13127</td>\n",
       "      <td>to buy a car</td>\n",
       "      <td>Minus</td>\n",
       "    </tr>\n",
       "  </tbody>\n",
       "</table>\n",
       "<p>21402 rows × 11 columns</p>\n",
       "</div>"
      ],
      "text/plain": [
       "      children  days_employed  dob_years  education_id  family_status_id  \\\n",
       "0          Yes           8437         42             0                 0   \n",
       "1          Yes           4024         36             1                 0   \n",
       "2           No           5623         33             1                 0   \n",
       "3          Yes           4124         32             1                 0   \n",
       "4           No         340266         53             1                 1   \n",
       "...        ...            ...        ...           ...               ...   \n",
       "21520      Yes           4529         43             1                 1   \n",
       "21521       No         343937         67             1                 0   \n",
       "21522      Yes           2113         38             1                 1   \n",
       "21523      Yes           3112         38             1                 0   \n",
       "21524      Yes           1984         40             1                 0   \n",
       "\n",
       "      gender income_type  debt  total_income                  purpose  \\\n",
       "0          F    employee     0         40620    purchase of the house   \n",
       "1          F    employee     0         17932             car purchase   \n",
       "2          M    employee     0         23341    purchase of the house   \n",
       "3          M    employee     0         42820  supplementary education   \n",
       "4          F     retiree     0         25378        to have a wedding   \n",
       "...      ...         ...   ...           ...                      ...   \n",
       "21520      F    business     0         35966     housing transactions   \n",
       "21521      F     retiree     0         24959        purchase of a car   \n",
       "21522      M    employee     1         14347                 property   \n",
       "21523      M    employee     1         39054        buying my own car   \n",
       "21524      F    employee     0         13127             to buy a car   \n",
       "\n",
       "               emp_group  \n",
       "0                  Minus  \n",
       "1                  Minus  \n",
       "2                  Minus  \n",
       "3                  Minus  \n",
       "4      60 years and more  \n",
       "...                  ...  \n",
       "21520              Minus  \n",
       "21521  60 years and more  \n",
       "21522              Minus  \n",
       "21523              Minus  \n",
       "21524              Minus  \n",
       "\n",
       "[21402 rows x 11 columns]"
      ]
     },
     "execution_count": 68,
     "metadata": {},
     "output_type": "execute_result"
    }
   ],
   "source": [
    "customer_details.loc[customer_details['children'] != 0,['children']] = 'Yes'\n",
    "customer_details.loc[customer_details['children'] == 0,['children']] = 'No'\n",
    "customer_details"
   ]
  },
  {
   "cell_type": "markdown",
   "metadata": {},
   "source": [
    "- Categorizing total_income by income levels\n",
    " - I will devide the incomes to four groups: first 25%,25%-50%,50%-75%, 75% and above\n",
    " - Define functions that gets the total_income and returns income level\n",
    " - Apply the function to the dataframe on total_income column, to create income level column"
   ]
  },
  {
   "cell_type": "code",
   "execution_count": 69,
   "metadata": {},
   "outputs": [
    {
     "data": {
      "text/plain": [
       "24300-32400        5834\n",
       "17200-24300        5356\n",
       "less then 17200    5333\n",
       "32400 and above    4879\n",
       "Name: income_level, dtype: int64"
      ]
     },
     "execution_count": 69,
     "metadata": {},
     "output_type": "execute_result"
    }
   ],
   "source": [
    "customer_details['total_income'].describe()\n",
    "\n",
    "def income_level_grouping(income):\n",
    "       if income <= 17200:\n",
    "            return 'less then 17200'\n",
    "       if income <= 24300:  \n",
    "            return  '17200-24300'\n",
    "       if income <= 32400:\n",
    "            return '24300-32400'\n",
    "       return  '32400 and above'\n",
    "\n",
    "customer_details['income_level'] = customer_details['total_income'].apply(income_level_grouping)\n",
    "customer_details['income_level'].value_counts()"
   ]
  },
  {
   "cell_type": "markdown",
   "metadata": {},
   "source": [
    "Categorize loan purpose:\n",
    "\n",
    "- Define function that gets the loan purpose as was reported and returns the right purpose category\n",
    "- Apply the function to all the rows creates a new column 'purpose category'   "
   ]
  },
  {
   "cell_type": "code",
   "execution_count": 70,
   "metadata": {},
   "outputs": [
    {
     "data": {
      "text/plain": [
       "real estate    10780\n",
       "car             4288\n",
       "education       3997\n",
       "wedding         2337\n",
       "Name: purpose_category, dtype: int64"
      ]
     },
     "execution_count": 70,
     "metadata": {},
     "output_type": "execute_result"
    }
   ],
   "source": [
    "import nltk\n",
    "from nltk.stem import SnowballStemmer\n",
    "from nltk.stem import WordNetLemmatizer\n",
    "english_stemmer = SnowballStemmer('english')\n",
    "wordnet_lemma = WordNetLemmatizer()\n",
    "purpose_step_dict = {'wedding':['wed'],'real_estate':['hous','properti','estat'],'car':['car'],'education':['educ','univers']}\n",
    "\n",
    "def categorize(purpose_text):\n",
    "        loan_purpose = nltk.word_tokenize(purpose_text.lower())\n",
    "\n",
    "        for word in loan_purpose:\n",
    "            word = english_stemmer.stem(word)\n",
    "            if word in purpose_step_dict.get('wedding'):\n",
    "                return 'wedding'\n",
    "                break\n",
    "            if  word in purpose_step_dict.get('real_estate'):\n",
    "                return 'real estate'\n",
    "                break\n",
    "            if word in purpose_step_dict.get('car'):\n",
    "                return 'car'\n",
    "                break\n",
    "            if word in purpose_step_dict.get('education'):\n",
    "                return 'education'\n",
    "                break\n",
    "            else:\n",
    "                continue\n",
    "                        \n",
    "customer_details.loc[:,'purpose_category'] = customer_details.loc[:,'purpose'].apply(categorize)\n",
    "customer_details['purpose_category'].value_counts()"
   ]
  },
  {
   "cell_type": "markdown",
   "metadata": {},
   "source": [
    "### Conclusion"
   ]
  },
  {
   "cell_type": "markdown",
   "metadata": {},
   "source": [
    "I had a lot of work in categorizing the data. I did it in order to build the basis for later analysis by categories:\n",
    "1. I took out the educationdescription and family_status description, created dedicated id_description dataframe, and left onlt the id's in the main dataframe\n",
    "2. Categorized the children data into two categories - having children Yes/No\n",
    "3. Categorized total income into 4 income levels according to their percentile.\n",
    "4. Categorized loan purpose free text that actualy holds 4 different purposes, into 4 purpose types. did it by tokenizing the text and stemming each word. using functions that checks if the word belongs to one of the lists in the dictionary in built for it."
   ]
  },
  {
   "cell_type": "markdown",
   "metadata": {},
   "source": [
    "## Answer these questions"
   ]
  },
  {
   "cell_type": "markdown",
   "metadata": {},
   "source": [
    "- Is there a relation between having kids and repaying a loan on time?"
   ]
  },
  {
   "cell_type": "markdown",
   "metadata": {},
   "source": [
    "- First, I would like to calculate the mean debt_rate for the whole population:"
   ]
  },
  {
   "cell_type": "code",
   "execution_count": 71,
   "metadata": {},
   "outputs": [
    {
     "data": {
      "text/plain": [
       "8.09"
      ]
     },
     "execution_count": 71,
     "metadata": {},
     "output_type": "execute_result"
    }
   ],
   "source": [
    "mean_debt_rate = customer_details['debt'].sum()/customer_details['debt'].count()*100\n",
    "mean_debt_rate.round(2)"
   ]
  },
  {
   "cell_type": "markdown",
   "metadata": {},
   "source": [
    "- The mean debt rate (the chance that a customer has a history of defaulting a loan) is 8.09%\n",
    "\n",
    " - Define pivot table for the index children Yes/No\n",
    " - Calculating the rate of people having defaulting on a loan for each category "
   ]
  },
  {
   "cell_type": "code",
   "execution_count": 72,
   "metadata": {},
   "outputs": [
    {
     "data": {
      "text/html": [
       "<div>\n",
       "<style scoped>\n",
       "    .dataframe tbody tr th:only-of-type {\n",
       "        vertical-align: middle;\n",
       "    }\n",
       "\n",
       "    .dataframe tbody tr th {\n",
       "        vertical-align: top;\n",
       "    }\n",
       "\n",
       "    .dataframe thead tr th {\n",
       "        text-align: left;\n",
       "    }\n",
       "\n",
       "    .dataframe thead tr:last-of-type th {\n",
       "        text-align: right;\n",
       "    }\n",
       "</style>\n",
       "<table border=\"1\" class=\"dataframe\">\n",
       "  <thead>\n",
       "    <tr>\n",
       "      <th></th>\n",
       "      <th>len</th>\n",
       "      <th>sum</th>\n",
       "      <th>debt_rate</th>\n",
       "    </tr>\n",
       "    <tr>\n",
       "      <th></th>\n",
       "      <th>debt</th>\n",
       "      <th>debt</th>\n",
       "      <th></th>\n",
       "    </tr>\n",
       "    <tr>\n",
       "      <th>children</th>\n",
       "      <th></th>\n",
       "      <th></th>\n",
       "      <th></th>\n",
       "    </tr>\n",
       "  </thead>\n",
       "  <tbody>\n",
       "    <tr>\n",
       "      <th>Yes</th>\n",
       "      <td>7253</td>\n",
       "      <td>669</td>\n",
       "      <td>9.223769</td>\n",
       "    </tr>\n",
       "    <tr>\n",
       "      <th>No</th>\n",
       "      <td>14149</td>\n",
       "      <td>1063</td>\n",
       "      <td>7.512898</td>\n",
       "    </tr>\n",
       "  </tbody>\n",
       "</table>\n",
       "</div>"
      ],
      "text/plain": [
       "            len   sum debt_rate\n",
       "           debt  debt          \n",
       "children                       \n",
       "Yes        7253   669  9.223769\n",
       "No        14149  1063  7.512898"
      ]
     },
     "execution_count": 72,
     "metadata": {},
     "output_type": "execute_result"
    }
   ],
   "source": [
    "children_data_pivot = pd.pivot_table(customer_details,index=['children'],values = ['debt'],aggfunc=[len,sum])\n",
    "             \n",
    "children_data_pivot['debt_rate'] = children_data_pivot['sum']/children_data_pivot['len']*100\n",
    "children_data_pivot.sort_values(by = 'debt_rate', ascending = False)"
   ]
  },
  {
   "cell_type": "markdown",
   "metadata": {},
   "source": [
    "### Conclusion"
   ]
  },
  {
   "cell_type": "markdown",
   "metadata": {},
   "source": [
    "Yes, There is a relation betwwen having kids and repaying loans on time: we can see that 9.2% of people with kids have history of defaulting paying loans, which is above the population mean, and only 7.5% of the people without kids, which is below the 8.09% mean."
   ]
  },
  {
   "cell_type": "markdown",
   "metadata": {},
   "source": [
    "- Is there a relation between marital status and repaying a loan on time?"
   ]
  },
  {
   "cell_type": "markdown",
   "metadata": {},
   "source": [
    " - Creating pivot table for debt history by family_status categories\n",
    " - Calculating the rate of people having defaulting on a loan for each category (# of children)\n",
    " - Adding family status description and creating new df\n",
    " - Updating columns names\n",
    " - Sorting the data by loan-payment-defaulting rate"
   ]
  },
  {
   "cell_type": "code",
   "execution_count": 73,
   "metadata": {},
   "outputs": [],
   "source": [
    "family_data_pivot = pd.pivot_table(customer_details,index=['family_status_id'],values = ['debt'],aggfunc=[len,sum])\n",
    "               \n",
    "family_data_pivot['debt_rate'] = family_data_pivot['sum']/family_data_pivot['len']*100\n",
    "\n",
    "debt_rate_by_family_status = family_data_pivot.merge(fs_id_table,on = 'family_status_id', how = 'left')"
   ]
  },
  {
   "cell_type": "code",
   "execution_count": 74,
   "metadata": {},
   "outputs": [],
   "source": [
    "debt_rate_by_family_status.set_axis(['family_status_id', 'Total_customers', 'Total_debt', 'debt_rate','family_status'], axis='columns',inplace = True)"
   ]
  },
  {
   "cell_type": "code",
   "execution_count": 75,
   "metadata": {},
   "outputs": [
    {
     "data": {
      "text/html": [
       "<div>\n",
       "<style scoped>\n",
       "    .dataframe tbody tr th:only-of-type {\n",
       "        vertical-align: middle;\n",
       "    }\n",
       "\n",
       "    .dataframe tbody tr th {\n",
       "        vertical-align: top;\n",
       "    }\n",
       "\n",
       "    .dataframe thead th {\n",
       "        text-align: right;\n",
       "    }\n",
       "</style>\n",
       "<table border=\"1\" class=\"dataframe\">\n",
       "  <thead>\n",
       "    <tr style=\"text-align: right;\">\n",
       "      <th></th>\n",
       "      <th>family_status_id</th>\n",
       "      <th>Total_customers</th>\n",
       "      <th>Total_debt</th>\n",
       "      <th>debt_rate</th>\n",
       "      <th>family_status</th>\n",
       "    </tr>\n",
       "  </thead>\n",
       "  <tbody>\n",
       "    <tr>\n",
       "      <th>4</th>\n",
       "      <td>4</td>\n",
       "      <td>2799</td>\n",
       "      <td>273</td>\n",
       "      <td>9.753483</td>\n",
       "      <td>unmarried</td>\n",
       "    </tr>\n",
       "    <tr>\n",
       "      <th>1</th>\n",
       "      <td>1</td>\n",
       "      <td>4160</td>\n",
       "      <td>385</td>\n",
       "      <td>9.254808</td>\n",
       "      <td>civil partnership</td>\n",
       "    </tr>\n",
       "    <tr>\n",
       "      <th>0</th>\n",
       "      <td>0</td>\n",
       "      <td>12302</td>\n",
       "      <td>927</td>\n",
       "      <td>7.535360</td>\n",
       "      <td>married</td>\n",
       "    </tr>\n",
       "    <tr>\n",
       "      <th>3</th>\n",
       "      <td>3</td>\n",
       "      <td>1189</td>\n",
       "      <td>84</td>\n",
       "      <td>7.064760</td>\n",
       "      <td>divorced</td>\n",
       "    </tr>\n",
       "    <tr>\n",
       "      <th>2</th>\n",
       "      <td>2</td>\n",
       "      <td>952</td>\n",
       "      <td>63</td>\n",
       "      <td>6.617647</td>\n",
       "      <td>widow / widower</td>\n",
       "    </tr>\n",
       "  </tbody>\n",
       "</table>\n",
       "</div>"
      ],
      "text/plain": [
       "   family_status_id  Total_customers  Total_debt  debt_rate      family_status\n",
       "4                 4             2799         273   9.753483          unmarried\n",
       "1                 1             4160         385   9.254808  civil partnership\n",
       "0                 0            12302         927   7.535360            married\n",
       "3                 3             1189          84   7.064760           divorced\n",
       "2                 2              952          63   6.617647    widow / widower"
      ]
     },
     "execution_count": 75,
     "metadata": {},
     "output_type": "execute_result"
    }
   ],
   "source": [
    "debt_rate_by_family_status.sort_values(by = 'debt_rate', ascending = False)"
   ]
  },
  {
   "cell_type": "markdown",
   "metadata": {},
   "source": [
    "### Conclusion"
   ]
  },
  {
   "cell_type": "markdown",
   "metadata": {},
   "source": [
    "Yes, There is a relation betwwen marital status and repaying loans on time: we can see that unmarried people ot people in civil partnership have higher then 9.25% unrepayed loans rate, which is more than the everage, while married or has-been-married people have 7.5% rate and below."
   ]
  },
  {
   "cell_type": "markdown",
   "metadata": {},
   "source": [
    "- Is there a relation between income level and repaying a loan on time?"
   ]
  },
  {
   "cell_type": "markdown",
   "metadata": {},
   "source": [
    "- Create pivot table for debt(loan repayment history) by income level \n",
    " - Calculating the rate of bad history for each level \n",
    " - Sort the rows by debt rate "
   ]
  },
  {
   "cell_type": "code",
   "execution_count": 76,
   "metadata": {},
   "outputs": [
    {
     "data": {
      "text/html": [
       "<div>\n",
       "<style scoped>\n",
       "    .dataframe tbody tr th:only-of-type {\n",
       "        vertical-align: middle;\n",
       "    }\n",
       "\n",
       "    .dataframe tbody tr th {\n",
       "        vertical-align: top;\n",
       "    }\n",
       "\n",
       "    .dataframe thead tr th {\n",
       "        text-align: left;\n",
       "    }\n",
       "\n",
       "    .dataframe thead tr:last-of-type th {\n",
       "        text-align: right;\n",
       "    }\n",
       "</style>\n",
       "<table border=\"1\" class=\"dataframe\">\n",
       "  <thead>\n",
       "    <tr>\n",
       "      <th></th>\n",
       "      <th>len</th>\n",
       "      <th>sum</th>\n",
       "      <th>debt_rate</th>\n",
       "    </tr>\n",
       "    <tr>\n",
       "      <th></th>\n",
       "      <th>debt</th>\n",
       "      <th>debt</th>\n",
       "      <th></th>\n",
       "    </tr>\n",
       "    <tr>\n",
       "      <th>income_level</th>\n",
       "      <th></th>\n",
       "      <th></th>\n",
       "      <th></th>\n",
       "    </tr>\n",
       "  </thead>\n",
       "  <tbody>\n",
       "    <tr>\n",
       "      <th>17200-24300</th>\n",
       "      <td>5356</td>\n",
       "      <td>470</td>\n",
       "      <td>8.775205</td>\n",
       "    </tr>\n",
       "    <tr>\n",
       "      <th>24300-32400</th>\n",
       "      <td>5834</td>\n",
       "      <td>492</td>\n",
       "      <td>8.433322</td>\n",
       "    </tr>\n",
       "    <tr>\n",
       "      <th>less then 17200</th>\n",
       "      <td>5333</td>\n",
       "      <td>427</td>\n",
       "      <td>8.006750</td>\n",
       "    </tr>\n",
       "    <tr>\n",
       "      <th>32400 and above</th>\n",
       "      <td>4879</td>\n",
       "      <td>343</td>\n",
       "      <td>7.030129</td>\n",
       "    </tr>\n",
       "  </tbody>\n",
       "</table>\n",
       "</div>"
      ],
      "text/plain": [
       "                  len  sum debt_rate\n",
       "                 debt debt          \n",
       "income_level                        \n",
       "17200-24300      5356  470  8.775205\n",
       "24300-32400      5834  492  8.433322\n",
       "less then 17200  5333  427  8.006750\n",
       "32400 and above  4879  343  7.030129"
      ]
     },
     "execution_count": 76,
     "metadata": {},
     "output_type": "execute_result"
    }
   ],
   "source": [
    "income_data_pivot = pd.pivot_table(customer_details,index=['income_level'],values = ['debt'],aggfunc=[len,sum])\n",
    "\n",
    "income_data_pivot['debt_rate'] = income_data_pivot['sum']/income_data_pivot['len']*100\n",
    "\n",
    "income_data_pivot.sort_values(by = 'debt_rate', ascending = False)"
   ]
  },
  {
   "cell_type": "markdown",
   "metadata": {},
   "source": [
    "### Conclusion"
   ]
  },
  {
   "cell_type": "markdown",
   "metadata": {},
   "source": [
    "There is no relation between income level and repaying a loan on time in the 3 lower levels - they are all somewhere around the average 8.09% of bad history. But - high level of income (the top 25%) has correlation with repaying a loan on time! this group has only 7.03% of bad history"
   ]
  },
  {
   "cell_type": "markdown",
   "metadata": {},
   "source": [
    "- How do different loan purposes affect on-time repayment of the loan?"
   ]
  },
  {
   "cell_type": "markdown",
   "metadata": {},
   "source": [
    " - Create pivot table for debt(loan repayment history) by purpose categories\n",
    " - Calculating the rate of bad history for each category\n",
    " - Sort the rows by debt rate "
   ]
  },
  {
   "cell_type": "code",
   "execution_count": 77,
   "metadata": {},
   "outputs": [
    {
     "data": {
      "text/html": [
       "<div>\n",
       "<style scoped>\n",
       "    .dataframe tbody tr th:only-of-type {\n",
       "        vertical-align: middle;\n",
       "    }\n",
       "\n",
       "    .dataframe tbody tr th {\n",
       "        vertical-align: top;\n",
       "    }\n",
       "\n",
       "    .dataframe thead tr th {\n",
       "        text-align: left;\n",
       "    }\n",
       "\n",
       "    .dataframe thead tr:last-of-type th {\n",
       "        text-align: right;\n",
       "    }\n",
       "</style>\n",
       "<table border=\"1\" class=\"dataframe\">\n",
       "  <thead>\n",
       "    <tr>\n",
       "      <th></th>\n",
       "      <th>len</th>\n",
       "      <th>sum</th>\n",
       "      <th>debt_rate</th>\n",
       "    </tr>\n",
       "    <tr>\n",
       "      <th></th>\n",
       "      <th>debt</th>\n",
       "      <th>debt</th>\n",
       "      <th></th>\n",
       "    </tr>\n",
       "    <tr>\n",
       "      <th>purpose_category</th>\n",
       "      <th></th>\n",
       "      <th></th>\n",
       "      <th></th>\n",
       "    </tr>\n",
       "  </thead>\n",
       "  <tbody>\n",
       "    <tr>\n",
       "      <th>car</th>\n",
       "      <td>4288</td>\n",
       "      <td>400</td>\n",
       "      <td>9.328358</td>\n",
       "    </tr>\n",
       "    <tr>\n",
       "      <th>education</th>\n",
       "      <td>3997</td>\n",
       "      <td>369</td>\n",
       "      <td>9.231924</td>\n",
       "    </tr>\n",
       "    <tr>\n",
       "      <th>wedding</th>\n",
       "      <td>2337</td>\n",
       "      <td>183</td>\n",
       "      <td>7.830552</td>\n",
       "    </tr>\n",
       "    <tr>\n",
       "      <th>real estate</th>\n",
       "      <td>10780</td>\n",
       "      <td>780</td>\n",
       "      <td>7.235622</td>\n",
       "    </tr>\n",
       "  </tbody>\n",
       "</table>\n",
       "</div>"
      ],
      "text/plain": [
       "                    len  sum debt_rate\n",
       "                   debt debt          \n",
       "purpose_category                      \n",
       "car                4288  400  9.328358\n",
       "education          3997  369  9.231924\n",
       "wedding            2337  183  7.830552\n",
       "real estate       10780  780  7.235622"
      ]
     },
     "execution_count": 77,
     "metadata": {},
     "output_type": "execute_result"
    }
   ],
   "source": [
    "purpose_data_pivot = pd.pivot_table(customer_details,index=['purpose_category'],values = ['debt'],aggfunc=[len,sum])\n",
    "\n",
    "purpose_data_pivot['debt_rate'] = purpose_data_pivot['sum']/purpose_data_pivot['len']*100\n",
    "\n",
    "purpose_data_pivot.sort_values(by = 'debt_rate', ascending = False)"
   ]
  },
  {
   "cell_type": "markdown",
   "metadata": {},
   "source": [
    "### Conclusion"
   ]
  },
  {
   "cell_type": "markdown",
   "metadata": {},
   "source": [
    "Loans taken for the purpose of buying a car or for education, have higher rates of default repayment (more then 9.23%, while the evarage is 8.09%) then loans taken for wedding celebration or for buying real estate (7.83% and below). "
   ]
  },
  {
   "cell_type": "markdown",
   "metadata": {},
   "source": [
    "## General conclusion"
   ]
  },
  {
   "cell_type": "markdown",
   "metadata": {},
   "source": [
    "1)Data Preperation:\n",
    "Missing values- The data file had missing values in two columns - 'days_employed' and 'total_income'.\n",
    "a.Days_employed: before fixing the null values I had to take care of the anomalies in the data. there were two types of 'days_employed': group of (-) negative values, and group of non-logic high values. what I did is to convert the negative values to their absolute value. After that, I used their mean to update the null values. I left the superhigh values as they are.\n",
    "(I am not sure I had to take care of this column at all, because the 'days_employed' column don't use for any analysis here)\n",
    "b.Total_income: I found there are significant differences between the mean/meadian of total_income by groups of the income_type. so I filled the null rows with the group's total income median.\n",
    "\n",
    "Duplicates - There were 54 duplicates but I decided not to remove them because there are good chances they are real.\n",
    "\n",
    "Anomalies - I found anomalies in the childrens number values. there were some (-1) and (20) values, which are not logic. since they form only 0.6% of the data, I decided to drop them.\n",
    "\n",
    "Categorizing and findings:\n",
    "I Found out some interesting information regarding customers potential credit score:\n",
    "1. After categorizing the data into two groups of having/not having children I found that:                                        Not having kids is related to better chances of repaying a loan on time\n",
    "2. After categorizing the data by family status into two groups of married or been married/never been married I foune that:\n",
    "   Being married in the present or in the past is related to better chances of repaying a loan on time\n",
    "3. After categorizing the data to four groups by the total income quortiles I found that:\n",
    "   After grouping the loan purpose into the Income level in the high 25% percentage is related to better chances of repaying a loan on time\n",
    "4. After I found the root purpose from the loan_purpose text and grouped it into four purposes I found that:\n",
    "   Loan purpose of buying a property or paying a wedding are related to better chances of repaying a loan on time"
   ]
  },
  {
   "cell_type": "code",
   "execution_count": null,
   "metadata": {},
   "outputs": [],
   "source": []
  }
 ],
 "metadata": {
  "ExecuteTimeLog": [
   {
    "duration": 1232,
    "start_time": "2021-06-17T20:47:40.344Z"
   },
   {
    "duration": 104,
    "start_time": "2021-06-17T20:55:44.636Z"
   },
   {
    "duration": 350,
    "start_time": "2021-06-17T21:21:52.861Z"
   },
   {
    "duration": 250,
    "start_time": "2021-06-17T21:22:23.175Z"
   },
   {
    "duration": 28,
    "start_time": "2021-06-17T21:23:16.630Z"
   },
   {
    "duration": 49,
    "start_time": "2021-06-17T21:24:39.023Z"
   },
   {
    "duration": 34,
    "start_time": "2021-06-17T21:30:14.066Z"
   },
   {
    "duration": 10,
    "start_time": "2021-06-17T21:33:00.143Z"
   },
   {
    "duration": 8,
    "start_time": "2021-06-17T21:33:45.909Z"
   },
   {
    "duration": 374,
    "start_time": "2021-06-18T09:59:27.408Z"
   },
   {
    "duration": 815,
    "start_time": "2021-06-18T09:59:50.613Z"
   },
   {
    "duration": 18,
    "start_time": "2021-06-18T10:00:00.232Z"
   },
   {
    "duration": 36,
    "start_time": "2021-06-18T10:03:04.201Z"
   },
   {
    "duration": 395,
    "start_time": "2021-06-18T10:04:33.113Z"
   },
   {
    "duration": 87,
    "start_time": "2021-06-18T10:09:23.880Z"
   },
   {
    "duration": 282,
    "start_time": "2021-06-18T10:09:37.164Z"
   },
   {
    "duration": 311,
    "start_time": "2021-06-18T10:10:44.970Z"
   },
   {
    "duration": 280,
    "start_time": "2021-06-18T10:26:00.956Z"
   },
   {
    "duration": 7,
    "start_time": "2021-06-18T10:27:08.998Z"
   },
   {
    "duration": 35,
    "start_time": "2021-06-18T10:27:29.631Z"
   },
   {
    "duration": 33,
    "start_time": "2021-06-18T10:28:36.497Z"
   },
   {
    "duration": 275,
    "start_time": "2021-06-18T10:29:32.251Z"
   },
   {
    "duration": 275,
    "start_time": "2021-06-18T10:31:04.273Z"
   },
   {
    "duration": 50,
    "start_time": "2021-06-18T10:33:45.308Z"
   },
   {
    "duration": 48,
    "start_time": "2021-06-18T10:34:11.845Z"
   },
   {
    "duration": 45,
    "start_time": "2021-06-18T10:40:09.004Z"
   },
   {
    "duration": 5,
    "start_time": "2021-06-18T10:42:40.950Z"
   },
   {
    "duration": 11,
    "start_time": "2021-06-18T10:50:57.452Z"
   },
   {
    "duration": 13,
    "start_time": "2021-06-18T10:51:53.615Z"
   },
   {
    "duration": 8,
    "start_time": "2021-06-18T10:55:39.588Z"
   },
   {
    "duration": 332,
    "start_time": "2021-06-18T12:10:35.525Z"
   },
   {
    "duration": 7,
    "start_time": "2021-06-18T12:11:06.707Z"
   },
   {
    "duration": 8,
    "start_time": "2021-06-18T12:11:51.720Z"
   },
   {
    "duration": 38,
    "start_time": "2021-06-18T12:13:23.475Z"
   },
   {
    "duration": 9,
    "start_time": "2021-06-18T12:15:39.218Z"
   },
   {
    "duration": 6,
    "start_time": "2021-06-18T12:15:51.451Z"
   },
   {
    "duration": 12,
    "start_time": "2021-06-18T12:17:50.564Z"
   },
   {
    "duration": 6,
    "start_time": "2021-06-18T12:18:16.074Z"
   },
   {
    "duration": 6,
    "start_time": "2021-06-18T12:18:18.739Z"
   },
   {
    "duration": 98,
    "start_time": "2021-06-18T12:21:56.265Z"
   },
   {
    "duration": 11,
    "start_time": "2021-06-18T12:28:20.148Z"
   },
   {
    "duration": 96,
    "start_time": "2021-06-18T12:55:27.011Z"
   },
   {
    "duration": 105,
    "start_time": "2021-06-18T12:58:01.311Z"
   },
   {
    "duration": 459,
    "start_time": "2021-06-18T12:58:11.268Z"
   },
   {
    "duration": 483,
    "start_time": "2021-06-18T13:12:45.450Z"
   },
   {
    "duration": 470,
    "start_time": "2021-06-18T13:12:59.673Z"
   },
   {
    "duration": 6825,
    "start_time": "2021-06-18T13:15:17.911Z"
   },
   {
    "duration": 6619,
    "start_time": "2021-06-18T13:19:25.560Z"
   },
   {
    "duration": 452,
    "start_time": "2021-06-18T13:19:58.528Z"
   },
   {
    "duration": 6,
    "start_time": "2021-06-18T13:20:16.976Z"
   },
   {
    "duration": 12,
    "start_time": "2021-06-18T13:23:32.031Z"
   },
   {
    "duration": 292,
    "start_time": "2021-06-18T13:23:54.062Z"
   },
   {
    "duration": 38,
    "start_time": "2021-06-18T13:24:07.332Z"
   },
   {
    "duration": 49,
    "start_time": "2021-06-18T13:25:36.665Z"
   },
   {
    "duration": 44,
    "start_time": "2021-06-18T13:26:18.945Z"
   },
   {
    "duration": 27,
    "start_time": "2021-06-18T13:33:23.258Z"
   },
   {
    "duration": 9,
    "start_time": "2021-06-18T13:39:44.547Z"
   },
   {
    "duration": 11,
    "start_time": "2021-06-18T13:41:01.718Z"
   },
   {
    "duration": 14,
    "start_time": "2021-06-18T13:41:19.821Z"
   },
   {
    "duration": 18,
    "start_time": "2021-06-18T13:41:35.761Z"
   },
   {
    "duration": 8,
    "start_time": "2021-06-18T14:08:34.348Z"
   },
   {
    "duration": 9,
    "start_time": "2021-06-18T14:09:06.070Z"
   },
   {
    "duration": 9,
    "start_time": "2021-06-18T14:09:25.560Z"
   },
   {
    "duration": 9,
    "start_time": "2021-06-18T14:09:54.333Z"
   },
   {
    "duration": 330,
    "start_time": "2021-06-18T14:30:02.331Z"
   },
   {
    "duration": 262,
    "start_time": "2021-06-18T14:39:26.713Z"
   },
   {
    "duration": 260,
    "start_time": "2021-06-18T14:50:30.790Z"
   },
   {
    "duration": 326,
    "start_time": "2021-06-18T14:55:42.410Z"
   },
   {
    "duration": 20,
    "start_time": "2021-06-18T14:57:10.794Z"
   },
   {
    "duration": 21,
    "start_time": "2021-06-18T14:57:44.264Z"
   },
   {
    "duration": 37,
    "start_time": "2021-06-18T14:59:43.009Z"
   },
   {
    "duration": 22,
    "start_time": "2021-06-18T15:00:45.236Z"
   },
   {
    "duration": 32,
    "start_time": "2021-06-18T15:00:56.926Z"
   },
   {
    "duration": 15,
    "start_time": "2021-06-18T15:04:12.944Z"
   },
   {
    "duration": 15,
    "start_time": "2021-06-18T15:06:08.336Z"
   },
   {
    "duration": 53,
    "start_time": "2021-06-18T15:06:47.202Z"
   },
   {
    "duration": 298,
    "start_time": "2021-06-18T15:08:02.721Z"
   },
   {
    "duration": 13,
    "start_time": "2021-06-18T15:09:13.646Z"
   },
   {
    "duration": 18,
    "start_time": "2021-06-18T15:09:47.759Z"
   },
   {
    "duration": 24,
    "start_time": "2021-06-18T15:10:09.708Z"
   },
   {
    "duration": 18,
    "start_time": "2021-06-18T15:10:21.192Z"
   },
   {
    "duration": 102,
    "start_time": "2021-06-18T15:14:18.522Z"
   },
   {
    "duration": 102,
    "start_time": "2021-06-18T15:14:52.284Z"
   },
   {
    "duration": 133,
    "start_time": "2021-06-18T15:15:52.379Z"
   },
   {
    "duration": 973,
    "start_time": "2021-06-18T15:16:02.555Z"
   },
   {
    "duration": 95,
    "start_time": "2021-06-18T15:16:15.252Z"
   },
   {
    "duration": 288,
    "start_time": "2021-06-18T15:18:19.162Z"
   },
   {
    "duration": 107,
    "start_time": "2021-06-18T15:19:52.499Z"
   },
   {
    "duration": 1463,
    "start_time": "2021-06-18T15:20:11.806Z"
   },
   {
    "duration": 30,
    "start_time": "2021-06-18T15:24:06.594Z"
   },
   {
    "duration": 24,
    "start_time": "2021-06-18T15:25:00.870Z"
   },
   {
    "duration": 117,
    "start_time": "2021-06-18T15:26:06.012Z"
   },
   {
    "duration": 92,
    "start_time": "2021-06-18T15:26:30.750Z"
   },
   {
    "duration": 24,
    "start_time": "2021-06-18T15:26:58.822Z"
   },
   {
    "duration": 8,
    "start_time": "2021-06-18T15:43:25.768Z"
   },
   {
    "duration": 16,
    "start_time": "2021-06-18T15:49:10.838Z"
   },
   {
    "duration": 32,
    "start_time": "2021-06-18T15:49:35.768Z"
   },
   {
    "duration": 1500,
    "start_time": "2021-06-18T15:50:22.213Z"
   },
   {
    "duration": 34,
    "start_time": "2021-06-18T15:50:40.978Z"
   },
   {
    "duration": 6,
    "start_time": "2021-06-18T15:51:00.328Z"
   },
   {
    "duration": 8,
    "start_time": "2021-06-18T15:51:06.559Z"
   },
   {
    "duration": 9,
    "start_time": "2021-06-18T15:51:23.187Z"
   },
   {
    "duration": 7,
    "start_time": "2021-06-18T15:51:37.202Z"
   },
   {
    "duration": 7,
    "start_time": "2021-06-18T15:51:57.721Z"
   },
   {
    "duration": 20,
    "start_time": "2021-06-18T15:52:16.539Z"
   },
   {
    "duration": 19,
    "start_time": "2021-06-18T15:52:31.769Z"
   },
   {
    "duration": 33,
    "start_time": "2021-06-18T15:52:40.741Z"
   },
   {
    "duration": 9,
    "start_time": "2021-06-18T15:53:17.515Z"
   },
   {
    "duration": 7,
    "start_time": "2021-06-18T15:59:48.919Z"
   },
   {
    "duration": 20,
    "start_time": "2021-06-18T16:00:30.749Z"
   },
   {
    "duration": 9,
    "start_time": "2021-06-18T16:05:11.291Z"
   },
   {
    "duration": 6,
    "start_time": "2021-06-18T16:10:55.797Z"
   },
   {
    "duration": 16,
    "start_time": "2021-06-18T16:11:19.803Z"
   },
   {
    "duration": 15,
    "start_time": "2021-06-18T16:28:00.508Z"
   },
   {
    "duration": 319,
    "start_time": "2021-06-18T20:55:20.019Z"
   },
   {
    "duration": 269,
    "start_time": "2021-06-18T21:00:06.904Z"
   },
   {
    "duration": 264,
    "start_time": "2021-06-18T21:03:07.835Z"
   },
   {
    "duration": 274,
    "start_time": "2021-06-18T21:04:32.931Z"
   },
   {
    "duration": 781,
    "start_time": "2021-06-18T21:05:00.300Z"
   },
   {
    "duration": 44,
    "start_time": "2021-06-18T21:05:06.224Z"
   },
   {
    "duration": 5,
    "start_time": "2021-06-18T21:05:12.953Z"
   },
   {
    "duration": 5,
    "start_time": "2021-06-18T21:05:15.471Z"
   },
   {
    "duration": 10,
    "start_time": "2021-06-18T21:05:19.165Z"
   },
   {
    "duration": 8,
    "start_time": "2021-06-18T21:05:24.803Z"
   },
   {
    "duration": 19,
    "start_time": "2021-06-18T21:05:29.605Z"
   },
   {
    "duration": 17,
    "start_time": "2021-06-18T21:05:33.519Z"
   },
   {
    "duration": 18,
    "start_time": "2021-06-18T21:05:36.921Z"
   },
   {
    "duration": 31,
    "start_time": "2021-06-18T21:05:52.286Z"
   },
   {
    "duration": 8,
    "start_time": "2021-06-18T21:06:32.211Z"
   },
   {
    "duration": 15,
    "start_time": "2021-06-18T21:06:41.500Z"
   },
   {
    "duration": 937,
    "start_time": "2021-06-18T21:06:56.592Z"
   },
   {
    "duration": 278,
    "start_time": "2021-06-18T21:07:16.006Z"
   },
   {
    "duration": 15,
    "start_time": "2021-06-18T21:09:04.256Z"
   },
   {
    "duration": 19,
    "start_time": "2021-06-18T21:09:30.395Z"
   },
   {
    "duration": 18,
    "start_time": "2021-06-18T21:09:33.206Z"
   },
   {
    "duration": 18,
    "start_time": "2021-06-18T21:09:38.859Z"
   },
   {
    "duration": 9,
    "start_time": "2021-06-18T21:09:50.679Z"
   },
   {
    "duration": 28,
    "start_time": "2021-06-18T21:10:08.108Z"
   },
   {
    "duration": 25,
    "start_time": "2021-06-18T21:10:14.203Z"
   },
   {
    "duration": 313,
    "start_time": "2021-06-18T21:10:51.356Z"
   },
   {
    "duration": 293,
    "start_time": "2021-06-18T21:10:55.956Z"
   },
   {
    "duration": 18,
    "start_time": "2021-06-18T21:11:18.688Z"
   },
   {
    "duration": 17,
    "start_time": "2021-06-18T21:11:21.474Z"
   },
   {
    "duration": 17,
    "start_time": "2021-06-18T21:11:27.123Z"
   },
   {
    "duration": 31,
    "start_time": "2021-06-18T21:11:34.529Z"
   },
   {
    "duration": 27,
    "start_time": "2021-06-18T21:11:39.929Z"
   },
   {
    "duration": 16,
    "start_time": "2021-06-18T21:16:22.752Z"
   },
   {
    "duration": 17,
    "start_time": "2021-06-18T21:16:29.180Z"
   },
   {
    "duration": 33,
    "start_time": "2021-06-18T21:21:37.405Z"
   },
   {
    "duration": 21,
    "start_time": "2021-06-18T21:21:54.793Z"
   },
   {
    "duration": 325,
    "start_time": "2021-06-18T21:22:41.971Z"
   },
   {
    "duration": 41,
    "start_time": "2021-06-18T21:22:55.339Z"
   },
   {
    "duration": 37,
    "start_time": "2021-06-18T21:23:24.026Z"
   },
   {
    "duration": 298,
    "start_time": "2021-06-18T21:23:47.108Z"
   },
   {
    "duration": 66,
    "start_time": "2021-06-18T21:23:59.565Z"
   },
   {
    "duration": 37,
    "start_time": "2021-06-18T21:28:34.496Z"
   },
   {
    "duration": 301,
    "start_time": "2021-06-18T21:29:18.808Z"
   },
   {
    "duration": 61,
    "start_time": "2021-06-18T21:29:35.089Z"
   },
   {
    "duration": 23,
    "start_time": "2021-06-18T21:46:55.340Z"
   },
   {
    "duration": 357,
    "start_time": "2021-06-19T20:11:24.560Z"
   },
   {
    "duration": 888,
    "start_time": "2021-06-19T20:11:40.205Z"
   },
   {
    "duration": 44,
    "start_time": "2021-06-19T20:11:53.834Z"
   },
   {
    "duration": 5,
    "start_time": "2021-06-19T20:12:01.540Z"
   },
   {
    "duration": 5,
    "start_time": "2021-06-19T20:12:03.997Z"
   },
   {
    "duration": 9,
    "start_time": "2021-06-19T20:12:06.991Z"
   },
   {
    "duration": 10,
    "start_time": "2021-06-19T20:12:11.143Z"
   },
   {
    "duration": 20,
    "start_time": "2021-06-19T20:12:17.656Z"
   },
   {
    "duration": 18,
    "start_time": "2021-06-19T20:12:20.057Z"
   },
   {
    "duration": 19,
    "start_time": "2021-06-19T20:12:23.566Z"
   },
   {
    "duration": 33,
    "start_time": "2021-06-19T20:12:26.493Z"
   },
   {
    "duration": 20,
    "start_time": "2021-06-19T20:12:32.439Z"
   },
   {
    "duration": 8,
    "start_time": "2021-06-19T20:12:36.755Z"
   },
   {
    "duration": 17,
    "start_time": "2021-06-19T20:12:39.687Z"
   },
   {
    "duration": 18,
    "start_time": "2021-06-19T20:12:47.802Z"
   },
   {
    "duration": 22,
    "start_time": "2021-06-19T20:12:54.377Z"
   },
   {
    "duration": 31,
    "start_time": "2021-06-19T20:12:59.908Z"
   },
   {
    "duration": 8921,
    "start_time": "2021-06-19T20:22:54.949Z"
   },
   {
    "duration": 8,
    "start_time": "2021-06-19T20:25:05.917Z"
   },
   {
    "duration": 29,
    "start_time": "2021-06-19T20:25:30.677Z"
   },
   {
    "duration": 116,
    "start_time": "2021-06-19T20:31:25.570Z"
   },
   {
    "duration": 399,
    "start_time": "2021-06-19T20:31:37.092Z"
   },
   {
    "duration": 14,
    "start_time": "2021-06-19T20:32:09.031Z"
   },
   {
    "duration": 14,
    "start_time": "2021-06-19T20:32:13.101Z"
   },
   {
    "duration": 20,
    "start_time": "2021-06-19T20:32:21.609Z"
   },
   {
    "duration": 322,
    "start_time": "2021-06-20T06:20:52.531Z"
   },
   {
    "duration": 845,
    "start_time": "2021-06-20T06:21:28.697Z"
   },
   {
    "duration": 43,
    "start_time": "2021-06-20T06:21:35.980Z"
   },
   {
    "duration": 5,
    "start_time": "2021-06-20T06:21:39.177Z"
   },
   {
    "duration": 6,
    "start_time": "2021-06-20T06:21:41.455Z"
   },
   {
    "duration": 8,
    "start_time": "2021-06-20T06:21:44.479Z"
   },
   {
    "duration": 9,
    "start_time": "2021-06-20T06:21:47.297Z"
   },
   {
    "duration": 25,
    "start_time": "2021-06-20T06:21:49.967Z"
   },
   {
    "duration": 21,
    "start_time": "2021-06-20T06:21:52.935Z"
   },
   {
    "duration": 19,
    "start_time": "2021-06-20T06:21:55.691Z"
   },
   {
    "duration": 31,
    "start_time": "2021-06-20T06:21:59.525Z"
   },
   {
    "duration": 18,
    "start_time": "2021-06-20T06:22:05.010Z"
   },
   {
    "duration": 8,
    "start_time": "2021-06-20T06:22:08.243Z"
   },
   {
    "duration": 17,
    "start_time": "2021-06-20T06:22:11.073Z"
   },
   {
    "duration": 17,
    "start_time": "2021-06-20T06:22:15.732Z"
   },
   {
    "duration": 25,
    "start_time": "2021-06-20T06:22:18.634Z"
   },
   {
    "duration": 355,
    "start_time": "2021-06-20T06:22:22.971Z"
   },
   {
    "duration": 24,
    "start_time": "2021-06-20T06:26:18.906Z"
   },
   {
    "duration": 20,
    "start_time": "2021-06-20T06:26:38.842Z"
   },
   {
    "duration": 20,
    "start_time": "2021-06-20T06:26:42.825Z"
   },
   {
    "duration": 12,
    "start_time": "2021-06-20T06:27:00.999Z"
   },
   {
    "duration": 21,
    "start_time": "2021-06-20T06:27:05.643Z"
   },
   {
    "duration": 23,
    "start_time": "2021-06-20T06:27:38.379Z"
   },
   {
    "duration": 312,
    "start_time": "2021-06-20T06:29:01.343Z"
   },
   {
    "duration": 396,
    "start_time": "2021-06-20T06:38:57.170Z"
   },
   {
    "duration": 275,
    "start_time": "2021-06-20T06:41:02.216Z"
   },
   {
    "duration": 283,
    "start_time": "2021-06-20T06:41:50.442Z"
   },
   {
    "duration": 335,
    "start_time": "2021-06-20T06:44:18.572Z"
   },
   {
    "duration": 18,
    "start_time": "2021-06-20T06:44:38.210Z"
   },
   {
    "duration": 20,
    "start_time": "2021-06-20T06:45:08.624Z"
   },
   {
    "duration": 26,
    "start_time": "2021-06-20T06:45:16.419Z"
   },
   {
    "duration": 31,
    "start_time": "2021-06-20T06:45:21.297Z"
   },
   {
    "duration": 30,
    "start_time": "2021-06-20T08:14:56.031Z"
   },
   {
    "duration": 31,
    "start_time": "2021-06-20T08:15:07.990Z"
   },
   {
    "duration": 30,
    "start_time": "2021-06-20T08:15:10.845Z"
   },
   {
    "duration": 893,
    "start_time": "2021-06-20T11:49:14.267Z"
   },
   {
    "duration": 446,
    "start_time": "2021-06-20T11:49:32.110Z"
   },
   {
    "duration": 396,
    "start_time": "2021-06-20T11:50:50.430Z"
   },
   {
    "duration": 346,
    "start_time": "2021-06-20T11:51:27.087Z"
   },
   {
    "duration": 362,
    "start_time": "2021-06-20T11:52:58.267Z"
   },
   {
    "duration": 19,
    "start_time": "2021-06-20T11:55:06.446Z"
   },
   {
    "duration": 16,
    "start_time": "2021-06-20T11:55:50.867Z"
   },
   {
    "duration": 401,
    "start_time": "2021-06-20T11:55:59.239Z"
   },
   {
    "duration": 85,
    "start_time": "2021-06-20T11:56:19.576Z"
   },
   {
    "duration": 38,
    "start_time": "2021-06-20T11:56:24.076Z"
   },
   {
    "duration": 5,
    "start_time": "2021-06-20T11:56:28.077Z"
   },
   {
    "duration": 5,
    "start_time": "2021-06-20T11:56:30.721Z"
   },
   {
    "duration": 8,
    "start_time": "2021-06-20T11:56:33.550Z"
   },
   {
    "duration": 10,
    "start_time": "2021-06-20T11:56:38.202Z"
   },
   {
    "duration": 30,
    "start_time": "2021-06-20T11:56:41.245Z"
   },
   {
    "duration": 27,
    "start_time": "2021-06-20T11:56:43.694Z"
   },
   {
    "duration": 25,
    "start_time": "2021-06-20T11:56:46.103Z"
   },
   {
    "duration": 51,
    "start_time": "2021-06-20T11:56:49.070Z"
   },
   {
    "duration": 13,
    "start_time": "2021-06-20T11:56:52.432Z"
   },
   {
    "duration": 18,
    "start_time": "2021-06-20T11:56:55.591Z"
   },
   {
    "duration": 419,
    "start_time": "2021-06-20T11:57:00.012Z"
   },
   {
    "duration": 30,
    "start_time": "2021-06-20T11:58:24.848Z"
   },
   {
    "duration": 11,
    "start_time": "2021-06-20T11:58:29.841Z"
   },
   {
    "duration": 17,
    "start_time": "2021-06-20T11:58:33.600Z"
   },
   {
    "duration": 18,
    "start_time": "2021-06-20T11:58:39.660Z"
   },
   {
    "duration": 24,
    "start_time": "2021-06-20T11:58:44.359Z"
   },
   {
    "duration": 19,
    "start_time": "2021-06-20T11:58:47.804Z"
   },
   {
    "duration": 19,
    "start_time": "2021-06-20T11:58:58.709Z"
   },
   {
    "duration": 29,
    "start_time": "2021-06-20T11:59:19.730Z"
   },
   {
    "duration": 34,
    "start_time": "2021-06-20T11:59:27.332Z"
   },
   {
    "duration": 19,
    "start_time": "2021-06-20T11:59:39.061Z"
   },
   {
    "duration": 44,
    "start_time": "2021-06-20T12:00:00.742Z"
   },
   {
    "duration": 20,
    "start_time": "2021-06-20T12:00:11.273Z"
   },
   {
    "duration": 29,
    "start_time": "2021-06-20T12:00:19.837Z"
   },
   {
    "duration": 351,
    "start_time": "2021-06-20T12:00:38.375Z"
   },
   {
    "duration": 31,
    "start_time": "2021-06-20T12:01:00.880Z"
   },
   {
    "duration": 35,
    "start_time": "2021-06-20T12:01:16.714Z"
   },
   {
    "duration": 40,
    "start_time": "2021-06-20T12:01:27.949Z"
   },
   {
    "duration": 47,
    "start_time": "2021-06-20T12:01:33.131Z"
   },
   {
    "duration": 367,
    "start_time": "2021-06-20T12:01:56.821Z"
   },
   {
    "duration": 48,
    "start_time": "2021-06-20T12:02:07.635Z"
   },
   {
    "duration": 14,
    "start_time": "2021-06-20T12:17:18.580Z"
   },
   {
    "duration": 25,
    "start_time": "2021-06-20T12:17:27.322Z"
   },
   {
    "duration": 114,
    "start_time": "2021-06-20T12:21:43.650Z"
   },
   {
    "duration": 329,
    "start_time": "2021-06-20T12:22:36.370Z"
   },
   {
    "duration": 14,
    "start_time": "2021-06-20T12:23:08.619Z"
   },
   {
    "duration": 14,
    "start_time": "2021-06-20T12:23:16.625Z"
   },
   {
    "duration": 18,
    "start_time": "2021-06-20T12:23:25.978Z"
   },
   {
    "duration": 18,
    "start_time": "2021-06-20T12:24:19.158Z"
   },
   {
    "duration": 117,
    "start_time": "2021-06-20T12:24:54.905Z"
   },
   {
    "duration": 337,
    "start_time": "2021-06-20T12:25:00.593Z"
   },
   {
    "duration": 56,
    "start_time": "2021-06-20T12:28:35.105Z"
   },
   {
    "duration": 28,
    "start_time": "2021-06-20T12:29:47.838Z"
   },
   {
    "duration": 6324,
    "start_time": "2021-06-20T12:30:55.144Z"
   },
   {
    "duration": 544,
    "start_time": "2021-06-20T12:31:27.728Z"
   },
   {
    "duration": 6227,
    "start_time": "2021-06-20T12:31:37.275Z"
   },
   {
    "duration": 6747,
    "start_time": "2021-06-20T12:32:31.886Z"
   },
   {
    "duration": 434,
    "start_time": "2021-06-20T12:33:37.706Z"
   },
   {
    "duration": 811,
    "start_time": "2021-06-20T18:30:53.354Z"
   },
   {
    "duration": 44,
    "start_time": "2021-06-20T18:31:01.110Z"
   },
   {
    "duration": 4,
    "start_time": "2021-06-20T18:31:05.593Z"
   },
   {
    "duration": 6,
    "start_time": "2021-06-20T18:31:08.948Z"
   },
   {
    "duration": 8,
    "start_time": "2021-06-20T18:31:12.355Z"
   },
   {
    "duration": 9,
    "start_time": "2021-06-20T18:31:17.354Z"
   },
   {
    "duration": 20,
    "start_time": "2021-06-20T18:31:20.957Z"
   },
   {
    "duration": 19,
    "start_time": "2021-06-20T18:31:25.964Z"
   },
   {
    "duration": 20,
    "start_time": "2021-06-20T18:31:29.449Z"
   },
   {
    "duration": 17,
    "start_time": "2021-06-20T18:31:44.931Z"
   },
   {
    "duration": 16,
    "start_time": "2021-06-20T18:31:47.288Z"
   },
   {
    "duration": 30,
    "start_time": "2021-06-20T18:31:50.365Z"
   },
   {
    "duration": 18,
    "start_time": "2021-06-20T18:31:57.013Z"
   },
   {
    "duration": 12,
    "start_time": "2021-06-20T18:31:59.960Z"
   },
   {
    "duration": 16,
    "start_time": "2021-06-20T18:32:03.077Z"
   },
   {
    "duration": 19,
    "start_time": "2021-06-20T18:32:07.355Z"
   },
   {
    "duration": 23,
    "start_time": "2021-06-20T18:32:12.050Z"
   },
   {
    "duration": 47,
    "start_time": "2021-06-20T18:32:17.642Z"
   },
   {
    "duration": 32,
    "start_time": "2021-06-20T18:32:58.757Z"
   },
   {
    "duration": 26,
    "start_time": "2021-06-20T18:33:02.059Z"
   },
   {
    "duration": 5816,
    "start_time": "2021-06-20T18:33:19.704Z"
   },
   {
    "duration": -65,
    "start_time": "2021-06-20T18:33:56.481Z"
   },
   {
    "duration": 5010,
    "start_time": "2021-06-20T18:34:01.961Z"
   },
   {
    "duration": 26,
    "start_time": "2021-06-20T18:34:17.658Z"
   },
   {
    "duration": 27,
    "start_time": "2021-06-20T18:36:41.594Z"
   },
   {
    "duration": 28,
    "start_time": "2021-06-20T18:39:28.792Z"
   },
   {
    "duration": 313,
    "start_time": "2021-06-20T18:46:42.524Z"
   },
   {
    "duration": 270,
    "start_time": "2021-06-20T18:46:58.236Z"
   },
   {
    "duration": 13,
    "start_time": "2021-06-20T18:48:01.336Z"
   },
   {
    "duration": 275,
    "start_time": "2021-06-20T18:48:30.202Z"
   },
   {
    "duration": 88,
    "start_time": "2021-06-20T18:48:45.343Z"
   },
   {
    "duration": 270,
    "start_time": "2021-06-20T18:49:43.089Z"
   },
   {
    "duration": 272,
    "start_time": "2021-06-20T19:05:22.777Z"
   },
   {
    "duration": 28,
    "start_time": "2021-06-20T19:06:17.422Z"
   },
   {
    "duration": 331,
    "start_time": "2021-06-20T19:12:20.238Z"
   },
   {
    "duration": 35,
    "start_time": "2021-06-20T19:13:25.827Z"
   },
   {
    "duration": 289,
    "start_time": "2021-06-20T19:14:37.093Z"
   },
   {
    "duration": 5654,
    "start_time": "2021-06-20T19:15:51.586Z"
   },
   {
    "duration": 5685,
    "start_time": "2021-06-20T19:16:21.155Z"
   },
   {
    "duration": 26,
    "start_time": "2021-06-20T19:17:35.698Z"
   },
   {
    "duration": 4998,
    "start_time": "2021-06-20T19:18:15.699Z"
   },
   {
    "duration": 4878,
    "start_time": "2021-06-20T19:18:46.292Z"
   },
   {
    "duration": 33,
    "start_time": "2021-06-20T20:05:03.968Z"
   },
   {
    "duration": 22,
    "start_time": "2021-06-20T20:05:59.643Z"
   },
   {
    "duration": 19,
    "start_time": "2021-06-20T20:06:16.982Z"
   },
   {
    "duration": 27,
    "start_time": "2021-06-20T20:06:41.470Z"
   },
   {
    "duration": 262,
    "start_time": "2021-06-20T20:07:29.698Z"
   },
   {
    "duration": 266,
    "start_time": "2021-06-20T20:08:07.138Z"
   },
   {
    "duration": 34,
    "start_time": "2021-06-20T20:08:30.180Z"
   },
   {
    "duration": 33,
    "start_time": "2021-06-20T20:09:24.655Z"
   },
   {
    "duration": 6634,
    "start_time": "2021-06-20T20:09:37.418Z"
   },
   {
    "duration": 33,
    "start_time": "2021-06-20T20:10:10.958Z"
   },
   {
    "duration": 50,
    "start_time": "2021-06-20T20:10:23.491Z"
   },
   {
    "duration": 292,
    "start_time": "2021-06-20T20:14:25.693Z"
   },
   {
    "duration": 6987,
    "start_time": "2021-06-20T20:14:42.428Z"
   },
   {
    "duration": 336,
    "start_time": "2021-06-20T20:15:09.263Z"
   },
   {
    "duration": 51,
    "start_time": "2021-06-20T20:17:51.587Z"
   },
   {
    "duration": 36,
    "start_time": "2021-06-20T20:18:09.214Z"
   },
   {
    "duration": 32,
    "start_time": "2021-06-20T20:18:26.650Z"
   },
   {
    "duration": 69,
    "start_time": "2021-06-20T20:20:05.493Z"
   },
   {
    "duration": 40,
    "start_time": "2021-06-20T20:20:18.450Z"
   },
   {
    "duration": 40,
    "start_time": "2021-06-20T20:20:51.175Z"
   },
   {
    "duration": 41,
    "start_time": "2021-06-20T20:27:31.800Z"
   },
   {
    "duration": 39,
    "start_time": "2021-06-20T20:27:52.987Z"
   },
   {
    "duration": 307,
    "start_time": "2021-06-20T20:29:54.827Z"
   },
   {
    "duration": 44,
    "start_time": "2021-06-20T20:30:23.175Z"
   },
   {
    "duration": 44,
    "start_time": "2021-06-20T20:30:50.102Z"
   },
   {
    "duration": 8,
    "start_time": "2021-06-20T20:33:00.173Z"
   },
   {
    "duration": 28,
    "start_time": "2021-06-20T20:33:10.274Z"
   },
   {
    "duration": 12,
    "start_time": "2021-06-20T20:35:32.874Z"
   },
   {
    "duration": 6395,
    "start_time": "2021-06-20T20:37:35.371Z"
   },
   {
    "duration": 11,
    "start_time": "2021-06-20T20:38:06.890Z"
   },
   {
    "duration": 966,
    "start_time": "2021-06-22T11:14:17.992Z"
   },
   {
    "duration": 47,
    "start_time": "2021-06-22T11:14:18.961Z"
   },
   {
    "duration": 5,
    "start_time": "2021-06-22T11:14:19.011Z"
   },
   {
    "duration": 7,
    "start_time": "2021-06-22T11:14:19.020Z"
   },
   {
    "duration": 41,
    "start_time": "2021-06-22T11:14:19.030Z"
   },
   {
    "duration": 28,
    "start_time": "2021-06-22T11:14:19.073Z"
   },
   {
    "duration": 20,
    "start_time": "2021-06-22T11:14:19.103Z"
   },
   {
    "duration": 38,
    "start_time": "2021-06-22T11:14:19.126Z"
   },
   {
    "duration": 22,
    "start_time": "2021-06-22T11:14:19.168Z"
   },
   {
    "duration": 33,
    "start_time": "2021-06-22T11:14:19.192Z"
   },
   {
    "duration": 51,
    "start_time": "2021-06-22T11:14:19.228Z"
   },
   {
    "duration": 14,
    "start_time": "2021-06-22T11:14:19.281Z"
   },
   {
    "duration": 24,
    "start_time": "2021-06-22T11:14:19.298Z"
   },
   {
    "duration": 50,
    "start_time": "2021-06-22T11:14:19.324Z"
   },
   {
    "duration": 27,
    "start_time": "2021-06-22T11:14:19.377Z"
   },
   {
    "duration": 29,
    "start_time": "2021-06-22T11:14:19.406Z"
   },
   {
    "duration": 61,
    "start_time": "2021-06-22T11:14:19.438Z"
   },
   {
    "duration": 60,
    "start_time": "2021-06-22T11:14:19.502Z"
   },
   {
    "duration": 66,
    "start_time": "2021-06-22T11:14:19.565Z"
   },
   {
    "duration": 69,
    "start_time": "2021-06-22T11:14:19.634Z"
   },
   {
    "duration": 7,
    "start_time": "2021-06-22T11:14:19.705Z"
   },
   {
    "duration": 16,
    "start_time": "2021-06-22T11:14:19.715Z"
   },
   {
    "duration": 822,
    "start_time": "2021-06-22T18:22:50.089Z"
   },
   {
    "duration": 43,
    "start_time": "2021-06-22T18:22:56.964Z"
   },
   {
    "duration": 6,
    "start_time": "2021-06-22T18:23:00.918Z"
   },
   {
    "duration": 5,
    "start_time": "2021-06-22T18:23:03.762Z"
   },
   {
    "duration": 9,
    "start_time": "2021-06-22T18:23:07.640Z"
   },
   {
    "duration": 9,
    "start_time": "2021-06-22T18:23:11.075Z"
   },
   {
    "duration": 19,
    "start_time": "2021-06-22T18:23:13.906Z"
   },
   {
    "duration": 18,
    "start_time": "2021-06-22T18:23:16.402Z"
   },
   {
    "duration": 18,
    "start_time": "2021-06-22T18:23:19.453Z"
   },
   {
    "duration": 31,
    "start_time": "2021-06-22T18:23:22.821Z"
   },
   {
    "duration": 20,
    "start_time": "2021-06-22T18:23:25.646Z"
   },
   {
    "duration": 12,
    "start_time": "2021-06-22T18:23:28.987Z"
   },
   {
    "duration": 17,
    "start_time": "2021-06-22T18:23:32.560Z"
   },
   {
    "duration": 18,
    "start_time": "2021-06-22T18:23:39.093Z"
   },
   {
    "duration": 24,
    "start_time": "2021-06-22T18:23:43.585Z"
   },
   {
    "duration": 28,
    "start_time": "2021-06-22T18:23:47.411Z"
   },
   {
    "duration": 26,
    "start_time": "2021-06-22T18:23:50.529Z"
   },
   {
    "duration": 26,
    "start_time": "2021-06-22T18:23:54.357Z"
   },
   {
    "duration": 50,
    "start_time": "2021-06-22T18:24:00.000Z"
   },
   {
    "duration": 43,
    "start_time": "2021-06-22T18:24:03.953Z"
   },
   {
    "duration": 8,
    "start_time": "2021-06-22T18:24:09.872Z"
   },
   {
    "duration": 87,
    "start_time": "2021-06-22T18:24:23.202Z"
   },
   {
    "duration": 92,
    "start_time": "2021-06-22T18:24:40.078Z"
   },
   {
    "duration": 1202,
    "start_time": "2021-06-22T18:25:00.320Z"
   },
   {
    "duration": 270,
    "start_time": "2021-06-22T18:27:49.003Z"
   },
   {
    "duration": 451,
    "start_time": "2021-06-22T18:28:04.187Z"
   },
   {
    "duration": 508,
    "start_time": "2021-06-22T18:30:22.511Z"
   },
   {
    "duration": 432,
    "start_time": "2021-06-22T18:33:32.471Z"
   },
   {
    "duration": 661,
    "start_time": "2021-06-22T18:34:19.476Z"
   },
   {
    "duration": 642,
    "start_time": "2021-06-22T18:48:54.857Z"
   },
   {
    "duration": 656,
    "start_time": "2021-06-22T18:49:52.183Z"
   },
   {
    "duration": 643,
    "start_time": "2021-06-22T18:52:38.882Z"
   },
   {
    "duration": 659,
    "start_time": "2021-06-22T18:53:51.334Z"
   },
   {
    "duration": 6,
    "start_time": "2021-06-22T19:11:38.452Z"
   },
   {
    "duration": 5,
    "start_time": "2021-06-22T19:11:42.894Z"
   },
   {
    "duration": 6,
    "start_time": "2021-06-22T19:11:49.783Z"
   },
   {
    "duration": 7,
    "start_time": "2021-06-22T19:12:44.654Z"
   },
   {
    "duration": 614,
    "start_time": "2021-06-22T19:12:52.007Z"
   },
   {
    "duration": 621,
    "start_time": "2021-06-22T19:16:20.964Z"
   },
   {
    "duration": 619,
    "start_time": "2021-06-22T19:22:37.474Z"
   },
   {
    "duration": 94,
    "start_time": "2021-06-22T19:33:01.012Z"
   },
   {
    "duration": 86,
    "start_time": "2021-06-22T19:33:33.380Z"
   },
   {
    "duration": 720,
    "start_time": "2021-06-22T19:34:48.362Z"
   },
   {
    "duration": 86,
    "start_time": "2021-06-22T19:51:23.526Z"
   },
   {
    "duration": 88,
    "start_time": "2021-06-22T19:52:11.096Z"
   },
   {
    "duration": 456,
    "start_time": "2021-06-22T19:53:24.376Z"
   },
   {
    "duration": 262,
    "start_time": "2021-06-22T19:54:47.317Z"
   },
   {
    "duration": 524,
    "start_time": "2021-06-22T19:55:45.166Z"
   },
   {
    "duration": 260,
    "start_time": "2021-06-22T19:58:58.905Z"
   },
   {
    "duration": 746,
    "start_time": "2021-06-22T20:00:09.163Z"
   },
   {
    "duration": 2047,
    "start_time": "2021-06-22T20:03:26.590Z"
   },
   {
    "duration": 8,
    "start_time": "2021-06-22T20:03:59.678Z"
   },
   {
    "duration": 8,
    "start_time": "2021-06-22T20:04:26.556Z"
   },
   {
    "duration": 7,
    "start_time": "2021-06-22T20:04:47.969Z"
   },
   {
    "duration": 7,
    "start_time": "2021-06-22T20:05:30.943Z"
   },
   {
    "duration": 11,
    "start_time": "2021-06-22T20:06:15.652Z"
   },
   {
    "duration": 268,
    "start_time": "2021-06-22T20:07:35.258Z"
   },
   {
    "duration": 265,
    "start_time": "2021-06-22T20:13:35.319Z"
   },
   {
    "duration": 272,
    "start_time": "2021-06-22T20:18:17.739Z"
   },
   {
    "duration": 2956,
    "start_time": "2021-06-22T20:18:41.710Z"
   },
   {
    "duration": 12,
    "start_time": "2021-06-22T20:21:10.306Z"
   },
   {
    "duration": 7,
    "start_time": "2021-06-22T20:22:21.666Z"
   },
   {
    "duration": 2886,
    "start_time": "2021-06-22T20:22:39.441Z"
   },
   {
    "duration": 2914,
    "start_time": "2021-06-22T20:27:28.756Z"
   },
   {
    "duration": 2982,
    "start_time": "2021-06-22T20:28:34.562Z"
   },
   {
    "duration": 3014,
    "start_time": "2021-06-22T20:28:51.556Z"
   },
   {
    "duration": 2892,
    "start_time": "2021-06-22T20:29:20.656Z"
   },
   {
    "duration": 2938,
    "start_time": "2021-06-22T20:29:39.606Z"
   },
   {
    "duration": 3227,
    "start_time": "2021-06-22T20:30:06.291Z"
   },
   {
    "duration": 2949,
    "start_time": "2021-06-22T20:31:07.855Z"
   },
   {
    "duration": 2969,
    "start_time": "2021-06-22T20:32:11.888Z"
   },
   {
    "duration": 2983,
    "start_time": "2021-06-22T20:32:41.434Z"
   },
   {
    "duration": 2941,
    "start_time": "2021-06-22T20:33:05.814Z"
   },
   {
    "duration": 3107,
    "start_time": "2021-06-22T20:33:36.284Z"
   },
   {
    "duration": 2918,
    "start_time": "2021-06-22T20:34:33.802Z"
   },
   {
    "duration": 8,
    "start_time": "2021-06-22T20:35:03.702Z"
   },
   {
    "duration": 11,
    "start_time": "2021-06-22T20:35:21.388Z"
   },
   {
    "duration": 10,
    "start_time": "2021-06-22T20:36:03.177Z"
   },
   {
    "duration": 11,
    "start_time": "2021-06-22T20:36:15.024Z"
   },
   {
    "duration": 2930,
    "start_time": "2021-06-22T20:37:46.863Z"
   },
   {
    "duration": 10,
    "start_time": "2021-06-22T20:39:28.795Z"
   },
   {
    "duration": 10,
    "start_time": "2021-06-22T20:40:17.363Z"
   },
   {
    "duration": 10,
    "start_time": "2021-06-22T20:40:27.611Z"
   },
   {
    "duration": 10,
    "start_time": "2021-06-22T20:40:40.491Z"
   },
   {
    "duration": 11,
    "start_time": "2021-06-22T20:40:49.959Z"
   },
   {
    "duration": 9,
    "start_time": "2021-06-22T20:41:09.230Z"
   },
   {
    "duration": 10,
    "start_time": "2021-06-22T20:44:25.477Z"
   },
   {
    "duration": 10,
    "start_time": "2021-06-22T20:44:37.658Z"
   },
   {
    "duration": 14,
    "start_time": "2021-06-22T20:44:49.448Z"
   },
   {
    "duration": 10,
    "start_time": "2021-06-22T20:44:59.275Z"
   },
   {
    "duration": 93,
    "start_time": "2021-06-22T20:45:10.453Z"
   },
   {
    "duration": 10,
    "start_time": "2021-06-22T20:45:29.983Z"
   },
   {
    "duration": 11,
    "start_time": "2021-06-22T20:45:36.709Z"
   },
   {
    "duration": 10,
    "start_time": "2021-06-22T20:45:54.060Z"
   },
   {
    "duration": 10,
    "start_time": "2021-06-22T20:46:00.517Z"
   },
   {
    "duration": 3958,
    "start_time": "2021-06-22T20:46:37.155Z"
   },
   {
    "duration": 3639,
    "start_time": "2021-06-22T20:47:31.282Z"
   },
   {
    "duration": 30,
    "start_time": "2021-06-22T20:50:39.045Z"
   },
   {
    "duration": 37,
    "start_time": "2021-06-22T20:50:57.532Z"
   },
   {
    "duration": 47,
    "start_time": "2021-06-22T20:52:21.931Z"
   },
   {
    "duration": 878,
    "start_time": "2021-06-23T07:48:57.150Z"
   },
   {
    "duration": 45,
    "start_time": "2021-06-23T07:49:02.283Z"
   },
   {
    "duration": 5,
    "start_time": "2021-06-23T07:49:07.106Z"
   },
   {
    "duration": 5,
    "start_time": "2021-06-23T07:49:10.137Z"
   },
   {
    "duration": 8,
    "start_time": "2021-06-23T07:49:19.304Z"
   },
   {
    "duration": 9,
    "start_time": "2021-06-23T07:49:23.961Z"
   },
   {
    "duration": 19,
    "start_time": "2021-06-23T07:49:26.463Z"
   },
   {
    "duration": 18,
    "start_time": "2021-06-23T07:49:29.726Z"
   },
   {
    "duration": 18,
    "start_time": "2021-06-23T07:49:32.751Z"
   },
   {
    "duration": 15,
    "start_time": "2021-06-23T07:49:35.645Z"
   },
   {
    "duration": 31,
    "start_time": "2021-06-23T07:49:38.350Z"
   },
   {
    "duration": 31,
    "start_time": "2021-06-23T07:49:49.573Z"
   },
   {
    "duration": 20,
    "start_time": "2021-06-23T07:49:52.415Z"
   },
   {
    "duration": 11,
    "start_time": "2021-06-23T07:49:55.094Z"
   },
   {
    "duration": 19,
    "start_time": "2021-06-23T07:50:02.390Z"
   },
   {
    "duration": 20,
    "start_time": "2021-06-23T07:50:11.117Z"
   },
   {
    "duration": 24,
    "start_time": "2021-06-23T07:50:15.031Z"
   },
   {
    "duration": 27,
    "start_time": "2021-06-23T07:50:17.963Z"
   },
   {
    "duration": 26,
    "start_time": "2021-06-23T07:50:20.838Z"
   },
   {
    "duration": 26,
    "start_time": "2021-06-23T07:50:24.753Z"
   },
   {
    "duration": 47,
    "start_time": "2021-06-23T07:50:33.171Z"
   },
   {
    "duration": 41,
    "start_time": "2021-06-23T07:50:38.387Z"
   },
   {
    "duration": 7,
    "start_time": "2021-06-23T07:50:52.831Z"
   },
   {
    "duration": 11,
    "start_time": "2021-06-23T07:51:09.182Z"
   },
   {
    "duration": 4721,
    "start_time": "2021-06-23T07:51:41.449Z"
   },
   {
    "duration": 3471,
    "start_time": "2021-06-23T07:51:57.657Z"
   },
   {
    "duration": 52,
    "start_time": "2021-06-23T07:52:09.452Z"
   },
   {
    "duration": 3615,
    "start_time": "2021-06-23T08:59:23.974Z"
   },
   {
    "duration": 93,
    "start_time": "2021-06-23T09:00:28.260Z"
   },
   {
    "duration": 99,
    "start_time": "2021-06-23T09:00:49.885Z"
   },
   {
    "duration": 102,
    "start_time": "2021-06-23T09:07:20.356Z"
   },
   {
    "duration": 108,
    "start_time": "2021-06-23T09:09:48.973Z"
   },
   {
    "duration": 4,
    "start_time": "2021-06-23T09:10:14.956Z"
   },
   {
    "duration": 6,
    "start_time": "2021-06-23T09:10:26.029Z"
   },
   {
    "duration": 6,
    "start_time": "2021-06-23T09:11:02.524Z"
   },
   {
    "duration": 101,
    "start_time": "2021-06-23T09:11:17.943Z"
   },
   {
    "duration": 99,
    "start_time": "2021-06-23T09:11:28.748Z"
   },
   {
    "duration": 1437,
    "start_time": "2021-06-23T09:15:46.004Z"
   },
   {
    "duration": 97,
    "start_time": "2021-06-23T09:26:44.664Z"
   },
   {
    "duration": 3604,
    "start_time": "2021-06-23T09:27:03.886Z"
   },
   {
    "duration": 3716,
    "start_time": "2021-06-23T09:27:28.779Z"
   },
   {
    "duration": 3768,
    "start_time": "2021-06-23T09:28:07.359Z"
   },
   {
    "duration": 3768,
    "start_time": "2021-06-23T09:29:29.881Z"
   },
   {
    "duration": 16,
    "start_time": "2021-06-23T10:49:14.735Z"
   },
   {
    "duration": 293,
    "start_time": "2021-06-23T11:01:16.355Z"
   },
   {
    "duration": 20,
    "start_time": "2021-06-23T11:01:26.463Z"
   },
   {
    "duration": 11,
    "start_time": "2021-06-23T11:02:52.265Z"
   },
   {
    "duration": 11,
    "start_time": "2021-06-23T11:02:55.311Z"
   },
   {
    "duration": 13,
    "start_time": "2021-06-23T11:12:09.709Z"
   },
   {
    "duration": 9,
    "start_time": "2021-06-23T11:51:11.343Z"
   },
   {
    "duration": 9,
    "start_time": "2021-06-23T11:51:31.264Z"
   },
   {
    "duration": 7,
    "start_time": "2021-06-23T11:51:47.904Z"
   },
   {
    "duration": 9,
    "start_time": "2021-06-23T11:53:47.541Z"
   },
   {
    "duration": 297,
    "start_time": "2021-06-23T12:07:49.885Z"
   },
   {
    "duration": 276,
    "start_time": "2021-06-23T12:09:29.760Z"
   },
   {
    "duration": 99,
    "start_time": "2021-06-23T12:11:46.825Z"
   },
   {
    "duration": 372,
    "start_time": "2021-06-23T12:14:09.255Z"
   },
   {
    "duration": 326,
    "start_time": "2021-06-23T12:14:52.790Z"
   },
   {
    "duration": 94,
    "start_time": "2021-06-23T12:16:21.267Z"
   },
   {
    "duration": 298,
    "start_time": "2021-06-23T12:17:07.606Z"
   },
   {
    "duration": 295,
    "start_time": "2021-06-23T12:21:40.178Z"
   },
   {
    "duration": 8,
    "start_time": "2021-06-23T12:29:25.071Z"
   },
   {
    "duration": 90,
    "start_time": "2021-06-23T12:30:20.280Z"
   },
   {
    "duration": 14,
    "start_time": "2021-06-23T12:30:31.812Z"
   },
   {
    "duration": 275,
    "start_time": "2021-06-23T12:30:55.066Z"
   },
   {
    "duration": 299,
    "start_time": "2021-06-23T12:49:24.993Z"
   },
   {
    "duration": 17,
    "start_time": "2021-06-23T12:49:42.464Z"
   },
   {
    "duration": 32,
    "start_time": "2021-06-23T12:49:56.664Z"
   },
   {
    "duration": 28,
    "start_time": "2021-06-23T12:50:14.961Z"
   },
   {
    "duration": 10,
    "start_time": "2021-06-23T13:03:15.598Z"
   },
   {
    "duration": 396,
    "start_time": "2021-06-23T13:03:24.074Z"
   },
   {
    "duration": 494,
    "start_time": "2021-06-23T13:03:44.067Z"
   },
   {
    "duration": 491,
    "start_time": "2021-06-23T13:04:10.599Z"
   },
   {
    "duration": 319,
    "start_time": "2021-06-23T13:27:14.152Z"
   },
   {
    "duration": 327,
    "start_time": "2021-06-23T13:27:44.372Z"
   },
   {
    "duration": 7196,
    "start_time": "2021-06-23T13:28:03.809Z"
   },
   {
    "duration": 7027,
    "start_time": "2021-06-23T13:32:45.672Z"
   },
   {
    "duration": 7144,
    "start_time": "2021-06-23T13:34:14.990Z"
   },
   {
    "duration": 99,
    "start_time": "2021-06-23T13:43:24.594Z"
   },
   {
    "duration": 7310,
    "start_time": "2021-06-23T13:43:53.239Z"
   },
   {
    "duration": 298,
    "start_time": "2021-06-23T13:47:21.400Z"
   },
   {
    "duration": 291,
    "start_time": "2021-06-23T13:47:36.952Z"
   },
   {
    "duration": 50,
    "start_time": "2021-06-23T13:47:47.496Z"
   },
   {
    "duration": 44,
    "start_time": "2021-06-23T13:49:55.883Z"
   },
   {
    "duration": 307,
    "start_time": "2021-06-23T13:52:12.846Z"
   },
   {
    "duration": 36,
    "start_time": "2021-06-23T13:52:28.819Z"
   },
   {
    "duration": 44,
    "start_time": "2021-06-23T13:52:38.579Z"
   },
   {
    "duration": 46,
    "start_time": "2021-06-23T14:05:41.619Z"
   },
   {
    "duration": 46,
    "start_time": "2021-06-23T14:06:10.294Z"
   },
   {
    "duration": 47,
    "start_time": "2021-06-23T14:06:40.165Z"
   },
   {
    "duration": 11,
    "start_time": "2021-06-23T14:07:24.897Z"
   },
   {
    "duration": 3,
    "start_time": "2021-06-23T14:10:57.709Z"
   },
   {
    "duration": 3,
    "start_time": "2021-06-23T14:11:01.860Z"
   },
   {
    "duration": 378,
    "start_time": "2021-06-23T14:11:38.129Z"
   },
   {
    "duration": 6,
    "start_time": "2021-06-23T14:11:52.012Z"
   },
   {
    "duration": 5,
    "start_time": "2021-06-23T14:13:11.948Z"
   },
   {
    "duration": 7,
    "start_time": "2021-06-23T14:13:19.109Z"
   },
   {
    "duration": 7,
    "start_time": "2021-06-23T14:13:27.852Z"
   },
   {
    "duration": 7,
    "start_time": "2021-06-23T14:14:45.942Z"
   },
   {
    "duration": 6,
    "start_time": "2021-06-23T14:23:37.758Z"
   },
   {
    "duration": 7,
    "start_time": "2021-06-23T14:23:49.117Z"
   },
   {
    "duration": 405,
    "start_time": "2021-06-23T14:24:15.303Z"
   },
   {
    "duration": 104,
    "start_time": "2021-06-23T14:30:07.177Z"
   },
   {
    "duration": 268,
    "start_time": "2021-06-23T14:30:15.647Z"
   },
   {
    "duration": 121,
    "start_time": "2021-06-23T14:30:29.391Z"
   },
   {
    "duration": 96,
    "start_time": "2021-06-23T14:33:14.733Z"
   },
   {
    "duration": 291,
    "start_time": "2021-06-23T14:33:44.043Z"
   },
   {
    "duration": 4,
    "start_time": "2021-06-23T14:34:22.077Z"
   },
   {
    "duration": 7,
    "start_time": "2021-06-23T14:34:42.908Z"
   },
   {
    "duration": 12,
    "start_time": "2021-06-23T14:37:26.483Z"
   },
   {
    "duration": 10,
    "start_time": "2021-06-23T14:38:27.541Z"
   },
   {
    "duration": 777,
    "start_time": "2021-06-23T14:52:28.231Z"
   },
   {
    "duration": 1065,
    "start_time": "2021-06-23T14:52:45.104Z"
   },
   {
    "duration": 710,
    "start_time": "2021-06-23T14:57:29.729Z"
   },
   {
    "duration": 88,
    "start_time": "2021-06-23T14:58:03.698Z"
   },
   {
    "duration": 95,
    "start_time": "2021-06-23T14:59:03.006Z"
   },
   {
    "duration": 10,
    "start_time": "2021-06-23T14:59:15.577Z"
   },
   {
    "duration": 276,
    "start_time": "2021-06-23T15:02:47.648Z"
   },
   {
    "duration": 7,
    "start_time": "2021-06-23T15:04:19.027Z"
   },
   {
    "duration": 7,
    "start_time": "2021-06-23T15:04:32.168Z"
   },
   {
    "duration": 305,
    "start_time": "2021-06-23T15:05:15.005Z"
   },
   {
    "duration": 277,
    "start_time": "2021-06-23T15:05:42.526Z"
   },
   {
    "duration": 367,
    "start_time": "2021-06-23T15:05:52.228Z"
   },
   {
    "duration": 7,
    "start_time": "2021-06-23T15:06:00.713Z"
   },
   {
    "duration": 8,
    "start_time": "2021-06-23T15:06:07.496Z"
   },
   {
    "duration": 5713,
    "start_time": "2021-06-23T15:11:07.693Z"
   },
   {
    "duration": 311,
    "start_time": "2021-06-23T15:18:01.299Z"
   },
   {
    "duration": 355,
    "start_time": "2021-06-23T15:38:53.425Z"
   },
   {
    "duration": 9,
    "start_time": "2021-06-23T15:39:25.495Z"
   },
   {
    "duration": 290,
    "start_time": "2021-06-23T15:39:37.253Z"
   },
   {
    "duration": 8,
    "start_time": "2021-06-23T15:39:46.177Z"
   },
   {
    "duration": 42,
    "start_time": "2021-06-23T15:39:58.517Z"
   },
   {
    "duration": 16,
    "start_time": "2021-06-23T15:44:38.789Z"
   },
   {
    "duration": 279,
    "start_time": "2021-06-23T15:45:24.220Z"
   },
   {
    "duration": 301,
    "start_time": "2021-06-23T15:46:35.097Z"
   },
   {
    "duration": 98,
    "start_time": "2021-06-23T15:52:44.668Z"
   },
   {
    "duration": 8,
    "start_time": "2021-06-23T15:52:55.844Z"
   },
   {
    "duration": 13,
    "start_time": "2021-06-23T15:53:05.110Z"
   },
   {
    "duration": 66,
    "start_time": "2021-06-23T15:53:19.431Z"
   },
   {
    "duration": 36,
    "start_time": "2021-06-23T15:53:25.194Z"
   },
   {
    "duration": 5,
    "start_time": "2021-06-23T15:53:29.600Z"
   },
   {
    "duration": 5,
    "start_time": "2021-06-23T15:53:32.364Z"
   },
   {
    "duration": 5,
    "start_time": "2021-06-23T15:53:38.199Z"
   },
   {
    "duration": 8,
    "start_time": "2021-06-23T15:53:42.473Z"
   },
   {
    "duration": 11,
    "start_time": "2021-06-23T15:53:46.570Z"
   },
   {
    "duration": 18,
    "start_time": "2021-06-23T15:53:52.011Z"
   },
   {
    "duration": 18,
    "start_time": "2021-06-23T15:53:56.520Z"
   },
   {
    "duration": 17,
    "start_time": "2021-06-23T15:53:59.727Z"
   },
   {
    "duration": 33,
    "start_time": "2021-06-23T15:54:03.407Z"
   },
   {
    "duration": 21,
    "start_time": "2021-06-23T15:54:10.080Z"
   },
   {
    "duration": 13,
    "start_time": "2021-06-23T15:54:13.897Z"
   },
   {
    "duration": 11,
    "start_time": "2021-06-23T15:54:20.500Z"
   },
   {
    "duration": 485,
    "start_time": "2021-06-23T15:54:23.963Z"
   },
   {
    "duration": 299,
    "start_time": "2021-06-23T15:54:29.952Z"
   },
   {
    "duration": 445,
    "start_time": "2021-06-23T15:55:16.879Z"
   },
   {
    "duration": 63,
    "start_time": "2021-06-23T15:58:04.236Z"
   },
   {
    "duration": 36,
    "start_time": "2021-06-23T15:58:17.864Z"
   },
   {
    "duration": 5,
    "start_time": "2021-06-23T15:59:11.134Z"
   },
   {
    "duration": 6,
    "start_time": "2021-06-23T15:59:14.589Z"
   },
   {
    "duration": 6,
    "start_time": "2021-06-23T15:59:25.576Z"
   },
   {
    "duration": 8,
    "start_time": "2021-06-23T15:59:34.313Z"
   },
   {
    "duration": 11,
    "start_time": "2021-06-23T16:00:22.136Z"
   },
   {
    "duration": 19,
    "start_time": "2021-06-23T16:00:30.855Z"
   },
   {
    "duration": 18,
    "start_time": "2021-06-23T16:00:38.639Z"
   },
   {
    "duration": 19,
    "start_time": "2021-06-23T16:01:24.498Z"
   },
   {
    "duration": 16,
    "start_time": "2021-06-23T16:01:27.457Z"
   },
   {
    "duration": 32,
    "start_time": "2021-06-23T16:01:37.160Z"
   },
   {
    "duration": 18,
    "start_time": "2021-06-23T16:03:04.144Z"
   },
   {
    "duration": 13,
    "start_time": "2021-06-23T16:03:10.334Z"
   },
   {
    "duration": 11,
    "start_time": "2021-06-23T16:03:16.833Z"
   },
   {
    "duration": 834,
    "start_time": "2021-06-23T16:03:35.501Z"
   },
   {
    "duration": 464,
    "start_time": "2021-06-23T16:07:04.445Z"
   },
   {
    "duration": 91,
    "start_time": "2021-06-23T16:14:37.893Z"
   },
   {
    "duration": 893,
    "start_time": "2021-06-23T16:14:43.254Z"
   },
   {
    "duration": 62,
    "start_time": "2021-06-23T16:14:55.951Z"
   },
   {
    "duration": 66,
    "start_time": "2021-06-23T16:15:14.871Z"
   },
   {
    "duration": 54,
    "start_time": "2021-06-23T16:15:14.939Z"
   },
   {
    "duration": 5,
    "start_time": "2021-06-23T16:15:14.996Z"
   },
   {
    "duration": 26,
    "start_time": "2021-06-23T16:15:15.003Z"
   },
   {
    "duration": 16,
    "start_time": "2021-06-23T16:15:15.031Z"
   },
   {
    "duration": 16,
    "start_time": "2021-06-23T16:15:15.049Z"
   },
   {
    "duration": 30,
    "start_time": "2021-06-23T16:15:15.067Z"
   },
   {
    "duration": 18,
    "start_time": "2021-06-23T16:15:15.100Z"
   },
   {
    "duration": 16,
    "start_time": "2021-06-23T16:15:15.121Z"
   },
   {
    "duration": 64,
    "start_time": "2021-06-23T16:15:15.139Z"
   },
   {
    "duration": 18,
    "start_time": "2021-06-23T16:15:15.206Z"
   },
   {
    "duration": 11,
    "start_time": "2021-06-23T16:15:15.227Z"
   },
   {
    "duration": 46,
    "start_time": "2021-06-23T16:15:15.240Z"
   },
   {
    "duration": 11,
    "start_time": "2021-06-23T16:16:44.466Z"
   },
   {
    "duration": 815,
    "start_time": "2021-06-23T16:17:56.479Z"
   },
   {
    "duration": 599,
    "start_time": "2021-06-23T16:19:23.120Z"
   },
   {
    "duration": 18,
    "start_time": "2021-06-23T16:19:51.356Z"
   },
   {
    "duration": 711,
    "start_time": "2021-06-23T16:20:17.316Z"
   },
   {
    "duration": 589,
    "start_time": "2021-06-23T16:20:20.971Z"
   },
   {
    "duration": 667,
    "start_time": "2021-06-23T16:21:05.242Z"
   },
   {
    "duration": 593,
    "start_time": "2021-06-23T16:22:04.467Z"
   },
   {
    "duration": 585,
    "start_time": "2021-06-23T16:22:22.180Z"
   },
   {
    "duration": 18,
    "start_time": "2021-06-23T16:23:34.541Z"
   },
   {
    "duration": 39,
    "start_time": "2021-06-23T16:23:57.373Z"
   },
   {
    "duration": 13,
    "start_time": "2021-06-23T16:27:38.709Z"
   },
   {
    "duration": 13,
    "start_time": "2021-06-23T16:28:01.425Z"
   },
   {
    "duration": 21,
    "start_time": "2021-06-23T16:28:38.001Z"
   },
   {
    "duration": 26,
    "start_time": "2021-06-23T16:28:42.184Z"
   },
   {
    "duration": 25,
    "start_time": "2021-06-23T16:28:51.808Z"
   },
   {
    "duration": 26,
    "start_time": "2021-06-23T16:28:55.298Z"
   },
   {
    "duration": 102,
    "start_time": "2021-06-23T16:29:01.969Z"
   },
   {
    "duration": 7,
    "start_time": "2021-06-23T16:29:13.708Z"
   },
   {
    "duration": 8,
    "start_time": "2021-06-23T16:29:18.208Z"
   },
   {
    "duration": 6,
    "start_time": "2021-06-23T16:29:30.801Z"
   },
   {
    "duration": 27,
    "start_time": "2021-06-23T16:29:41.745Z"
   },
   {
    "duration": 31,
    "start_time": "2021-06-23T16:30:42.264Z"
   },
   {
    "duration": 34,
    "start_time": "2021-06-23T16:32:00.466Z"
   },
   {
    "duration": 33,
    "start_time": "2021-06-23T16:34:26.204Z"
   },
   {
    "duration": 302,
    "start_time": "2021-06-23T16:38:44.315Z"
   },
   {
    "duration": 335,
    "start_time": "2021-06-23T16:39:15.436Z"
   },
   {
    "duration": 35,
    "start_time": "2021-06-23T16:39:31.244Z"
   },
   {
    "duration": 289,
    "start_time": "2021-06-23T16:52:32.421Z"
   },
   {
    "duration": 7,
    "start_time": "2021-06-23T17:03:14.133Z"
   },
   {
    "duration": 11,
    "start_time": "2021-06-23T17:03:33.922Z"
   },
   {
    "duration": 67,
    "start_time": "2021-06-23T17:04:14.294Z"
   },
   {
    "duration": 44,
    "start_time": "2021-06-23T17:04:14.363Z"
   },
   {
    "duration": 11,
    "start_time": "2021-06-23T17:04:14.410Z"
   },
   {
    "duration": 10,
    "start_time": "2021-06-23T17:04:14.423Z"
   },
   {
    "duration": 14,
    "start_time": "2021-06-23T17:04:14.435Z"
   },
   {
    "duration": 39,
    "start_time": "2021-06-23T17:04:14.452Z"
   },
   {
    "duration": 19,
    "start_time": "2021-06-23T17:04:14.494Z"
   },
   {
    "duration": 18,
    "start_time": "2021-06-23T17:04:14.517Z"
   },
   {
    "duration": 51,
    "start_time": "2021-06-23T17:04:14.538Z"
   },
   {
    "duration": 32,
    "start_time": "2021-06-23T17:04:14.591Z"
   },
   {
    "duration": 21,
    "start_time": "2021-06-23T17:04:14.626Z"
   },
   {
    "duration": 42,
    "start_time": "2021-06-23T17:04:14.650Z"
   },
   {
    "duration": 11,
    "start_time": "2021-06-23T17:04:14.695Z"
   },
   {
    "duration": 653,
    "start_time": "2021-06-23T17:04:14.709Z"
   },
   {
    "duration": 39,
    "start_time": "2021-06-23T17:04:15.364Z"
   },
   {
    "duration": 22,
    "start_time": "2021-06-23T17:04:15.406Z"
   },
   {
    "duration": 53,
    "start_time": "2021-06-23T17:04:15.431Z"
   },
   {
    "duration": 27,
    "start_time": "2021-06-23T17:04:15.486Z"
   },
   {
    "duration": 31,
    "start_time": "2021-06-23T17:04:15.515Z"
   },
   {
    "duration": 36,
    "start_time": "2021-06-23T17:04:15.549Z"
   },
   {
    "duration": 39,
    "start_time": "2021-06-23T17:04:15.588Z"
   },
   {
    "duration": 14,
    "start_time": "2021-06-23T17:04:24.980Z"
   },
   {
    "duration": 45,
    "start_time": "2021-06-23T17:06:02.572Z"
   },
   {
    "duration": 270,
    "start_time": "2021-06-23T18:16:57.543Z"
   },
   {
    "duration": 269,
    "start_time": "2021-06-23T18:17:16.187Z"
   },
   {
    "duration": 269,
    "start_time": "2021-06-23T18:17:42.529Z"
   },
   {
    "duration": 14,
    "start_time": "2021-06-23T18:31:26.264Z"
   },
   {
    "duration": 1207,
    "start_time": "2021-06-23T18:31:52.597Z"
   },
   {
    "duration": 22,
    "start_time": "2021-06-23T18:42:33.806Z"
   },
   {
    "duration": 56,
    "start_time": "2021-06-23T18:43:06.789Z"
   },
   {
    "duration": 67,
    "start_time": "2021-06-23T18:43:18.088Z"
   },
   {
    "duration": 48,
    "start_time": "2021-06-23T18:43:46.799Z"
   },
   {
    "duration": 1088,
    "start_time": "2021-06-23T18:44:06.460Z"
   },
   {
    "duration": 1056,
    "start_time": "2021-06-23T18:44:11.791Z"
   },
   {
    "duration": 66,
    "start_time": "2021-06-23T18:51:01.451Z"
   },
   {
    "duration": 33,
    "start_time": "2021-06-23T18:51:01.520Z"
   },
   {
    "duration": 5,
    "start_time": "2021-06-23T18:51:01.556Z"
   },
   {
    "duration": 38,
    "start_time": "2021-06-23T18:51:01.585Z"
   },
   {
    "duration": 20,
    "start_time": "2021-06-23T18:51:01.627Z"
   },
   {
    "duration": 39,
    "start_time": "2021-06-23T18:51:01.651Z"
   },
   {
    "duration": 41,
    "start_time": "2021-06-23T18:51:01.693Z"
   },
   {
    "duration": 67,
    "start_time": "2021-06-23T18:51:01.737Z"
   },
   {
    "duration": 74,
    "start_time": "2021-06-23T18:51:01.808Z"
   },
   {
    "duration": 44,
    "start_time": "2021-06-23T18:51:01.884Z"
   },
   {
    "duration": 22,
    "start_time": "2021-06-23T18:51:01.931Z"
   },
   {
    "duration": 29,
    "start_time": "2021-06-23T18:51:01.957Z"
   },
   {
    "duration": 26,
    "start_time": "2021-06-23T18:51:01.989Z"
   },
   {
    "duration": 691,
    "start_time": "2021-06-23T18:51:02.018Z"
   },
   {
    "duration": 31,
    "start_time": "2021-06-23T18:51:02.712Z"
   },
   {
    "duration": 51,
    "start_time": "2021-06-23T18:51:02.746Z"
   },
   {
    "duration": 28,
    "start_time": "2021-06-23T18:51:02.800Z"
   },
   {
    "duration": 53,
    "start_time": "2021-06-23T18:51:02.833Z"
   },
   {
    "duration": 24,
    "start_time": "2021-06-23T18:51:02.889Z"
   },
   {
    "duration": 10,
    "start_time": "2021-06-23T18:51:02.916Z"
   },
   {
    "duration": 60,
    "start_time": "2021-06-23T18:51:02.929Z"
   },
   {
    "duration": 29,
    "start_time": "2021-06-23T18:51:02.992Z"
   },
   {
    "duration": 62,
    "start_time": "2021-06-23T18:52:26.016Z"
   },
   {
    "duration": 35,
    "start_time": "2021-06-23T18:52:26.081Z"
   },
   {
    "duration": 5,
    "start_time": "2021-06-23T18:52:26.118Z"
   },
   {
    "duration": 11,
    "start_time": "2021-06-23T18:52:26.125Z"
   },
   {
    "duration": 10,
    "start_time": "2021-06-23T18:52:26.138Z"
   },
   {
    "duration": 38,
    "start_time": "2021-06-23T18:52:26.151Z"
   },
   {
    "duration": 19,
    "start_time": "2021-06-23T18:52:26.192Z"
   },
   {
    "duration": 19,
    "start_time": "2021-06-23T18:52:26.214Z"
   },
   {
    "duration": 54,
    "start_time": "2021-06-23T18:52:26.235Z"
   },
   {
    "duration": 34,
    "start_time": "2021-06-23T18:52:26.292Z"
   },
   {
    "duration": 54,
    "start_time": "2021-06-23T18:52:26.329Z"
   },
   {
    "duration": 15,
    "start_time": "2021-06-23T18:52:26.386Z"
   },
   {
    "duration": 12,
    "start_time": "2021-06-23T18:52:26.404Z"
   },
   {
    "duration": 624,
    "start_time": "2021-06-23T18:52:26.420Z"
   },
   {
    "duration": 42,
    "start_time": "2021-06-23T18:52:27.047Z"
   },
   {
    "duration": 20,
    "start_time": "2021-06-23T18:52:27.091Z"
   },
   {
    "duration": 27,
    "start_time": "2021-06-23T18:52:27.114Z"
   },
   {
    "duration": 62,
    "start_time": "2021-06-23T18:52:27.143Z"
   },
   {
    "duration": 25,
    "start_time": "2021-06-23T18:52:27.207Z"
   },
   {
    "duration": 6,
    "start_time": "2021-06-23T18:52:27.235Z"
   },
   {
    "duration": 64,
    "start_time": "2021-06-23T18:52:27.244Z"
   },
   {
    "duration": 12,
    "start_time": "2021-06-23T18:52:27.311Z"
   },
   {
    "duration": 63,
    "start_time": "2021-06-23T18:53:12.664Z"
   },
   {
    "duration": 32,
    "start_time": "2021-06-23T18:53:12.730Z"
   },
   {
    "duration": 18,
    "start_time": "2021-06-23T18:53:12.765Z"
   },
   {
    "duration": 5,
    "start_time": "2021-06-23T18:53:12.785Z"
   },
   {
    "duration": 12,
    "start_time": "2021-06-23T18:53:12.792Z"
   },
   {
    "duration": 15,
    "start_time": "2021-06-23T18:53:12.806Z"
   },
   {
    "duration": 18,
    "start_time": "2021-06-23T18:53:12.823Z"
   },
   {
    "duration": 55,
    "start_time": "2021-06-23T18:53:12.844Z"
   },
   {
    "duration": 17,
    "start_time": "2021-06-23T18:53:12.902Z"
   },
   {
    "duration": 73,
    "start_time": "2021-06-23T18:53:12.922Z"
   },
   {
    "duration": 18,
    "start_time": "2021-06-23T18:53:12.998Z"
   },
   {
    "duration": 10,
    "start_time": "2021-06-23T18:53:13.019Z"
   },
   {
    "duration": 8,
    "start_time": "2021-06-23T18:53:13.032Z"
   },
   {
    "duration": 639,
    "start_time": "2021-06-23T18:53:13.045Z"
   },
   {
    "duration": 31,
    "start_time": "2021-06-23T18:53:13.688Z"
   },
   {
    "duration": 23,
    "start_time": "2021-06-23T18:53:13.722Z"
   },
   {
    "duration": 61,
    "start_time": "2021-06-23T18:53:13.748Z"
   },
   {
    "duration": 28,
    "start_time": "2021-06-23T18:53:13.812Z"
   },
   {
    "duration": 53,
    "start_time": "2021-06-23T18:53:13.842Z"
   },
   {
    "duration": 7,
    "start_time": "2021-06-23T18:53:13.897Z"
   },
   {
    "duration": 34,
    "start_time": "2021-06-23T18:53:13.906Z"
   },
   {
    "duration": 45,
    "start_time": "2021-06-23T18:53:13.943Z"
   },
   {
    "duration": 32,
    "start_time": "2021-06-23T18:53:22.234Z"
   },
   {
    "duration": 37,
    "start_time": "2021-06-23T18:53:37.376Z"
   },
   {
    "duration": 49,
    "start_time": "2021-06-23T18:53:49.808Z"
   },
   {
    "duration": 35,
    "start_time": "2021-06-23T18:54:23.606Z"
   },
   {
    "duration": 285,
    "start_time": "2021-06-23T18:54:40.601Z"
   },
   {
    "duration": 22,
    "start_time": "2021-06-23T18:55:16.831Z"
   },
   {
    "duration": 61,
    "start_time": "2021-06-23T18:55:44.472Z"
   },
   {
    "duration": 49,
    "start_time": "2021-06-23T18:55:44.536Z"
   },
   {
    "duration": 9,
    "start_time": "2021-06-23T18:55:44.587Z"
   },
   {
    "duration": 8,
    "start_time": "2021-06-23T18:55:44.598Z"
   },
   {
    "duration": 12,
    "start_time": "2021-06-23T18:55:44.609Z"
   },
   {
    "duration": 21,
    "start_time": "2021-06-23T18:55:44.624Z"
   },
   {
    "duration": 47,
    "start_time": "2021-06-23T18:55:44.647Z"
   },
   {
    "duration": 17,
    "start_time": "2021-06-23T18:55:44.697Z"
   },
   {
    "duration": 21,
    "start_time": "2021-06-23T18:55:44.717Z"
   },
   {
    "duration": 63,
    "start_time": "2021-06-23T18:55:44.741Z"
   },
   {
    "duration": 18,
    "start_time": "2021-06-23T18:55:44.807Z"
   },
   {
    "duration": 33,
    "start_time": "2021-06-23T18:55:44.827Z"
   },
   {
    "duration": 27,
    "start_time": "2021-06-23T18:55:44.862Z"
   },
   {
    "duration": 651,
    "start_time": "2021-06-23T18:55:44.893Z"
   },
   {
    "duration": 43,
    "start_time": "2021-06-23T18:55:45.547Z"
   },
   {
    "duration": 24,
    "start_time": "2021-06-23T18:55:45.593Z"
   },
   {
    "duration": 28,
    "start_time": "2021-06-23T18:55:45.620Z"
   },
   {
    "duration": 57,
    "start_time": "2021-06-23T18:55:45.651Z"
   },
   {
    "duration": 27,
    "start_time": "2021-06-23T18:55:45.711Z"
   },
   {
    "duration": 42,
    "start_time": "2021-06-23T18:55:45.741Z"
   },
   {
    "duration": 37,
    "start_time": "2021-06-23T18:55:45.787Z"
   },
   {
    "duration": 16,
    "start_time": "2021-06-23T18:55:45.827Z"
   },
   {
    "duration": 62,
    "start_time": "2021-06-23T18:55:45.845Z"
   },
   {
    "duration": 75,
    "start_time": "2021-06-23T18:55:45.910Z"
   },
   {
    "duration": 13,
    "start_time": "2021-06-23T18:55:45.990Z"
   },
   {
    "duration": 6,
    "start_time": "2021-06-23T18:55:46.006Z"
   },
   {
    "duration": 3628,
    "start_time": "2021-06-23T18:55:46.015Z"
   },
   {
    "duration": 62,
    "start_time": "2021-06-23T18:55:49.646Z"
   },
   {
    "duration": 57,
    "start_time": "2021-06-23T18:56:13.750Z"
   },
   {
    "duration": 22,
    "start_time": "2021-06-23T18:59:00.251Z"
   },
   {
    "duration": 63,
    "start_time": "2021-06-23T19:00:20.476Z"
   },
   {
    "duration": 42,
    "start_time": "2021-06-23T19:00:20.542Z"
   },
   {
    "duration": 6,
    "start_time": "2021-06-23T19:00:20.588Z"
   },
   {
    "duration": 10,
    "start_time": "2021-06-23T19:00:20.597Z"
   },
   {
    "duration": 15,
    "start_time": "2021-06-23T19:00:20.610Z"
   },
   {
    "duration": 57,
    "start_time": "2021-06-23T19:00:20.627Z"
   },
   {
    "duration": 21,
    "start_time": "2021-06-23T19:00:20.687Z"
   },
   {
    "duration": 19,
    "start_time": "2021-06-23T19:00:20.713Z"
   },
   {
    "duration": 56,
    "start_time": "2021-06-23T19:00:20.736Z"
   },
   {
    "duration": 30,
    "start_time": "2021-06-23T19:00:20.795Z"
   },
   {
    "duration": 18,
    "start_time": "2021-06-23T19:00:20.827Z"
   },
   {
    "duration": 40,
    "start_time": "2021-06-23T19:00:20.848Z"
   },
   {
    "duration": 9,
    "start_time": "2021-06-23T19:00:20.890Z"
   },
   {
    "duration": 627,
    "start_time": "2021-06-23T19:00:20.901Z"
   },
   {
    "duration": 29,
    "start_time": "2021-06-23T19:00:21.532Z"
   },
   {
    "duration": 22,
    "start_time": "2021-06-23T19:00:21.584Z"
   },
   {
    "duration": 28,
    "start_time": "2021-06-23T19:00:21.608Z"
   },
   {
    "duration": 56,
    "start_time": "2021-06-23T19:00:21.638Z"
   },
   {
    "duration": 26,
    "start_time": "2021-06-23T19:00:21.696Z"
   },
   {
    "duration": 7,
    "start_time": "2021-06-23T19:00:21.725Z"
   },
   {
    "duration": 62,
    "start_time": "2021-06-23T19:00:21.735Z"
   },
   {
    "duration": 13,
    "start_time": "2021-06-23T19:00:21.800Z"
   },
   {
    "duration": 87,
    "start_time": "2021-06-23T19:00:21.816Z"
   },
   {
    "duration": 48,
    "start_time": "2021-06-23T19:00:21.905Z"
   },
   {
    "duration": 32,
    "start_time": "2021-06-23T19:00:21.956Z"
   },
   {
    "duration": 6,
    "start_time": "2021-06-23T19:00:21.990Z"
   },
   {
    "duration": 3650,
    "start_time": "2021-06-23T19:00:21.999Z"
   },
   {
    "duration": 58,
    "start_time": "2021-06-23T19:00:25.651Z"
   },
   {
    "duration": 65,
    "start_time": "2021-06-23T19:44:36.191Z"
   },
   {
    "duration": 36,
    "start_time": "2021-06-23T19:44:40.304Z"
   },
   {
    "duration": 5,
    "start_time": "2021-06-23T19:44:46.300Z"
   },
   {
    "duration": 5,
    "start_time": "2021-06-23T19:44:49.467Z"
   },
   {
    "duration": 10,
    "start_time": "2021-06-23T19:44:56.591Z"
   },
   {
    "duration": 11,
    "start_time": "2021-06-23T19:45:14.944Z"
   },
   {
    "duration": 19,
    "start_time": "2021-06-23T19:45:28.866Z"
   },
   {
    "duration": 18,
    "start_time": "2021-06-23T19:45:34.182Z"
   },
   {
    "duration": 18,
    "start_time": "2021-06-23T19:45:45.371Z"
   },
   {
    "duration": 14,
    "start_time": "2021-06-23T19:45:47.939Z"
   },
   {
    "duration": 31,
    "start_time": "2021-06-23T19:46:33.839Z"
   },
   {
    "duration": 20,
    "start_time": "2021-06-23T19:46:59.276Z"
   },
   {
    "duration": 12,
    "start_time": "2021-06-23T19:47:08.888Z"
   },
   {
    "duration": 10,
    "start_time": "2021-06-23T19:47:16.857Z"
   },
   {
    "duration": 610,
    "start_time": "2021-06-23T19:47:29.316Z"
   },
   {
    "duration": 31,
    "start_time": "2021-06-23T19:55:51.751Z"
   },
   {
    "duration": 24,
    "start_time": "2021-06-23T19:56:02.673Z"
   },
   {
    "duration": 28,
    "start_time": "2021-06-23T19:56:07.210Z"
   },
   {
    "duration": 29,
    "start_time": "2021-06-23T19:56:35.361Z"
   },
   {
    "duration": 29,
    "start_time": "2021-06-23T19:56:46.142Z"
   },
   {
    "duration": 26,
    "start_time": "2021-06-23T19:56:49.245Z"
   },
   {
    "duration": 36,
    "start_time": "2021-06-23T19:56:54.876Z"
   },
   {
    "duration": 15,
    "start_time": "2021-06-23T19:57:05.940Z"
   },
   {
    "duration": 125,
    "start_time": "2021-06-23T19:57:10.152Z"
   },
   {
    "duration": 19,
    "start_time": "2021-06-23T19:57:18.105Z"
   },
   {
    "duration": 3567,
    "start_time": "2021-06-23T19:57:22.663Z"
   },
   {
    "duration": 7,
    "start_time": "2021-06-23T19:57:48.795Z"
   },
   {
    "duration": 58,
    "start_time": "2021-06-23T19:58:28.988Z"
   },
   {
    "duration": 84,
    "start_time": "2021-06-23T19:58:44.160Z"
   },
   {
    "duration": 14,
    "start_time": "2021-06-23T19:58:55.886Z"
   },
   {
    "duration": 45,
    "start_time": "2021-06-23T19:59:14.172Z"
   },
   {
    "duration": 12,
    "start_time": "2021-06-23T20:04:53.382Z"
   },
   {
    "duration": 96,
    "start_time": "2021-06-23T20:05:10.636Z"
   },
   {
    "duration": 16,
    "start_time": "2021-06-23T20:05:26.785Z"
   },
   {
    "duration": 9,
    "start_time": "2021-06-23T20:19:29.986Z"
   },
   {
    "duration": 9,
    "start_time": "2021-06-23T20:19:38.540Z"
   },
   {
    "duration": 11,
    "start_time": "2021-06-23T20:20:05.759Z"
   },
   {
    "duration": 11,
    "start_time": "2021-06-23T20:20:17.678Z"
   },
   {
    "duration": 13,
    "start_time": "2021-06-23T20:20:26.404Z"
   },
   {
    "duration": 12,
    "start_time": "2021-06-23T20:20:34.975Z"
   },
   {
    "duration": 12,
    "start_time": "2021-06-23T20:20:41.493Z"
   },
   {
    "duration": 11,
    "start_time": "2021-06-23T20:20:48.041Z"
   },
   {
    "duration": 24,
    "start_time": "2021-06-23T20:22:33.971Z"
   },
   {
    "duration": 7776,
    "start_time": "2021-06-23T20:23:37.657Z"
   },
   {
    "duration": 29,
    "start_time": "2021-06-23T20:24:37.068Z"
   },
   {
    "duration": 13,
    "start_time": "2021-06-23T20:25:01.639Z"
   },
   {
    "duration": 65,
    "start_time": "2021-06-23T20:26:54.001Z"
   },
   {
    "duration": 25,
    "start_time": "2021-06-23T20:29:23.180Z"
   },
   {
    "duration": 44,
    "start_time": "2021-06-23T20:29:41.999Z"
   },
   {
    "duration": 88,
    "start_time": "2021-06-23T20:36:22.476Z"
   },
   {
    "duration": 44,
    "start_time": "2021-06-23T20:38:00.567Z"
   },
   {
    "duration": 14,
    "start_time": "2021-06-23T20:38:16.621Z"
   },
   {
    "duration": 94,
    "start_time": "2021-06-23T21:17:54.691Z"
   },
   {
    "duration": 40,
    "start_time": "2021-06-23T21:17:54.788Z"
   },
   {
    "duration": 4,
    "start_time": "2021-06-23T21:17:54.831Z"
   },
   {
    "duration": 45,
    "start_time": "2021-06-23T21:17:54.838Z"
   },
   {
    "duration": 9,
    "start_time": "2021-06-23T21:17:54.885Z"
   },
   {
    "duration": 17,
    "start_time": "2021-06-23T21:17:54.897Z"
   },
   {
    "duration": 18,
    "start_time": "2021-06-23T21:17:54.916Z"
   },
   {
    "duration": 50,
    "start_time": "2021-06-23T21:17:54.938Z"
   },
   {
    "duration": 18,
    "start_time": "2021-06-23T21:17:54.991Z"
   },
   {
    "duration": 34,
    "start_time": "2021-06-23T21:17:55.012Z"
   },
   {
    "duration": 49,
    "start_time": "2021-06-23T21:17:55.048Z"
   },
   {
    "duration": 12,
    "start_time": "2021-06-23T21:17:55.099Z"
   },
   {
    "duration": 9,
    "start_time": "2021-06-23T21:17:55.114Z"
   },
   {
    "duration": 616,
    "start_time": "2021-06-23T21:17:55.126Z"
   },
   {
    "duration": 44,
    "start_time": "2021-06-23T21:17:55.745Z"
   },
   {
    "duration": 22,
    "start_time": "2021-06-23T21:17:55.791Z"
   },
   {
    "duration": 28,
    "start_time": "2021-06-23T21:17:55.816Z"
   },
   {
    "duration": 62,
    "start_time": "2021-06-23T21:17:55.847Z"
   },
   {
    "duration": 25,
    "start_time": "2021-06-23T21:17:55.911Z"
   },
   {
    "duration": 61,
    "start_time": "2021-06-23T21:17:55.938Z"
   },
   {
    "duration": 13,
    "start_time": "2021-06-23T21:17:56.002Z"
   },
   {
    "duration": 17,
    "start_time": "2021-06-23T21:17:56.017Z"
   },
   {
    "duration": 60,
    "start_time": "2021-06-23T21:17:56.037Z"
   },
   {
    "duration": 3500,
    "start_time": "2021-06-23T21:17:56.100Z"
   },
   {
    "duration": 7,
    "start_time": "2021-06-23T21:17:59.603Z"
   },
   {
    "duration": 72,
    "start_time": "2021-06-23T21:17:59.612Z"
   },
   {
    "duration": 47,
    "start_time": "2021-06-23T21:17:59.687Z"
   },
   {
    "duration": 74,
    "start_time": "2021-06-23T21:17:59.736Z"
   },
   {
    "duration": 46,
    "start_time": "2021-06-23T21:17:59.812Z"
   },
   {
    "duration": 829,
    "start_time": "2021-06-24T08:00:28.455Z"
   },
   {
    "duration": 41,
    "start_time": "2021-06-24T08:00:29.288Z"
   },
   {
    "duration": 23,
    "start_time": "2021-06-24T08:00:29.332Z"
   },
   {
    "duration": 5,
    "start_time": "2021-06-24T08:00:29.357Z"
   },
   {
    "duration": 10,
    "start_time": "2021-06-24T08:00:29.364Z"
   },
   {
    "duration": 22,
    "start_time": "2021-06-24T08:00:29.377Z"
   },
   {
    "duration": 17,
    "start_time": "2021-06-24T08:00:29.402Z"
   },
   {
    "duration": 16,
    "start_time": "2021-06-24T08:00:29.455Z"
   },
   {
    "duration": 32,
    "start_time": "2021-06-24T08:00:29.474Z"
   },
   {
    "duration": 29,
    "start_time": "2021-06-24T08:00:29.509Z"
   },
   {
    "duration": 18,
    "start_time": "2021-06-24T08:00:29.556Z"
   },
   {
    "duration": 25,
    "start_time": "2021-06-24T08:00:29.576Z"
   },
   {
    "duration": 10,
    "start_time": "2021-06-24T08:00:29.604Z"
   },
   {
    "duration": 652,
    "start_time": "2021-06-24T08:00:29.616Z"
   },
   {
    "duration": 31,
    "start_time": "2021-06-24T08:00:30.270Z"
   },
   {
    "duration": 24,
    "start_time": "2021-06-24T08:00:30.303Z"
   },
   {
    "duration": 52,
    "start_time": "2021-06-24T08:00:30.330Z"
   },
   {
    "duration": 74,
    "start_time": "2021-06-24T08:00:30.384Z"
   },
   {
    "duration": 78,
    "start_time": "2021-06-24T08:00:30.461Z"
   },
   {
    "duration": 89,
    "start_time": "2021-06-24T08:00:30.542Z"
   },
   {
    "duration": 20,
    "start_time": "2021-06-24T08:00:30.634Z"
   },
   {
    "duration": 39,
    "start_time": "2021-06-24T08:00:30.656Z"
   },
   {
    "duration": 76,
    "start_time": "2021-06-24T08:00:30.699Z"
   },
   {
    "duration": 4419,
    "start_time": "2021-06-24T08:00:30.778Z"
   },
   {
    "duration": 6,
    "start_time": "2021-06-24T08:00:35.200Z"
   },
   {
    "duration": 80,
    "start_time": "2021-06-24T08:00:35.209Z"
   },
   {
    "duration": 49,
    "start_time": "2021-06-24T08:00:35.292Z"
   },
   {
    "duration": 56,
    "start_time": "2021-06-24T08:00:35.343Z"
   },
   {
    "duration": 73,
    "start_time": "2021-06-24T08:00:35.402Z"
   },
   {
    "duration": 782,
    "start_time": "2021-06-24T08:09:18.788Z"
   },
   {
    "duration": 38,
    "start_time": "2021-06-24T08:09:19.572Z"
   },
   {
    "duration": 5,
    "start_time": "2021-06-24T08:09:19.613Z"
   },
   {
    "duration": 36,
    "start_time": "2021-06-24T08:09:19.621Z"
   },
   {
    "duration": 8,
    "start_time": "2021-06-24T08:09:19.659Z"
   },
   {
    "duration": 15,
    "start_time": "2021-06-24T08:09:19.670Z"
   },
   {
    "duration": 18,
    "start_time": "2021-06-24T08:09:19.687Z"
   },
   {
    "duration": 58,
    "start_time": "2021-06-24T08:09:19.709Z"
   },
   {
    "duration": 17,
    "start_time": "2021-06-24T08:09:19.770Z"
   },
   {
    "duration": 29,
    "start_time": "2021-06-24T08:09:19.789Z"
   },
   {
    "duration": 47,
    "start_time": "2021-06-24T08:09:19.820Z"
   },
   {
    "duration": 11,
    "start_time": "2021-06-24T08:09:19.869Z"
   },
   {
    "duration": 9,
    "start_time": "2021-06-24T08:09:19.882Z"
   },
   {
    "duration": 644,
    "start_time": "2021-06-24T08:09:19.893Z"
   },
   {
    "duration": 37,
    "start_time": "2021-06-24T08:09:20.539Z"
   },
   {
    "duration": 21,
    "start_time": "2021-06-24T08:09:20.578Z"
   },
   {
    "duration": 25,
    "start_time": "2021-06-24T08:09:20.601Z"
   },
   {
    "duration": 26,
    "start_time": "2021-06-24T08:09:20.655Z"
   },
   {
    "duration": 26,
    "start_time": "2021-06-24T08:09:20.684Z"
   },
   {
    "duration": 67,
    "start_time": "2021-06-24T08:09:20.712Z"
   },
   {
    "duration": 14,
    "start_time": "2021-06-24T08:09:20.781Z"
   },
   {
    "duration": 19,
    "start_time": "2021-06-24T08:09:20.798Z"
   },
   {
    "duration": 56,
    "start_time": "2021-06-24T08:09:20.821Z"
   },
   {
    "duration": 4397,
    "start_time": "2021-06-24T08:09:20.879Z"
   },
   {
    "duration": 7,
    "start_time": "2021-06-24T08:09:25.278Z"
   },
   {
    "duration": 78,
    "start_time": "2021-06-24T08:09:25.288Z"
   },
   {
    "duration": 53,
    "start_time": "2021-06-24T08:09:25.369Z"
   },
   {
    "duration": 64,
    "start_time": "2021-06-24T08:09:25.424Z"
   },
   {
    "duration": 44,
    "start_time": "2021-06-24T08:09:25.491Z"
   },
   {
    "duration": 833,
    "start_time": "2021-06-24T18:37:26.561Z"
   },
   {
    "duration": 59,
    "start_time": "2021-06-24T18:37:27.397Z"
   },
   {
    "duration": 6,
    "start_time": "2021-06-24T18:37:27.460Z"
   },
   {
    "duration": 8,
    "start_time": "2021-06-24T18:37:27.469Z"
   },
   {
    "duration": 9,
    "start_time": "2021-06-24T18:37:27.480Z"
   },
   {
    "duration": 12,
    "start_time": "2021-06-24T18:37:27.491Z"
   },
   {
    "duration": 56,
    "start_time": "2021-06-24T18:37:27.505Z"
   },
   {
    "duration": 21,
    "start_time": "2021-06-24T18:37:27.567Z"
   },
   {
    "duration": 20,
    "start_time": "2021-06-24T18:37:27.593Z"
   },
   {
    "duration": 69,
    "start_time": "2021-06-24T18:37:27.615Z"
   },
   {
    "duration": 21,
    "start_time": "2021-06-24T18:37:27.687Z"
   },
   {
    "duration": 49,
    "start_time": "2021-06-24T18:37:27.711Z"
   },
   {
    "duration": 11,
    "start_time": "2021-06-24T18:37:27.763Z"
   },
   {
    "duration": 660,
    "start_time": "2021-06-24T18:37:27.777Z"
   },
   {
    "duration": 36,
    "start_time": "2021-06-24T18:37:28.440Z"
   },
   {
    "duration": 21,
    "start_time": "2021-06-24T18:37:28.479Z"
   },
   {
    "duration": 52,
    "start_time": "2021-06-24T18:37:28.503Z"
   },
   {
    "duration": 26,
    "start_time": "2021-06-24T18:37:28.557Z"
   },
   {
    "duration": 26,
    "start_time": "2021-06-24T18:37:28.586Z"
   },
   {
    "duration": 67,
    "start_time": "2021-06-24T18:37:28.614Z"
   },
   {
    "duration": 13,
    "start_time": "2021-06-24T18:37:28.683Z"
   },
   {
    "duration": 18,
    "start_time": "2021-06-24T18:37:28.698Z"
   },
   {
    "duration": 56,
    "start_time": "2021-06-24T18:37:28.720Z"
   },
   {
    "duration": 4563,
    "start_time": "2021-06-24T18:37:28.779Z"
   },
   {
    "duration": 15,
    "start_time": "2021-06-24T18:37:33.344Z"
   },
   {
    "duration": 56,
    "start_time": "2021-06-24T18:37:33.361Z"
   },
   {
    "duration": 71,
    "start_time": "2021-06-24T18:37:33.420Z"
   },
   {
    "duration": 44,
    "start_time": "2021-06-24T18:37:33.493Z"
   },
   {
    "duration": 59,
    "start_time": "2021-06-24T18:37:33.539Z"
   },
   {
    "duration": 325,
    "start_time": "2021-06-25T09:16:07.343Z"
   },
   {
    "duration": 830,
    "start_time": "2021-06-25T09:16:36.357Z"
   },
   {
    "duration": 40,
    "start_time": "2021-06-25T09:16:37.190Z"
   },
   {
    "duration": 5,
    "start_time": "2021-06-25T09:16:37.232Z"
   },
   {
    "duration": 9,
    "start_time": "2021-06-25T09:16:37.240Z"
   },
   {
    "duration": 8,
    "start_time": "2021-06-25T09:16:37.251Z"
   },
   {
    "duration": 47,
    "start_time": "2021-06-25T09:16:37.261Z"
   },
   {
    "duration": 19,
    "start_time": "2021-06-25T09:16:37.310Z"
   },
   {
    "duration": 19,
    "start_time": "2021-06-25T09:16:37.332Z"
   },
   {
    "duration": 47,
    "start_time": "2021-06-25T09:16:37.354Z"
   },
   {
    "duration": 363,
    "start_time": "2021-06-25T09:16:37.403Z"
   },
   {
    "duration": -651,
    "start_time": "2021-06-25T09:16:38.420Z"
   },
   {
    "duration": -717,
    "start_time": "2021-06-25T09:16:38.488Z"
   },
   {
    "duration": -721,
    "start_time": "2021-06-25T09:16:38.493Z"
   },
   {
    "duration": -721,
    "start_time": "2021-06-25T09:16:38.495Z"
   },
   {
    "duration": -722,
    "start_time": "2021-06-25T09:16:38.497Z"
   },
   {
    "duration": -724,
    "start_time": "2021-06-25T09:16:38.501Z"
   },
   {
    "duration": -725,
    "start_time": "2021-06-25T09:16:38.503Z"
   },
   {
    "duration": -725,
    "start_time": "2021-06-25T09:16:38.505Z"
   },
   {
    "duration": -725,
    "start_time": "2021-06-25T09:16:38.506Z"
   },
   {
    "duration": -725,
    "start_time": "2021-06-25T09:16:38.508Z"
   },
   {
    "duration": -834,
    "start_time": "2021-06-25T09:16:38.618Z"
   },
   {
    "duration": -842,
    "start_time": "2021-06-25T09:16:38.628Z"
   },
   {
    "duration": -842,
    "start_time": "2021-06-25T09:16:38.629Z"
   },
   {
    "duration": -842,
    "start_time": "2021-06-25T09:16:38.631Z"
   },
   {
    "duration": -844,
    "start_time": "2021-06-25T09:16:38.634Z"
   },
   {
    "duration": -845,
    "start_time": "2021-06-25T09:16:38.636Z"
   },
   {
    "duration": -845,
    "start_time": "2021-06-25T09:16:38.638Z"
   },
   {
    "duration": -845,
    "start_time": "2021-06-25T09:16:38.639Z"
   },
   {
    "duration": -912,
    "start_time": "2021-06-25T09:16:38.708Z"
   },
   {
    "duration": 525,
    "start_time": "2021-06-25T09:28:38.269Z"
   },
   {
    "duration": 87,
    "start_time": "2021-06-25T09:28:47.080Z"
   },
   {
    "duration": 53,
    "start_time": "2021-06-25T09:28:47.169Z"
   },
   {
    "duration": 5,
    "start_time": "2021-06-25T09:28:47.226Z"
   },
   {
    "duration": 22,
    "start_time": "2021-06-25T09:28:47.234Z"
   },
   {
    "duration": 13,
    "start_time": "2021-06-25T09:28:47.259Z"
   },
   {
    "duration": 28,
    "start_time": "2021-06-25T09:28:47.274Z"
   },
   {
    "duration": 18,
    "start_time": "2021-06-25T09:28:47.305Z"
   },
   {
    "duration": 19,
    "start_time": "2021-06-25T09:28:47.326Z"
   },
   {
    "duration": 54,
    "start_time": "2021-06-25T09:28:47.347Z"
   },
   {
    "duration": 763,
    "start_time": "2021-06-25T09:28:47.403Z"
   },
   {
    "duration": 304,
    "start_time": "2021-06-25T09:28:52.041Z"
   },
   {
    "duration": 93,
    "start_time": "2021-06-25T09:29:04.315Z"
   },
   {
    "duration": 40,
    "start_time": "2021-06-25T09:29:11.318Z"
   },
   {
    "duration": 6,
    "start_time": "2021-06-25T09:29:15.305Z"
   },
   {
    "duration": 6,
    "start_time": "2021-06-25T09:29:18.572Z"
   },
   {
    "duration": 8,
    "start_time": "2021-06-25T09:29:20.580Z"
   },
   {
    "duration": 12,
    "start_time": "2021-06-25T09:29:24.296Z"
   },
   {
    "duration": 19,
    "start_time": "2021-06-25T09:29:26.964Z"
   },
   {
    "duration": 18,
    "start_time": "2021-06-25T09:29:29.548Z"
   },
   {
    "duration": 18,
    "start_time": "2021-06-25T09:29:31.991Z"
   },
   {
    "duration": 318,
    "start_time": "2021-06-25T09:29:34.112Z"
   },
   {
    "duration": 31,
    "start_time": "2021-06-25T09:30:25.439Z"
   },
   {
    "duration": 82,
    "start_time": "2021-06-28T13:32:12.654Z"
   },
   {
    "duration": 84,
    "start_time": "2021-06-28T13:32:46.113Z"
   },
   {
    "duration": 367,
    "start_time": "2021-06-28T13:46:34.051Z"
   },
   {
    "duration": 263,
    "start_time": "2021-06-28T13:46:42.647Z"
   },
   {
    "duration": 893,
    "start_time": "2021-06-28T13:47:23.547Z"
   },
   {
    "duration": 64,
    "start_time": "2021-06-28T13:47:46.224Z"
   },
   {
    "duration": 6,
    "start_time": "2021-06-28T13:47:52.469Z"
   },
   {
    "duration": 5,
    "start_time": "2021-06-28T13:49:25.287Z"
   },
   {
    "duration": 8,
    "start_time": "2021-06-28T13:49:28.585Z"
   },
   {
    "duration": 12,
    "start_time": "2021-06-28T13:51:32.406Z"
   },
   {
    "duration": 137,
    "start_time": "2021-06-28T13:54:14.580Z"
   },
   {
    "duration": 6610,
    "start_time": "2021-06-28T13:56:44.300Z"
   },
   {
    "duration": -426,
    "start_time": "2021-06-28T13:56:51.338Z"
   },
   {
    "duration": 19,
    "start_time": "2021-06-28T13:57:07.482Z"
   },
   {
    "duration": 27,
    "start_time": "2021-06-28T13:57:10.855Z"
   },
   {
    "duration": 20,
    "start_time": "2021-06-28T13:57:16.884Z"
   },
   {
    "duration": 19,
    "start_time": "2021-06-28T13:59:22.226Z"
   },
   {
    "duration": 4,
    "start_time": "2021-06-28T13:59:41.562Z"
   },
   {
    "duration": 10,
    "start_time": "2021-06-28T14:00:43.332Z"
   },
   {
    "duration": 14,
    "start_time": "2021-06-28T14:01:35.936Z"
   },
   {
    "duration": 19,
    "start_time": "2021-06-28T14:03:11.989Z"
   },
   {
    "duration": 16,
    "start_time": "2021-06-28T14:03:25.954Z"
   },
   {
    "duration": 9,
    "start_time": "2021-06-28T14:04:20.694Z"
   },
   {
    "duration": 18,
    "start_time": "2021-06-28T14:04:55.855Z"
   },
   {
    "duration": 634,
    "start_time": "2021-06-28T14:07:00.296Z"
   },
   {
    "duration": 29,
    "start_time": "2021-06-28T14:08:17.869Z"
   },
   {
    "duration": 16,
    "start_time": "2021-06-28T14:08:34.669Z"
   },
   {
    "duration": 23,
    "start_time": "2021-06-28T14:09:04.193Z"
   },
   {
    "duration": 28,
    "start_time": "2021-06-28T14:10:22.562Z"
   },
   {
    "duration": 25,
    "start_time": "2021-06-28T14:12:33.490Z"
   },
   {
    "duration": 28,
    "start_time": "2021-06-28T14:12:38.259Z"
   },
   {
    "duration": 9,
    "start_time": "2021-06-28T14:13:20.891Z"
   },
   {
    "duration": 34,
    "start_time": "2021-06-28T14:16:19.217Z"
   },
   {
    "duration": 14,
    "start_time": "2021-06-28T14:16:34.125Z"
   },
   {
    "duration": 24,
    "start_time": "2021-06-28T14:17:10.767Z"
   },
   {
    "duration": 17,
    "start_time": "2021-06-28T14:31:53.042Z"
   },
   {
    "duration": 26,
    "start_time": "2021-06-28T14:33:36.612Z"
   },
   {
    "duration": 4031,
    "start_time": "2021-06-28T14:35:21.959Z"
   },
   {
    "duration": 9,
    "start_time": "2021-06-28T14:37:27.648Z"
   },
   {
    "duration": 55,
    "start_time": "2021-06-28T14:38:36.607Z"
   },
   {
    "duration": 15,
    "start_time": "2021-06-28T14:39:47.085Z"
   },
   {
    "duration": 43,
    "start_time": "2021-06-28T14:40:07.656Z"
   },
   {
    "duration": 61,
    "start_time": "2021-06-28T14:42:14.829Z"
   },
   {
    "duration": 51,
    "start_time": "2021-06-28T14:43:23.033Z"
   },
   {
    "duration": 48,
    "start_time": "2021-06-28T14:44:21.788Z"
   },
   {
    "duration": 102,
    "start_time": "2021-06-28T14:44:40.213Z"
   },
   {
    "duration": 70,
    "start_time": "2021-06-28T14:44:40.318Z"
   },
   {
    "duration": 7,
    "start_time": "2021-06-28T14:44:40.392Z"
   },
   {
    "duration": 5,
    "start_time": "2021-06-28T14:44:40.402Z"
   },
   {
    "duration": 48,
    "start_time": "2021-06-28T14:44:40.410Z"
   },
   {
    "duration": 17,
    "start_time": "2021-06-28T14:44:40.461Z"
   },
   {
    "duration": 20,
    "start_time": "2021-06-28T14:44:40.482Z"
   },
   {
    "duration": 16,
    "start_time": "2021-06-28T14:44:40.506Z"
   },
   {
    "duration": 25,
    "start_time": "2021-06-28T14:44:40.559Z"
   },
   {
    "duration": 17,
    "start_time": "2021-06-28T14:44:40.587Z"
   },
   {
    "duration": 10,
    "start_time": "2021-06-28T14:44:40.607Z"
   },
   {
    "duration": 55,
    "start_time": "2021-06-28T14:44:40.619Z"
   },
   {
    "duration": 25,
    "start_time": "2021-06-28T14:44:40.677Z"
   },
   {
    "duration": 13,
    "start_time": "2021-06-28T14:44:40.704Z"
   },
   {
    "duration": 39,
    "start_time": "2021-06-28T14:44:40.720Z"
   },
   {
    "duration": 763,
    "start_time": "2021-06-28T14:44:40.762Z"
   },
   {
    "duration": 29,
    "start_time": "2021-06-28T14:44:41.527Z"
   },
   {
    "duration": 34,
    "start_time": "2021-06-28T14:44:41.559Z"
   },
   {
    "duration": 26,
    "start_time": "2021-06-28T14:44:41.595Z"
   },
   {
    "duration": 69,
    "start_time": "2021-06-28T14:44:41.623Z"
   },
   {
    "duration": 27,
    "start_time": "2021-06-28T14:44:41.694Z"
   },
   {
    "duration": 35,
    "start_time": "2021-06-28T14:44:41.724Z"
   },
   {
    "duration": 40,
    "start_time": "2021-06-28T14:44:41.765Z"
   },
   {
    "duration": 13,
    "start_time": "2021-06-28T14:44:41.808Z"
   },
   {
    "duration": 82,
    "start_time": "2021-06-28T14:44:41.823Z"
   },
   {
    "duration": 25,
    "start_time": "2021-06-28T14:44:41.907Z"
   },
   {
    "duration": 4194,
    "start_time": "2021-06-28T14:44:41.934Z"
   },
   {
    "duration": 6,
    "start_time": "2021-06-28T14:44:46.131Z"
   },
   {
    "duration": 72,
    "start_time": "2021-06-28T14:44:46.140Z"
   },
   {
    "duration": 88,
    "start_time": "2021-06-28T14:44:46.215Z"
   },
   {
    "duration": 62,
    "start_time": "2021-06-28T14:44:46.306Z"
   },
   {
    "duration": 55,
    "start_time": "2021-06-28T14:44:46.371Z"
   },
   {
    "duration": 993,
    "start_time": "2021-06-29T13:35:00.857Z"
   },
   {
    "duration": 40,
    "start_time": "2021-06-29T13:35:01.853Z"
   },
   {
    "duration": 6,
    "start_time": "2021-06-29T13:35:01.924Z"
   },
   {
    "duration": 27,
    "start_time": "2021-06-29T13:35:01.935Z"
   },
   {
    "duration": 22,
    "start_time": "2021-06-29T13:35:01.966Z"
   },
   {
    "duration": 27,
    "start_time": "2021-06-29T13:35:01.991Z"
   },
   {
    "duration": 25,
    "start_time": "2021-06-29T13:35:02.021Z"
   },
   {
    "duration": 33,
    "start_time": "2021-06-29T13:35:02.050Z"
   },
   {
    "duration": 20,
    "start_time": "2021-06-29T13:35:02.087Z"
   },
   {
    "duration": 26,
    "start_time": "2021-06-29T13:35:02.111Z"
   },
   {
    "duration": 12,
    "start_time": "2021-06-29T13:35:02.139Z"
   },
   {
    "duration": 63,
    "start_time": "2021-06-29T13:35:02.153Z"
   },
   {
    "duration": 45,
    "start_time": "2021-06-29T13:35:02.219Z"
   },
   {
    "duration": 14,
    "start_time": "2021-06-29T13:35:02.267Z"
   },
   {
    "duration": 21,
    "start_time": "2021-06-29T13:35:02.284Z"
   },
   {
    "duration": 710,
    "start_time": "2021-06-29T13:35:02.308Z"
   },
   {
    "duration": 18,
    "start_time": "2021-06-29T13:35:03.020Z"
   },
   {
    "duration": 23,
    "start_time": "2021-06-29T13:35:03.040Z"
   },
   {
    "duration": 60,
    "start_time": "2021-06-29T13:35:03.066Z"
   },
   {
    "duration": 45,
    "start_time": "2021-06-29T13:35:03.130Z"
   },
   {
    "duration": 52,
    "start_time": "2021-06-29T13:35:03.178Z"
   },
   {
    "duration": 8,
    "start_time": "2021-06-29T13:35:03.233Z"
   },
   {
    "duration": 44,
    "start_time": "2021-06-29T13:35:03.245Z"
   },
   {
    "duration": 43,
    "start_time": "2021-06-29T13:35:03.292Z"
   },
   {
    "duration": 59,
    "start_time": "2021-06-29T13:35:03.338Z"
   },
   {
    "duration": 52,
    "start_time": "2021-06-29T13:35:03.401Z"
   },
   {
    "duration": 5559,
    "start_time": "2021-06-29T13:35:03.456Z"
   },
   {
    "duration": 7,
    "start_time": "2021-06-29T13:35:09.024Z"
   },
   {
    "duration": 60,
    "start_time": "2021-06-29T13:35:09.033Z"
   },
   {
    "duration": 88,
    "start_time": "2021-06-29T13:35:09.095Z"
   },
   {
    "duration": 74,
    "start_time": "2021-06-29T13:35:09.185Z"
   },
   {
    "duration": 45,
    "start_time": "2021-06-29T13:35:09.261Z"
   },
   {
    "duration": 4,
    "start_time": "2021-06-29T14:00:08.979Z"
   },
   {
    "duration": 59,
    "start_time": "2021-06-29T14:00:10.449Z"
   },
   {
    "duration": 25,
    "start_time": "2021-06-29T14:00:43.271Z"
   }
  ],
  "kernelspec": {
   "display_name": "Python 3",
   "language": "python",
   "name": "python3"
  },
  "language_info": {
   "codemirror_mode": {
    "name": "ipython",
    "version": 3
   },
   "file_extension": ".py",
   "mimetype": "text/x-python",
   "name": "python",
   "nbconvert_exporter": "python",
   "pygments_lexer": "ipython3",
   "version": "3.8.5"
  },
  "toc": {
   "base_numbering": 1,
   "nav_menu": {},
   "number_sections": true,
   "sideBar": true,
   "skip_h1_title": true,
   "title_cell": "Table of Contents",
   "title_sidebar": "Contents",
   "toc_cell": false,
   "toc_position": {},
   "toc_section_display": true,
   "toc_window_display": false
  }
 },
 "nbformat": 4,
 "nbformat_minor": 2
}
